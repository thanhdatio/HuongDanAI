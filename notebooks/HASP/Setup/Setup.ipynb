{
 "cells": [
  {
   "attachments": {},
   "cell_type": "markdown",
   "id": "8346a078",
   "metadata": {},
   "source": [
    "# Inputting User Data using the Hubble Advanced Spectral Products Script"
   ]
  },
  {
   "attachments": {},
   "cell_type": "markdown",
   "id": "1d2e317b",
   "metadata": {},
   "source": [
    "### <span style=\"font-weight:normal\">This Notebook is designed to walk you through downloading, installing, and using the **Hubble Advanced Spectral Products (HASP)** co-add script.</span>"
   ]
  },
  {
   "attachments": {},
   "cell_type": "markdown",
   "id": "01e97a32",
   "metadata": {},
   "source": [
    "## Learning Goals: "
   ]
  },
  {
   "attachments": {},
   "cell_type": "markdown",
   "id": "ad4bc17b",
   "metadata": {},
   "source": [
    "By the end of this tutorial, you will: \n",
    "\n",
    "* Download `conda` and create a `conda` environment\n",
    "\n",
    "* Download and install the co-add script\n",
    "\n",
    "* Learn how to run the script\n",
    "\n",
    "* Understand the naming conventions of the co-added output files\n"
   ]
  },
  {
   "attachments": {},
   "cell_type": "markdown",
   "id": "75d6e2e4",
   "metadata": {},
   "source": [
    "## Table of Contents\n",
    "**0. [Introduction](#introduction)**\n",
    "\n",
    "**1. [Downloading and Installing `conda`](#conda)**\n",
    "\n",
    "\\- 1.1 [Installing `conda`](#installconda)\n",
    "\n",
    "\\- 1.2 [Creating a `conda` Environment](#createenv)\n",
    "\n",
    "**2. [Downloading and Installing the HASP Script](#downloadcode)**\n",
    "\n",
    "**3. [Running the Co-add Script](#runscript)**\n",
    "\n",
    "\\- 3.1 [Running the Script](#runscriptnow)\n",
    "\n",
    "\\- 3.2 [Understanding the Output Files](#inspectoutput)\n"
   ]
  },
  {
   "attachments": {},
   "cell_type": "markdown",
   "id": "a73ce7ef",
   "metadata": {},
   "source": [
    "<a id = introduction></a>\n",
    "## 0. Introduction"
   ]
  },
  {
   "cell_type": "markdown",
   "id": "40af9618",
   "metadata": {},
   "source": [
    "The Hubble Advanced Spectral Products (HASP) code is a script that co-adds spectra of the same target within programs. This software is able to co-add data taken with the spectrographs onboard the Hubble Space Telescope (HST); the Space Telescope Imaging Spectrograph (STIS) and the Cosmic Origins Spectrograph (COS). The Hubble Spectroscopic Legacy Archive (HSLA) uses this script to co-add these instruments’ data from the MAST archive to create high-quality spectra with a broad wavelength coverate (whenever possible from the ultraviolet to the near-infrared) that is publicly available for the scientific community. These custom co-addition notebooks will instruct users on how to produce their own co-adds in cases where the MAST archive data needs special processing or is rejected by the default filters used in the co-add script.\n",
    "\n",
    "The script first co-adds the observations for each grating for a given program, then it combines all gratings for the observation set. Finally, it co-adds the spectra of each observation set in the program to produce a fully co-added spectra for each target in a program. \n",
    "\n",
    "This notebook focuses primarily on the installation of the co-add code, and provides a quick overview on its usage. To see an example of downloading COS and STIS datasets, running the script, and analyzing the output, please check out our notebook CoaddTutorial.ipynb."
   ]
  },
  {
   "cell_type": "markdown",
   "id": "ecc750bf",
   "metadata": {},
   "source": [
    "<a id = conda></a>\n",
    "## 1. Downloading and Installing `conda`"
   ]
  },
  {
   "cell_type": "markdown",
   "id": "47e1c12b",
   "metadata": {},
   "source": [
    "<a id = installconda></a>\n",
    "### 1.1 Installing `conda`\n",
    "\n",
    "Conda is a package, dependency, and environment manager that runs on Windows, Mac, and Linux. Conda allows us to easily install Python packages and create isolated conda environments, each with their own packages and dependencies. By switching between conda environments, we avoid conflicts between different versions of packages.\n",
    "\n",
    "We will create a conda environment to install the packages needed for the HASP script. We can first check if you have conda already installed by running the command in the terminal:"
   ]
  },
  {
   "cell_type": "code",
   "execution_count": 1,
   "id": "cdee82a9",
   "metadata": {
    "execution": {
     "iopub.execute_input": "2023-12-05T16:44:47.643004Z",
     "iopub.status.busy": "2023-12-05T16:44:47.642774Z",
     "iopub.status.idle": "2023-12-05T16:44:48.017206Z",
     "shell.execute_reply": "2023-12-05T16:44:48.016557Z"
    }
   },
   "outputs": [
    {
     "name": "stdout",
     "output_type": "stream",
     "text": [
      "conda 23.10.0\r\n"
     ]
    }
   ],
   "source": [
    "!conda --version"
   ]
  },
  {
   "cell_type": "markdown",
   "id": "63221b8d",
   "metadata": {},
   "source": [
    "Running the command should print out the version of conda that you have installed (e.g. `conda 23.7.2`). If the command returns a statement saying that the package is unknown, then you do not have conda installed on your machine. You will need to download one of the conda distributions. \n",
    "\n",
    "There are a few different distributions of conda that you can install, depending on your preferences. [`Anaconda`](https://docs.anaconda.com/anaconda/install/index.html) is one distribution that carries a lot of pre-installed packages, some of which you won't use. [`Miniconda`](https://docs.conda.io/en/main/miniconda.html) is another distribution of conda that contains only the minimum packages. Finally, the [`Mamba`](https://mamba.readthedocs.io/en/latest/installation.html) disctribution of conda is similar to `Miniconda`, but uses different parallelization and cache algorithms to increase speed and optimize memory.\n",
    "\n",
    "Once you have installed one of these clients, try running the above cell again to confirm that conda is installed."
   ]
  },
  {
   "cell_type": "markdown",
   "id": "49d07c7e",
   "metadata": {},
   "source": [
    "<a id = createenv></a>\n",
    "### 1.2 Creating a Conda Environment\n",
    "\n",
    "Once you've installed conda, we can create a conda environment. We will download all of the packages needed to run the HASP script in a new environment that we will create, called `hasp-env`. We will use this environment for all of the tutorial notebooks.\n",
    "\n",
    "The first step is to add the `conda-forge` channel to the list of avaible conda channels. Channels are where conda packages are stored and downloaded from, and `conda-forge` allows us to download additional packages for the code that the default conda channel may not have available. We can add this channel by running the following command in the terminal:"
   ]
  },
  {
   "cell_type": "code",
   "execution_count": 2,
   "id": "2b4274ee",
   "metadata": {
    "execution": {
     "iopub.execute_input": "2023-12-05T16:44:48.019920Z",
     "iopub.status.busy": "2023-12-05T16:44:48.019735Z",
     "iopub.status.idle": "2023-12-05T16:44:48.512857Z",
     "shell.execute_reply": "2023-12-05T16:44:48.512252Z"
    }
   },
   "outputs": [
    {
     "name": "stdout",
     "output_type": "stream",
     "text": [
      "Warning: 'conda-forge' already in 'channels' list, moving to the top\r\n"
     ]
    }
   ],
   "source": [
    "!conda config --add channels conda-forge"
   ]
  },
  {
   "cell_type": "markdown",
   "id": "7d741f45",
   "metadata": {},
   "source": [
    "We can now create the conda environment, `hasp-env`. Note that this can take several minutes to run:"
   ]
  },
  {
   "cell_type": "code",
   "execution_count": 3,
   "id": "dd8a8c1b",
   "metadata": {
    "execution": {
     "iopub.execute_input": "2023-12-05T16:44:48.515422Z",
     "iopub.status.busy": "2023-12-05T16:44:48.515062Z",
     "iopub.status.idle": "2023-12-05T16:45:19.412957Z",
     "shell.execute_reply": "2023-12-05T16:45:19.412397Z"
    }
   },
   "outputs": [
    {
     "name": "stdout",
     "output_type": "stream",
     "text": [
      "WARNING: A conda environment already exists at '/usr/share/miniconda/envs/hasp-env'\r\n",
      "Remove existing environment (y/[n])? \r\n",
      "Channels:\r\n",
      " - conda-forge\r\n",
      " - defaults\r\n",
      "Platform: linux-64\r\n",
      "Collecting package metadata (repodata.json): - \b\b\\ \b\b| \b\b/ \b\b- \b\b\\ \b\b| \b\bdone\r\n",
      "Solving environment: - \b\b\\ \b\b| \b\b/ \b\b- \b\bdone\r\n",
      "\r\n",
      "## Package Plan ##\r\n",
      "\r\n",
      "  environment location: /usr/share/miniconda/envs/hasp-env\r\n",
      "\r\n",
      "  added / updated specs:\r\n",
      "    - astropy\r\n",
      "    - astroquery\r\n",
      "    - jupyterlab\r\n",
      "    - matplotlib\r\n",
      "    - notebook\r\n",
      "    - numpy\r\n",
      "    - python=3.11\r\n",
      "\r\n",
      "\r\n",
      "The following NEW packages will be INSTALLED:\r\n",
      "\r\n",
      "  _libgcc_mutex      conda-forge/linux-64::_libgcc_mutex-0.1-conda_forge \r\n",
      "  _openmp_mutex      conda-forge/linux-64::_openmp_mutex-4.5-2_gnu \r\n",
      "  alsa-lib           conda-forge/linux-64::alsa-lib-1.2.10-hd590300_0 \r\n",
      "  anyio              conda-forge/noarch::anyio-4.1.0-pyhd8ed1ab_0 \r\n",
      "  argon2-cffi        conda-forge/noarch::argon2-cffi-23.1.0-pyhd8ed1ab_0 \r\n",
      "  argon2-cffi-bindi~ conda-forge/linux-64::argon2-cffi-bindings-21.2.0-py311h459d7ec_4 \r\n",
      "  arrow              conda-forge/noarch::arrow-1.3.0-pyhd8ed1ab_0 \r\n",
      "  astropy            conda-forge/linux-64::astropy-6.0.0-py311h1f0f07a_0 \r\n",
      "  astropy-iers-data  conda-forge/noarch::astropy-iers-data-0.2023.12.4.0.30.20-pyhd8ed1ab_0 \r\n",
      "  astroquery         conda-forge/noarch::astroquery-0.4.6-pyhd8ed1ab_0 \r\n",
      "  asttokens          conda-forge/noarch::asttokens-2.4.1-pyhd8ed1ab_0 \r\n",
      "  async-lru          conda-forge/noarch::async-lru-2.0.4-pyhd8ed1ab_0 \r\n",
      "  attr               conda-forge/linux-64::attr-2.5.1-h166bdaf_1 \r\n",
      "  attrs              conda-forge/noarch::attrs-23.1.0-pyh71513ae_1 \r\n",
      "  babel              conda-forge/noarch::babel-2.13.1-pyhd8ed1ab_0 \r\n",
      "  beautifulsoup4     conda-forge/noarch::beautifulsoup4-4.12.2-pyha770c72_0 \r\n",
      "  bleach             conda-forge/noarch::bleach-6.1.0-pyhd8ed1ab_0 \r\n",
      "  brotli             conda-forge/linux-64::brotli-1.1.0-hd590300_1 \r\n",
      "  brotli-bin         conda-forge/linux-64::brotli-bin-1.1.0-hd590300_1 \r\n",
      "  brotli-python      conda-forge/linux-64::brotli-python-1.1.0-py311hb755f60_1 \r\n",
      "  bzip2              conda-forge/linux-64::bzip2-1.0.8-hd590300_5 \r\n",
      "  ca-certificates    conda-forge/linux-64::ca-certificates-2023.11.17-hbcca054_0 \r\n",
      "  cached-property    conda-forge/noarch::cached-property-1.5.2-hd8ed1ab_1 \r\n",
      "  cached_property    conda-forge/noarch::cached_property-1.5.2-pyha770c72_1 \r\n",
      "  cairo              conda-forge/linux-64::cairo-1.18.0-h3faef2a_0 \r\n",
      "  certifi            conda-forge/noarch::certifi-2023.11.17-pyhd8ed1ab_0 \r\n",
      "  cffi               conda-forge/linux-64::cffi-1.16.0-py311hb3a22ac_0 \r\n",
      "  charset-normalizer conda-forge/noarch::charset-normalizer-3.3.2-pyhd8ed1ab_0 \r\n",
      "  comm               conda-forge/noarch::comm-0.1.4-pyhd8ed1ab_0 \r\n",
      "  contourpy          conda-forge/linux-64::contourpy-1.2.0-py311h9547e67_0 \r\n",
      "  cryptography       conda-forge/linux-64::cryptography-41.0.7-py311hcb13ee4_1 \r\n",
      "  cycler             conda-forge/noarch::cycler-0.12.1-pyhd8ed1ab_0 \r\n",
      "  dbus               conda-forge/linux-64::dbus-1.13.6-h5008d03_3 \r\n",
      "  debugpy            conda-forge/linux-64::debugpy-1.8.0-py311hb755f60_1 \r\n",
      "  decorator          conda-forge/noarch::decorator-5.1.1-pyhd8ed1ab_0 \r\n",
      "  defusedxml         conda-forge/noarch::defusedxml-0.7.1-pyhd8ed1ab_0 \r\n",
      "  entrypoints        conda-forge/noarch::entrypoints-0.4-pyhd8ed1ab_0 \r\n",
      "  exceptiongroup     conda-forge/noarch::exceptiongroup-1.2.0-pyhd8ed1ab_0 \r\n",
      "  executing          conda-forge/noarch::executing-2.0.1-pyhd8ed1ab_0 \r\n",
      "  expat              conda-forge/linux-64::expat-2.5.0-hcb278e6_1 \r\n",
      "  font-ttf-dejavu-s~ conda-forge/noarch::font-ttf-dejavu-sans-mono-2.37-hab24e00_0 \r\n",
      "  font-ttf-inconsol~ conda-forge/noarch::font-ttf-inconsolata-3.000-h77eed37_0 \r\n",
      "  font-ttf-source-c~ conda-forge/noarch::font-ttf-source-code-pro-2.038-h77eed37_0 \r\n",
      "  font-ttf-ubuntu    conda-forge/noarch::font-ttf-ubuntu-0.83-h77eed37_1 \r\n",
      "  fontconfig         conda-forge/linux-64::fontconfig-2.14.2-h14ed4e7_0 \r\n",
      "  fonts-conda-ecosy~ conda-forge/noarch::fonts-conda-ecosystem-1-0 \r\n",
      "  fonts-conda-forge  conda-forge/noarch::fonts-conda-forge-1-0 \r\n",
      "  fonttools          conda-forge/linux-64::fonttools-4.46.0-py311h459d7ec_0 \r\n",
      "  fqdn               conda-forge/noarch::fqdn-1.5.1-pyhd8ed1ab_0 \r\n",
      "  freetype           conda-forge/linux-64::freetype-2.12.1-h267a509_2 \r\n",
      "  gettext            conda-forge/linux-64::gettext-0.21.1-h27087fc_0 \r\n",
      "  glib               conda-forge/linux-64::glib-2.78.1-hfc55251_1 \r\n",
      "  glib-tools         conda-forge/linux-64::glib-tools-2.78.1-hfc55251_1 \r\n",
      "  graphite2          conda-forge/linux-64::graphite2-1.3.13-h58526e2_1001 \r\n",
      "  gst-plugins-base   conda-forge/linux-64::gst-plugins-base-1.22.7-h8e1006c_0 \r\n",
      "  gstreamer          conda-forge/linux-64::gstreamer-1.22.7-h98fc4e7_0 \r\n",
      "  harfbuzz           conda-forge/linux-64::harfbuzz-8.3.0-h3d44ed6_0 \r\n",
      "  html5lib           conda-forge/noarch::html5lib-1.1-pyh9f0ad1d_0 \r\n",
      "  icu                conda-forge/linux-64::icu-73.2-h59595ed_0 \r\n",
      "  idna               conda-forge/noarch::idna-3.6-pyhd8ed1ab_0 \r\n",
      "  importlib-metadata conda-forge/noarch::importlib-metadata-7.0.0-pyha770c72_0 \r\n",
      "  importlib_metadata conda-forge/noarch::importlib_metadata-7.0.0-hd8ed1ab_0 \r\n",
      "  importlib_resourc~ conda-forge/noarch::importlib_resources-6.1.1-pyhd8ed1ab_0 \r\n",
      "  ipykernel          conda-forge/noarch::ipykernel-6.26.0-pyhf8b6a83_0 \r\n",
      "  ipython            conda-forge/noarch::ipython-8.18.1-pyh31011fe_2 \r\n",
      "  isoduration        conda-forge/noarch::isoduration-20.11.0-pyhd8ed1ab_0 \r\n",
      "  jaraco.classes     conda-forge/noarch::jaraco.classes-3.3.0-pyhd8ed1ab_0 \r\n",
      "  jedi               conda-forge/noarch::jedi-0.19.1-pyhd8ed1ab_0 \r\n",
      "  jeepney            conda-forge/noarch::jeepney-0.8.0-pyhd8ed1ab_0 \r\n",
      "  jinja2             conda-forge/noarch::jinja2-3.1.2-pyhd8ed1ab_1 \r\n",
      "  json5              conda-forge/noarch::json5-0.9.14-pyhd8ed1ab_0 \r\n",
      "  jsonpointer        conda-forge/linux-64::jsonpointer-2.4-py311h38be061_3 \r\n",
      "  jsonschema         conda-forge/noarch::jsonschema-4.20.0-pyhd8ed1ab_0 \r\n",
      "  jsonschema-specif~ conda-forge/noarch::jsonschema-specifications-2023.11.2-pyhd8ed1ab_0 \r\n",
      "  jsonschema-with-f~ conda-forge/noarch::jsonschema-with-format-nongpl-4.20.0-pyhd8ed1ab_0 \r\n",
      "  jupyter-lsp        conda-forge/noarch::jupyter-lsp-2.2.1-pyhd8ed1ab_0 \r\n",
      "  jupyter_client     conda-forge/noarch::jupyter_client-8.6.0-pyhd8ed1ab_0 \r\n",
      "  jupyter_core       conda-forge/linux-64::jupyter_core-5.5.0-py311h38be061_0 \r\n",
      "  jupyter_events     conda-forge/noarch::jupyter_events-0.9.0-pyhd8ed1ab_0 \r\n",
      "  jupyter_server     conda-forge/noarch::jupyter_server-2.11.2-pyhd8ed1ab_0 \r\n",
      "  jupyter_server_te~ conda-forge/noarch::jupyter_server_terminals-0.4.4-pyhd8ed1ab_1 \r\n",
      "  jupyterlab         conda-forge/noarch::jupyterlab-4.0.9-pyhd8ed1ab_0 \r\n",
      "  jupyterlab_pygmen~ conda-forge/noarch::jupyterlab_pygments-0.3.0-pyhd8ed1ab_0 \r\n",
      "  jupyterlab_server  conda-forge/noarch::jupyterlab_server-2.25.2-pyhd8ed1ab_0 \r\n",
      "  keyring            conda-forge/linux-64::keyring-24.3.0-py311h38be061_0 \r\n",
      "  keyutils           conda-forge/linux-64::keyutils-1.6.1-h166bdaf_0 \r\n",
      "  kiwisolver         conda-forge/linux-64::kiwisolver-1.4.5-py311h9547e67_1 \r\n",
      "  krb5               conda-forge/linux-64::krb5-1.21.2-h659d440_0 \r\n",
      "  lame               conda-forge/linux-64::lame-3.100-h166bdaf_1003 \r\n",
      "  lcms2              conda-forge/linux-64::lcms2-2.16-hb7c19ff_0 \r\n",
      "  ld_impl_linux-64   conda-forge/linux-64::ld_impl_linux-64-2.40-h41732ed_0 \r\n",
      "  lerc               conda-forge/linux-64::lerc-4.0.0-h27087fc_0 \r\n",
      "  libblas            conda-forge/linux-64::libblas-3.9.0-20_linux64_openblas \r\n",
      "  libbrotlicommon    conda-forge/linux-64::libbrotlicommon-1.1.0-hd590300_1 \r\n",
      "  libbrotlidec       conda-forge/linux-64::libbrotlidec-1.1.0-hd590300_1 \r\n",
      "  libbrotlienc       conda-forge/linux-64::libbrotlienc-1.1.0-hd590300_1 \r\n",
      "  libcap             conda-forge/linux-64::libcap-2.69-h0f662aa_0 \r\n",
      "  libcblas           conda-forge/linux-64::libcblas-3.9.0-20_linux64_openblas \r\n",
      "  libclang           conda-forge/linux-64::libclang-15.0.7-default_hb11cfb5_4 \r\n",
      "  libclang13         conda-forge/linux-64::libclang13-15.0.7-default_ha2b6cf4_4 \r\n",
      "  libcups            conda-forge/linux-64::libcups-2.3.3-h4637d8d_4 \r\n",
      "  libdeflate         conda-forge/linux-64::libdeflate-1.19-hd590300_0 \r\n",
      "  libedit            conda-forge/linux-64::libedit-3.1.20191231-he28a2e2_2 \r\n",
      "  libevent           conda-forge/linux-64::libevent-2.1.12-hf998b51_1 \r\n",
      "  libexpat           conda-forge/linux-64::libexpat-2.5.0-hcb278e6_1 \r\n",
      "  libffi             conda-forge/linux-64::libffi-3.4.2-h7f98852_5 \r\n",
      "  libflac            conda-forge/linux-64::libflac-1.4.3-h59595ed_0 \r\n",
      "  libgcc-ng          conda-forge/linux-64::libgcc-ng-13.2.0-h807b86a_3 \r\n",
      "  libgcrypt          conda-forge/linux-64::libgcrypt-1.10.3-hd590300_0 \r\n",
      "  libgfortran-ng     conda-forge/linux-64::libgfortran-ng-13.2.0-h69a702a_3 \r\n",
      "  libgfortran5       conda-forge/linux-64::libgfortran5-13.2.0-ha4646dd_3 \r\n",
      "  libglib            conda-forge/linux-64::libglib-2.78.1-h783c2da_1 \r\n",
      "  libgomp            conda-forge/linux-64::libgomp-13.2.0-h807b86a_3 \r\n",
      "  libgpg-error       conda-forge/linux-64::libgpg-error-1.47-h71f35ed_0 \r\n",
      "  libiconv           conda-forge/linux-64::libiconv-1.17-h166bdaf_0 \r\n",
      "  libjpeg-turbo      conda-forge/linux-64::libjpeg-turbo-3.0.0-hd590300_1 \r\n",
      "  liblapack          conda-forge/linux-64::liblapack-3.9.0-20_linux64_openblas \r\n",
      "  libllvm15          conda-forge/linux-64::libllvm15-15.0.7-h5cf9203_3 \r\n",
      "  libnsl             conda-forge/linux-64::libnsl-2.0.1-hd590300_0 \r\n",
      "  libogg             conda-forge/linux-64::libogg-1.3.4-h7f98852_1 \r\n",
      "  libopenblas        conda-forge/linux-64::libopenblas-0.3.25-pthreads_h413a1c8_0 \r\n",
      "  libopus            conda-forge/linux-64::libopus-1.3.1-h7f98852_1 \r\n",
      "  libpng             conda-forge/linux-64::libpng-1.6.39-h753d276_0 \r\n",
      "  libpq              conda-forge/linux-64::libpq-16.1-hfc447b1_2 \r\n",
      "  libsndfile         conda-forge/linux-64::libsndfile-1.2.2-hc60ed4a_1 \r\n",
      "  libsodium          conda-forge/linux-64::libsodium-1.0.18-h36c2ea0_1 \r\n",
      "  libsqlite          conda-forge/linux-64::libsqlite-3.44.2-h2797004_0 \r\n",
      "  libstdcxx-ng       conda-forge/linux-64::libstdcxx-ng-13.2.0-h7e041cc_3 \r\n",
      "  libsystemd0        conda-forge/linux-64::libsystemd0-254-h3516f8a_0 \r\n",
      "  libtiff            conda-forge/linux-64::libtiff-4.6.0-ha9c0a0a_2 \r\n",
      "  libuuid            conda-forge/linux-64::libuuid-2.38.1-h0b41bf4_0 \r\n",
      "  libvorbis          conda-forge/linux-64::libvorbis-1.3.7-h9c3ff4c_0 \r\n",
      "  libwebp-base       conda-forge/linux-64::libwebp-base-1.3.2-hd590300_0 \r\n",
      "  libxcb             conda-forge/linux-64::libxcb-1.15-h0b41bf4_0 \r\n",
      "  libxkbcommon       conda-forge/linux-64::libxkbcommon-1.6.0-h5d7e998_0 \r\n",
      "  libxml2            conda-forge/linux-64::libxml2-2.11.6-h232c23b_0 \r\n",
      "  libzlib            conda-forge/linux-64::libzlib-1.2.13-hd590300_5 \r\n",
      "  lz4-c              conda-forge/linux-64::lz4-c-1.9.4-hcb278e6_0 \r\n",
      "  markupsafe         conda-forge/linux-64::markupsafe-2.1.3-py311h459d7ec_1 \r\n",
      "  matplotlib         conda-forge/linux-64::matplotlib-3.8.2-py311h38be061_0 \r\n",
      "  matplotlib-base    conda-forge/linux-64::matplotlib-base-3.8.2-py311h54ef318_0 \r\n",
      "  matplotlib-inline  conda-forge/noarch::matplotlib-inline-0.1.6-pyhd8ed1ab_0 \r\n",
      "  mistune            conda-forge/noarch::mistune-3.0.2-pyhd8ed1ab_0 \r\n",
      "  more-itertools     conda-forge/noarch::more-itertools-10.1.0-pyhd8ed1ab_0 \r\n",
      "  mpg123             conda-forge/linux-64::mpg123-1.32.3-h59595ed_0 \r\n",
      "  munkres            conda-forge/noarch::munkres-1.1.4-pyh9f0ad1d_0 \r\n",
      "  mysql-common       conda-forge/linux-64::mysql-common-8.0.33-hf1915f5_6 \r\n",
      "  mysql-libs         conda-forge/linux-64::mysql-libs-8.0.33-hca2cd23_6 \r\n",
      "  nbclient           conda-forge/noarch::nbclient-0.8.0-pyhd8ed1ab_0 \r\n",
      "  nbconvert-core     conda-forge/noarch::nbconvert-core-7.12.0-pyhd8ed1ab_0 \r\n",
      "  nbformat           conda-forge/noarch::nbformat-5.9.2-pyhd8ed1ab_0 \r\n",
      "  ncurses            conda-forge/linux-64::ncurses-6.4-h59595ed_2 \r\n",
      "  nest-asyncio       conda-forge/noarch::nest-asyncio-1.5.8-pyhd8ed1ab_0 \r\n",
      "  notebook           conda-forge/noarch::notebook-7.0.6-pyhd8ed1ab_0 \r\n",
      "  notebook-shim      conda-forge/noarch::notebook-shim-0.2.3-pyhd8ed1ab_0 \r\n",
      "  nspr               conda-forge/linux-64::nspr-4.35-h27087fc_0 \r\n",
      "  nss                conda-forge/linux-64::nss-3.95-h1d7d5a4_0 \r\n",
      "  numpy              conda-forge/linux-64::numpy-1.26.2-py311h64a7726_0 \r\n",
      "  openjpeg           conda-forge/linux-64::openjpeg-2.5.0-h488ebb8_3 \r\n",
      "  openssl            conda-forge/linux-64::openssl-3.2.0-hd590300_1 \r\n",
      "  overrides          conda-forge/noarch::overrides-7.4.0-pyhd8ed1ab_0 \r\n",
      "  packaging          conda-forge/noarch::packaging-23.2-pyhd8ed1ab_0 \r\n",
      "  pandocfilters      conda-forge/noarch::pandocfilters-1.5.0-pyhd8ed1ab_0 \r\n",
      "  parso              conda-forge/noarch::parso-0.8.3-pyhd8ed1ab_0 \r\n",
      "  pcre2              conda-forge/linux-64::pcre2-10.42-hcad00b1_0 \r\n",
      "  pexpect            conda-forge/noarch::pexpect-4.8.0-pyh1a96a4e_2 \r\n",
      "  pickleshare        conda-forge/noarch::pickleshare-0.7.5-py_1003 \r\n",
      "  pillow             conda-forge/linux-64::pillow-10.1.0-py311ha6c5da5_0 \r\n",
      "  pip                conda-forge/noarch::pip-23.3.1-pyhd8ed1ab_0 \r\n",
      "  pixman             conda-forge/linux-64::pixman-0.42.2-h59595ed_0 \r\n",
      "  pkgutil-resolve-n~ conda-forge/noarch::pkgutil-resolve-name-1.3.10-pyhd8ed1ab_1 \r\n",
      "  platformdirs       conda-forge/noarch::platformdirs-4.1.0-pyhd8ed1ab_0 \r\n",
      "  ply                conda-forge/noarch::ply-3.11-py_1 \r\n",
      "  prometheus_client  conda-forge/noarch::prometheus_client-0.19.0-pyhd8ed1ab_0 \r\n",
      "  prompt-toolkit     conda-forge/noarch::prompt-toolkit-3.0.41-pyha770c72_0 \r\n",
      "  psutil             conda-forge/linux-64::psutil-5.9.5-py311h459d7ec_1 \r\n",
      "  pthread-stubs      conda-forge/linux-64::pthread-stubs-0.4-h36c2ea0_1001 \r\n",
      "  ptyprocess         conda-forge/noarch::ptyprocess-0.7.0-pyhd3deb0d_0 \r\n",
      "  pulseaudio-client  conda-forge/linux-64::pulseaudio-client-16.1-hb77b528_5 \r\n",
      "  pure_eval          conda-forge/noarch::pure_eval-0.2.2-pyhd8ed1ab_0 \r\n",
      "  pycparser          conda-forge/noarch::pycparser-2.21-pyhd8ed1ab_0 \r\n",
      "  pyerfa             conda-forge/linux-64::pyerfa-2.0.1.1-py311h1f0f07a_0 \r\n",
      "  pygments           conda-forge/noarch::pygments-2.17.2-pyhd8ed1ab_0 \r\n",
      "  pyparsing          conda-forge/noarch::pyparsing-3.1.1-pyhd8ed1ab_0 \r\n",
      "  pyqt               conda-forge/linux-64::pyqt-5.15.9-py311hf0fb5b6_5 \r\n",
      "  pyqt5-sip          conda-forge/linux-64::pyqt5-sip-12.12.2-py311hb755f60_5 \r\n",
      "  pysocks            conda-forge/noarch::pysocks-1.7.1-pyha2e5f31_6 \r\n",
      "  python             conda-forge/linux-64::python-3.11.6-hab00c5b_0_cpython \r\n",
      "  python-dateutil    conda-forge/noarch::python-dateutil-2.8.2-pyhd8ed1ab_0 \r\n",
      "  python-fastjsonsc~ conda-forge/noarch::python-fastjsonschema-2.19.0-pyhd8ed1ab_0 \r\n",
      "  python-json-logger conda-forge/noarch::python-json-logger-2.0.7-pyhd8ed1ab_0 \r\n",
      "  python_abi         conda-forge/linux-64::python_abi-3.11-4_cp311 \r\n",
      "  pytz               conda-forge/noarch::pytz-2023.3.post1-pyhd8ed1ab_0 \r\n",
      "  pyvo               conda-forge/noarch::pyvo-1.4.2-pyhd8ed1ab_0 \r\n",
      "  pyyaml             conda-forge/linux-64::pyyaml-6.0.1-py311h459d7ec_1 \r\n",
      "  pyzmq              conda-forge/linux-64::pyzmq-25.1.2-py311h34ded2d_0 \r\n",
      "  qt-main            conda-forge/linux-64::qt-main-5.15.8-h82b777d_17 \r\n",
      "  readline           conda-forge/linux-64::readline-8.2-h8228510_1 \r\n",
      "  referencing        conda-forge/noarch::referencing-0.31.1-pyhd8ed1ab_0 \r\n",
      "  requests           conda-forge/noarch::requests-2.31.0-pyhd8ed1ab_0 \r\n",
      "  rfc3339-validator  conda-forge/noarch::rfc3339-validator-0.1.4-pyhd8ed1ab_0 \r\n",
      "  rfc3986-validator  conda-forge/noarch::rfc3986-validator-0.1.1-pyh9f0ad1d_0 \r\n",
      "  rpds-py            conda-forge/linux-64::rpds-py-0.13.2-py311h46250e7_0 \r\n",
      "  secretstorage      conda-forge/linux-64::secretstorage-3.3.3-py311h38be061_2 \r\n",
      "  send2trash         conda-forge/noarch::send2trash-1.8.2-pyh41d4057_0 \r\n",
      "  setuptools         conda-forge/noarch::setuptools-68.2.2-pyhd8ed1ab_0 \r\n",
      "  sip                conda-forge/linux-64::sip-6.7.12-py311hb755f60_0 \r\n",
      "  six                conda-forge/noarch::six-1.16.0-pyh6c4a22f_0 \r\n",
      "  sniffio            conda-forge/noarch::sniffio-1.3.0-pyhd8ed1ab_0 \r\n",
      "  soupsieve          conda-forge/noarch::soupsieve-2.5-pyhd8ed1ab_1 \r\n",
      "  stack_data         conda-forge/noarch::stack_data-0.6.2-pyhd8ed1ab_0 \r\n",
      "  terminado          conda-forge/noarch::terminado-0.18.0-pyh0d859eb_0 \r\n",
      "  tinycss2           conda-forge/noarch::tinycss2-1.2.1-pyhd8ed1ab_0 \r\n",
      "  tk                 conda-forge/linux-64::tk-8.6.13-noxft_h4845f30_101 \r\n",
      "  toml               conda-forge/noarch::toml-0.10.2-pyhd8ed1ab_0 \r\n",
      "  tomli              conda-forge/noarch::tomli-2.0.1-pyhd8ed1ab_0 \r\n",
      "  tornado            conda-forge/linux-64::tornado-6.3.3-py311h459d7ec_1 \r\n",
      "  traitlets          conda-forge/noarch::traitlets-5.14.0-pyhd8ed1ab_0 \r\n",
      "  types-python-date~ conda-forge/noarch::types-python-dateutil-2.8.19.14-pyhd8ed1ab_0 \r\n",
      "  typing-extensions  conda-forge/noarch::typing-extensions-4.8.0-hd8ed1ab_0 \r\n",
      "  typing_extensions  conda-forge/noarch::typing_extensions-4.8.0-pyha770c72_0 \r\n",
      "  typing_utils       conda-forge/noarch::typing_utils-0.1.0-pyhd8ed1ab_0 \r\n",
      "  tzdata             conda-forge/noarch::tzdata-2023c-h71feb2d_0 \r\n",
      "  uri-template       conda-forge/noarch::uri-template-1.3.0-pyhd8ed1ab_0 \r\n",
      "  urllib3            conda-forge/noarch::urllib3-2.1.0-pyhd8ed1ab_0 \r\n",
      "  wcwidth            conda-forge/noarch::wcwidth-0.2.12-pyhd8ed1ab_0 \r\n",
      "  webcolors          conda-forge/noarch::webcolors-1.13-pyhd8ed1ab_0 \r\n",
      "  webencodings       conda-forge/noarch::webencodings-0.5.1-pyhd8ed1ab_2 \r\n",
      "  websocket-client   conda-forge/noarch::websocket-client-1.7.0-pyhd8ed1ab_0 \r\n",
      "  wheel              conda-forge/noarch::wheel-0.42.0-pyhd8ed1ab_0 \r\n",
      "  xcb-util           conda-forge/linux-64::xcb-util-0.4.0-hd590300_1 \r\n",
      "  xcb-util-image     conda-forge/linux-64::xcb-util-image-0.4.0-h8ee46fc_1 \r\n",
      "  xcb-util-keysyms   conda-forge/linux-64::xcb-util-keysyms-0.4.0-h8ee46fc_1 \r\n",
      "  xcb-util-renderut~ conda-forge/linux-64::xcb-util-renderutil-0.3.9-hd590300_1 \r\n",
      "  xcb-util-wm        conda-forge/linux-64::xcb-util-wm-0.4.1-h8ee46fc_1 \r\n",
      "  xkeyboard-config   conda-forge/linux-64::xkeyboard-config-2.40-hd590300_0 \r\n",
      "  xorg-kbproto       conda-forge/linux-64::xorg-kbproto-1.0.7-h7f98852_1002 \r\n",
      "  xorg-libice        conda-forge/linux-64::xorg-libice-1.1.1-hd590300_0 \r\n",
      "  xorg-libsm         conda-forge/linux-64::xorg-libsm-1.2.4-h7391055_0 \r\n",
      "  xorg-libx11        conda-forge/linux-64::xorg-libx11-1.8.7-h8ee46fc_0 \r\n",
      "  xorg-libxau        conda-forge/linux-64::xorg-libxau-1.0.11-hd590300_0 \r\n",
      "  xorg-libxdmcp      conda-forge/linux-64::xorg-libxdmcp-1.1.3-h7f98852_0 \r\n",
      "  xorg-libxext       conda-forge/linux-64::xorg-libxext-1.3.4-h0b41bf4_2 \r\n",
      "  xorg-libxrender    conda-forge/linux-64::xorg-libxrender-0.9.11-hd590300_0 \r\n",
      "  xorg-renderproto   conda-forge/linux-64::xorg-renderproto-0.11.1-h7f98852_1002 \r\n",
      "  xorg-xextproto     conda-forge/linux-64::xorg-xextproto-7.3.0-h0b41bf4_1003 \r\n",
      "  xorg-xf86vidmodep~ conda-forge/linux-64::xorg-xf86vidmodeproto-2.3.1-h7f98852_1002 \r\n",
      "  xorg-xproto        conda-forge/linux-64::xorg-xproto-7.0.31-h7f98852_1007 \r\n",
      "  xz                 conda-forge/linux-64::xz-5.2.6-h166bdaf_0 \r\n",
      "  yaml               conda-forge/linux-64::yaml-0.2.5-h7f98852_2 \r\n",
      "  zeromq             conda-forge/linux-64::zeromq-4.3.5-h59595ed_0 \r\n",
      "  zipp               conda-forge/noarch::zipp-3.17.0-pyhd8ed1ab_0 \r\n",
      "  zlib               conda-forge/linux-64::zlib-1.2.13-hd590300_5 \r\n",
      "  zstd               conda-forge/linux-64::zstd-1.5.5-hfc55251_0 \r\n",
      "\r\n",
      "\r\n",
      "Proceed ([y]/n)? \r\n",
      "\r\n",
      "Downloading and Extracting Packages:\r\n",
      "\r\n",
      "Preparing transaction: | \b\b/ \b\b- \b\b\\ \b\b| \b\b/ \b\b- \b\b\\ \b\b| \b\b/ \b\bdone\r\n",
      "Verifying transaction: \\ \b\b| \b\b/ \b\b- \b\b\\ \b\b| \b\b/ \b\b- \b\b\\ \b\b| \b\b/ \b\b- \b\b\\ \b\b| \b\b/ \b\b- \b\b\\ \b\b| \b\b/ \b\b- \b\b\\ \b\b| \b\b/ \b\b- \b\b\\ \b\b| \b\b/ \b\b- \b\b\\ \b\b| \b\b/ \b\b- \b\b\\ \b\b| \b\b/ \b\b- \b\b\\ \b\b| \b\bdone\r\n",
      "Executing transaction: - \b\b\\ \b\b| \b\b/ \b\b- \b\b\\ \b\b| \b\b/ \b\b- \b\b\\ \b\b| \b\b/ \b\b- \b\b\\ \b\b| \b\b/ \b\b- \b\b\\ \b\b| \b\b/ \b\b- \b\b\\ \b\b| \b\b/ \b\b- \b\b\\ \b\b| \b\b/ \b\b- \b\b\\ \b\b| \b\b/ \b\b- \b\b\\ \b\b| \b\b/ \b\b- \b\b\\ \b\b| \b\b/ \b\b- \b\b\\ \b\b| \b\b/ \b\b- \b\b\\ \b\b| \b\b/ \b\b- \b\b\\ \b\b| \b\b/ \b\b- \b\b\\ \b\b| \b\b/ \b\b- \b\b\\ \b\b| \b\b/ \b\b- \b\b\\ \b\b| \b\b/ \b\b- \b\b\\ \b\b| \b\b/ \b\b- \b\b\\ \b\b| \b\b/ \b\b- \b\b\\ \b\b| \b\b/ \b\b- \b\b\\ \b\b| \b\b/ \b\b- \b\bdone\r\n",
      "#\r\n",
      "# To activate this environment, use\r\n",
      "#\r\n",
      "#     $ conda activate hasp-env\r\n",
      "#\r\n",
      "# To deactivate an active environment, use\r\n",
      "#\r\n",
      "#     $ conda deactivate\r\n",
      "\r\n",
      "yes: standard output: Broken pipe\r\n"
     ]
    }
   ],
   "source": [
    "!yes | conda create --name hasp-env python=3.11 notebook jupyterlab numpy astropy astroquery matplotlib"
   ]
  },
  {
   "cell_type": "markdown",
   "id": "db8a4820",
   "metadata": {},
   "source": [
    "We also downloaded some additional packages that we will need outside of the HASP script to analyze the data. Once we activate the `conda` environment, as seen below, we can download the HASP script and run it. Note that you should run this in a terminal rather than in the cell below. Depending on your shell and operating system settings, you may need to restart your Jupyter notebook application in order for your environment to be fully activated in your notebook."
   ]
  },
  {
   "cell_type": "code",
   "execution_count": 4,
   "id": "be54962c",
   "metadata": {
    "execution": {
     "iopub.execute_input": "2023-12-05T16:45:19.415564Z",
     "iopub.status.busy": "2023-12-05T16:45:19.415218Z",
     "iopub.status.idle": "2023-12-05T16:45:19.793639Z",
     "shell.execute_reply": "2023-12-05T16:45:19.793087Z"
    }
   },
   "outputs": [
    {
     "name": "stdout",
     "output_type": "stream",
     "text": [
      "usage: conda [-h] [-v] [--no-plugins] [-V] COMMAND ...\r\n",
      "conda: error: argument COMMAND: invalid choice: 'activate' (choose from 'clean', 'compare', 'config', 'create', 'info', 'init', 'install', 'list', 'notices', 'package', 'remove', 'uninstall', 'rename', 'run', 'search', 'update', 'upgrade', 'content-trust', 'doctor', 'repoquery', 'env')\r\n"
     ]
    }
   ],
   "source": [
    "!conda activate hasp-env"
   ]
  },
  {
   "cell_type": "markdown",
   "id": "3f1ec997",
   "metadata": {},
   "source": [
    "Now that we created and activated a `conda` environment, we can now begin to download the HASP code."
   ]
  },
  {
   "attachments": {},
   "cell_type": "markdown",
   "id": "095e154d",
   "metadata": {},
   "source": [
    "<a id = downloadcode></a>\n",
    "## 2. Downloading and Installing the HASP Script"
   ]
  },
  {
   "attachments": {},
   "cell_type": "markdown",
   "id": "c3ced7eb",
   "metadata": {},
   "source": [
    "We will download the HASP wrapper script from [the HASP Github repository](https://github.com/spacetelescope/hasp). Downloading this script will create a `hasp` directory, which will contain all of the required code. \n",
    "\n",
    "**You will only have to run **one** of the two options below, depending on your computer and Git settings.**\n",
    "\n",
    "#### Option A, using `pip`:\n",
    "\n",
    "`pip install` clones the reposoitory and install the packages according to the setup configuration of the repository. You may need to create a Personal Access Token (PAT) to use instead of your Github account's password, since support for password authentication was removed in 2021. You can learn how to create a PAT [here](https://docs.github.com/en/authentication/keeping-your-account-and-data-secure/creating-a-personal-access-token).\n",
    "\n",
    "```\n",
    "pip install git+https://github.com/spacetelescope/hasp.git\n",
    "```"
   ]
  },
  {
   "attachments": {},
   "cell_type": "markdown",
   "id": "f4e25e36",
   "metadata": {},
   "source": [
    "#### Option B, using `git clone`:\n",
    "\n",
    "While `git clone` still downloads the repository, it differs from `pip` in that it also downloads all of the history and files of the repository. If you have a password-protected SSH key, rather than a PAT, you can clone the repo by running the following code in your terminal. If you want to setup a SSH key, you can learn how to do so [here](https://docs.github.com/en/authentication/connecting-to-github-with-ssh/adding-a-new-ssh-key-to-your-github-account).\n",
    "\n",
    "```\n",
    "git clone git@github.com:spacetelescope/hasp.git\n",
    "```"
   ]
  },
  {
   "attachments": {},
   "cell_type": "markdown",
   "id": "0615ee7f",
   "metadata": {},
   "source": [
    "#### Now that you've downloaded the code, run the command below to download the script's dependencies:"
   ]
  },
  {
   "cell_type": "code",
   "execution_count": 5,
   "id": "c16e5246",
   "metadata": {
    "execution": {
     "iopub.execute_input": "2023-12-05T16:45:19.796951Z",
     "iopub.status.busy": "2023-12-05T16:45:19.796568Z",
     "iopub.status.idle": "2023-12-05T16:45:20.417602Z",
     "shell.execute_reply": "2023-12-05T16:45:20.417038Z"
    }
   },
   "outputs": [
    {
     "name": "stdout",
     "output_type": "stream",
     "text": [
      "\u001b[31mERROR: Invalid requirement: './hasp/.'\r\n",
      "Hint: It looks like a path. File './hasp/.' does not exist.\u001b[0m\u001b[31m\r\n",
      "\u001b[0m"
     ]
    }
   ],
   "source": [
    "!pip install ./hasp/."
   ]
  },
  {
   "attachments": {},
   "cell_type": "markdown",
   "id": "a0386593",
   "metadata": {},
   "source": [
    "This will install additional dependencies using the `pyproject.toml` file. "
   ]
  },
  {
   "attachments": {},
   "cell_type": "markdown",
   "id": "01628f8c",
   "metadata": {},
   "source": [
    "To run the wrapper, We only need to download the following COS and/or STIS files:\n",
    "\n",
    "*    [X1D](https://hst-docs.stsci.edu/cosdhb/chapter-2-cos-data-files/2-4-cos-data-products#:~:text=in%20the%20association.-,One%2DDimensional%20Extracted%20Spectra%20(x1d%2C%20x1dsum),-The%20COS%20pipeline) - the one-dimensional extracted product spectra.\n",
    "  \n",
    "*    [SX1](https://hst-docs.stsci.edu/stisdhb/chapter-2-stis-data-structure/2-2-types-of-stis-files#:~:text=corrected%20imaging%20data.-,_sx1,-table) - the one-dimensional extracted spectra from combined or cosmic-ray rejected images. This file is only produced with STIS data. \n",
    "\n",
    "Make sure that all of these files, for every spectra you wish to abut, are in the same directory. The script will only co-add the files within this directory."
   ]
  },
  {
   "attachments": {},
   "cell_type": "markdown",
   "id": "9cd6cbc4",
   "metadata": {},
   "source": [
    "<a id = runscript></a>\n",
    "## 3. Running the Co-add Script\n",
    "\n",
    "### 3.1 Running the Script\n",
    "\n",
    "Now that we have the wrapper installed, we can now run the co-add script.\n",
    "\n",
    "| Command-line Option | Value |\n",
    "|----------|----------|\n",
    "| `--input_directory` (`-i`) | The path to the directory that contains the data to be co-added (_required_)|\n",
    "| `--output_directory` (`-o`) | The path to the directory that will contain the newly co-added products\\*\\* (_required_) |\n",
    "| `--threshold` (`-t`) | The threshold for flux-based filtering (_optional_) |\n",
    "| `--snrmax` (`-s`) | The maximum SNR for flux-based filtering (_optional_) |\n",
    "| `--no_keyword_filtering` (`-k`) | Disable keyword based filtering (except for STIS PRISM data, which is always filtered) (_optional_) |\n",
    "\n",
    "\\*\\***Note:** If you wish to exclude certain data files from the co-add, you can just remove them from your input directory before you run the script.\n",
    "\n",
    "To finally run the script, open your terminal, activate your `conda` environment, and run:\n",
    "\n",
    "```\n",
    "swrapper -i <YOUR_DATA_DIR> -o <YOUR_PRODUCT_DIR>\n",
    "```"
   ]
  },
  {
   "attachments": {},
   "cell_type": "markdown",
   "id": "5a5dae88",
   "metadata": {},
   "source": [
    "You should now have created the co-added spectra for your desired program."
   ]
  },
  {
   "cell_type": "markdown",
   "id": "7e368a5c",
   "metadata": {},
   "source": [
    "<a id = inspectoutput></a>\n",
    "### 3.2 Understanding the Output Files\n",
    "\n",
    "The script produces multiple different files with abutted spectra. Currently, the script outputs abutted products for a single program. It first creates co-added spectra for each grating of a single observation set:\n",
    "\n",
    "`hst_programID_instrument_targetname_grating_obset_cspec.fits`\n",
    "\n",
    "It then co-adds the spectra of all gratings for a single observation set:\n",
    "\n",
    "`hst_programID_instrument_targetname_allGratings_obset_cspec.fits`\n",
    "\n",
    "Finally, it co-adds all abutted observation sets' spectra to create a final co-added product for a single target:\n",
    "\n",
    "`hst_programID_instrument_targetname_allGratings_cspec.fits`\n",
    "\n",
    "An example of this will be below. These filenames are the output files for a STIS GD71 dataset that is co-added in the CoaddTutorial.ipynb notebook example. Here, the `programID` is `7656`, the `instrument` is `STIS`, and the `targetname` is `gd71`.\n",
    "\n",
    "| Step | Filename | Description |\n",
    "|----------|----------|----------|\n",
    "| 1 | `hst_7656_stis_gd71_g140l_o4a520_cspec.fits` | Co-adding all `G140L` observations for the observation set, `O4A520`. |\n",
    "| 2 | `hst_7656_stis_gd71_g140l-g230l-g430l-g750l_o4a520_cspec.fits` | Co-adding all observations taken at every grating for the observation set, `O4A520`. |\n",
    "| 3 | `hst_7656_stis_gd71_g140l-g230l-g430l-g750l_o4a5_cspec.fits` | Co-adding all GD71 observations at each grating for this program, `O4A5`. |\n",
    "\n",
    "***Note: HST file naming conventions use a combination of three letters and/or numbers to have a unique association between a PI's proposal ID and program ID, meaning that `o4a5` at the end of `hst_7656_stis_gd71_g140l-g230l-g430l-g750l_o4a5_cspec.fits` is essentially the program ID for our example. Check out more information on the [MAST HST file naming convention page](https://archive.stsci.edu/hlsp/ipppssoot.html)*** \n"
   ]
  },
  {
   "attachments": {},
   "cell_type": "markdown",
   "id": "551c86c8",
   "metadata": {},
   "source": [
    "## About this Notebook\n",
    "**Author:** Sierra Gomez (sigomez@stsci.edu)\n",
    "\n",
    "**Updated on:** 12/04/2023\n",
    "\n",
    "*This tutorial was generated to be in compliance with the [STScI style guides](https://github.com/spacetelescope/style-guides) and would like to cite the [Jupyter guide](https://github.com/spacetelescope/style-guides/blob/master/templates/example_notebook.ipynb) in particular.*\n"
   ]
  },
  {
   "attachments": {},
   "cell_type": "markdown",
   "id": "164f5842",
   "metadata": {},
   "source": [
    "<img style=\"float: right;\" src=\"https://raw.githubusercontent.com/spacetelescope/notebooks/master/assets/stsci_pri_combo_mark_horizonal_white_bkgd.png\" alt=\"Space Telescope Logo\" width=\"200px\"/>"
   ]
  }
 ],
 "metadata": {
  "kernelspec": {
   "display_name": "Python 3 (ipykernel)",
   "language": "python",
   "name": "python3"
  },
  "language_info": {
   "codemirror_mode": {
    "name": "ipython",
    "version": 3
   },
   "file_extension": ".py",
   "mimetype": "text/x-python",
   "name": "python",
   "nbconvert_exporter": "python",
   "pygments_lexer": "ipython3",
   "version": "3.11.5"
  }
 },
 "nbformat": 4,
 "nbformat_minor": 5
}
