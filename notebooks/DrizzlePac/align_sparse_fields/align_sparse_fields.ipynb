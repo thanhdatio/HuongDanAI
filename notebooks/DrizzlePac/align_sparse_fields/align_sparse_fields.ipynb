{
 "cells": [
  {
   "cell_type": "markdown",
   "metadata": {},
   "source": [
    "# Aligning Deep Exposures of Sparse Fields"
   ]
  },
  {
   "cell_type": "markdown",
   "metadata": {},
   "source": [
    "<div class=\"alert-danger\">Note: The notebook in this repository 'Initialization.ipynb' goes over many of the basic concepts such as the setup of the environment/package installation and should be read first if you are new to HST images, DrizzlePac, or Astroquery.</div>"
   ]
  },
  {
   "cell_type": "markdown",
   "metadata": {
    "nbpresent": {
     "id": "0d33cc02-bd22-422e-974b-893db4bc8a2e"
    }
   },
   "source": [
    "# Introduction\n",
    "\n",
    "\n",
    "This notebook demonstrates aligning long exposures which have relatively few stars and a large number of cosmic rays. It is based on the example described in the ISR linked here ([ACS ISR 2015-04: Basic Use of SExtractor Catalogs With TweakReg - I](http://www.stsci.edu/hst/acs/documents/isrs/isr1504.pdf)), but uses a much simpler methodology.\n",
    "\n",
    "\n",
    "Rather than making use of external software (e.g. [SExtractor](http://www.astromatic.net/software/sextractor)) and going through the extra steps to create 'cosmic-ray cleaned' images for each visit, this notebook demonstrates new features in TweakReg designed to mitigate false detections.\n",
    "\n",
    "TweakReg’s source finding task `imagefind` now includes parameters to exclude false detections and allow the software to more easily solve for the image offsets using matched sources lists. For example, `dqbits` is a list of DQ flag values to include as 'good' or to exclude as 'bad' before generating and matching source lists. For ACS/WFC, setting `dqbits=-16` will mask hot pixels flagged by the instrument team, eliminating a common problem where TweakReg locks onto hot pixels and solves for the dither pattern. This can occur when users set the detection threshold value too low and hot pixels outnumber astronomical sources. Other new parameters allow selection for sharpness and roundness, which give users better control over source selection criteria and the mitigation of artifacts. More details on imagefindpars options may be found on the following [webpage](https://drizzlepac.readthedocs.io/en/deployment/imagefindpars.html)."
   ]
  },
  {
   "cell_type": "code",
   "execution_count": 1,
   "metadata": {
    "execution": {
     "iopub.execute_input": "2023-08-14T19:43:47.758897Z",
     "iopub.status.busy": "2023-08-14T19:43:47.758672Z",
     "iopub.status.idle": "2023-08-14T19:43:52.061743Z",
     "shell.execute_reply": "2023-08-14T19:43:52.060883Z"
    },
    "nbpresent": {
     "id": "6c8b2858-62fe-40bd-a114-8257661e0b0b"
    }
   },
   "outputs": [
    {
     "name": "stdout",
     "output_type": "stream",
     "text": [
      "\n",
      "\n",
      "The following task in the stsci.skypac package can be run with TEAL:\n",
      "                                    skymatch                                    \n",
      "The following tasks in the drizzlepac package can be run with TEAL:\n",
      "    astrodrizzle       config_testbed      imagefindpars           mapreg       \n",
      "       photeq            pixreplace           pixtopix            pixtosky      \n",
      "  refimagefindpars       resetbits          runastrodriz          skytopix      \n",
      "     tweakback            tweakreg           updatenpol\n"
     ]
    }
   ],
   "source": [
    "from astropy.table import Table\n",
    "from astropy.io import fits\n",
    "from astroquery.mast import Observations\n",
    "from ccdproc import ImageFileCollection\n",
    "import glob\n",
    "import matplotlib.pyplot as plt\n",
    "import os\n",
    "import shutil\n",
    "from drizzlepac import tweakreg\n",
    "from drizzlepac import astrodrizzle\n",
    "from IPython.display import Image"
   ]
  },
  {
   "cell_type": "markdown",
   "metadata": {
    "nbpresent": {
     "id": "71a61091-6c4e-4567-880e-8d9908e4dfa4"
    }
   },
   "source": [
    "# 1. Download the Data\n",
    "\n",
    "The data in this example are comprised of 4 exposures in the F814W filter, all from Visit 0X of HST program 10092. Each exposure was dithered by ~60 pixels along the y-axis in order to obtain coverage in the area of the CCD chip gap. The X and Y dithers are given in arcseconds by the `POSTARG1` and `POSTARG2` keywords recorded in the image header.\n",
    "\n",
    "The following commands query MAST, download the calibrated, CTE-corrected FLC files, and place them in the same 'working' directory as this notebook. "
   ]
  },
  {
   "cell_type": "code",
   "execution_count": 2,
   "metadata": {
    "execution": {
     "iopub.execute_input": "2023-08-14T19:43:52.065744Z",
     "iopub.status.busy": "2023-08-14T19:43:52.065063Z",
     "iopub.status.idle": "2023-08-14T19:44:38.994716Z",
     "shell.execute_reply": "2023-08-14T19:44:38.993993Z"
    }
   },
   "outputs": [
    {
     "name": "stdout",
     "output_type": "stream",
     "text": [
      "Downloading URL https://mast.stsci.edu/api/v0.1/Download/file?uri=mast:HST/product/hst_10092_0x_acs_wfc_f814w_j8xi0xs0_flc.fits to ./science/mastDownload/HST/hst_10092_0x_acs_wfc_f814w_j8xi0xs0/hst_10092_0x_acs_wfc_f814w_j8xi0xs0_flc.fits ... [Done]\n",
      "Downloading URL https://mast.stsci.edu/api/v0.1/Download/file?uri=mast:HST/product/hst_10092_0x_acs_wfc_f814w_j8xi0xs3_flc.fits to ./science/mastDownload/HST/hst_10092_0x_acs_wfc_f814w_j8xi0xs3/hst_10092_0x_acs_wfc_f814w_j8xi0xs3_flc.fits ... [Done]\n",
      "Downloading URL https://mast.stsci.edu/api/v0.1/Download/file?uri=mast:HST/product/hst_10092_0x_acs_wfc_f814w_j8xi0xs6_flc.fits to ./science/mastDownload/HST/hst_10092_0x_acs_wfc_f814w_j8xi0xs6/hst_10092_0x_acs_wfc_f814w_j8xi0xs6_flc.fits ... [Done]\n",
      "Downloading URL https://mast.stsci.edu/api/v0.1/Download/file?uri=mast:HST/product/hst_10092_0x_acs_wfc_f814w_j8xi0xsa_flc.fits to ./science/mastDownload/HST/hst_10092_0x_acs_wfc_f814w_j8xi0xsa/hst_10092_0x_acs_wfc_f814w_j8xi0xsa_flc.fits ... [Done]\n",
      "Downloading URL https://mast.stsci.edu/api/v0.1/Download/file?uri=mast:HST/product/j8xi0xs0q_flc.fits to ./science/mastDownload/HST/j8xi0xs0q/j8xi0xs0q_flc.fits ... [Done]\n",
      "Downloading URL https://mast.stsci.edu/api/v0.1/Download/file?uri=mast:HST/product/j8xi0xs3q_flc.fits to ./science/mastDownload/HST/j8xi0xs3q/j8xi0xs3q_flc.fits ... [Done]\n",
      "Downloading URL https://mast.stsci.edu/api/v0.1/Download/file?uri=mast:HST/product/j8xi0xs6q_flc.fits to ./science/mastDownload/HST/j8xi0xs6q/j8xi0xs6q_flc.fits ... [Done]\n",
      "Downloading URL https://mast.stsci.edu/api/v0.1/Download/file?uri=mast:HST/product/j8xi0xsaq_flc.fits to ./science/mastDownload/HST/j8xi0xsaq/j8xi0xsaq_flc.fits ... [Done]\n"
     ]
    }
   ],
   "source": [
    "# Query MAST for the F814W files.\n",
    "science_list = Observations.query_criteria(proposal_id='10092', filters='F814W', obs_id='j8xi0x*')\n",
    "Observations.download_products(science_list['obsid'], mrp_only=False, download_dir='./science',\n",
    "                               productSubGroupDescription=['FLC'])\n",
    "\n",
    "science_files = glob.glob('science/mastDownload/HST/*/*fits')\n",
    "for im in science_files:\n",
    "    root = im.split('/')[-1]\n",
    "    os.rename(im, './'+root)\n",
    "shutil.rmtree('science/')"
   ]
  },
  {
   "cell_type": "markdown",
   "metadata": {},
   "source": [
    "# 2. Inspect the image headers"
   ]
  },
  {
   "cell_type": "code",
   "execution_count": 3,
   "metadata": {
    "execution": {
     "iopub.execute_input": "2023-08-14T19:44:38.998581Z",
     "iopub.status.busy": "2023-08-14T19:44:38.998163Z",
     "iopub.status.idle": "2023-08-14T19:44:39.126046Z",
     "shell.execute_reply": "2023-08-14T19:44:39.125166Z"
    }
   },
   "outputs": [
    {
     "data": {
      "text/html": [
       "<div><i>Table masked=True length=8</i>\n",
       "<table id=\"table140580824799888\" class=\"table-striped table-bordered table-condensed\">\n",
       "<thead><tr><th>file</th><th>asn_id</th><th>detector</th><th>filter2</th><th>exptime</th><th>postarg1</th><th>postarg2</th></tr></thead>\n",
       "<thead><tr><th>str44</th><th>str9</th><th>str3</th><th>str5</th><th>float64</th><th>float64</th><th>float64</th></tr></thead>\n",
       "<tr><td>hst_10092_0x_acs_wfc_f814w_j8xi0xs0_flc.fits</td><td>J8XI0X010</td><td>WFC</td><td>F814W</td><td>507.0</td><td>0.062</td><td>-3.0518</td></tr>\n",
       "<tr><td>hst_10092_0x_acs_wfc_f814w_j8xi0xs3_flc.fits</td><td>J8XI0X010</td><td>WFC</td><td>F814W</td><td>507.0</td><td>0.31</td><td>0.023747</td></tr>\n",
       "<tr><td>hst_10092_0x_acs_wfc_f814w_j8xi0xs6_flc.fits</td><td>J8XI0X010</td><td>WFC</td><td>F814W</td><td>507.0</td><td>-0.062</td><td>3.0518</td></tr>\n",
       "<tr><td>hst_10092_0x_acs_wfc_f814w_j8xi0xsa_flc.fits</td><td>J8XI0X010</td><td>WFC</td><td>F814W</td><td>507.0</td><td>0.186</td><td>6.127347</td></tr>\n",
       "<tr><td>j8xi0xs0q_flc.fits</td><td>J8XI0X010</td><td>WFC</td><td>F814W</td><td>507.0</td><td>0.062</td><td>-3.0518</td></tr>\n",
       "<tr><td>j8xi0xs3q_flc.fits</td><td>J8XI0X010</td><td>WFC</td><td>F814W</td><td>507.0</td><td>0.31</td><td>0.023747</td></tr>\n",
       "<tr><td>j8xi0xs6q_flc.fits</td><td>J8XI0X010</td><td>WFC</td><td>F814W</td><td>507.0</td><td>-0.062</td><td>3.0518</td></tr>\n",
       "<tr><td>j8xi0xsaq_flc.fits</td><td>J8XI0X010</td><td>WFC</td><td>F814W</td><td>507.0</td><td>0.186</td><td>6.127347</td></tr>\n",
       "</table></div>"
      ],
      "text/plain": [
       "<Table masked=True length=8>\n",
       "                    file                       asn_id  ... postarg1 postarg2\n",
       "                   str44                        str9   ... float64  float64 \n",
       "-------------------------------------------- --------- ... -------- --------\n",
       "hst_10092_0x_acs_wfc_f814w_j8xi0xs0_flc.fits J8XI0X010 ...    0.062  -3.0518\n",
       "hst_10092_0x_acs_wfc_f814w_j8xi0xs3_flc.fits J8XI0X010 ...     0.31 0.023747\n",
       "hst_10092_0x_acs_wfc_f814w_j8xi0xs6_flc.fits J8XI0X010 ...   -0.062   3.0518\n",
       "hst_10092_0x_acs_wfc_f814w_j8xi0xsa_flc.fits J8XI0X010 ...    0.186 6.127347\n",
       "                          j8xi0xs0q_flc.fits J8XI0X010 ...    0.062  -3.0518\n",
       "                          j8xi0xs3q_flc.fits J8XI0X010 ...     0.31 0.023747\n",
       "                          j8xi0xs6q_flc.fits J8XI0X010 ...   -0.062   3.0518\n",
       "                          j8xi0xsaq_flc.fits J8XI0X010 ...    0.186 6.127347"
      ]
     },
     "execution_count": 3,
     "metadata": {},
     "output_type": "execute_result"
    }
   ],
   "source": [
    "collect = ImageFileCollection('./',\n",
    "                              keywords=[\"asn_id\", \"detector\", \"filter2\", \"exptime\", \"postarg1\", \"postarg2\"],\n",
    "                              glob_include=\"*flc.fits\", ext=0)\n",
    "out_table = collect.summary\n",
    "out_table"
   ]
  },
  {
   "cell_type": "markdown",
   "metadata": {
    "nbpresent": {
     "id": "927b9c58-0191-49a0-a5fd-faa64b7b800e"
    }
   },
   "source": [
    "# 3. TweakReg Alignment \n",
    "\n",
    "Use TweakReg to align the FLC frames based on sources in the image. The provided input list (`input_flc.list`) is used to align the frames in the specified order with `j8xi0xsaq_flc.fits` as the reference image. The parameter `conv_width` specifies the convolution kernel width in pixels, with recommended values ~2x the PSF FWHM for detecting point sources in the FLC frame. For ACS/WFC & WFC3/UVIS, this parameter is typically set to 3.5 pixels and for WFC3/IR to 2.5 pixels, but the value can be increased in order to use compact objects such as small galaxies for alignment.\n",
    "\n",
    "## 3a. Use 'default' parameters (Test1)"
   ]
  },
  {
   "cell_type": "code",
   "execution_count": 4,
   "metadata": {
    "execution": {
     "iopub.execute_input": "2023-08-14T19:44:39.129989Z",
     "iopub.status.busy": "2023-08-14T19:44:39.129329Z",
     "iopub.status.idle": "2023-08-14T19:45:02.588400Z",
     "shell.execute_reply": "2023-08-14T19:45:02.587741Z"
    }
   },
   "outputs": [
    {
     "name": "stderr",
     "output_type": "stream",
     "text": [
      "INFO:drizzlepac.util:Setting up logfile :  tweakreg.log\n"
     ]
    },
    {
     "name": "stdout",
     "output_type": "stream",
     "text": [
      "Setting up logfile :  tweakreg.log\n"
     ]
    },
    {
     "name": "stderr",
     "output_type": "stream",
     "text": [
      "INFO:drizzlepac.tweakreg:TweakReg Version 3.5.1 started at: 19:44:39.179 (14/08/2023) \n"
     ]
    },
    {
     "name": "stdout",
     "output_type": "stream",
     "text": [
      "TweakReg Version 3.5.1 started at: 19:44:39.179 (14/08/2023) \n"
     ]
    },
    {
     "name": "stderr",
     "output_type": "stream",
     "text": [
      "INFO:drizzlepac.tweakreg:\n"
     ]
    },
    {
     "name": "stdout",
     "output_type": "stream",
     "text": [
      "\n"
     ]
    },
    {
     "name": "stderr",
     "output_type": "stream",
     "text": [
      "INFO:drizzlepac.util:Version Information\n"
     ]
    },
    {
     "name": "stdout",
     "output_type": "stream",
     "text": [
      "Version Information\n"
     ]
    },
    {
     "name": "stderr",
     "output_type": "stream",
     "text": [
      "INFO:drizzlepac.util:--------------------\n"
     ]
    },
    {
     "name": "stdout",
     "output_type": "stream",
     "text": [
      "--------------------\n"
     ]
    },
    {
     "name": "stderr",
     "output_type": "stream",
     "text": [
      "INFO:drizzlepac.util:Python Version 3.11.4 (main, Jun  7 2023, 11:01:02) [GCC 11.3.0]\n"
     ]
    },
    {
     "name": "stdout",
     "output_type": "stream",
     "text": [
      "Python Version 3.11.4 (main, Jun  7 2023, 11:01:02) [GCC 11.3.0]\n"
     ]
    },
    {
     "name": "stderr",
     "output_type": "stream",
     "text": [
      "INFO:drizzlepac.util:numpy Version -> 1.25.2 \n"
     ]
    },
    {
     "name": "stdout",
     "output_type": "stream",
     "text": [
      "numpy Version -> 1.25.2 \n"
     ]
    },
    {
     "name": "stderr",
     "output_type": "stream",
     "text": [
      "INFO:drizzlepac.util:astropy Version -> 5.2.1 \n"
     ]
    },
    {
     "name": "stdout",
     "output_type": "stream",
     "text": [
      "astropy Version -> 5.2.1 \n"
     ]
    },
    {
     "name": "stderr",
     "output_type": "stream",
     "text": [
      "INFO:drizzlepac.util:stwcs Version -> 1.7.2 \n"
     ]
    },
    {
     "name": "stdout",
     "output_type": "stream",
     "text": [
      "stwcs Version -> 1.7.2 \n"
     ]
    },
    {
     "name": "stderr",
     "output_type": "stream",
     "text": [
      "INFO:drizzlepac.util:photutils Version -> 1.8.0 \n"
     ]
    },
    {
     "name": "stdout",
     "output_type": "stream",
     "text": [
      "photutils Version -> 1.8.0 \n"
     ]
    },
    {
     "name": "stderr",
     "output_type": "stream",
     "text": [
      "INFO:drizzlepac.tweakreg:\n",
      "INFO:drizzlepac.tweakreg:USER INPUT PARAMETERS common to all Processing Steps:\n",
      "INFO:drizzlepac.tweakreg:\tclean :\tFalse\n",
      "INFO:drizzlepac.tweakreg:\tenforce_user_order :\tTrue\n",
      "INFO:drizzlepac.tweakreg:\texclusions :\t\n",
      "INFO:drizzlepac.tweakreg:\texpand_refcat :\tFalse\n",
      "INFO:drizzlepac.tweakreg:\tinput :\t@input_flc.list\n",
      "INFO:drizzlepac.tweakreg:\tinteractive :\tFalse\n",
      "INFO:drizzlepac.tweakreg:\trefimage :\t\n",
      "INFO:drizzlepac.tweakreg:\trunfile :\ttweakreg.log\n",
      "INFO:drizzlepac.tweakreg:\tupdatewcs :\tFalse\n",
      "INFO:drizzlepac.tweakreg:\tverbose :\tFalse\n",
      "INFO:drizzlepac.tweakreg:\twritecat :\tTrue\n",
      "INFO:drizzlepac.tweakutils:j8xi0xsaq_flc.fits   \n"
     ]
    },
    {
     "name": "stdout",
     "output_type": "stream",
     "text": [
      "j8xi0xsaq_flc.fits   \n"
     ]
    },
    {
     "name": "stderr",
     "output_type": "stream",
     "text": [
      "INFO:drizzlepac.tweakutils:\n"
     ]
    },
    {
     "name": "stdout",
     "output_type": "stream",
     "text": [
      "\n"
     ]
    },
    {
     "name": "stderr",
     "output_type": "stream",
     "text": [
      "INFO:drizzlepac.tweakreg:\n"
     ]
    },
    {
     "name": "stdout",
     "output_type": "stream",
     "text": [
      "\n"
     ]
    },
    {
     "name": "stderr",
     "output_type": "stream",
     "text": [
      "INFO:drizzlepac.tweakreg:Finding shifts for: \n"
     ]
    },
    {
     "name": "stdout",
     "output_type": "stream",
     "text": [
      "Finding shifts for: \n"
     ]
    },
    {
     "name": "stderr",
     "output_type": "stream",
     "text": [
      "INFO:drizzlepac.tweakreg:    j8xi0xsaq_flc.fits\n"
     ]
    },
    {
     "name": "stdout",
     "output_type": "stream",
     "text": [
      "    j8xi0xsaq_flc.fits\n"
     ]
    },
    {
     "name": "stderr",
     "output_type": "stream",
     "text": [
      "INFO:drizzlepac.tweakreg:    j8xi0xs6q_flc.fits\n"
     ]
    },
    {
     "name": "stdout",
     "output_type": "stream",
     "text": [
      "    j8xi0xs6q_flc.fits\n"
     ]
    },
    {
     "name": "stderr",
     "output_type": "stream",
     "text": [
      "INFO:drizzlepac.tweakreg:    j8xi0xs3q_flc.fits\n"
     ]
    },
    {
     "name": "stdout",
     "output_type": "stream",
     "text": [
      "    j8xi0xs3q_flc.fits\n"
     ]
    },
    {
     "name": "stderr",
     "output_type": "stream",
     "text": [
      "INFO:drizzlepac.tweakreg:    j8xi0xs0q_flc.fits\n"
     ]
    },
    {
     "name": "stdout",
     "output_type": "stream",
     "text": [
      "    j8xi0xs0q_flc.fits\n"
     ]
    },
    {
     "name": "stderr",
     "output_type": "stream",
     "text": [
      "INFO:drizzlepac.tweakreg:\n"
     ]
    },
    {
     "name": "stdout",
     "output_type": "stream",
     "text": [
      "\n"
     ]
    },
    {
     "name": "stderr",
     "output_type": "stream",
     "text": [
      "INFO:drizzlepac.tweakreg:USER INPUT PARAMETERS for finding sources for each input image:\n",
      "INFO:drizzlepac.tweakreg:\tclean :\tFalse\n",
      "INFO:drizzlepac.tweakreg:\tcomputesig :\tTrue\n",
      "INFO:drizzlepac.tweakreg:\tconv_width :\t3.5\n",
      "INFO:drizzlepac.tweakreg:\tdqbits :\t\n",
      "INFO:drizzlepac.tweakreg:\tenforce_user_order :\tTrue\n",
      "INFO:drizzlepac.tweakreg:\texpand_refcat :\tFalse\n",
      "INFO:drizzlepac.tweakreg:\tfluxmax :\tNone\n",
      "INFO:drizzlepac.tweakreg:\tfluxmin :\tNone\n",
      "INFO:drizzlepac.tweakreg:\tinput :\t@input_flc.list\n",
      "INFO:drizzlepac.tweakreg:\tinteractive :\tFalse\n",
      "INFO:drizzlepac.tweakreg:\tnsigma :\t1.5\n",
      "INFO:drizzlepac.tweakreg:\tpeakmax :\tNone\n",
      "INFO:drizzlepac.tweakreg:\tpeakmin :\tNone\n",
      "INFO:drizzlepac.tweakreg:\tratio :\t1.0\n",
      "INFO:drizzlepac.tweakreg:\trefimage :\t\n",
      "INFO:drizzlepac.tweakreg:\troundhi :\t1.0\n",
      "INFO:drizzlepac.tweakreg:\troundlo :\t-1.0\n",
      "INFO:drizzlepac.tweakreg:\trunfile :\ttweakreg.log\n",
      "INFO:drizzlepac.tweakreg:\tsharphi :\t1.0\n",
      "INFO:drizzlepac.tweakreg:\tsharplo :\t0.2\n",
      "INFO:drizzlepac.tweakreg:\tskysigma :\t0.0\n",
      "INFO:drizzlepac.tweakreg:\ttheta :\t0.0\n",
      "INFO:drizzlepac.tweakreg:\tthreshold :\t100\n",
      "INFO:drizzlepac.tweakreg:\tupdatehdr :\tFalse\n",
      "INFO:drizzlepac.tweakreg:\tupdatewcs :\tFalse\n",
      "INFO:drizzlepac.tweakreg:\tuse_sharp_round :\tFalse\n",
      "INFO:drizzlepac.tweakreg:\tverbose :\tFalse\n",
      "INFO:drizzlepac.tweakreg:\twritecat :\tTrue\n",
      "INFO:drizzlepac.tweakreg:\txyunits :\tpixels\n",
      "INFO:drizzlepac.tweakreg:\n",
      "INFO:drizzlepac.imgclasses:===  Source finding for image 'j8xi0xsaq_flc.fits':\n"
     ]
    },
    {
     "name": "stdout",
     "output_type": "stream",
     "text": [
      "===  Source finding for image 'j8xi0xsaq_flc.fits':\n"
     ]
    },
    {
     "name": "stderr",
     "output_type": "stream",
     "text": [
      "INFO:drizzlepac.catalogs:  #  Source finding for 'j8xi0xsaq_flc.fits', EXT=('SCI', 1) started at: 19:44:39.338 (14/08/2023)\n"
     ]
    },
    {
     "name": "stdout",
     "output_type": "stream",
     "text": [
      "  #  Source finding for 'j8xi0xsaq_flc.fits', EXT=('SCI', 1) started at: 19:44:39.338 (14/08/2023)\n"
     ]
    },
    {
     "name": "stderr",
     "output_type": "stream",
     "text": [
      "INFO:drizzlepac.catalogs:   Finding sources using sky sigma = 10.055177\n",
      "INFO:drizzlepac.catalogs:###Source finding finished at: 19:44:40.277 (14/08/2023)\n",
      "INFO:drizzlepac.catalogs:     Found 8467 objects.\n"
     ]
    },
    {
     "name": "stdout",
     "output_type": "stream",
     "text": [
      "     Found 8467 objects.\n"
     ]
    },
    {
     "name": "stderr",
     "output_type": "stream",
     "text": [
      "INFO:drizzlepac.catalogs:  #  Source finding for 'j8xi0xsaq_flc.fits', EXT=('SCI', 2) started at: 19:44:40.399 (14/08/2023)\n"
     ]
    },
    {
     "name": "stdout",
     "output_type": "stream",
     "text": [
      "  #  Source finding for 'j8xi0xsaq_flc.fits', EXT=('SCI', 2) started at: 19:44:40.399 (14/08/2023)\n"
     ]
    },
    {
     "name": "stderr",
     "output_type": "stream",
     "text": [
      "INFO:drizzlepac.catalogs:   Finding sources using sky sigma = 9.991610\n",
      "INFO:drizzlepac.catalogs:###Source finding finished at: 19:44:41.242 (14/08/2023)\n",
      "INFO:drizzlepac.catalogs:     Found 8501 objects.\n"
     ]
    },
    {
     "name": "stdout",
     "output_type": "stream",
     "text": [
      "     Found 8501 objects.\n"
     ]
    },
    {
     "name": "stderr",
     "output_type": "stream",
     "text": [
      "INFO:drizzlepac.imgclasses:===  FINAL number of objects in image 'j8xi0xsaq_flc.fits': 16968\n"
     ]
    },
    {
     "name": "stdout",
     "output_type": "stream",
     "text": [
      "===  FINAL number of objects in image 'j8xi0xsaq_flc.fits': 16968\n"
     ]
    },
    {
     "name": "stderr",
     "output_type": "stream",
     "text": [
      "INFO:drizzlepac.imgclasses:\n"
     ]
    },
    {
     "name": "stdout",
     "output_type": "stream",
     "text": [
      "\n"
     ]
    },
    {
     "name": "stderr",
     "output_type": "stream",
     "text": [
      "INFO:drizzlepac.imgclasses:===  Source finding for image 'j8xi0xs6q_flc.fits':\n"
     ]
    },
    {
     "name": "stdout",
     "output_type": "stream",
     "text": [
      "===  Source finding for image 'j8xi0xs6q_flc.fits':\n"
     ]
    },
    {
     "name": "stderr",
     "output_type": "stream",
     "text": [
      "INFO:drizzlepac.catalogs:  #  Source finding for 'j8xi0xs6q_flc.fits', EXT=('SCI', 1) started at: 19:44:42.081 (14/08/2023)\n"
     ]
    },
    {
     "name": "stdout",
     "output_type": "stream",
     "text": [
      "  #  Source finding for 'j8xi0xs6q_flc.fits', EXT=('SCI', 1) started at: 19:44:42.081 (14/08/2023)\n"
     ]
    },
    {
     "name": "stderr",
     "output_type": "stream",
     "text": [
      "INFO:drizzlepac.catalogs:   Finding sources using sky sigma = 10.078989\n",
      "INFO:drizzlepac.catalogs:###Source finding finished at: 19:44:42.950 (14/08/2023)\n",
      "INFO:drizzlepac.catalogs:     Found 6123 objects.\n"
     ]
    },
    {
     "name": "stdout",
     "output_type": "stream",
     "text": [
      "     Found 6123 objects.\n"
     ]
    },
    {
     "name": "stderr",
     "output_type": "stream",
     "text": [
      "INFO:drizzlepac.catalogs:  #  Source finding for 'j8xi0xs6q_flc.fits', EXT=('SCI', 2) started at: 19:44:43.066 (14/08/2023)\n"
     ]
    },
    {
     "name": "stdout",
     "output_type": "stream",
     "text": [
      "  #  Source finding for 'j8xi0xs6q_flc.fits', EXT=('SCI', 2) started at: 19:44:43.066 (14/08/2023)\n"
     ]
    },
    {
     "name": "stderr",
     "output_type": "stream",
     "text": [
      "INFO:drizzlepac.catalogs:   Finding sources using sky sigma = 9.974127\n",
      "INFO:drizzlepac.catalogs:###Source finding finished at: 19:44:43.846 (14/08/2023)\n",
      "INFO:drizzlepac.catalogs:     Found 6119 objects.\n"
     ]
    },
    {
     "name": "stdout",
     "output_type": "stream",
     "text": [
      "     Found 6119 objects.\n"
     ]
    },
    {
     "name": "stderr",
     "output_type": "stream",
     "text": [
      "INFO:drizzlepac.imgclasses:===  FINAL number of objects in image 'j8xi0xs6q_flc.fits': 12242\n"
     ]
    },
    {
     "name": "stdout",
     "output_type": "stream",
     "text": [
      "===  FINAL number of objects in image 'j8xi0xs6q_flc.fits': 12242\n"
     ]
    },
    {
     "name": "stderr",
     "output_type": "stream",
     "text": [
      "INFO:drizzlepac.imgclasses:\n"
     ]
    },
    {
     "name": "stdout",
     "output_type": "stream",
     "text": [
      "\n"
     ]
    },
    {
     "name": "stderr",
     "output_type": "stream",
     "text": [
      "INFO:drizzlepac.imgclasses:===  Source finding for image 'j8xi0xs3q_flc.fits':\n"
     ]
    },
    {
     "name": "stdout",
     "output_type": "stream",
     "text": [
      "===  Source finding for image 'j8xi0xs3q_flc.fits':\n"
     ]
    },
    {
     "name": "stderr",
     "output_type": "stream",
     "text": [
      "INFO:drizzlepac.catalogs:  #  Source finding for 'j8xi0xs3q_flc.fits', EXT=('SCI', 1) started at: 19:44:45.042 (14/08/2023)\n"
     ]
    },
    {
     "name": "stdout",
     "output_type": "stream",
     "text": [
      "  #  Source finding for 'j8xi0xs3q_flc.fits', EXT=('SCI', 1) started at: 19:44:45.042 (14/08/2023)\n"
     ]
    },
    {
     "name": "stderr",
     "output_type": "stream",
     "text": [
      "INFO:drizzlepac.catalogs:   Finding sources using sky sigma = 10.041938\n",
      "INFO:drizzlepac.catalogs:###Source finding finished at: 19:44:45.764 (14/08/2023)\n",
      "INFO:drizzlepac.catalogs:     Found 4662 objects.\n"
     ]
    },
    {
     "name": "stdout",
     "output_type": "stream",
     "text": [
      "     Found 4662 objects.\n"
     ]
    },
    {
     "name": "stderr",
     "output_type": "stream",
     "text": [
      "INFO:drizzlepac.catalogs:  #  Source finding for 'j8xi0xs3q_flc.fits', EXT=('SCI', 2) started at: 19:44:45.857 (14/08/2023)\n"
     ]
    },
    {
     "name": "stdout",
     "output_type": "stream",
     "text": [
      "  #  Source finding for 'j8xi0xs3q_flc.fits', EXT=('SCI', 2) started at: 19:44:45.857 (14/08/2023)\n"
     ]
    },
    {
     "name": "stderr",
     "output_type": "stream",
     "text": [
      "INFO:drizzlepac.catalogs:   Finding sources using sky sigma = 10.016332\n",
      "INFO:drizzlepac.catalogs:###Source finding finished at: 19:44:46.729 (14/08/2023)\n",
      "INFO:drizzlepac.catalogs:     Found 4709 objects.\n"
     ]
    },
    {
     "name": "stdout",
     "output_type": "stream",
     "text": [
      "     Found 4709 objects.\n"
     ]
    },
    {
     "name": "stderr",
     "output_type": "stream",
     "text": [
      "INFO:drizzlepac.imgclasses:===  FINAL number of objects in image 'j8xi0xs3q_flc.fits': 9371\n"
     ]
    },
    {
     "name": "stdout",
     "output_type": "stream",
     "text": [
      "===  FINAL number of objects in image 'j8xi0xs3q_flc.fits': 9371\n"
     ]
    },
    {
     "name": "stderr",
     "output_type": "stream",
     "text": [
      "INFO:drizzlepac.imgclasses:\n"
     ]
    },
    {
     "name": "stdout",
     "output_type": "stream",
     "text": [
      "\n"
     ]
    },
    {
     "name": "stderr",
     "output_type": "stream",
     "text": [
      "INFO:drizzlepac.imgclasses:===  Source finding for image 'j8xi0xs0q_flc.fits':\n"
     ]
    },
    {
     "name": "stdout",
     "output_type": "stream",
     "text": [
      "===  Source finding for image 'j8xi0xs0q_flc.fits':\n"
     ]
    },
    {
     "name": "stderr",
     "output_type": "stream",
     "text": [
      "INFO:drizzlepac.catalogs:  #  Source finding for 'j8xi0xs0q_flc.fits', EXT=('SCI', 1) started at: 19:44:47.903 (14/08/2023)\n"
     ]
    },
    {
     "name": "stdout",
     "output_type": "stream",
     "text": [
      "  #  Source finding for 'j8xi0xs0q_flc.fits', EXT=('SCI', 1) started at: 19:44:47.903 (14/08/2023)\n"
     ]
    },
    {
     "name": "stderr",
     "output_type": "stream",
     "text": [
      "INFO:drizzlepac.catalogs:   Finding sources using sky sigma = 10.523051\n",
      "INFO:drizzlepac.catalogs:###Source finding finished at: 19:44:48.641 (14/08/2023)\n",
      "INFO:drizzlepac.catalogs:     Found 4919 objects.\n"
     ]
    },
    {
     "name": "stdout",
     "output_type": "stream",
     "text": [
      "     Found 4919 objects.\n"
     ]
    },
    {
     "name": "stderr",
     "output_type": "stream",
     "text": [
      "INFO:drizzlepac.catalogs:  #  Source finding for 'j8xi0xs0q_flc.fits', EXT=('SCI', 2) started at: 19:44:48.744 (14/08/2023)\n"
     ]
    },
    {
     "name": "stdout",
     "output_type": "stream",
     "text": [
      "  #  Source finding for 'j8xi0xs0q_flc.fits', EXT=('SCI', 2) started at: 19:44:48.744 (14/08/2023)\n"
     ]
    },
    {
     "name": "stderr",
     "output_type": "stream",
     "text": [
      "INFO:drizzlepac.catalogs:   Finding sources using sky sigma = 10.572939\n",
      "INFO:drizzlepac.catalogs:###Source finding finished at: 19:44:49.507 (14/08/2023)\n",
      "INFO:drizzlepac.catalogs:     Found 5177 objects.\n"
     ]
    },
    {
     "name": "stdout",
     "output_type": "stream",
     "text": [
      "     Found 5177 objects.\n"
     ]
    },
    {
     "name": "stderr",
     "output_type": "stream",
     "text": [
      "INFO:drizzlepac.imgclasses:===  FINAL number of objects in image 'j8xi0xs0q_flc.fits': 10096\n"
     ]
    },
    {
     "name": "stdout",
     "output_type": "stream",
     "text": [
      "===  FINAL number of objects in image 'j8xi0xs0q_flc.fits': 10096\n"
     ]
    },
    {
     "name": "stderr",
     "output_type": "stream",
     "text": [
      "INFO:drizzlepac.imgclasses:\n"
     ]
    },
    {
     "name": "stdout",
     "output_type": "stream",
     "text": [
      "\n"
     ]
    },
    {
     "name": "stderr",
     "output_type": "stream",
     "text": [
      "INFO:drizzlepac.imgclasses:Converting RA/Dec positions of reference sources from \"j8xi0xsaq_flc.fits\" to X,Y positions in reference WCS...\n",
      "INFO:drizzlepac.tweakreg:\n"
     ]
    },
    {
     "name": "stdout",
     "output_type": "stream",
     "text": [
      "\n"
     ]
    },
    {
     "name": "stderr",
     "output_type": "stream",
     "text": [
      "INFO:drizzlepac.tweakreg:===============================================================\n"
     ]
    },
    {
     "name": "stdout",
     "output_type": "stream",
     "text": [
      "===============================================================\n"
     ]
    },
    {
     "name": "stderr",
     "output_type": "stream",
     "text": [
      "INFO:drizzlepac.tweakreg:Performing alignment in the projection plane defined by the WCS\n"
     ]
    },
    {
     "name": "stdout",
     "output_type": "stream",
     "text": [
      "Performing alignment in the projection plane defined by the WCS\n"
     ]
    },
    {
     "name": "stderr",
     "output_type": "stream",
     "text": [
      "INFO:drizzlepac.tweakreg:derived from 'j8xi0xsaq_flc.fits'\n"
     ]
    },
    {
     "name": "stdout",
     "output_type": "stream",
     "text": [
      "derived from 'j8xi0xsaq_flc.fits'\n"
     ]
    },
    {
     "name": "stderr",
     "output_type": "stream",
     "text": [
      "INFO:drizzlepac.tweakreg:===============================================================\n"
     ]
    },
    {
     "name": "stdout",
     "output_type": "stream",
     "text": [
      "===============================================================\n"
     ]
    },
    {
     "name": "stderr",
     "output_type": "stream",
     "text": [
      "INFO:drizzlepac.tweakreg:\n"
     ]
    },
    {
     "name": "stdout",
     "output_type": "stream",
     "text": [
      "\n"
     ]
    },
    {
     "name": "stderr",
     "output_type": "stream",
     "text": [
      "INFO:drizzlepac.tweakreg:USER INPUT PARAMETERS for matching sources:\n",
      "INFO:drizzlepac.tweakreg:\tminobj :\t15\n",
      "INFO:drizzlepac.tweakreg:\tresidplot :\tboth\n",
      "INFO:drizzlepac.tweakreg:\tsearchrad :\t1.0\n",
      "INFO:drizzlepac.tweakreg:\tsearchunits :\tarcseconds\n",
      "INFO:drizzlepac.tweakreg:\tsee2dplot :\tTrue\n",
      "INFO:drizzlepac.tweakreg:\tseparation :\t0.5\n",
      "INFO:drizzlepac.tweakreg:\ttolerance :\t1.0\n",
      "INFO:drizzlepac.tweakreg:\tuse2dhist :\tTrue\n",
      "INFO:drizzlepac.tweakreg:\txoffset :\t0.0\n",
      "INFO:drizzlepac.tweakreg:\tyoffset :\t0.0\n",
      "INFO:drizzlepac.tweakreg:\n",
      "INFO:drizzlepac.tweakreg:USER INPUT PARAMETERS for fitting source lists:\n",
      "INFO:drizzlepac.tweakreg:\tfitgeometry :\trscale\n",
      "INFO:drizzlepac.tweakreg:\tlabelsize :\t8\n",
      "INFO:drizzlepac.tweakreg:\tminobj :\t15\n",
      "INFO:drizzlepac.tweakreg:\tnclip :\t3\n",
      "INFO:drizzlepac.tweakreg:\tresidplot :\tboth\n",
      "INFO:drizzlepac.tweakreg:\tsigma :\t3.0\n",
      "INFO:drizzlepac.tweakreg:\tylimit :\t0.4\n",
      "INFO:drizzlepac.tweakreg:\n",
      "INFO:drizzlepac.tweakreg:USER INPUT PARAMETERS for creating a shiftfile:\n",
      "INFO:drizzlepac.tweakreg:\toutshifts :\tshift814_flc_test1.txt\n",
      "INFO:drizzlepac.tweakreg:\toutwcs :\tshifts_wcs.fits\n",
      "INFO:drizzlepac.tweakreg:\tshiftfile :\tTrue\n",
      "INFO:drizzlepac.tweakreg:\n"
     ]
    },
    {
     "name": "stdout",
     "output_type": "stream",
     "text": [
      "\n"
     ]
    },
    {
     "name": "stderr",
     "output_type": "stream",
     "text": [
      "INFO:drizzlepac.tweakreg:====================\n"
     ]
    },
    {
     "name": "stdout",
     "output_type": "stream",
     "text": [
      "====================\n"
     ]
    },
    {
     "name": "stderr",
     "output_type": "stream",
     "text": [
      "INFO:drizzlepac.tweakreg:Performing fit for: j8xi0xs6q_flc.fits\n"
     ]
    },
    {
     "name": "stdout",
     "output_type": "stream",
     "text": [
      "Performing fit for: j8xi0xs6q_flc.fits\n"
     ]
    },
    {
     "name": "stderr",
     "output_type": "stream",
     "text": [
      "INFO:drizzlepac.tweakreg:\n"
     ]
    },
    {
     "name": "stdout",
     "output_type": "stream",
     "text": [
      "\n"
     ]
    },
    {
     "name": "stderr",
     "output_type": "stream",
     "text": [
      "INFO:drizzlepac.imgclasses:Matching sources from 'j8xi0xs6q_flc.fits' with sources from reference image 'j8xi0xsaq_flc.fits'\n"
     ]
    },
    {
     "name": "stdout",
     "output_type": "stream",
     "text": [
      "Matching sources from 'j8xi0xs6q_flc.fits' with sources from reference image 'j8xi0xsaq_flc.fits'\n"
     ]
    },
    {
     "name": "stderr",
     "output_type": "stream",
     "text": [
      "INFO:drizzlepac.imgclasses:Computing initial guess for X and Y shifts...\n"
     ]
    },
    {
     "name": "stdout",
     "output_type": "stream",
     "text": [
      "Computing initial guess for X and Y shifts...\n"
     ]
    },
    {
     "name": "stderr",
     "output_type": "stream",
     "text": [
      "INFO:drizzlepac.imgclasses:Found initial X and Y shifts of -0.1006, -0.2188 with significance of 18.53 and 385 matches\n"
     ]
    },
    {
     "name": "stdout",
     "output_type": "stream",
     "text": [
      "Found initial X and Y shifts of -0.1006, -0.2188 with significance of 18.53 and 385 matches\n"
     ]
    },
    {
     "name": "stderr",
     "output_type": "stream",
     "text": [
      "INFO:drizzlepac.imgclasses:Found 108 matches for j8xi0xs6q_flc.fits...\n"
     ]
    },
    {
     "name": "stdout",
     "output_type": "stream",
     "text": [
      "Found 108 matches for j8xi0xs6q_flc.fits...\n"
     ]
    },
    {
     "name": "stderr",
     "output_type": "stream",
     "text": [
      "INFO:drizzlepac.linearfit:Performing \"rscale\" fit\n",
      "INFO:drizzlepac.linearfit:Performing \"rscale\" fit\n",
      "INFO:drizzlepac.linearfit:Performing \"rscale\" fit\n",
      "INFO:drizzlepac.linearfit:Performing \"rscale\" fit\n",
      "INFO:drizzlepac.imgclasses:Computed  rscale  fit for  j8xi0xs6q_flc.fits : \n"
     ]
    },
    {
     "name": "stdout",
     "output_type": "stream",
     "text": [
      "Computed  rscale  fit for  j8xi0xs6q_flc.fits : \n"
     ]
    },
    {
     "name": "stderr",
     "output_type": "stream",
     "text": [
      "INFO:drizzlepac.imgclasses:XSH: -0.0991  YSH: -0.1297    ROT: 359.9994225    SCALE: 0.999943\n"
     ]
    },
    {
     "name": "stdout",
     "output_type": "stream",
     "text": [
      "XSH: -0.0991  YSH: -0.1297    ROT: 359.9994225    SCALE: 0.999943\n"
     ]
    },
    {
     "name": "stderr",
     "output_type": "stream",
     "text": [
      "INFO:drizzlepac.imgclasses:FIT XRMS: 0.39       FIT YRMS: 0.39   \n"
     ]
    },
    {
     "name": "stdout",
     "output_type": "stream",
     "text": [
      "FIT XRMS: 0.39       FIT YRMS: 0.39   \n"
     ]
    },
    {
     "name": "stderr",
     "output_type": "stream",
     "text": [
      "INFO:drizzlepac.imgclasses:FIT RMSE: 0.55       FIT MAE: 0.47   \n"
     ]
    },
    {
     "name": "stdout",
     "output_type": "stream",
     "text": [
      "FIT RMSE: 0.55       FIT MAE: 0.47   \n"
     ]
    },
    {
     "name": "stderr",
     "output_type": "stream",
     "text": [
      "INFO:drizzlepac.imgclasses:\n"
     ]
    },
    {
     "name": "stdout",
     "output_type": "stream",
     "text": [
      "\n"
     ]
    },
    {
     "name": "stderr",
     "output_type": "stream",
     "text": [
      "INFO:drizzlepac.imgclasses:RMS_RA: 6.3e-06 (deg)   RMS_DEC: 4.4e-06 (deg)\n"
     ]
    },
    {
     "name": "stdout",
     "output_type": "stream",
     "text": [
      "RMS_RA: 6.3e-06 (deg)   RMS_DEC: 4.4e-06 (deg)\n"
     ]
    },
    {
     "name": "stderr",
     "output_type": "stream",
     "text": [
      "INFO:drizzlepac.imgclasses:\n"
     ]
    },
    {
     "name": "stdout",
     "output_type": "stream",
     "text": [
      "\n"
     ]
    },
    {
     "name": "stderr",
     "output_type": "stream",
     "text": [
      "INFO:drizzlepac.imgclasses:Final solution based on  108  objects.\n"
     ]
    },
    {
     "name": "stdout",
     "output_type": "stream",
     "text": [
      "Final solution based on  108  objects.\n"
     ]
    },
    {
     "name": "stderr",
     "output_type": "stream",
     "text": [
      "INFO:drizzlepac.imgclasses:Creating catalog for the fit: j8xi0xs6q_flc_catalog_fit.match\n",
      "INFO:drizzlepac.tweakutils:wrote XY data to:  j8xi0xs6q_flc_catalog_fit.match\n"
     ]
    },
    {
     "name": "stdout",
     "output_type": "stream",
     "text": [
      "wrote XY data to:  j8xi0xs6q_flc_catalog_fit.match\n"
     ]
    },
    {
     "name": "stderr",
     "output_type": "stream",
     "text": [
      "INFO:drizzlepac.tweakutils:Total # points: 108\n"
     ]
    },
    {
     "name": "stdout",
     "output_type": "stream",
     "text": [
      "Total # points: 108\n"
     ]
    },
    {
     "name": "stderr",
     "output_type": "stream",
     "text": [
      "INFO:drizzlepac.tweakutils:# of points after clipping: 108\n"
     ]
    },
    {
     "name": "stdout",
     "output_type": "stream",
     "text": [
      "# of points after clipping: 108\n"
     ]
    },
    {
     "name": "stderr",
     "output_type": "stream",
     "text": [
      "INFO:drizzlepac.tweakutils:Total # points: 108\n"
     ]
    },
    {
     "name": "stdout",
     "output_type": "stream",
     "text": [
      "Total # points: 108\n"
     ]
    },
    {
     "name": "stderr",
     "output_type": "stream",
     "text": [
      "INFO:drizzlepac.tweakutils:# of points after clipping: 108\n"
     ]
    },
    {
     "name": "stdout",
     "output_type": "stream",
     "text": [
      "# of points after clipping: 108\n"
     ]
    },
    {
     "name": "stderr",
     "output_type": "stream",
     "text": [
      "INFO:drizzlepac.updatehdr:....Updating header for 'j8xi0xs6q_flc.fits' ...\n",
      "INFO:drizzlepac.updatehdr:Processing j8xi0xs6q_flc.fits['SCI',1]\n",
      "INFO:drizzlepac.updatehdr:Updating header for j8xi0xs6q_flc.fits[1]\n",
      "INFO:drizzlepac.updatehdr:Processing j8xi0xs6q_flc.fits['SCI',2]\n",
      "INFO:drizzlepac.updatehdr:Updating header for j8xi0xs6q_flc.fits[4]\n",
      "INFO:drizzlepac.tweakreg:\n"
     ]
    },
    {
     "name": "stdout",
     "output_type": "stream",
     "text": [
      "\n"
     ]
    },
    {
     "name": "stderr",
     "output_type": "stream",
     "text": [
      "INFO:drizzlepac.tweakreg:====================\n"
     ]
    },
    {
     "name": "stdout",
     "output_type": "stream",
     "text": [
      "====================\n"
     ]
    },
    {
     "name": "stderr",
     "output_type": "stream",
     "text": [
      "INFO:drizzlepac.tweakreg:Performing fit for: j8xi0xs3q_flc.fits\n"
     ]
    },
    {
     "name": "stdout",
     "output_type": "stream",
     "text": [
      "Performing fit for: j8xi0xs3q_flc.fits\n"
     ]
    },
    {
     "name": "stderr",
     "output_type": "stream",
     "text": [
      "INFO:drizzlepac.tweakreg:\n"
     ]
    },
    {
     "name": "stdout",
     "output_type": "stream",
     "text": [
      "\n"
     ]
    },
    {
     "name": "stderr",
     "output_type": "stream",
     "text": [
      "INFO:drizzlepac.imgclasses:Matching sources from 'j8xi0xs3q_flc.fits' with sources from reference image 'j8xi0xsaq_flc.fits'\n"
     ]
    },
    {
     "name": "stdout",
     "output_type": "stream",
     "text": [
      "Matching sources from 'j8xi0xs3q_flc.fits' with sources from reference image 'j8xi0xsaq_flc.fits'\n"
     ]
    },
    {
     "name": "stderr",
     "output_type": "stream",
     "text": [
      "INFO:drizzlepac.imgclasses:Computing initial guess for X and Y shifts...\n"
     ]
    },
    {
     "name": "stdout",
     "output_type": "stream",
     "text": [
      "Computing initial guess for X and Y shifts...\n"
     ]
    },
    {
     "name": "stderr",
     "output_type": "stream",
     "text": [
      "INFO:drizzlepac.imgclasses:Found initial X and Y shifts of -0.4703, -0.1052 with significance of 16.14 and 302 matches\n"
     ]
    },
    {
     "name": "stdout",
     "output_type": "stream",
     "text": [
      "Found initial X and Y shifts of -0.4703, -0.1052 with significance of 16.14 and 302 matches\n"
     ]
    },
    {
     "name": "stderr",
     "output_type": "stream",
     "text": [
      "INFO:drizzlepac.imgclasses:Found 77 matches for j8xi0xs3q_flc.fits...\n"
     ]
    },
    {
     "name": "stdout",
     "output_type": "stream",
     "text": [
      "Found 77 matches for j8xi0xs3q_flc.fits...\n"
     ]
    },
    {
     "name": "stderr",
     "output_type": "stream",
     "text": [
      "INFO:drizzlepac.linearfit:Performing \"rscale\" fit\n",
      "INFO:drizzlepac.linearfit:Performing \"rscale\" fit\n",
      "INFO:drizzlepac.linearfit:Performing \"rscale\" fit\n",
      "INFO:drizzlepac.linearfit:Performing \"rscale\" fit\n",
      "INFO:drizzlepac.imgclasses:Computed  rscale  fit for  j8xi0xs3q_flc.fits : \n"
     ]
    },
    {
     "name": "stdout",
     "output_type": "stream",
     "text": [
      "Computed  rscale  fit for  j8xi0xs3q_flc.fits : \n"
     ]
    },
    {
     "name": "stderr",
     "output_type": "stream",
     "text": [
      "INFO:drizzlepac.imgclasses:XSH: -0.2067  YSH: 0.0854    ROT: 359.9988654    SCALE: 1.000048\n"
     ]
    },
    {
     "name": "stdout",
     "output_type": "stream",
     "text": [
      "XSH: -0.2067  YSH: 0.0854    ROT: 359.9988654    SCALE: 1.000048\n"
     ]
    },
    {
     "name": "stderr",
     "output_type": "stream",
     "text": [
      "INFO:drizzlepac.imgclasses:FIT XRMS: 0.46       FIT YRMS: 0.3    \n"
     ]
    },
    {
     "name": "stdout",
     "output_type": "stream",
     "text": [
      "FIT XRMS: 0.46       FIT YRMS: 0.3    \n"
     ]
    },
    {
     "name": "stderr",
     "output_type": "stream",
     "text": [
      "INFO:drizzlepac.imgclasses:FIT RMSE: 0.55       FIT MAE: 0.49   \n"
     ]
    },
    {
     "name": "stdout",
     "output_type": "stream",
     "text": [
      "FIT RMSE: 0.55       FIT MAE: 0.49   \n"
     ]
    },
    {
     "name": "stderr",
     "output_type": "stream",
     "text": [
      "INFO:drizzlepac.imgclasses:\n"
     ]
    },
    {
     "name": "stdout",
     "output_type": "stream",
     "text": [
      "\n"
     ]
    },
    {
     "name": "stderr",
     "output_type": "stream",
     "text": [
      "INFO:drizzlepac.imgclasses:RMS_RA: 5.3e-06 (deg)   RMS_DEC: 5.6e-06 (deg)\n"
     ]
    },
    {
     "name": "stdout",
     "output_type": "stream",
     "text": [
      "RMS_RA: 5.3e-06 (deg)   RMS_DEC: 5.6e-06 (deg)\n"
     ]
    },
    {
     "name": "stderr",
     "output_type": "stream",
     "text": [
      "INFO:drizzlepac.imgclasses:\n"
     ]
    },
    {
     "name": "stdout",
     "output_type": "stream",
     "text": [
      "\n"
     ]
    },
    {
     "name": "stderr",
     "output_type": "stream",
     "text": [
      "INFO:drizzlepac.imgclasses:Final solution based on  77  objects.\n"
     ]
    },
    {
     "name": "stdout",
     "output_type": "stream",
     "text": [
      "Final solution based on  77  objects.\n"
     ]
    },
    {
     "name": "stderr",
     "output_type": "stream",
     "text": [
      "INFO:drizzlepac.imgclasses:Creating catalog for the fit: j8xi0xs3q_flc_catalog_fit.match\n",
      "INFO:drizzlepac.tweakutils:wrote XY data to:  j8xi0xs3q_flc_catalog_fit.match\n"
     ]
    },
    {
     "name": "stdout",
     "output_type": "stream",
     "text": [
      "wrote XY data to:  j8xi0xs3q_flc_catalog_fit.match\n"
     ]
    },
    {
     "name": "stderr",
     "output_type": "stream",
     "text": [
      "INFO:drizzlepac.tweakutils:Total # points: 77\n"
     ]
    },
    {
     "name": "stdout",
     "output_type": "stream",
     "text": [
      "Total # points: 77\n"
     ]
    },
    {
     "name": "stderr",
     "output_type": "stream",
     "text": [
      "INFO:drizzlepac.tweakutils:# of points after clipping: 77\n"
     ]
    },
    {
     "name": "stdout",
     "output_type": "stream",
     "text": [
      "# of points after clipping: 77\n"
     ]
    },
    {
     "name": "stderr",
     "output_type": "stream",
     "text": [
      "INFO:drizzlepac.tweakutils:Total # points: 77\n"
     ]
    },
    {
     "name": "stdout",
     "output_type": "stream",
     "text": [
      "Total # points: 77\n"
     ]
    },
    {
     "name": "stderr",
     "output_type": "stream",
     "text": [
      "INFO:drizzlepac.tweakutils:# of points after clipping: 77\n"
     ]
    },
    {
     "name": "stdout",
     "output_type": "stream",
     "text": [
      "# of points after clipping: 77\n"
     ]
    },
    {
     "name": "stderr",
     "output_type": "stream",
     "text": [
      "INFO:drizzlepac.updatehdr:....Updating header for 'j8xi0xs3q_flc.fits' ...\n",
      "INFO:drizzlepac.updatehdr:Processing j8xi0xs3q_flc.fits['SCI',1]\n",
      "INFO:drizzlepac.updatehdr:Updating header for j8xi0xs3q_flc.fits[1]\n",
      "INFO:drizzlepac.updatehdr:Processing j8xi0xs3q_flc.fits['SCI',2]\n",
      "INFO:drizzlepac.updatehdr:Updating header for j8xi0xs3q_flc.fits[4]\n",
      "INFO:drizzlepac.tweakreg:\n"
     ]
    },
    {
     "name": "stdout",
     "output_type": "stream",
     "text": [
      "\n"
     ]
    },
    {
     "name": "stderr",
     "output_type": "stream",
     "text": [
      "INFO:drizzlepac.tweakreg:====================\n"
     ]
    },
    {
     "name": "stdout",
     "output_type": "stream",
     "text": [
      "====================\n"
     ]
    },
    {
     "name": "stderr",
     "output_type": "stream",
     "text": [
      "INFO:drizzlepac.tweakreg:Performing fit for: j8xi0xs0q_flc.fits\n"
     ]
    },
    {
     "name": "stdout",
     "output_type": "stream",
     "text": [
      "Performing fit for: j8xi0xs0q_flc.fits\n"
     ]
    },
    {
     "name": "stderr",
     "output_type": "stream",
     "text": [
      "INFO:drizzlepac.tweakreg:\n"
     ]
    },
    {
     "name": "stdout",
     "output_type": "stream",
     "text": [
      "\n"
     ]
    },
    {
     "name": "stderr",
     "output_type": "stream",
     "text": [
      "INFO:drizzlepac.imgclasses:Matching sources from 'j8xi0xs0q_flc.fits' with sources from reference image 'j8xi0xsaq_flc.fits'\n"
     ]
    },
    {
     "name": "stdout",
     "output_type": "stream",
     "text": [
      "Matching sources from 'j8xi0xs0q_flc.fits' with sources from reference image 'j8xi0xsaq_flc.fits'\n"
     ]
    },
    {
     "name": "stderr",
     "output_type": "stream",
     "text": [
      "INFO:drizzlepac.imgclasses:Computing initial guess for X and Y shifts...\n"
     ]
    },
    {
     "name": "stdout",
     "output_type": "stream",
     "text": [
      "Computing initial guess for X and Y shifts...\n"
     ]
    },
    {
     "name": "stderr",
     "output_type": "stream",
     "text": [
      "INFO:drizzlepac.imgclasses:Found initial X and Y shifts of 0.1965, -7.899e-11 with significance of 15.25 and 305 matches\n"
     ]
    },
    {
     "name": "stdout",
     "output_type": "stream",
     "text": [
      "Found initial X and Y shifts of 0.1965, -7.899e-11 with significance of 15.25 and 305 matches\n"
     ]
    },
    {
     "name": "stderr",
     "output_type": "stream",
     "text": [
      "INFO:drizzlepac.imgclasses:Found 80 matches for j8xi0xs0q_flc.fits...\n"
     ]
    },
    {
     "name": "stdout",
     "output_type": "stream",
     "text": [
      "Found 80 matches for j8xi0xs0q_flc.fits...\n"
     ]
    },
    {
     "name": "stderr",
     "output_type": "stream",
     "text": [
      "INFO:drizzlepac.linearfit:Performing \"rscale\" fit\n",
      "INFO:drizzlepac.linearfit:Performing \"rscale\" fit\n",
      "INFO:drizzlepac.linearfit:Performing \"rscale\" fit\n",
      "INFO:drizzlepac.linearfit:Performing \"rscale\" fit\n",
      "INFO:drizzlepac.imgclasses:Computed  rscale  fit for  j8xi0xs0q_flc.fits : \n"
     ]
    },
    {
     "name": "stdout",
     "output_type": "stream",
     "text": [
      "Computed  rscale  fit for  j8xi0xs0q_flc.fits : \n"
     ]
    },
    {
     "name": "stderr",
     "output_type": "stream",
     "text": [
      "INFO:drizzlepac.imgclasses:XSH: 0.1857  YSH: 0.1734    ROT: 0.000923387135    SCALE: 1.000027\n"
     ]
    },
    {
     "name": "stdout",
     "output_type": "stream",
     "text": [
      "XSH: 0.1857  YSH: 0.1734    ROT: 0.000923387135    SCALE: 1.000027\n"
     ]
    },
    {
     "name": "stderr",
     "output_type": "stream",
     "text": [
      "INFO:drizzlepac.imgclasses:FIT XRMS: 0.38       FIT YRMS: 0.29   \n"
     ]
    },
    {
     "name": "stdout",
     "output_type": "stream",
     "text": [
      "FIT XRMS: 0.38       FIT YRMS: 0.29   \n"
     ]
    },
    {
     "name": "stderr",
     "output_type": "stream",
     "text": [
      "INFO:drizzlepac.imgclasses:FIT RMSE: 0.47       FIT MAE: 0.37   \n"
     ]
    },
    {
     "name": "stdout",
     "output_type": "stream",
     "text": [
      "FIT RMSE: 0.47       FIT MAE: 0.37   \n"
     ]
    },
    {
     "name": "stderr",
     "output_type": "stream",
     "text": [
      "INFO:drizzlepac.imgclasses:\n"
     ]
    },
    {
     "name": "stdout",
     "output_type": "stream",
     "text": [
      "\n"
     ]
    },
    {
     "name": "stderr",
     "output_type": "stream",
     "text": [
      "INFO:drizzlepac.imgclasses:RMS_RA: 4.9e-06 (deg)   RMS_DEC: 4.4e-06 (deg)\n"
     ]
    },
    {
     "name": "stdout",
     "output_type": "stream",
     "text": [
      "RMS_RA: 4.9e-06 (deg)   RMS_DEC: 4.4e-06 (deg)\n"
     ]
    },
    {
     "name": "stderr",
     "output_type": "stream",
     "text": [
      "INFO:drizzlepac.imgclasses:\n"
     ]
    },
    {
     "name": "stdout",
     "output_type": "stream",
     "text": [
      "\n"
     ]
    },
    {
     "name": "stderr",
     "output_type": "stream",
     "text": [
      "INFO:drizzlepac.imgclasses:Final solution based on  78  objects.\n"
     ]
    },
    {
     "name": "stdout",
     "output_type": "stream",
     "text": [
      "Final solution based on  78  objects.\n"
     ]
    },
    {
     "name": "stderr",
     "output_type": "stream",
     "text": [
      "INFO:drizzlepac.imgclasses:Creating catalog for the fit: j8xi0xs0q_flc_catalog_fit.match\n",
      "INFO:drizzlepac.tweakutils:wrote XY data to:  j8xi0xs0q_flc_catalog_fit.match\n"
     ]
    },
    {
     "name": "stdout",
     "output_type": "stream",
     "text": [
      "wrote XY data to:  j8xi0xs0q_flc_catalog_fit.match\n"
     ]
    },
    {
     "name": "stderr",
     "output_type": "stream",
     "text": [
      "INFO:drizzlepac.tweakutils:Total # points: 78\n"
     ]
    },
    {
     "name": "stdout",
     "output_type": "stream",
     "text": [
      "Total # points: 78\n"
     ]
    },
    {
     "name": "stderr",
     "output_type": "stream",
     "text": [
      "INFO:drizzlepac.tweakutils:# of points after clipping: 78\n"
     ]
    },
    {
     "name": "stdout",
     "output_type": "stream",
     "text": [
      "# of points after clipping: 78\n"
     ]
    },
    {
     "name": "stderr",
     "output_type": "stream",
     "text": [
      "INFO:drizzlepac.tweakutils:Total # points: 78\n"
     ]
    },
    {
     "name": "stdout",
     "output_type": "stream",
     "text": [
      "Total # points: 78\n"
     ]
    },
    {
     "name": "stderr",
     "output_type": "stream",
     "text": [
      "INFO:drizzlepac.tweakutils:# of points after clipping: 78\n"
     ]
    },
    {
     "name": "stdout",
     "output_type": "stream",
     "text": [
      "# of points after clipping: 78\n"
     ]
    },
    {
     "name": "stderr",
     "output_type": "stream",
     "text": [
      "INFO:drizzlepac.updatehdr:....Updating header for 'j8xi0xs0q_flc.fits' ...\n",
      "INFO:drizzlepac.updatehdr:Processing j8xi0xs0q_flc.fits['SCI',1]\n",
      "INFO:drizzlepac.updatehdr:Updating header for j8xi0xs0q_flc.fits[1]\n",
      "INFO:drizzlepac.updatehdr:Processing j8xi0xs0q_flc.fits['SCI',2]\n",
      "INFO:drizzlepac.updatehdr:Updating header for j8xi0xs0q_flc.fits[4]\n",
      "INFO:drizzlepac.tweakutils:Writing out shiftfile : shift814_flc_test1.txt\n"
     ]
    },
    {
     "name": "stdout",
     "output_type": "stream",
     "text": [
      "Writing out shiftfile : shift814_flc_test1.txt\n"
     ]
    },
    {
     "name": "stderr",
     "output_type": "stream",
     "text": [
      "INFO:drizzlepac.util:Trailer file written to:  tweakreg.log\n"
     ]
    },
    {
     "name": "stdout",
     "output_type": "stream",
     "text": [
      "Trailer file written to:  tweakreg.log\n"
     ]
    },
    {
     "data": {
      "image/png": "[encoded data removed]",
      "text/plain": [
       "<Figure size 640x480 with 2 Axes>"
      ]
     },
     "metadata": {},
     "output_type": "display_data"
    },
    {
     "data": {
      "image/png": "[encoded data removed]",
      "text/plain": [
       "<Figure size 640x480 with 1 Axes>"
      ]
     },
     "metadata": {},
     "output_type": "display_data"
    },
    {
     "data": {
      "image/png": "[encoded data removed]",
      "text/plain": [
       "<Figure size 640x480 with 4 Axes>"
      ]
     },
     "metadata": {},
     "output_type": "display_data"
    }
   ],
   "source": [
    "tweakreg.TweakReg('@input_flc.list',\n",
    "                  imagefindcfg={'threshold': 100,'conv_width': 3.5},\n",
    "                  shiftfile=True, outshifts='shift814_flc_test1.txt',\n",
    "                  updatehdr=False, interactive=False, ylimit=0.4)"
   ]
  },
  {
   "cell_type": "code",
   "execution_count": 5,
   "metadata": {
    "execution": {
     "iopub.execute_input": "2023-08-14T19:45:02.591807Z",
     "iopub.status.busy": "2023-08-14T19:45:02.591308Z",
     "iopub.status.idle": "2023-08-14T19:45:02.596261Z",
     "shell.execute_reply": "2023-08-14T19:45:02.595565Z"
    }
   },
   "outputs": [],
   "source": [
    "# Give the 'fit residual plots' a unique name for comparison with other tests.\n",
    "residual_pngs = glob.glob(\"residual*png\")\n",
    "for png in residual_pngs: \n",
    "    path = os.path.abspath(os.path.join(os.curdir, png))\n",
    "    new_path = os.path.abspath(os.path.join(os.curdir, 'test1_{}'.format(png)))\n",
    "    os.rename(path, new_path)"
   ]
  },
  {
   "cell_type": "markdown",
   "metadata": {},
   "source": [
    "To verify that TweakReg has found a good fit, it is important to inspect the fit residuals. Below are the dx,dy residuals for each FLC file with respect to the reference image `j8xi0xsaq_flc.fits`. TweakReg finds >100 matches per frame, but the RMS of the fit residuals is quite large, ~0.7 pixels, and the points are not nicely clustered around dx,dy=0.0, as expected for a good fit."
   ]
  },
  {
   "cell_type": "code",
   "execution_count": 6,
   "metadata": {
    "execution": {
     "iopub.execute_input": "2023-08-14T19:45:02.599218Z",
     "iopub.status.busy": "2023-08-14T19:45:02.598812Z",
     "iopub.status.idle": "2023-08-14T19:45:02.604136Z",
     "shell.execute_reply": "2023-08-14T19:45:02.603484Z"
    }
   },
   "outputs": [
    {
     "data": {
      "image/png": "[encoded data removed]",
      "text/plain": [
       "<IPython.core.display.Image object>"
      ]
     },
     "execution_count": 6,
     "metadata": {},
     "output_type": "execute_result"
    }
   ],
   "source": [
    "Image(filename='test1_residuals_j8xi0xs0q_flc.png')"
   ]
  },
  {
   "cell_type": "code",
   "execution_count": 7,
   "metadata": {
    "execution": {
     "iopub.execute_input": "2023-08-14T19:45:02.607348Z",
     "iopub.status.busy": "2023-08-14T19:45:02.606914Z",
     "iopub.status.idle": "2023-08-14T19:45:02.612224Z",
     "shell.execute_reply": "2023-08-14T19:45:02.611601Z"
    }
   },
   "outputs": [
    {
     "data": {
      "image/png": "[encoded data removed]",
      "text/plain": [
       "<IPython.core.display.Image object>"
      ]
     },
     "execution_count": 7,
     "metadata": {},
     "output_type": "execute_result"
    }
   ],
   "source": [
    "Image(filename='test1_residuals_j8xi0xs3q_flc.png')"
   ]
  },
  {
   "cell_type": "code",
   "execution_count": 8,
   "metadata": {
    "execution": {
     "iopub.execute_input": "2023-08-14T19:45:02.615256Z",
     "iopub.status.busy": "2023-08-14T19:45:02.614852Z",
     "iopub.status.idle": "2023-08-14T19:45:02.620384Z",
     "shell.execute_reply": "2023-08-14T19:45:02.619702Z"
    }
   },
   "outputs": [
    {
     "data": {
      "image/png": "[encoded data removed]",
      "text/plain": [
       "<IPython.core.display.Image object>"
      ]
     },
     "execution_count": 8,
     "metadata": {},
     "output_type": "execute_result"
    }
   ],
   "source": [
    "Image(filename='test1_residuals_j8xi0xs6q_flc.png')"
   ]
  },
  {
   "cell_type": "code",
   "execution_count": 9,
   "metadata": {
    "execution": {
     "iopub.execute_input": "2023-08-14T19:45:02.623611Z",
     "iopub.status.busy": "2023-08-14T19:45:02.623194Z",
     "iopub.status.idle": "2023-08-14T19:45:02.636055Z",
     "shell.execute_reply": "2023-08-14T19:45:02.635391Z"
    }
   },
   "outputs": [
    {
     "data": {
      "text/html": [
       "<div><i>Table length=4</i>\n",
       "<table id=\"table140580525502224\" class=\"table-striped table-bordered table-condensed\">\n",
       "<thead><tr><th>file</th><th>dx</th><th>dy</th><th>rot</th><th>scale</th><th>xrms</th><th>yrms</th></tr></thead>\n",
       "<thead><tr><th>str18</th><th>float64</th><th>float64</th><th>float64</th><th>float64</th><th>float64</th><th>float64</th></tr></thead>\n",
       "<tr><td>j8xi0xsaq_flc.fits</td><td>0.00</td><td>0.00</td><td>0.000</td><td>1.00000</td><td>0.00</td><td>0.00</td></tr>\n",
       "<tr><td>j8xi0xs6q_flc.fits</td><td>-0.10</td><td>-0.13</td><td>359.999</td><td>0.99994</td><td>0.39</td><td>0.39</td></tr>\n",
       "<tr><td>j8xi0xs3q_flc.fits</td><td>-0.21</td><td>0.09</td><td>359.999</td><td>1.00005</td><td>0.46</td><td>0.30</td></tr>\n",
       "<tr><td>j8xi0xs0q_flc.fits</td><td>0.19</td><td>0.17</td><td>0.001</td><td>1.00003</td><td>0.38</td><td>0.29</td></tr>\n",
       "</table></div>"
      ],
      "text/plain": [
       "<Table length=4>\n",
       "       file           dx      dy     rot    scale    xrms    yrms \n",
       "      str18        float64 float64 float64 float64 float64 float64\n",
       "------------------ ------- ------- ------- ------- ------- -------\n",
       "j8xi0xsaq_flc.fits    0.00    0.00   0.000 1.00000    0.00    0.00\n",
       "j8xi0xs6q_flc.fits   -0.10   -0.13 359.999 0.99994    0.39    0.39\n",
       "j8xi0xs3q_flc.fits   -0.21    0.09 359.999 1.00005    0.46    0.30\n",
       "j8xi0xs0q_flc.fits    0.19    0.17   0.001 1.00003    0.38    0.29"
      ]
     },
     "execution_count": 9,
     "metadata": {},
     "output_type": "execute_result"
    }
   ],
   "source": [
    "# Inspect the shift file for Test1\n",
    "shift_table = Table.read('shift814_flc_test1.txt', format='ascii.no_header',\n",
    "               names=['file', 'dx', 'dy', 'rot', 'scale', 'xrms', 'yrms'])\n",
    "formats = ['.2f', '.2f', '.3f', '.5f', '.2f', '.2f']\n",
    "for i, col in enumerate(shift_table.colnames[1: ]):\n",
    "    shift_table[col].format = formats[i]\n",
    "shift_table"
   ]
  },
  {
   "cell_type": "markdown",
   "metadata": {},
   "source": [
    "## 3b. Adjust `conv_width` to find extended objects (Test 2)\n",
    "\n",
    "In order for TweakReg to use compact galaxies rather than point sources for alignment, we increase the convolution kernel width parameter `conv_width` from 3.5 to 6.0 pixels in order to find sources with a FWHM ~3 pixels in the FLC frames."
   ]
  },
  {
   "cell_type": "code",
   "execution_count": 10,
   "metadata": {
    "execution": {
     "iopub.execute_input": "2023-08-14T19:45:02.639260Z",
     "iopub.status.busy": "2023-08-14T19:45:02.638856Z",
     "iopub.status.idle": "2023-08-14T19:45:17.952044Z",
     "shell.execute_reply": "2023-08-14T19:45:17.951428Z"
    }
   },
   "outputs": [
    {
     "name": "stderr",
     "output_type": "stream",
     "text": [
      "INFO:drizzlepac.util:Setting up logfile :  tweakreg.log\n"
     ]
    },
    {
     "name": "stdout",
     "output_type": "stream",
     "text": [
      "Setting up logfile :  tweakreg.log\n"
     ]
    },
    {
     "name": "stderr",
     "output_type": "stream",
     "text": [
      "INFO:drizzlepac.tweakreg:TweakReg Version 3.5.1 started at: 19:45:02.690 (14/08/2023) \n"
     ]
    },
    {
     "name": "stdout",
     "output_type": "stream",
     "text": [
      "TweakReg Version 3.5.1 started at: 19:45:02.690 (14/08/2023) \n"
     ]
    },
    {
     "name": "stderr",
     "output_type": "stream",
     "text": [
      "INFO:drizzlepac.tweakreg:\n"
     ]
    },
    {
     "name": "stdout",
     "output_type": "stream",
     "text": [
      "\n"
     ]
    },
    {
     "name": "stderr",
     "output_type": "stream",
     "text": [
      "INFO:drizzlepac.util:Version Information\n"
     ]
    },
    {
     "name": "stdout",
     "output_type": "stream",
     "text": [
      "Version Information\n"
     ]
    },
    {
     "name": "stderr",
     "output_type": "stream",
     "text": [
      "INFO:drizzlepac.util:--------------------\n"
     ]
    },
    {
     "name": "stdout",
     "output_type": "stream",
     "text": [
      "--------------------\n"
     ]
    },
    {
     "name": "stderr",
     "output_type": "stream",
     "text": [
      "INFO:drizzlepac.util:Python Version 3.11.4 (main, Jun  7 2023, 11:01:02) [GCC 11.3.0]\n"
     ]
    },
    {
     "name": "stdout",
     "output_type": "stream",
     "text": [
      "Python Version 3.11.4 (main, Jun  7 2023, 11:01:02) [GCC 11.3.0]\n"
     ]
    },
    {
     "name": "stderr",
     "output_type": "stream",
     "text": [
      "INFO:drizzlepac.util:numpy Version -> 1.25.2 \n"
     ]
    },
    {
     "name": "stdout",
     "output_type": "stream",
     "text": [
      "numpy Version -> 1.25.2 \n"
     ]
    },
    {
     "name": "stderr",
     "output_type": "stream",
     "text": [
      "INFO:drizzlepac.util:astropy Version -> 5.2.1 \n"
     ]
    },
    {
     "name": "stdout",
     "output_type": "stream",
     "text": [
      "astropy Version -> 5.2.1 \n"
     ]
    },
    {
     "name": "stderr",
     "output_type": "stream",
     "text": [
      "INFO:drizzlepac.util:stwcs Version -> 1.7.2 \n"
     ]
    },
    {
     "name": "stdout",
     "output_type": "stream",
     "text": [
      "stwcs Version -> 1.7.2 \n"
     ]
    },
    {
     "name": "stderr",
     "output_type": "stream",
     "text": [
      "INFO:drizzlepac.util:photutils Version -> 1.8.0 \n"
     ]
    },
    {
     "name": "stdout",
     "output_type": "stream",
     "text": [
      "photutils Version -> 1.8.0 \n"
     ]
    },
    {
     "name": "stderr",
     "output_type": "stream",
     "text": [
      "INFO:drizzlepac.tweakreg:\n",
      "INFO:drizzlepac.tweakreg:USER INPUT PARAMETERS common to all Processing Steps:\n",
      "INFO:drizzlepac.tweakreg:\tclean :\tFalse\n",
      "INFO:drizzlepac.tweakreg:\tenforce_user_order :\tTrue\n",
      "INFO:drizzlepac.tweakreg:\texclusions :\t\n",
      "INFO:drizzlepac.tweakreg:\texpand_refcat :\tFalse\n",
      "INFO:drizzlepac.tweakreg:\tinput :\t@input_flc.list\n",
      "INFO:drizzlepac.tweakreg:\tinteractive :\tFalse\n",
      "INFO:drizzlepac.tweakreg:\trefimage :\t\n",
      "INFO:drizzlepac.tweakreg:\trunfile :\ttweakreg.log\n",
      "INFO:drizzlepac.tweakreg:\tupdatewcs :\tFalse\n",
      "INFO:drizzlepac.tweakreg:\tverbose :\tFalse\n",
      "INFO:drizzlepac.tweakreg:\twritecat :\tTrue\n",
      "INFO:drizzlepac.tweakutils:j8xi0xsaq_flc.fits   \n"
     ]
    },
    {
     "name": "stdout",
     "output_type": "stream",
     "text": [
      "j8xi0xsaq_flc.fits   \n"
     ]
    },
    {
     "name": "stderr",
     "output_type": "stream",
     "text": [
      "INFO:drizzlepac.tweakutils:\n"
     ]
    },
    {
     "name": "stdout",
     "output_type": "stream",
     "text": [
      "\n"
     ]
    },
    {
     "name": "stderr",
     "output_type": "stream",
     "text": [
      "INFO:drizzlepac.tweakreg:\n"
     ]
    },
    {
     "name": "stdout",
     "output_type": "stream",
     "text": [
      "\n"
     ]
    },
    {
     "name": "stderr",
     "output_type": "stream",
     "text": [
      "INFO:drizzlepac.tweakreg:Finding shifts for: \n"
     ]
    },
    {
     "name": "stdout",
     "output_type": "stream",
     "text": [
      "Finding shifts for: \n"
     ]
    },
    {
     "name": "stderr",
     "output_type": "stream",
     "text": [
      "INFO:drizzlepac.tweakreg:    j8xi0xsaq_flc.fits\n"
     ]
    },
    {
     "name": "stdout",
     "output_type": "stream",
     "text": [
      "    j8xi0xsaq_flc.fits\n"
     ]
    },
    {
     "name": "stderr",
     "output_type": "stream",
     "text": [
      "INFO:drizzlepac.tweakreg:    j8xi0xs6q_flc.fits\n"
     ]
    },
    {
     "name": "stdout",
     "output_type": "stream",
     "text": [
      "    j8xi0xs6q_flc.fits\n"
     ]
    },
    {
     "name": "stderr",
     "output_type": "stream",
     "text": [
      "INFO:drizzlepac.tweakreg:    j8xi0xs3q_flc.fits\n"
     ]
    },
    {
     "name": "stdout",
     "output_type": "stream",
     "text": [
      "    j8xi0xs3q_flc.fits\n"
     ]
    },
    {
     "name": "stderr",
     "output_type": "stream",
     "text": [
      "INFO:drizzlepac.tweakreg:    j8xi0xs0q_flc.fits\n"
     ]
    },
    {
     "name": "stdout",
     "output_type": "stream",
     "text": [
      "    j8xi0xs0q_flc.fits\n"
     ]
    },
    {
     "name": "stderr",
     "output_type": "stream",
     "text": [
      "INFO:drizzlepac.tweakreg:\n"
     ]
    },
    {
     "name": "stdout",
     "output_type": "stream",
     "text": [
      "\n"
     ]
    },
    {
     "name": "stderr",
     "output_type": "stream",
     "text": [
      "INFO:drizzlepac.tweakreg:USER INPUT PARAMETERS for finding sources for each input image:\n",
      "INFO:drizzlepac.tweakreg:\tclean :\tFalse\n",
      "INFO:drizzlepac.tweakreg:\tcomputesig :\tTrue\n",
      "INFO:drizzlepac.tweakreg:\tconv_width :\t6.0\n",
      "INFO:drizzlepac.tweakreg:\tdqbits :\t\n",
      "INFO:drizzlepac.tweakreg:\tenforce_user_order :\tTrue\n",
      "INFO:drizzlepac.tweakreg:\texpand_refcat :\tFalse\n",
      "INFO:drizzlepac.tweakreg:\tfluxmax :\tNone\n",
      "INFO:drizzlepac.tweakreg:\tfluxmin :\tNone\n",
      "INFO:drizzlepac.tweakreg:\tinput :\t@input_flc.list\n",
      "INFO:drizzlepac.tweakreg:\tinteractive :\tFalse\n",
      "INFO:drizzlepac.tweakreg:\tnsigma :\t1.5\n",
      "INFO:drizzlepac.tweakreg:\tpeakmax :\tNone\n",
      "INFO:drizzlepac.tweakreg:\tpeakmin :\tNone\n",
      "INFO:drizzlepac.tweakreg:\tratio :\t1.0\n",
      "INFO:drizzlepac.tweakreg:\trefimage :\t\n",
      "INFO:drizzlepac.tweakreg:\troundhi :\t1.0\n",
      "INFO:drizzlepac.tweakreg:\troundlo :\t-1.0\n",
      "INFO:drizzlepac.tweakreg:\trunfile :\ttweakreg.log\n",
      "INFO:drizzlepac.tweakreg:\tsharphi :\t1.0\n",
      "INFO:drizzlepac.tweakreg:\tsharplo :\t0.2\n",
      "INFO:drizzlepac.tweakreg:\tskysigma :\t0.0\n",
      "INFO:drizzlepac.tweakreg:\ttheta :\t0.0\n",
      "INFO:drizzlepac.tweakreg:\tthreshold :\t100\n",
      "INFO:drizzlepac.tweakreg:\tupdatehdr :\tFalse\n",
      "INFO:drizzlepac.tweakreg:\tupdatewcs :\tFalse\n",
      "INFO:drizzlepac.tweakreg:\tuse_sharp_round :\tFalse\n",
      "INFO:drizzlepac.tweakreg:\tverbose :\tFalse\n",
      "INFO:drizzlepac.tweakreg:\twritecat :\tTrue\n",
      "INFO:drizzlepac.tweakreg:\txyunits :\tpixels\n",
      "INFO:drizzlepac.tweakreg:\n",
      "INFO:drizzlepac.imgclasses:===  Source finding for image 'j8xi0xsaq_flc.fits':\n"
     ]
    },
    {
     "name": "stdout",
     "output_type": "stream",
     "text": [
      "===  Source finding for image 'j8xi0xsaq_flc.fits':\n"
     ]
    },
    {
     "name": "stderr",
     "output_type": "stream",
     "text": [
      "INFO:drizzlepac.catalogs:  #  Source finding for 'j8xi0xsaq_flc.fits', EXT=('SCI', 1) started at: 19:45:02.865 (14/08/2023)\n"
     ]
    },
    {
     "name": "stdout",
     "output_type": "stream",
     "text": [
      "  #  Source finding for 'j8xi0xsaq_flc.fits', EXT=('SCI', 1) started at: 19:45:02.865 (14/08/2023)\n"
     ]
    },
    {
     "name": "stderr",
     "output_type": "stream",
     "text": [
      "INFO:drizzlepac.catalogs:   Finding sources using sky sigma = 10.055177\n",
      "INFO:drizzlepac.catalogs:###Source finding finished at: 19:45:04.086 (14/08/2023)\n",
      "INFO:drizzlepac.catalogs:     Found 2702 objects.\n"
     ]
    },
    {
     "name": "stdout",
     "output_type": "stream",
     "text": [
      "     Found 2702 objects.\n"
     ]
    },
    {
     "name": "stderr",
     "output_type": "stream",
     "text": [
      "INFO:drizzlepac.catalogs:  #  Source finding for 'j8xi0xsaq_flc.fits', EXT=('SCI', 2) started at: 19:45:04.17 (14/08/2023)\n"
     ]
    },
    {
     "name": "stdout",
     "output_type": "stream",
     "text": [
      "  #  Source finding for 'j8xi0xsaq_flc.fits', EXT=('SCI', 2) started at: 19:45:04.17 (14/08/2023)\n"
     ]
    },
    {
     "name": "stderr",
     "output_type": "stream",
     "text": [
      "INFO:drizzlepac.catalogs:   Finding sources using sky sigma = 9.991610\n",
      "INFO:drizzlepac.catalogs:###Source finding finished at: 19:45:05.239 (14/08/2023)\n",
      "INFO:drizzlepac.catalogs:     Found 2602 objects.\n"
     ]
    },
    {
     "name": "stdout",
     "output_type": "stream",
     "text": [
      "     Found 2602 objects.\n"
     ]
    },
    {
     "name": "stderr",
     "output_type": "stream",
     "text": [
      "INFO:drizzlepac.imgclasses:===  FINAL number of objects in image 'j8xi0xsaq_flc.fits': 5304\n"
     ]
    },
    {
     "name": "stdout",
     "output_type": "stream",
     "text": [
      "===  FINAL number of objects in image 'j8xi0xsaq_flc.fits': 5304\n"
     ]
    },
    {
     "name": "stderr",
     "output_type": "stream",
     "text": [
      "INFO:drizzlepac.imgclasses:\n"
     ]
    },
    {
     "name": "stdout",
     "output_type": "stream",
     "text": [
      "\n"
     ]
    },
    {
     "name": "stderr",
     "output_type": "stream",
     "text": [
      "INFO:drizzlepac.imgclasses:===  Source finding for image 'j8xi0xs6q_flc.fits':\n"
     ]
    },
    {
     "name": "stdout",
     "output_type": "stream",
     "text": [
      "===  Source finding for image 'j8xi0xs6q_flc.fits':\n"
     ]
    },
    {
     "name": "stderr",
     "output_type": "stream",
     "text": [
      "INFO:drizzlepac.catalogs:  #  Source finding for 'j8xi0xs6q_flc.fits', EXT=('SCI', 1) started at: 19:45:06.048 (14/08/2023)\n"
     ]
    },
    {
     "name": "stdout",
     "output_type": "stream",
     "text": [
      "  #  Source finding for 'j8xi0xs6q_flc.fits', EXT=('SCI', 1) started at: 19:45:06.048 (14/08/2023)\n"
     ]
    },
    {
     "name": "stderr",
     "output_type": "stream",
     "text": [
      "INFO:drizzlepac.catalogs:   Finding sources using sky sigma = 10.078989\n",
      "INFO:drizzlepac.catalogs:###Source finding finished at: 19:45:07.033 (14/08/2023)\n",
      "INFO:drizzlepac.catalogs:     Found 1839 objects.\n"
     ]
    },
    {
     "name": "stdout",
     "output_type": "stream",
     "text": [
      "     Found 1839 objects.\n"
     ]
    },
    {
     "name": "stderr",
     "output_type": "stream",
     "text": [
      "INFO:drizzlepac.catalogs:  #  Source finding for 'j8xi0xs6q_flc.fits', EXT=('SCI', 2) started at: 19:45:07.114 (14/08/2023)\n"
     ]
    },
    {
     "name": "stdout",
     "output_type": "stream",
     "text": [
      "  #  Source finding for 'j8xi0xs6q_flc.fits', EXT=('SCI', 2) started at: 19:45:07.114 (14/08/2023)\n"
     ]
    },
    {
     "name": "stderr",
     "output_type": "stream",
     "text": [
      "INFO:drizzlepac.catalogs:   Finding sources using sky sigma = 9.974127\n",
      "INFO:drizzlepac.catalogs:###Source finding finished at: 19:45:08.094 (14/08/2023)\n",
      "INFO:drizzlepac.catalogs:     Found 1862 objects.\n"
     ]
    },
    {
     "name": "stdout",
     "output_type": "stream",
     "text": [
      "     Found 1862 objects.\n"
     ]
    },
    {
     "name": "stderr",
     "output_type": "stream",
     "text": [
      "INFO:drizzlepac.imgclasses:===  FINAL number of objects in image 'j8xi0xs6q_flc.fits': 3701\n"
     ]
    },
    {
     "name": "stdout",
     "output_type": "stream",
     "text": [
      "===  FINAL number of objects in image 'j8xi0xs6q_flc.fits': 3701\n"
     ]
    },
    {
     "name": "stderr",
     "output_type": "stream",
     "text": [
      "INFO:drizzlepac.imgclasses:\n"
     ]
    },
    {
     "name": "stdout",
     "output_type": "stream",
     "text": [
      "\n"
     ]
    },
    {
     "name": "stderr",
     "output_type": "stream",
     "text": [
      "INFO:drizzlepac.imgclasses:===  Source finding for image 'j8xi0xs3q_flc.fits':\n"
     ]
    },
    {
     "name": "stdout",
     "output_type": "stream",
     "text": [
      "===  Source finding for image 'j8xi0xs3q_flc.fits':\n"
     ]
    },
    {
     "name": "stderr",
     "output_type": "stream",
     "text": [
      "INFO:drizzlepac.catalogs:  #  Source finding for 'j8xi0xs3q_flc.fits', EXT=('SCI', 1) started at: 19:45:08.666 (14/08/2023)\n"
     ]
    },
    {
     "name": "stdout",
     "output_type": "stream",
     "text": [
      "  #  Source finding for 'j8xi0xs3q_flc.fits', EXT=('SCI', 1) started at: 19:45:08.666 (14/08/2023)\n"
     ]
    },
    {
     "name": "stderr",
     "output_type": "stream",
     "text": [
      "INFO:drizzlepac.catalogs:   Finding sources using sky sigma = 10.041938\n",
      "INFO:drizzlepac.catalogs:###Source finding finished at: 19:45:09.621 (14/08/2023)\n",
      "INFO:drizzlepac.catalogs:     Found 1367 objects.\n"
     ]
    },
    {
     "name": "stdout",
     "output_type": "stream",
     "text": [
      "     Found 1367 objects.\n"
     ]
    },
    {
     "name": "stderr",
     "output_type": "stream",
     "text": [
      "INFO:drizzlepac.catalogs:  #  Source finding for 'j8xi0xs3q_flc.fits', EXT=('SCI', 2) started at: 19:45:09.699 (14/08/2023)\n"
     ]
    },
    {
     "name": "stdout",
     "output_type": "stream",
     "text": [
      "  #  Source finding for 'j8xi0xs3q_flc.fits', EXT=('SCI', 2) started at: 19:45:09.699 (14/08/2023)\n"
     ]
    },
    {
     "name": "stderr",
     "output_type": "stream",
     "text": [
      "INFO:drizzlepac.catalogs:   Finding sources using sky sigma = 10.016332\n",
      "INFO:drizzlepac.catalogs:###Source finding finished at: 19:45:10.677 (14/08/2023)\n",
      "INFO:drizzlepac.catalogs:     Found 1396 objects.\n"
     ]
    },
    {
     "name": "stdout",
     "output_type": "stream",
     "text": [
      "     Found 1396 objects.\n"
     ]
    },
    {
     "name": "stderr",
     "output_type": "stream",
     "text": [
      "INFO:drizzlepac.imgclasses:===  FINAL number of objects in image 'j8xi0xs3q_flc.fits': 2763\n"
     ]
    },
    {
     "name": "stdout",
     "output_type": "stream",
     "text": [
      "===  FINAL number of objects in image 'j8xi0xs3q_flc.fits': 2763\n"
     ]
    },
    {
     "name": "stderr",
     "output_type": "stream",
     "text": [
      "INFO:drizzlepac.imgclasses:\n"
     ]
    },
    {
     "name": "stdout",
     "output_type": "stream",
     "text": [
      "\n"
     ]
    },
    {
     "name": "stderr",
     "output_type": "stream",
     "text": [
      "INFO:drizzlepac.imgclasses:===  Source finding for image 'j8xi0xs0q_flc.fits':\n"
     ]
    },
    {
     "name": "stdout",
     "output_type": "stream",
     "text": [
      "===  Source finding for image 'j8xi0xs0q_flc.fits':\n"
     ]
    },
    {
     "name": "stderr",
     "output_type": "stream",
     "text": [
      "INFO:drizzlepac.catalogs:  #  Source finding for 'j8xi0xs0q_flc.fits', EXT=('SCI', 1) started at: 19:45:11.327 (14/08/2023)\n"
     ]
    },
    {
     "name": "stdout",
     "output_type": "stream",
     "text": [
      "  #  Source finding for 'j8xi0xs0q_flc.fits', EXT=('SCI', 1) started at: 19:45:11.327 (14/08/2023)\n"
     ]
    },
    {
     "name": "stderr",
     "output_type": "stream",
     "text": [
      "INFO:drizzlepac.catalogs:   Finding sources using sky sigma = 10.523051\n",
      "INFO:drizzlepac.catalogs:###Source finding finished at: 19:45:12.307 (14/08/2023)\n",
      "INFO:drizzlepac.catalogs:     Found 1486 objects.\n"
     ]
    },
    {
     "name": "stdout",
     "output_type": "stream",
     "text": [
      "     Found 1486 objects.\n"
     ]
    },
    {
     "name": "stderr",
     "output_type": "stream",
     "text": [
      "INFO:drizzlepac.catalogs:  #  Source finding for 'j8xi0xs0q_flc.fits', EXT=('SCI', 2) started at: 19:45:12.386 (14/08/2023)\n"
     ]
    },
    {
     "name": "stdout",
     "output_type": "stream",
     "text": [
      "  #  Source finding for 'j8xi0xs0q_flc.fits', EXT=('SCI', 2) started at: 19:45:12.386 (14/08/2023)\n"
     ]
    },
    {
     "name": "stderr",
     "output_type": "stream",
     "text": [
      "INFO:drizzlepac.catalogs:   Finding sources using sky sigma = 10.572939\n",
      "INFO:drizzlepac.catalogs:###Source finding finished at: 19:45:13.351 (14/08/2023)\n",
      "INFO:drizzlepac.catalogs:     Found 1523 objects.\n"
     ]
    },
    {
     "name": "stdout",
     "output_type": "stream",
     "text": [
      "     Found 1523 objects.\n"
     ]
    },
    {
     "name": "stderr",
     "output_type": "stream",
     "text": [
      "INFO:drizzlepac.imgclasses:===  FINAL number of objects in image 'j8xi0xs0q_flc.fits': 3009\n"
     ]
    },
    {
     "name": "stdout",
     "output_type": "stream",
     "text": [
      "===  FINAL number of objects in image 'j8xi0xs0q_flc.fits': 3009\n"
     ]
    },
    {
     "name": "stderr",
     "output_type": "stream",
     "text": [
      "INFO:drizzlepac.imgclasses:\n"
     ]
    },
    {
     "name": "stdout",
     "output_type": "stream",
     "text": [
      "\n"
     ]
    },
    {
     "name": "stderr",
     "output_type": "stream",
     "text": [
      "INFO:drizzlepac.imgclasses:Converting RA/Dec positions of reference sources from \"j8xi0xsaq_flc.fits\" to X,Y positions in reference WCS...\n",
      "INFO:drizzlepac.tweakreg:\n"
     ]
    },
    {
     "name": "stdout",
     "output_type": "stream",
     "text": [
      "\n"
     ]
    },
    {
     "name": "stderr",
     "output_type": "stream",
     "text": [
      "INFO:drizzlepac.tweakreg:===============================================================\n"
     ]
    },
    {
     "name": "stdout",
     "output_type": "stream",
     "text": [
      "===============================================================\n"
     ]
    },
    {
     "name": "stderr",
     "output_type": "stream",
     "text": [
      "INFO:drizzlepac.tweakreg:Performing alignment in the projection plane defined by the WCS\n"
     ]
    },
    {
     "name": "stdout",
     "output_type": "stream",
     "text": [
      "Performing alignment in the projection plane defined by the WCS\n"
     ]
    },
    {
     "name": "stderr",
     "output_type": "stream",
     "text": [
      "INFO:drizzlepac.tweakreg:derived from 'j8xi0xsaq_flc.fits'\n"
     ]
    },
    {
     "name": "stdout",
     "output_type": "stream",
     "text": [
      "derived from 'j8xi0xsaq_flc.fits'\n"
     ]
    },
    {
     "name": "stderr",
     "output_type": "stream",
     "text": [
      "INFO:drizzlepac.tweakreg:===============================================================\n"
     ]
    },
    {
     "name": "stdout",
     "output_type": "stream",
     "text": [
      "===============================================================\n"
     ]
    },
    {
     "name": "stderr",
     "output_type": "stream",
     "text": [
      "INFO:drizzlepac.tweakreg:\n"
     ]
    },
    {
     "name": "stdout",
     "output_type": "stream",
     "text": [
      "\n"
     ]
    },
    {
     "name": "stderr",
     "output_type": "stream",
     "text": [
      "INFO:drizzlepac.tweakreg:USER INPUT PARAMETERS for matching sources:\n",
      "INFO:drizzlepac.tweakreg:\tminobj :\t15\n",
      "INFO:drizzlepac.tweakreg:\tresidplot :\tboth\n",
      "INFO:drizzlepac.tweakreg:\tsearchrad :\t1.0\n",
      "INFO:drizzlepac.tweakreg:\tsearchunits :\tarcseconds\n",
      "INFO:drizzlepac.tweakreg:\tsee2dplot :\tTrue\n",
      "INFO:drizzlepac.tweakreg:\tseparation :\t0.5\n",
      "INFO:drizzlepac.tweakreg:\ttolerance :\t1.0\n",
      "INFO:drizzlepac.tweakreg:\tuse2dhist :\tTrue\n",
      "INFO:drizzlepac.tweakreg:\txoffset :\t0.0\n",
      "INFO:drizzlepac.tweakreg:\tyoffset :\t0.0\n",
      "INFO:drizzlepac.tweakreg:\n",
      "INFO:drizzlepac.tweakreg:USER INPUT PARAMETERS for fitting source lists:\n",
      "INFO:drizzlepac.tweakreg:\tfitgeometry :\trscale\n",
      "INFO:drizzlepac.tweakreg:\tlabelsize :\t8\n",
      "INFO:drizzlepac.tweakreg:\tminobj :\t15\n",
      "INFO:drizzlepac.tweakreg:\tnclip :\t3\n",
      "INFO:drizzlepac.tweakreg:\tresidplot :\tboth\n",
      "INFO:drizzlepac.tweakreg:\tsigma :\t3.0\n",
      "INFO:drizzlepac.tweakreg:\tylimit :\t0.4\n",
      "INFO:drizzlepac.tweakreg:\n",
      "INFO:drizzlepac.tweakreg:USER INPUT PARAMETERS for creating a shiftfile:\n",
      "INFO:drizzlepac.tweakreg:\toutshifts :\tshift814_flc_test2.txt\n",
      "INFO:drizzlepac.tweakreg:\toutwcs :\tshifts_wcs.fits\n",
      "INFO:drizzlepac.tweakreg:\tshiftfile :\tTrue\n",
      "INFO:drizzlepac.tweakreg:\n"
     ]
    },
    {
     "name": "stdout",
     "output_type": "stream",
     "text": [
      "\n"
     ]
    },
    {
     "name": "stderr",
     "output_type": "stream",
     "text": [
      "INFO:drizzlepac.tweakreg:====================\n"
     ]
    },
    {
     "name": "stdout",
     "output_type": "stream",
     "text": [
      "====================\n"
     ]
    },
    {
     "name": "stderr",
     "output_type": "stream",
     "text": [
      "INFO:drizzlepac.tweakreg:Performing fit for: j8xi0xs6q_flc.fits\n"
     ]
    },
    {
     "name": "stdout",
     "output_type": "stream",
     "text": [
      "Performing fit for: j8xi0xs6q_flc.fits\n"
     ]
    },
    {
     "name": "stderr",
     "output_type": "stream",
     "text": [
      "INFO:drizzlepac.tweakreg:\n"
     ]
    },
    {
     "name": "stdout",
     "output_type": "stream",
     "text": [
      "\n"
     ]
    },
    {
     "name": "stderr",
     "output_type": "stream",
     "text": [
      "INFO:drizzlepac.imgclasses:Matching sources from 'j8xi0xs6q_flc.fits' with sources from reference image 'j8xi0xsaq_flc.fits'\n"
     ]
    },
    {
     "name": "stdout",
     "output_type": "stream",
     "text": [
      "Matching sources from 'j8xi0xs6q_flc.fits' with sources from reference image 'j8xi0xsaq_flc.fits'\n"
     ]
    },
    {
     "name": "stderr",
     "output_type": "stream",
     "text": [
      "INFO:drizzlepac.imgclasses:Computing initial guess for X and Y shifts...\n"
     ]
    },
    {
     "name": "stdout",
     "output_type": "stream",
     "text": [
      "Computing initial guess for X and Y shifts...\n"
     ]
    },
    {
     "name": "stderr",
     "output_type": "stream",
     "text": [
      "INFO:drizzlepac.imgclasses:Found initial X and Y shifts of 0.2024, -0.02678 with significance of 34.92 and 89 matches\n"
     ]
    },
    {
     "name": "stdout",
     "output_type": "stream",
     "text": [
      "Found initial X and Y shifts of 0.2024, -0.02678 with significance of 34.92 and 89 matches\n"
     ]
    },
    {
     "name": "stderr",
     "output_type": "stream",
     "text": [
      "INFO:drizzlepac.imgclasses:Found 55 matches for j8xi0xs6q_flc.fits...\n"
     ]
    },
    {
     "name": "stdout",
     "output_type": "stream",
     "text": [
      "Found 55 matches for j8xi0xs6q_flc.fits...\n"
     ]
    },
    {
     "name": "stderr",
     "output_type": "stream",
     "text": [
      "INFO:drizzlepac.linearfit:Performing \"rscale\" fit\n",
      "INFO:drizzlepac.linearfit:Performing \"rscale\" fit\n",
      "INFO:drizzlepac.linearfit:Performing \"rscale\" fit\n",
      "INFO:drizzlepac.linearfit:Performing \"rscale\" fit\n",
      "INFO:drizzlepac.imgclasses:Computed  rscale  fit for  j8xi0xs6q_flc.fits : \n"
     ]
    },
    {
     "name": "stdout",
     "output_type": "stream",
     "text": [
      "Computed  rscale  fit for  j8xi0xs6q_flc.fits : \n"
     ]
    },
    {
     "name": "stderr",
     "output_type": "stream",
     "text": [
      "INFO:drizzlepac.imgclasses:XSH: -0.0037  YSH: 0.1000    ROT: 0.000118138184    SCALE: 1.000034\n"
     ]
    },
    {
     "name": "stdout",
     "output_type": "stream",
     "text": [
      "XSH: -0.0037  YSH: 0.1000    ROT: 0.000118138184    SCALE: 1.000034\n"
     ]
    },
    {
     "name": "stderr",
     "output_type": "stream",
     "text": [
      "INFO:drizzlepac.imgclasses:FIT XRMS: 0.11       FIT YRMS: 0.13   \n"
     ]
    },
    {
     "name": "stdout",
     "output_type": "stream",
     "text": [
      "FIT XRMS: 0.11       FIT YRMS: 0.13   \n"
     ]
    },
    {
     "name": "stderr",
     "output_type": "stream",
     "text": [
      "INFO:drizzlepac.imgclasses:FIT RMSE: 0.17       FIT MAE: 0.11   \n"
     ]
    },
    {
     "name": "stdout",
     "output_type": "stream",
     "text": [
      "FIT RMSE: 0.17       FIT MAE: 0.11   \n"
     ]
    },
    {
     "name": "stderr",
     "output_type": "stream",
     "text": [
      "INFO:drizzlepac.imgclasses:\n"
     ]
    },
    {
     "name": "stdout",
     "output_type": "stream",
     "text": [
      "\n"
     ]
    },
    {
     "name": "stderr",
     "output_type": "stream",
     "text": [
      "INFO:drizzlepac.imgclasses:RMS_RA: 2.1e-06 (deg)   RMS_DEC: 1.2e-06 (deg)\n"
     ]
    },
    {
     "name": "stdout",
     "output_type": "stream",
     "text": [
      "RMS_RA: 2.1e-06 (deg)   RMS_DEC: 1.2e-06 (deg)\n"
     ]
    },
    {
     "name": "stderr",
     "output_type": "stream",
     "text": [
      "INFO:drizzlepac.imgclasses:\n"
     ]
    },
    {
     "name": "stdout",
     "output_type": "stream",
     "text": [
      "\n"
     ]
    },
    {
     "name": "stderr",
     "output_type": "stream",
     "text": [
      "INFO:drizzlepac.imgclasses:Final solution based on  46  objects.\n"
     ]
    },
    {
     "name": "stdout",
     "output_type": "stream",
     "text": [
      "Final solution based on  46  objects.\n"
     ]
    },
    {
     "name": "stderr",
     "output_type": "stream",
     "text": [
      "INFO:drizzlepac.imgclasses:Creating catalog for the fit: j8xi0xs6q_flc_catalog_fit.match\n",
      "INFO:drizzlepac.tweakutils:wrote XY data to:  j8xi0xs6q_flc_catalog_fit.match\n"
     ]
    },
    {
     "name": "stdout",
     "output_type": "stream",
     "text": [
      "wrote XY data to:  j8xi0xs6q_flc_catalog_fit.match\n"
     ]
    },
    {
     "name": "stderr",
     "output_type": "stream",
     "text": [
      "INFO:drizzlepac.tweakutils:Total # points: 46\n"
     ]
    },
    {
     "name": "stdout",
     "output_type": "stream",
     "text": [
      "Total # points: 46\n"
     ]
    },
    {
     "name": "stderr",
     "output_type": "stream",
     "text": [
      "INFO:drizzlepac.tweakutils:# of points after clipping: 46\n"
     ]
    },
    {
     "name": "stdout",
     "output_type": "stream",
     "text": [
      "# of points after clipping: 46\n"
     ]
    },
    {
     "name": "stderr",
     "output_type": "stream",
     "text": [
      "INFO:drizzlepac.tweakutils:Total # points: 46\n"
     ]
    },
    {
     "name": "stdout",
     "output_type": "stream",
     "text": [
      "Total # points: 46\n"
     ]
    },
    {
     "name": "stderr",
     "output_type": "stream",
     "text": [
      "INFO:drizzlepac.tweakutils:# of points after clipping: 46\n"
     ]
    },
    {
     "name": "stdout",
     "output_type": "stream",
     "text": [
      "# of points after clipping: 46\n"
     ]
    },
    {
     "name": "stderr",
     "output_type": "stream",
     "text": [
      "INFO:drizzlepac.updatehdr:....Updating header for 'j8xi0xs6q_flc.fits' ...\n",
      "INFO:drizzlepac.updatehdr:Processing j8xi0xs6q_flc.fits['SCI',1]\n",
      "INFO:drizzlepac.updatehdr:Updating header for j8xi0xs6q_flc.fits[1]\n",
      "INFO:drizzlepac.updatehdr:Processing j8xi0xs6q_flc.fits['SCI',2]\n",
      "INFO:drizzlepac.updatehdr:Updating header for j8xi0xs6q_flc.fits[4]\n",
      "INFO:drizzlepac.tweakreg:\n"
     ]
    },
    {
     "name": "stdout",
     "output_type": "stream",
     "text": [
      "\n"
     ]
    },
    {
     "name": "stderr",
     "output_type": "stream",
     "text": [
      "INFO:drizzlepac.tweakreg:====================\n"
     ]
    },
    {
     "name": "stdout",
     "output_type": "stream",
     "text": [
      "====================\n"
     ]
    },
    {
     "name": "stderr",
     "output_type": "stream",
     "text": [
      "INFO:drizzlepac.tweakreg:Performing fit for: j8xi0xs3q_flc.fits\n"
     ]
    },
    {
     "name": "stdout",
     "output_type": "stream",
     "text": [
      "Performing fit for: j8xi0xs3q_flc.fits\n"
     ]
    },
    {
     "name": "stderr",
     "output_type": "stream",
     "text": [
      "INFO:drizzlepac.tweakreg:\n"
     ]
    },
    {
     "name": "stdout",
     "output_type": "stream",
     "text": [
      "\n"
     ]
    },
    {
     "name": "stderr",
     "output_type": "stream",
     "text": [
      "INFO:drizzlepac.imgclasses:Matching sources from 'j8xi0xs3q_flc.fits' with sources from reference image 'j8xi0xsaq_flc.fits'\n"
     ]
    },
    {
     "name": "stdout",
     "output_type": "stream",
     "text": [
      "Matching sources from 'j8xi0xs3q_flc.fits' with sources from reference image 'j8xi0xsaq_flc.fits'\n"
     ]
    },
    {
     "name": "stderr",
     "output_type": "stream",
     "text": [
      "INFO:drizzlepac.imgclasses:Computing initial guess for X and Y shifts...\n"
     ]
    },
    {
     "name": "stdout",
     "output_type": "stream",
     "text": [
      "Computing initial guess for X and Y shifts...\n"
     ]
    },
    {
     "name": "stderr",
     "output_type": "stream",
     "text": [
      "INFO:drizzlepac.imgclasses:Found initial X and Y shifts of 0.005948, 0.1229 with significance of 31.42 and 71 matches\n"
     ]
    },
    {
     "name": "stdout",
     "output_type": "stream",
     "text": [
      "Found initial X and Y shifts of 0.005948, 0.1229 with significance of 31.42 and 71 matches\n"
     ]
    },
    {
     "name": "stderr",
     "output_type": "stream",
     "text": [
      "INFO:drizzlepac.imgclasses:Found 44 matches for j8xi0xs3q_flc.fits...\n"
     ]
    },
    {
     "name": "stdout",
     "output_type": "stream",
     "text": [
      "Found 44 matches for j8xi0xs3q_flc.fits...\n"
     ]
    },
    {
     "name": "stderr",
     "output_type": "stream",
     "text": [
      "INFO:drizzlepac.linearfit:Performing \"rscale\" fit\n",
      "INFO:drizzlepac.linearfit:Performing \"rscale\" fit\n",
      "INFO:drizzlepac.linearfit:Performing \"rscale\" fit\n",
      "INFO:drizzlepac.linearfit:Performing \"rscale\" fit\n",
      "INFO:drizzlepac.imgclasses:Computed  rscale  fit for  j8xi0xs3q_flc.fits : \n"
     ]
    },
    {
     "name": "stdout",
     "output_type": "stream",
     "text": [
      "Computed  rscale  fit for  j8xi0xs3q_flc.fits : \n"
     ]
    },
    {
     "name": "stderr",
     "output_type": "stream",
     "text": [
      "INFO:drizzlepac.imgclasses:XSH: 0.0924  YSH: 0.1465    ROT: 0.001324134339    SCALE: 1.000031\n"
     ]
    },
    {
     "name": "stdout",
     "output_type": "stream",
     "text": [
      "XSH: 0.0924  YSH: 0.1465    ROT: 0.001324134339    SCALE: 1.000031\n"
     ]
    },
    {
     "name": "stderr",
     "output_type": "stream",
     "text": [
      "INFO:drizzlepac.imgclasses:FIT XRMS: 0.051      FIT YRMS: 0.075  \n"
     ]
    },
    {
     "name": "stdout",
     "output_type": "stream",
     "text": [
      "FIT XRMS: 0.051      FIT YRMS: 0.075  \n"
     ]
    },
    {
     "name": "stderr",
     "output_type": "stream",
     "text": [
      "INFO:drizzlepac.imgclasses:FIT RMSE: 0.091      FIT MAE: 0.067  \n"
     ]
    },
    {
     "name": "stdout",
     "output_type": "stream",
     "text": [
      "FIT RMSE: 0.091      FIT MAE: 0.067  \n"
     ]
    },
    {
     "name": "stderr",
     "output_type": "stream",
     "text": [
      "INFO:drizzlepac.imgclasses:\n"
     ]
    },
    {
     "name": "stdout",
     "output_type": "stream",
     "text": [
      "\n"
     ]
    },
    {
     "name": "stderr",
     "output_type": "stream",
     "text": [
      "INFO:drizzlepac.imgclasses:RMS_RA: 1.1e-06 (deg)   RMS_DEC: 5.2e-07 (deg)\n"
     ]
    },
    {
     "name": "stdout",
     "output_type": "stream",
     "text": [
      "RMS_RA: 1.1e-06 (deg)   RMS_DEC: 5.2e-07 (deg)\n"
     ]
    },
    {
     "name": "stderr",
     "output_type": "stream",
     "text": [
      "INFO:drizzlepac.imgclasses:\n"
     ]
    },
    {
     "name": "stdout",
     "output_type": "stream",
     "text": [
      "\n"
     ]
    },
    {
     "name": "stderr",
     "output_type": "stream",
     "text": [
      "INFO:drizzlepac.imgclasses:Final solution based on  36  objects.\n"
     ]
    },
    {
     "name": "stdout",
     "output_type": "stream",
     "text": [
      "Final solution based on  36  objects.\n"
     ]
    },
    {
     "name": "stderr",
     "output_type": "stream",
     "text": [
      "INFO:drizzlepac.imgclasses:Creating catalog for the fit: j8xi0xs3q_flc_catalog_fit.match\n",
      "INFO:drizzlepac.tweakutils:wrote XY data to:  j8xi0xs3q_flc_catalog_fit.match\n"
     ]
    },
    {
     "name": "stdout",
     "output_type": "stream",
     "text": [
      "wrote XY data to:  j8xi0xs3q_flc_catalog_fit.match\n"
     ]
    },
    {
     "name": "stderr",
     "output_type": "stream",
     "text": [
      "INFO:drizzlepac.tweakutils:Total # points: 36\n"
     ]
    },
    {
     "name": "stdout",
     "output_type": "stream",
     "text": [
      "Total # points: 36\n"
     ]
    },
    {
     "name": "stderr",
     "output_type": "stream",
     "text": [
      "INFO:drizzlepac.tweakutils:# of points after clipping: 36\n"
     ]
    },
    {
     "name": "stdout",
     "output_type": "stream",
     "text": [
      "# of points after clipping: 36\n"
     ]
    },
    {
     "name": "stderr",
     "output_type": "stream",
     "text": [
      "INFO:drizzlepac.tweakutils:Total # points: 36\n"
     ]
    },
    {
     "name": "stdout",
     "output_type": "stream",
     "text": [
      "Total # points: 36\n"
     ]
    },
    {
     "name": "stderr",
     "output_type": "stream",
     "text": [
      "INFO:drizzlepac.tweakutils:# of points after clipping: 36\n"
     ]
    },
    {
     "name": "stdout",
     "output_type": "stream",
     "text": [
      "# of points after clipping: 36\n"
     ]
    },
    {
     "name": "stderr",
     "output_type": "stream",
     "text": [
      "INFO:drizzlepac.updatehdr:....Updating header for 'j8xi0xs3q_flc.fits' ...\n",
      "INFO:drizzlepac.updatehdr:Processing j8xi0xs3q_flc.fits['SCI',1]\n",
      "INFO:drizzlepac.updatehdr:Updating header for j8xi0xs3q_flc.fits[1]\n",
      "INFO:drizzlepac.updatehdr:Processing j8xi0xs3q_flc.fits['SCI',2]\n",
      "INFO:drizzlepac.updatehdr:Updating header for j8xi0xs3q_flc.fits[4]\n",
      "INFO:drizzlepac.tweakreg:\n"
     ]
    },
    {
     "name": "stdout",
     "output_type": "stream",
     "text": [
      "\n"
     ]
    },
    {
     "name": "stderr",
     "output_type": "stream",
     "text": [
      "INFO:drizzlepac.tweakreg:====================\n"
     ]
    },
    {
     "name": "stdout",
     "output_type": "stream",
     "text": [
      "====================\n"
     ]
    },
    {
     "name": "stderr",
     "output_type": "stream",
     "text": [
      "INFO:drizzlepac.tweakreg:Performing fit for: j8xi0xs0q_flc.fits\n"
     ]
    },
    {
     "name": "stdout",
     "output_type": "stream",
     "text": [
      "Performing fit for: j8xi0xs0q_flc.fits\n"
     ]
    },
    {
     "name": "stderr",
     "output_type": "stream",
     "text": [
      "INFO:drizzlepac.tweakreg:\n"
     ]
    },
    {
     "name": "stdout",
     "output_type": "stream",
     "text": [
      "\n"
     ]
    },
    {
     "name": "stderr",
     "output_type": "stream",
     "text": [
      "INFO:drizzlepac.imgclasses:Matching sources from 'j8xi0xs0q_flc.fits' with sources from reference image 'j8xi0xsaq_flc.fits'\n"
     ]
    },
    {
     "name": "stdout",
     "output_type": "stream",
     "text": [
      "Matching sources from 'j8xi0xs0q_flc.fits' with sources from reference image 'j8xi0xsaq_flc.fits'\n"
     ]
    },
    {
     "name": "stderr",
     "output_type": "stream",
     "text": [
      "INFO:drizzlepac.imgclasses:Computing initial guess for X and Y shifts...\n"
     ]
    },
    {
     "name": "stdout",
     "output_type": "stream",
     "text": [
      "Computing initial guess for X and Y shifts...\n"
     ]
    },
    {
     "name": "stderr",
     "output_type": "stream",
     "text": [
      "INFO:drizzlepac.imgclasses:Found initial X and Y shifts of -0.1609, -0.0284 with significance of 31.21 and 73 matches\n"
     ]
    },
    {
     "name": "stdout",
     "output_type": "stream",
     "text": [
      "Found initial X and Y shifts of -0.1609, -0.0284 with significance of 31.21 and 73 matches\n"
     ]
    },
    {
     "name": "stderr",
     "output_type": "stream",
     "text": [
      "INFO:drizzlepac.imgclasses:Found 45 matches for j8xi0xs0q_flc.fits...\n"
     ]
    },
    {
     "name": "stdout",
     "output_type": "stream",
     "text": [
      "Found 45 matches for j8xi0xs0q_flc.fits...\n"
     ]
    },
    {
     "name": "stderr",
     "output_type": "stream",
     "text": [
      "INFO:drizzlepac.linearfit:Performing \"rscale\" fit\n",
      "INFO:drizzlepac.linearfit:Performing \"rscale\" fit\n",
      "INFO:drizzlepac.linearfit:Performing \"rscale\" fit\n",
      "INFO:drizzlepac.linearfit:Performing \"rscale\" fit\n",
      "INFO:drizzlepac.imgclasses:Computed  rscale  fit for  j8xi0xs0q_flc.fits : \n"
     ]
    },
    {
     "name": "stdout",
     "output_type": "stream",
     "text": [
      "Computed  rscale  fit for  j8xi0xs0q_flc.fits : \n"
     ]
    },
    {
     "name": "stderr",
     "output_type": "stream",
     "text": [
      "INFO:drizzlepac.imgclasses:XSH: 0.0975  YSH: 0.1633    ROT: 0.001396493378    SCALE: 1.000017\n"
     ]
    },
    {
     "name": "stdout",
     "output_type": "stream",
     "text": [
      "XSH: 0.0975  YSH: 0.1633    ROT: 0.001396493378    SCALE: 1.000017\n"
     ]
    },
    {
     "name": "stderr",
     "output_type": "stream",
     "text": [
      "INFO:drizzlepac.imgclasses:FIT XRMS: 0.068      FIT YRMS: 0.06   \n"
     ]
    },
    {
     "name": "stdout",
     "output_type": "stream",
     "text": [
      "FIT XRMS: 0.068      FIT YRMS: 0.06   \n"
     ]
    },
    {
     "name": "stderr",
     "output_type": "stream",
     "text": [
      "INFO:drizzlepac.imgclasses:FIT RMSE: 0.09       FIT MAE: 0.071  \n"
     ]
    },
    {
     "name": "stdout",
     "output_type": "stream",
     "text": [
      "FIT RMSE: 0.09       FIT MAE: 0.071  \n"
     ]
    },
    {
     "name": "stderr",
     "output_type": "stream",
     "text": [
      "INFO:drizzlepac.imgclasses:\n"
     ]
    },
    {
     "name": "stdout",
     "output_type": "stream",
     "text": [
      "\n"
     ]
    },
    {
     "name": "stderr",
     "output_type": "stream",
     "text": [
      "INFO:drizzlepac.imgclasses:RMS_RA: 9.8e-07 (deg)   RMS_DEC: 7.8e-07 (deg)\n"
     ]
    },
    {
     "name": "stdout",
     "output_type": "stream",
     "text": [
      "RMS_RA: 9.8e-07 (deg)   RMS_DEC: 7.8e-07 (deg)\n"
     ]
    },
    {
     "name": "stderr",
     "output_type": "stream",
     "text": [
      "INFO:drizzlepac.imgclasses:\n"
     ]
    },
    {
     "name": "stdout",
     "output_type": "stream",
     "text": [
      "\n"
     ]
    },
    {
     "name": "stderr",
     "output_type": "stream",
     "text": [
      "INFO:drizzlepac.imgclasses:Final solution based on  39  objects.\n"
     ]
    },
    {
     "name": "stdout",
     "output_type": "stream",
     "text": [
      "Final solution based on  39  objects.\n"
     ]
    },
    {
     "name": "stderr",
     "output_type": "stream",
     "text": [
      "INFO:drizzlepac.imgclasses:Creating catalog for the fit: j8xi0xs0q_flc_catalog_fit.match\n",
      "INFO:drizzlepac.tweakutils:wrote XY data to:  j8xi0xs0q_flc_catalog_fit.match\n"
     ]
    },
    {
     "name": "stdout",
     "output_type": "stream",
     "text": [
      "wrote XY data to:  j8xi0xs0q_flc_catalog_fit.match\n"
     ]
    },
    {
     "name": "stderr",
     "output_type": "stream",
     "text": [
      "INFO:drizzlepac.tweakutils:Total # points: 39\n"
     ]
    },
    {
     "name": "stdout",
     "output_type": "stream",
     "text": [
      "Total # points: 39\n"
     ]
    },
    {
     "name": "stderr",
     "output_type": "stream",
     "text": [
      "INFO:drizzlepac.tweakutils:# of points after clipping: 39\n"
     ]
    },
    {
     "name": "stdout",
     "output_type": "stream",
     "text": [
      "# of points after clipping: 39\n"
     ]
    },
    {
     "name": "stderr",
     "output_type": "stream",
     "text": [
      "INFO:drizzlepac.tweakutils:Total # points: 39\n"
     ]
    },
    {
     "name": "stdout",
     "output_type": "stream",
     "text": [
      "Total # points: 39\n"
     ]
    },
    {
     "name": "stderr",
     "output_type": "stream",
     "text": [
      "INFO:drizzlepac.tweakutils:# of points after clipping: 39\n"
     ]
    },
    {
     "name": "stdout",
     "output_type": "stream",
     "text": [
      "# of points after clipping: 39\n"
     ]
    },
    {
     "name": "stderr",
     "output_type": "stream",
     "text": [
      "INFO:drizzlepac.updatehdr:....Updating header for 'j8xi0xs0q_flc.fits' ...\n",
      "INFO:drizzlepac.updatehdr:Processing j8xi0xs0q_flc.fits['SCI',1]\n",
      "INFO:drizzlepac.updatehdr:Updating header for j8xi0xs0q_flc.fits[1]\n",
      "INFO:drizzlepac.updatehdr:Processing j8xi0xs0q_flc.fits['SCI',2]\n",
      "INFO:drizzlepac.updatehdr:Updating header for j8xi0xs0q_flc.fits[4]\n",
      "INFO:drizzlepac.tweakutils:Writing out shiftfile : shift814_flc_test2.txt\n"
     ]
    },
    {
     "name": "stdout",
     "output_type": "stream",
     "text": [
      "Writing out shiftfile : shift814_flc_test2.txt\n"
     ]
    },
    {
     "name": "stderr",
     "output_type": "stream",
     "text": [
      "INFO:drizzlepac.util:Trailer file written to:  tweakreg.log\n"
     ]
    },
    {
     "name": "stdout",
     "output_type": "stream",
     "text": [
      "Trailer file written to:  tweakreg.log\n"
     ]
    }
   ],
   "source": [
    "tweakreg.TweakReg('@input_flc.list',\n",
    "                  imagefindcfg={'threshold': 100, 'conv_width': 6.0},\n",
    "                  shiftfile=True, outshifts='shift814_flc_test2.txt',\n",
    "                  updatehdr=False, interactive=False, ylimit=0.4)"
   ]
  },
  {
   "cell_type": "code",
   "execution_count": 11,
   "metadata": {
    "execution": {
     "iopub.execute_input": "2023-08-14T19:45:17.955087Z",
     "iopub.status.busy": "2023-08-14T19:45:17.954850Z",
     "iopub.status.idle": "2023-08-14T19:45:17.960425Z",
     "shell.execute_reply": "2023-08-14T19:45:17.959884Z"
    }
   },
   "outputs": [],
   "source": [
    "# Give the 'fit residual plots' a unique name for comparison with subsequent tests.\n",
    "residual_pngs = glob.glob(\"residual*png\")\n",
    "for png in residual_pngs: \n",
    "    path = os.path.abspath(os.path.join(os.curdir, png))\n",
    "    new_path = os.path.abspath(os.path.join(os.curdir, 'test2_{}'.format(png)))\n",
    "    os.rename(path, new_path)"
   ]
  },
  {
   "cell_type": "markdown",
   "metadata": {},
   "source": [
    "\n",
    "TweakReg now finds matches ~50 objects per frame, and the fit for the first matched image `j8xi0xs0q_flc.fits` looks good, with an RMS ~0.1 pixels and with the residuals dx,dy clustered around 0.0.  For the other two frames `j8xi0xs3q_flc.fits` and `j8xi0xs6q_flc.fits`, the RMS is ~0.2 pixels, and the points are not centered around dx,dy=0 pixels."
   ]
  },
  {
   "cell_type": "code",
   "execution_count": 12,
   "metadata": {
    "execution": {
     "iopub.execute_input": "2023-08-14T19:45:17.963631Z",
     "iopub.status.busy": "2023-08-14T19:45:17.963184Z",
     "iopub.status.idle": "2023-08-14T19:45:17.971165Z",
     "shell.execute_reply": "2023-08-14T19:45:17.970625Z"
    }
   },
   "outputs": [
    {
     "data": {
      "image/png": "[encoded data removed]",
      "text/plain": [
       "<IPython.core.display.Image object>"
      ]
     },
     "execution_count": 12,
     "metadata": {},
     "output_type": "execute_result"
    }
   ],
   "source": [
    "Image(filename='test2_residuals_j8xi0xs0q_flc.png')"
   ]
  },
  {
   "cell_type": "code",
   "execution_count": 13,
   "metadata": {
    "execution": {
     "iopub.execute_input": "2023-08-14T19:45:17.974167Z",
     "iopub.status.busy": "2023-08-14T19:45:17.973767Z",
     "iopub.status.idle": "2023-08-14T19:45:17.981484Z",
     "shell.execute_reply": "2023-08-14T19:45:17.980928Z"
    }
   },
   "outputs": [
    {
     "data": {
      "image/png": "[encoded data removed]",
      "text/plain": [
       "<IPython.core.display.Image object>"
      ]
     },
     "execution_count": 13,
     "metadata": {},
     "output_type": "execute_result"
    }
   ],
   "source": [
    "Image(filename='test2_residuals_j8xi0xs3q_flc.png')"
   ]
  },
  {
   "cell_type": "code",
   "execution_count": 14,
   "metadata": {
    "execution": {
     "iopub.execute_input": "2023-08-14T19:45:17.984504Z",
     "iopub.status.busy": "2023-08-14T19:45:17.984078Z",
     "iopub.status.idle": "2023-08-14T19:45:17.991958Z",
     "shell.execute_reply": "2023-08-14T19:45:17.991416Z"
    }
   },
   "outputs": [
    {
     "data": {
      "image/png": "[encoded data removed]",
      "text/plain": [
       "<IPython.core.display.Image object>"
      ]
     },
     "execution_count": 14,
     "metadata": {},
     "output_type": "execute_result"
    }
   ],
   "source": [
    "Image(filename='test2_residuals_j8xi0xs6q_flc.png')"
   ]
  },
  {
   "cell_type": "code",
   "execution_count": 15,
   "metadata": {
    "execution": {
     "iopub.execute_input": "2023-08-14T19:45:17.995046Z",
     "iopub.status.busy": "2023-08-14T19:45:17.994613Z",
     "iopub.status.idle": "2023-08-14T19:45:18.006888Z",
     "shell.execute_reply": "2023-08-14T19:45:18.006339Z"
    }
   },
   "outputs": [
    {
     "data": {
      "text/html": [
       "<div><i>Table length=4</i>\n",
       "<table id=\"table140580804126608\" class=\"table-striped table-bordered table-condensed\">\n",
       "<thead><tr><th>file</th><th>dx</th><th>dy</th><th>rot</th><th>scale</th><th>xrms</th><th>yrms</th></tr></thead>\n",
       "<thead><tr><th>str18</th><th>float64</th><th>float64</th><th>float64</th><th>float64</th><th>float64</th><th>float64</th></tr></thead>\n",
       "<tr><td>j8xi0xsaq_flc.fits</td><td>0.00</td><td>0.00</td><td>0.000</td><td>1.00000</td><td>0.00</td><td>0.00</td></tr>\n",
       "<tr><td>j8xi0xs6q_flc.fits</td><td>-0.00</td><td>0.10</td><td>0.000</td><td>1.00003</td><td>0.11</td><td>0.13</td></tr>\n",
       "<tr><td>j8xi0xs3q_flc.fits</td><td>0.09</td><td>0.15</td><td>0.001</td><td>1.00003</td><td>0.05</td><td>0.07</td></tr>\n",
       "<tr><td>j8xi0xs0q_flc.fits</td><td>0.10</td><td>0.16</td><td>0.001</td><td>1.00002</td><td>0.07</td><td>0.06</td></tr>\n",
       "</table></div>"
      ],
      "text/plain": [
       "<Table length=4>\n",
       "       file           dx      dy     rot    scale    xrms    yrms \n",
       "      str18        float64 float64 float64 float64 float64 float64\n",
       "------------------ ------- ------- ------- ------- ------- -------\n",
       "j8xi0xsaq_flc.fits    0.00    0.00   0.000 1.00000    0.00    0.00\n",
       "j8xi0xs6q_flc.fits   -0.00    0.10   0.000 1.00003    0.11    0.13\n",
       "j8xi0xs3q_flc.fits    0.09    0.15   0.001 1.00003    0.05    0.07\n",
       "j8xi0xs0q_flc.fits    0.10    0.16   0.001 1.00002    0.07    0.06"
      ]
     },
     "execution_count": 15,
     "metadata": {},
     "output_type": "execute_result"
    }
   ],
   "source": [
    "# Inspect the shift file for Test2\n",
    "shift_table = Table.read('shift814_flc_test2.txt', format='ascii.no_header', \n",
    "                       names=['file', 'dx', 'dy', 'rot', 'scale', 'xrms', 'yrms'])\n",
    "formats = ['.2f', '.2f', '.3f', '.5f', '.2f', '.2f']\n",
    "for i, col in enumerate(shift_table.colnames[1:]):\n",
    "    shift_table[col].format = formats[i]\n",
    "shift_table"
   ]
  },
  {
   "cell_type": "markdown",
   "metadata": {},
   "source": [
    "## 3c. Exclude flagged pixels with `dqbits` (Test 3)\n",
    "\n",
    "To further improve the alignment, we make use of flags in the DQ array of the FLC files. The source finding parameters in TweakReg may be modified to exclude flagged pixels when generating lists of objects in each image.\n",
    "\n",
    "Setting the parameter `dqbits=0` will consider all non-zero pixels in the DQ mask to be “bad” pixels, and the corresponding image pixels will not be used for source finding. The default value of 'None' will turn off the use of image’s DQ array for source finding. In this case, AstroDrizzle was already run by MAST on visit 0X, and cosmic-ray flags were populated in the DQ array of the FLC frames. Since the exposures within this visit were already well aligned, the 4096 flags for cosmic rays are useful for excluding false detections."
   ]
  },
  {
   "cell_type": "code",
   "execution_count": 16,
   "metadata": {
    "execution": {
     "iopub.execute_input": "2023-08-14T19:45:18.011135Z",
     "iopub.status.busy": "2023-08-14T19:45:18.010020Z",
     "iopub.status.idle": "2023-08-14T19:45:32.259640Z",
     "shell.execute_reply": "2023-08-14T19:45:32.259055Z"
    }
   },
   "outputs": [
    {
     "name": "stderr",
     "output_type": "stream",
     "text": [
      "INFO:drizzlepac.util:Setting up logfile :  tweakreg.log\n"
     ]
    },
    {
     "name": "stdout",
     "output_type": "stream",
     "text": [
      "Setting up logfile :  tweakreg.log\n"
     ]
    },
    {
     "name": "stderr",
     "output_type": "stream",
     "text": [
      "INFO:drizzlepac.tweakreg:TweakReg Version 3.5.1 started at: 19:45:18.058 (14/08/2023) \n"
     ]
    },
    {
     "name": "stdout",
     "output_type": "stream",
     "text": [
      "TweakReg Version 3.5.1 started at: 19:45:18.058 (14/08/2023) \n"
     ]
    },
    {
     "name": "stderr",
     "output_type": "stream",
     "text": [
      "INFO:drizzlepac.tweakreg:\n"
     ]
    },
    {
     "name": "stdout",
     "output_type": "stream",
     "text": [
      "\n"
     ]
    },
    {
     "name": "stderr",
     "output_type": "stream",
     "text": [
      "INFO:drizzlepac.util:Version Information\n"
     ]
    },
    {
     "name": "stdout",
     "output_type": "stream",
     "text": [
      "Version Information\n"
     ]
    },
    {
     "name": "stderr",
     "output_type": "stream",
     "text": [
      "INFO:drizzlepac.util:--------------------\n"
     ]
    },
    {
     "name": "stdout",
     "output_type": "stream",
     "text": [
      "--------------------\n"
     ]
    },
    {
     "name": "stderr",
     "output_type": "stream",
     "text": [
      "INFO:drizzlepac.util:Python Version 3.11.4 (main, Jun  7 2023, 11:01:02) [GCC 11.3.0]\n"
     ]
    },
    {
     "name": "stdout",
     "output_type": "stream",
     "text": [
      "Python Version 3.11.4 (main, Jun  7 2023, 11:01:02) [GCC 11.3.0]\n"
     ]
    },
    {
     "name": "stderr",
     "output_type": "stream",
     "text": [
      "INFO:drizzlepac.util:numpy Version -> 1.25.2 \n"
     ]
    },
    {
     "name": "stdout",
     "output_type": "stream",
     "text": [
      "numpy Version -> 1.25.2 \n"
     ]
    },
    {
     "name": "stderr",
     "output_type": "stream",
     "text": [
      "INFO:drizzlepac.util:astropy Version -> 5.2.1 \n"
     ]
    },
    {
     "name": "stdout",
     "output_type": "stream",
     "text": [
      "astropy Version -> 5.2.1 \n"
     ]
    },
    {
     "name": "stderr",
     "output_type": "stream",
     "text": [
      "INFO:drizzlepac.util:stwcs Version -> 1.7.2 \n"
     ]
    },
    {
     "name": "stdout",
     "output_type": "stream",
     "text": [
      "stwcs Version -> 1.7.2 \n"
     ]
    },
    {
     "name": "stderr",
     "output_type": "stream",
     "text": [
      "INFO:drizzlepac.util:photutils Version -> 1.8.0 \n"
     ]
    },
    {
     "name": "stdout",
     "output_type": "stream",
     "text": [
      "photutils Version -> 1.8.0 \n"
     ]
    },
    {
     "name": "stderr",
     "output_type": "stream",
     "text": [
      "INFO:drizzlepac.tweakreg:\n",
      "INFO:drizzlepac.tweakreg:USER INPUT PARAMETERS common to all Processing Steps:\n",
      "INFO:drizzlepac.tweakreg:\tclean :\tFalse\n",
      "INFO:drizzlepac.tweakreg:\tenforce_user_order :\tTrue\n",
      "INFO:drizzlepac.tweakreg:\texclusions :\t\n",
      "INFO:drizzlepac.tweakreg:\texpand_refcat :\tFalse\n",
      "INFO:drizzlepac.tweakreg:\tinput :\t@input_flc.list\n",
      "INFO:drizzlepac.tweakreg:\tinteractive :\tFalse\n",
      "INFO:drizzlepac.tweakreg:\trefimage :\t\n",
      "INFO:drizzlepac.tweakreg:\trunfile :\ttweakreg.log\n",
      "INFO:drizzlepac.tweakreg:\tupdatewcs :\tFalse\n",
      "INFO:drizzlepac.tweakreg:\tverbose :\tFalse\n",
      "INFO:drizzlepac.tweakreg:\twritecat :\tTrue\n",
      "INFO:drizzlepac.tweakutils:j8xi0xsaq_flc.fits   \n"
     ]
    },
    {
     "name": "stdout",
     "output_type": "stream",
     "text": [
      "j8xi0xsaq_flc.fits   \n"
     ]
    },
    {
     "name": "stderr",
     "output_type": "stream",
     "text": [
      "INFO:drizzlepac.tweakutils:\n"
     ]
    },
    {
     "name": "stdout",
     "output_type": "stream",
     "text": [
      "\n"
     ]
    },
    {
     "name": "stderr",
     "output_type": "stream",
     "text": [
      "INFO:drizzlepac.tweakreg:\n"
     ]
    },
    {
     "name": "stdout",
     "output_type": "stream",
     "text": [
      "\n"
     ]
    },
    {
     "name": "stderr",
     "output_type": "stream",
     "text": [
      "INFO:drizzlepac.tweakreg:Finding shifts for: \n"
     ]
    },
    {
     "name": "stdout",
     "output_type": "stream",
     "text": [
      "Finding shifts for: \n"
     ]
    },
    {
     "name": "stderr",
     "output_type": "stream",
     "text": [
      "INFO:drizzlepac.tweakreg:    j8xi0xsaq_flc.fits\n"
     ]
    },
    {
     "name": "stdout",
     "output_type": "stream",
     "text": [
      "    j8xi0xsaq_flc.fits\n"
     ]
    },
    {
     "name": "stderr",
     "output_type": "stream",
     "text": [
      "INFO:drizzlepac.tweakreg:    j8xi0xs6q_flc.fits\n"
     ]
    },
    {
     "name": "stdout",
     "output_type": "stream",
     "text": [
      "    j8xi0xs6q_flc.fits\n"
     ]
    },
    {
     "name": "stderr",
     "output_type": "stream",
     "text": [
      "INFO:drizzlepac.tweakreg:    j8xi0xs3q_flc.fits\n"
     ]
    },
    {
     "name": "stdout",
     "output_type": "stream",
     "text": [
      "    j8xi0xs3q_flc.fits\n"
     ]
    },
    {
     "name": "stderr",
     "output_type": "stream",
     "text": [
      "INFO:drizzlepac.tweakreg:    j8xi0xs0q_flc.fits\n"
     ]
    },
    {
     "name": "stdout",
     "output_type": "stream",
     "text": [
      "    j8xi0xs0q_flc.fits\n"
     ]
    },
    {
     "name": "stderr",
     "output_type": "stream",
     "text": [
      "INFO:drizzlepac.tweakreg:\n"
     ]
    },
    {
     "name": "stdout",
     "output_type": "stream",
     "text": [
      "\n"
     ]
    },
    {
     "name": "stderr",
     "output_type": "stream",
     "text": [
      "INFO:drizzlepac.tweakreg:USER INPUT PARAMETERS for finding sources for each input image:\n",
      "INFO:drizzlepac.tweakreg:\tclean :\tFalse\n",
      "INFO:drizzlepac.tweakreg:\tcomputesig :\tTrue\n",
      "INFO:drizzlepac.tweakreg:\tconv_width :\t6.0\n",
      "INFO:drizzlepac.tweakreg:\tdqbits :\t0\n",
      "INFO:drizzlepac.tweakreg:\tenforce_user_order :\tTrue\n",
      "INFO:drizzlepac.tweakreg:\texpand_refcat :\tFalse\n",
      "INFO:drizzlepac.tweakreg:\tfluxmax :\tNone\n",
      "INFO:drizzlepac.tweakreg:\tfluxmin :\tNone\n",
      "INFO:drizzlepac.tweakreg:\tinput :\t@input_flc.list\n",
      "INFO:drizzlepac.tweakreg:\tinteractive :\tFalse\n",
      "INFO:drizzlepac.tweakreg:\tnsigma :\t1.5\n",
      "INFO:drizzlepac.tweakreg:\tpeakmax :\tNone\n",
      "INFO:drizzlepac.tweakreg:\tpeakmin :\tNone\n",
      "INFO:drizzlepac.tweakreg:\tratio :\t1.0\n",
      "INFO:drizzlepac.tweakreg:\trefimage :\t\n",
      "INFO:drizzlepac.tweakreg:\troundhi :\t1.0\n",
      "INFO:drizzlepac.tweakreg:\troundlo :\t-1.0\n",
      "INFO:drizzlepac.tweakreg:\trunfile :\ttweakreg.log\n",
      "INFO:drizzlepac.tweakreg:\tsharphi :\t1.0\n",
      "INFO:drizzlepac.tweakreg:\tsharplo :\t0.2\n",
      "INFO:drizzlepac.tweakreg:\tskysigma :\t0.0\n",
      "INFO:drizzlepac.tweakreg:\ttheta :\t0.0\n",
      "INFO:drizzlepac.tweakreg:\tthreshold :\t100\n",
      "INFO:drizzlepac.tweakreg:\tupdatehdr :\tFalse\n",
      "INFO:drizzlepac.tweakreg:\tupdatewcs :\tFalse\n",
      "INFO:drizzlepac.tweakreg:\tuse_sharp_round :\tFalse\n",
      "INFO:drizzlepac.tweakreg:\tverbose :\tFalse\n",
      "INFO:drizzlepac.tweakreg:\twritecat :\tTrue\n",
      "INFO:drizzlepac.tweakreg:\txyunits :\tpixels\n",
      "INFO:drizzlepac.tweakreg:\n",
      "INFO:drizzlepac.imgclasses:===  Source finding for image 'j8xi0xsaq_flc.fits':\n"
     ]
    },
    {
     "name": "stdout",
     "output_type": "stream",
     "text": [
      "===  Source finding for image 'j8xi0xsaq_flc.fits':\n"
     ]
    },
    {
     "name": "stderr",
     "output_type": "stream",
     "text": [
      "INFO:drizzlepac.catalogs:  #  Source finding for 'j8xi0xsaq_flc.fits', EXT=('SCI', 1) started at: 19:45:18.260 (14/08/2023)\n"
     ]
    },
    {
     "name": "stdout",
     "output_type": "stream",
     "text": [
      "  #  Source finding for 'j8xi0xsaq_flc.fits', EXT=('SCI', 1) started at: 19:45:18.260 (14/08/2023)\n"
     ]
    },
    {
     "name": "stderr",
     "output_type": "stream",
     "text": [
      "INFO:drizzlepac.catalogs:   Finding sources using sky sigma = 10.055177\n",
      "INFO:drizzlepac.catalogs:###Source finding finished at: 19:45:19.242 (14/08/2023)\n",
      "INFO:drizzlepac.catalogs:     Found 1149 objects.\n"
     ]
    },
    {
     "name": "stdout",
     "output_type": "stream",
     "text": [
      "     Found 1149 objects.\n"
     ]
    },
    {
     "name": "stderr",
     "output_type": "stream",
     "text": [
      "INFO:drizzlepac.catalogs:  #  Source finding for 'j8xi0xsaq_flc.fits', EXT=('SCI', 2) started at: 19:45:19.332 (14/08/2023)\n"
     ]
    },
    {
     "name": "stdout",
     "output_type": "stream",
     "text": [
      "  #  Source finding for 'j8xi0xsaq_flc.fits', EXT=('SCI', 2) started at: 19:45:19.332 (14/08/2023)\n"
     ]
    },
    {
     "name": "stderr",
     "output_type": "stream",
     "text": [
      "INFO:drizzlepac.catalogs:   Finding sources using sky sigma = 9.991610\n",
      "INFO:drizzlepac.catalogs:###Source finding finished at: 19:45:20.313 (14/08/2023)\n",
      "INFO:drizzlepac.catalogs:     Found 940 objects.\n"
     ]
    },
    {
     "name": "stdout",
     "output_type": "stream",
     "text": [
      "     Found 940 objects.\n"
     ]
    },
    {
     "name": "stderr",
     "output_type": "stream",
     "text": [
      "INFO:drizzlepac.imgclasses:===  FINAL number of objects in image 'j8xi0xsaq_flc.fits': 2089\n"
     ]
    },
    {
     "name": "stdout",
     "output_type": "stream",
     "text": [
      "===  FINAL number of objects in image 'j8xi0xsaq_flc.fits': 2089\n"
     ]
    },
    {
     "name": "stderr",
     "output_type": "stream",
     "text": [
      "INFO:drizzlepac.imgclasses:\n"
     ]
    },
    {
     "name": "stdout",
     "output_type": "stream",
     "text": [
      "\n"
     ]
    },
    {
     "name": "stderr",
     "output_type": "stream",
     "text": [
      "INFO:drizzlepac.imgclasses:===  Source finding for image 'j8xi0xs6q_flc.fits':\n"
     ]
    },
    {
     "name": "stdout",
     "output_type": "stream",
     "text": [
      "===  Source finding for image 'j8xi0xs6q_flc.fits':\n"
     ]
    },
    {
     "name": "stderr",
     "output_type": "stream",
     "text": [
      "INFO:drizzlepac.catalogs:  #  Source finding for 'j8xi0xs6q_flc.fits', EXT=('SCI', 1) started at: 19:45:21.089 (14/08/2023)\n"
     ]
    },
    {
     "name": "stdout",
     "output_type": "stream",
     "text": [
      "  #  Source finding for 'j8xi0xs6q_flc.fits', EXT=('SCI', 1) started at: 19:45:21.089 (14/08/2023)\n"
     ]
    },
    {
     "name": "stderr",
     "output_type": "stream",
     "text": [
      "INFO:drizzlepac.catalogs:   Finding sources using sky sigma = 10.078989\n",
      "INFO:drizzlepac.catalogs:###Source finding finished at: 19:45:22.060 (14/08/2023)\n",
      "INFO:drizzlepac.catalogs:     Found 757 objects.\n"
     ]
    },
    {
     "name": "stdout",
     "output_type": "stream",
     "text": [
      "     Found 757 objects.\n"
     ]
    },
    {
     "name": "stderr",
     "output_type": "stream",
     "text": [
      "INFO:drizzlepac.catalogs:  #  Source finding for 'j8xi0xs6q_flc.fits', EXT=('SCI', 2) started at: 19:45:22.151 (14/08/2023)\n"
     ]
    },
    {
     "name": "stdout",
     "output_type": "stream",
     "text": [
      "  #  Source finding for 'j8xi0xs6q_flc.fits', EXT=('SCI', 2) started at: 19:45:22.151 (14/08/2023)\n"
     ]
    },
    {
     "name": "stderr",
     "output_type": "stream",
     "text": [
      "INFO:drizzlepac.catalogs:   Finding sources using sky sigma = 9.974127\n",
      "INFO:drizzlepac.catalogs:###Source finding finished at: 19:45:23.113 (14/08/2023)\n",
      "INFO:drizzlepac.catalogs:     Found 713 objects.\n"
     ]
    },
    {
     "name": "stdout",
     "output_type": "stream",
     "text": [
      "     Found 713 objects.\n"
     ]
    },
    {
     "name": "stderr",
     "output_type": "stream",
     "text": [
      "INFO:drizzlepac.imgclasses:===  FINAL number of objects in image 'j8xi0xs6q_flc.fits': 1470\n"
     ]
    },
    {
     "name": "stdout",
     "output_type": "stream",
     "text": [
      "===  FINAL number of objects in image 'j8xi0xs6q_flc.fits': 1470\n"
     ]
    },
    {
     "name": "stderr",
     "output_type": "stream",
     "text": [
      "INFO:drizzlepac.imgclasses:\n"
     ]
    },
    {
     "name": "stdout",
     "output_type": "stream",
     "text": [
      "\n"
     ]
    },
    {
     "name": "stderr",
     "output_type": "stream",
     "text": [
      "INFO:drizzlepac.imgclasses:===  Source finding for image 'j8xi0xs3q_flc.fits':\n"
     ]
    },
    {
     "name": "stdout",
     "output_type": "stream",
     "text": [
      "===  Source finding for image 'j8xi0xs3q_flc.fits':\n"
     ]
    },
    {
     "name": "stderr",
     "output_type": "stream",
     "text": [
      "INFO:drizzlepac.catalogs:  #  Source finding for 'j8xi0xs3q_flc.fits', EXT=('SCI', 1) started at: 19:45:23.678 (14/08/2023)\n"
     ]
    },
    {
     "name": "stdout",
     "output_type": "stream",
     "text": [
      "  #  Source finding for 'j8xi0xs3q_flc.fits', EXT=('SCI', 1) started at: 19:45:23.678 (14/08/2023)\n"
     ]
    },
    {
     "name": "stderr",
     "output_type": "stream",
     "text": [
      "INFO:drizzlepac.catalogs:   Finding sources using sky sigma = 10.041938\n",
      "INFO:drizzlepac.catalogs:###Source finding finished at: 19:45:24.644 (14/08/2023)\n",
      "INFO:drizzlepac.catalogs:     Found 624 objects.\n"
     ]
    },
    {
     "name": "stdout",
     "output_type": "stream",
     "text": [
      "     Found 624 objects.\n"
     ]
    },
    {
     "name": "stderr",
     "output_type": "stream",
     "text": [
      "INFO:drizzlepac.catalogs:  #  Source finding for 'j8xi0xs3q_flc.fits', EXT=('SCI', 2) started at: 19:45:24.741 (14/08/2023)\n"
     ]
    },
    {
     "name": "stdout",
     "output_type": "stream",
     "text": [
      "  #  Source finding for 'j8xi0xs3q_flc.fits', EXT=('SCI', 2) started at: 19:45:24.741 (14/08/2023)\n"
     ]
    },
    {
     "name": "stderr",
     "output_type": "stream",
     "text": [
      "INFO:drizzlepac.catalogs:   Finding sources using sky sigma = 10.016332\n",
      "INFO:drizzlepac.catalogs:###Source finding finished at: 19:45:25.715 (14/08/2023)\n",
      "INFO:drizzlepac.catalogs:     Found 544 objects.\n"
     ]
    },
    {
     "name": "stdout",
     "output_type": "stream",
     "text": [
      "     Found 544 objects.\n"
     ]
    },
    {
     "name": "stderr",
     "output_type": "stream",
     "text": [
      "INFO:drizzlepac.imgclasses:===  FINAL number of objects in image 'j8xi0xs3q_flc.fits': 1168\n"
     ]
    },
    {
     "name": "stdout",
     "output_type": "stream",
     "text": [
      "===  FINAL number of objects in image 'j8xi0xs3q_flc.fits': 1168\n"
     ]
    },
    {
     "name": "stderr",
     "output_type": "stream",
     "text": [
      "INFO:drizzlepac.imgclasses:\n"
     ]
    },
    {
     "name": "stdout",
     "output_type": "stream",
     "text": [
      "\n"
     ]
    },
    {
     "name": "stderr",
     "output_type": "stream",
     "text": [
      "INFO:drizzlepac.imgclasses:===  Source finding for image 'j8xi0xs0q_flc.fits':\n"
     ]
    },
    {
     "name": "stdout",
     "output_type": "stream",
     "text": [
      "===  Source finding for image 'j8xi0xs0q_flc.fits':\n"
     ]
    },
    {
     "name": "stderr",
     "output_type": "stream",
     "text": [
      "INFO:drizzlepac.catalogs:  #  Source finding for 'j8xi0xs0q_flc.fits', EXT=('SCI', 1) started at: 19:45:26.156 (14/08/2023)\n"
     ]
    },
    {
     "name": "stdout",
     "output_type": "stream",
     "text": [
      "  #  Source finding for 'j8xi0xs0q_flc.fits', EXT=('SCI', 1) started at: 19:45:26.156 (14/08/2023)\n"
     ]
    },
    {
     "name": "stderr",
     "output_type": "stream",
     "text": [
      "INFO:drizzlepac.catalogs:   Finding sources using sky sigma = 10.523051\n",
      "INFO:drizzlepac.catalogs:###Source finding finished at: 19:45:27.135 (14/08/2023)\n",
      "INFO:drizzlepac.catalogs:     Found 620 objects.\n"
     ]
    },
    {
     "name": "stdout",
     "output_type": "stream",
     "text": [
      "     Found 620 objects.\n"
     ]
    },
    {
     "name": "stderr",
     "output_type": "stream",
     "text": [
      "INFO:drizzlepac.catalogs:  #  Source finding for 'j8xi0xs0q_flc.fits', EXT=('SCI', 2) started at: 19:45:27.227 (14/08/2023)\n"
     ]
    },
    {
     "name": "stdout",
     "output_type": "stream",
     "text": [
      "  #  Source finding for 'j8xi0xs0q_flc.fits', EXT=('SCI', 2) started at: 19:45:27.227 (14/08/2023)\n"
     ]
    },
    {
     "name": "stderr",
     "output_type": "stream",
     "text": [
      "INFO:drizzlepac.catalogs:   Finding sources using sky sigma = 10.572939\n",
      "INFO:drizzlepac.catalogs:###Source finding finished at: 19:45:28.187 (14/08/2023)\n",
      "INFO:drizzlepac.catalogs:     Found 622 objects.\n"
     ]
    },
    {
     "name": "stdout",
     "output_type": "stream",
     "text": [
      "     Found 622 objects.\n"
     ]
    },
    {
     "name": "stderr",
     "output_type": "stream",
     "text": [
      "INFO:drizzlepac.imgclasses:===  FINAL number of objects in image 'j8xi0xs0q_flc.fits': 1242\n"
     ]
    },
    {
     "name": "stdout",
     "output_type": "stream",
     "text": [
      "===  FINAL number of objects in image 'j8xi0xs0q_flc.fits': 1242\n"
     ]
    },
    {
     "name": "stderr",
     "output_type": "stream",
     "text": [
      "INFO:drizzlepac.imgclasses:\n"
     ]
    },
    {
     "name": "stdout",
     "output_type": "stream",
     "text": [
      "\n"
     ]
    },
    {
     "name": "stderr",
     "output_type": "stream",
     "text": [
      "INFO:drizzlepac.imgclasses:Converting RA/Dec positions of reference sources from \"j8xi0xsaq_flc.fits\" to X,Y positions in reference WCS...\n",
      "INFO:drizzlepac.tweakreg:\n"
     ]
    },
    {
     "name": "stdout",
     "output_type": "stream",
     "text": [
      "\n"
     ]
    },
    {
     "name": "stderr",
     "output_type": "stream",
     "text": [
      "INFO:drizzlepac.tweakreg:===============================================================\n"
     ]
    },
    {
     "name": "stdout",
     "output_type": "stream",
     "text": [
      "===============================================================\n"
     ]
    },
    {
     "name": "stderr",
     "output_type": "stream",
     "text": [
      "INFO:drizzlepac.tweakreg:Performing alignment in the projection plane defined by the WCS\n"
     ]
    },
    {
     "name": "stdout",
     "output_type": "stream",
     "text": [
      "Performing alignment in the projection plane defined by the WCS\n"
     ]
    },
    {
     "name": "stderr",
     "output_type": "stream",
     "text": [
      "INFO:drizzlepac.tweakreg:derived from 'j8xi0xsaq_flc.fits'\n"
     ]
    },
    {
     "name": "stdout",
     "output_type": "stream",
     "text": [
      "derived from 'j8xi0xsaq_flc.fits'\n"
     ]
    },
    {
     "name": "stderr",
     "output_type": "stream",
     "text": [
      "INFO:drizzlepac.tweakreg:===============================================================\n"
     ]
    },
    {
     "name": "stdout",
     "output_type": "stream",
     "text": [
      "===============================================================\n"
     ]
    },
    {
     "name": "stderr",
     "output_type": "stream",
     "text": [
      "INFO:drizzlepac.tweakreg:\n"
     ]
    },
    {
     "name": "stdout",
     "output_type": "stream",
     "text": [
      "\n"
     ]
    },
    {
     "name": "stderr",
     "output_type": "stream",
     "text": [
      "INFO:drizzlepac.tweakreg:USER INPUT PARAMETERS for matching sources:\n",
      "INFO:drizzlepac.tweakreg:\tminobj :\t15\n",
      "INFO:drizzlepac.tweakreg:\tresidplot :\tboth\n",
      "INFO:drizzlepac.tweakreg:\tsearchrad :\t1.0\n",
      "INFO:drizzlepac.tweakreg:\tsearchunits :\tarcseconds\n",
      "INFO:drizzlepac.tweakreg:\tsee2dplot :\tTrue\n",
      "INFO:drizzlepac.tweakreg:\tseparation :\t0.5\n",
      "INFO:drizzlepac.tweakreg:\ttolerance :\t1.0\n",
      "INFO:drizzlepac.tweakreg:\tuse2dhist :\tTrue\n",
      "INFO:drizzlepac.tweakreg:\txoffset :\t0.0\n",
      "INFO:drizzlepac.tweakreg:\tyoffset :\t0.0\n",
      "INFO:drizzlepac.tweakreg:\n",
      "INFO:drizzlepac.tweakreg:USER INPUT PARAMETERS for fitting source lists:\n",
      "INFO:drizzlepac.tweakreg:\tfitgeometry :\trscale\n",
      "INFO:drizzlepac.tweakreg:\tlabelsize :\t8\n",
      "INFO:drizzlepac.tweakreg:\tminobj :\t15\n",
      "INFO:drizzlepac.tweakreg:\tnclip :\t3\n",
      "INFO:drizzlepac.tweakreg:\tresidplot :\tboth\n",
      "INFO:drizzlepac.tweakreg:\tsigma :\t3.0\n",
      "INFO:drizzlepac.tweakreg:\tylimit :\t0.4\n",
      "INFO:drizzlepac.tweakreg:\n",
      "INFO:drizzlepac.tweakreg:USER INPUT PARAMETERS for creating a shiftfile:\n",
      "INFO:drizzlepac.tweakreg:\toutshifts :\tshift814_flc_test3.txt\n",
      "INFO:drizzlepac.tweakreg:\toutwcs :\tshifts_wcs.fits\n",
      "INFO:drizzlepac.tweakreg:\tshiftfile :\tTrue\n",
      "INFO:drizzlepac.tweakreg:\n"
     ]
    },
    {
     "name": "stdout",
     "output_type": "stream",
     "text": [
      "\n"
     ]
    },
    {
     "name": "stderr",
     "output_type": "stream",
     "text": [
      "INFO:drizzlepac.tweakreg:====================\n"
     ]
    },
    {
     "name": "stdout",
     "output_type": "stream",
     "text": [
      "====================\n"
     ]
    },
    {
     "name": "stderr",
     "output_type": "stream",
     "text": [
      "INFO:drizzlepac.tweakreg:Performing fit for: j8xi0xs6q_flc.fits\n"
     ]
    },
    {
     "name": "stdout",
     "output_type": "stream",
     "text": [
      "Performing fit for: j8xi0xs6q_flc.fits\n"
     ]
    },
    {
     "name": "stderr",
     "output_type": "stream",
     "text": [
      "INFO:drizzlepac.tweakreg:\n"
     ]
    },
    {
     "name": "stdout",
     "output_type": "stream",
     "text": [
      "\n"
     ]
    },
    {
     "name": "stderr",
     "output_type": "stream",
     "text": [
      "INFO:drizzlepac.imgclasses:Matching sources from 'j8xi0xs6q_flc.fits' with sources from reference image 'j8xi0xsaq_flc.fits'\n"
     ]
    },
    {
     "name": "stdout",
     "output_type": "stream",
     "text": [
      "Matching sources from 'j8xi0xs6q_flc.fits' with sources from reference image 'j8xi0xsaq_flc.fits'\n"
     ]
    },
    {
     "name": "stderr",
     "output_type": "stream",
     "text": [
      "INFO:drizzlepac.imgclasses:Computing initial guess for X and Y shifts...\n"
     ]
    },
    {
     "name": "stdout",
     "output_type": "stream",
     "text": [
      "Computing initial guess for X and Y shifts...\n"
     ]
    },
    {
     "name": "stderr",
     "output_type": "stream",
     "text": [
      "INFO:drizzlepac.imgclasses:Found initial X and Y shifts of 0.4377, -0.1161 with significance of 43.68 and 57 matches\n"
     ]
    },
    {
     "name": "stdout",
     "output_type": "stream",
     "text": [
      "Found initial X and Y shifts of 0.4377, -0.1161 with significance of 43.68 and 57 matches\n"
     ]
    },
    {
     "name": "stderr",
     "output_type": "stream",
     "text": [
      "INFO:drizzlepac.imgclasses:Found 51 matches for j8xi0xs6q_flc.fits...\n"
     ]
    },
    {
     "name": "stdout",
     "output_type": "stream",
     "text": [
      "Found 51 matches for j8xi0xs6q_flc.fits...\n"
     ]
    },
    {
     "name": "stderr",
     "output_type": "stream",
     "text": [
      "INFO:drizzlepac.linearfit:Performing \"rscale\" fit\n",
      "INFO:drizzlepac.linearfit:Performing \"rscale\" fit\n",
      "INFO:drizzlepac.linearfit:Performing \"rscale\" fit\n",
      "INFO:drizzlepac.linearfit:Performing \"rscale\" fit\n",
      "INFO:drizzlepac.imgclasses:Computed  rscale  fit for  j8xi0xs6q_flc.fits : \n"
     ]
    },
    {
     "name": "stdout",
     "output_type": "stream",
     "text": [
      "Computed  rscale  fit for  j8xi0xs6q_flc.fits : \n"
     ]
    },
    {
     "name": "stderr",
     "output_type": "stream",
     "text": [
      "INFO:drizzlepac.imgclasses:XSH: -0.0007  YSH: 0.1043    ROT: 0.0002371156048    SCALE: 1.000016\n"
     ]
    },
    {
     "name": "stdout",
     "output_type": "stream",
     "text": [
      "XSH: -0.0007  YSH: 0.1043    ROT: 0.0002371156048    SCALE: 1.000016\n"
     ]
    },
    {
     "name": "stderr",
     "output_type": "stream",
     "text": [
      "INFO:drizzlepac.imgclasses:FIT XRMS: 0.059      FIT YRMS: 0.074  \n"
     ]
    },
    {
     "name": "stdout",
     "output_type": "stream",
     "text": [
      "FIT XRMS: 0.059      FIT YRMS: 0.074  \n"
     ]
    },
    {
     "name": "stderr",
     "output_type": "stream",
     "text": [
      "INFO:drizzlepac.imgclasses:FIT RMSE: 0.095      FIT MAE: 0.076  \n"
     ]
    },
    {
     "name": "stdout",
     "output_type": "stream",
     "text": [
      "FIT RMSE: 0.095      FIT MAE: 0.076  \n"
     ]
    },
    {
     "name": "stderr",
     "output_type": "stream",
     "text": [
      "INFO:drizzlepac.imgclasses:\n"
     ]
    },
    {
     "name": "stdout",
     "output_type": "stream",
     "text": [
      "\n"
     ]
    },
    {
     "name": "stderr",
     "output_type": "stream",
     "text": [
      "INFO:drizzlepac.imgclasses:RMS_RA: 1.2e-06 (deg)   RMS_DEC: 6.3e-07 (deg)\n"
     ]
    },
    {
     "name": "stdout",
     "output_type": "stream",
     "text": [
      "RMS_RA: 1.2e-06 (deg)   RMS_DEC: 6.3e-07 (deg)\n"
     ]
    },
    {
     "name": "stderr",
     "output_type": "stream",
     "text": [
      "INFO:drizzlepac.imgclasses:\n"
     ]
    },
    {
     "name": "stdout",
     "output_type": "stream",
     "text": [
      "\n"
     ]
    },
    {
     "name": "stderr",
     "output_type": "stream",
     "text": [
      "INFO:drizzlepac.imgclasses:Final solution based on  44  objects.\n"
     ]
    },
    {
     "name": "stdout",
     "output_type": "stream",
     "text": [
      "Final solution based on  44  objects.\n"
     ]
    },
    {
     "name": "stderr",
     "output_type": "stream",
     "text": [
      "INFO:drizzlepac.imgclasses:Creating catalog for the fit: j8xi0xs6q_flc_catalog_fit.match\n",
      "INFO:drizzlepac.tweakutils:wrote XY data to:  j8xi0xs6q_flc_catalog_fit.match\n"
     ]
    },
    {
     "name": "stdout",
     "output_type": "stream",
     "text": [
      "wrote XY data to:  j8xi0xs6q_flc_catalog_fit.match\n"
     ]
    },
    {
     "name": "stderr",
     "output_type": "stream",
     "text": [
      "INFO:drizzlepac.tweakutils:Total # points: 44\n"
     ]
    },
    {
     "name": "stdout",
     "output_type": "stream",
     "text": [
      "Total # points: 44\n"
     ]
    },
    {
     "name": "stderr",
     "output_type": "stream",
     "text": [
      "INFO:drizzlepac.tweakutils:# of points after clipping: 44\n"
     ]
    },
    {
     "name": "stdout",
     "output_type": "stream",
     "text": [
      "# of points after clipping: 44\n"
     ]
    },
    {
     "name": "stderr",
     "output_type": "stream",
     "text": [
      "INFO:drizzlepac.tweakutils:Total # points: 44\n"
     ]
    },
    {
     "name": "stdout",
     "output_type": "stream",
     "text": [
      "Total # points: 44\n"
     ]
    },
    {
     "name": "stderr",
     "output_type": "stream",
     "text": [
      "INFO:drizzlepac.tweakutils:# of points after clipping: 44\n"
     ]
    },
    {
     "name": "stdout",
     "output_type": "stream",
     "text": [
      "# of points after clipping: 44\n"
     ]
    },
    {
     "name": "stderr",
     "output_type": "stream",
     "text": [
      "INFO:drizzlepac.updatehdr:....Updating header for 'j8xi0xs6q_flc.fits' ...\n",
      "INFO:drizzlepac.updatehdr:Processing j8xi0xs6q_flc.fits['SCI',1]\n",
      "INFO:drizzlepac.updatehdr:Updating header for j8xi0xs6q_flc.fits[1]\n",
      "INFO:drizzlepac.updatehdr:Processing j8xi0xs6q_flc.fits['SCI',2]\n",
      "INFO:drizzlepac.updatehdr:Updating header for j8xi0xs6q_flc.fits[4]\n",
      "INFO:drizzlepac.tweakreg:\n"
     ]
    },
    {
     "name": "stdout",
     "output_type": "stream",
     "text": [
      "\n"
     ]
    },
    {
     "name": "stderr",
     "output_type": "stream",
     "text": [
      "INFO:drizzlepac.tweakreg:====================\n"
     ]
    },
    {
     "name": "stdout",
     "output_type": "stream",
     "text": [
      "====================\n"
     ]
    },
    {
     "name": "stderr",
     "output_type": "stream",
     "text": [
      "INFO:drizzlepac.tweakreg:Performing fit for: j8xi0xs3q_flc.fits\n"
     ]
    },
    {
     "name": "stdout",
     "output_type": "stream",
     "text": [
      "Performing fit for: j8xi0xs3q_flc.fits\n"
     ]
    },
    {
     "name": "stderr",
     "output_type": "stream",
     "text": [
      "INFO:drizzlepac.tweakreg:\n"
     ]
    },
    {
     "name": "stdout",
     "output_type": "stream",
     "text": [
      "\n"
     ]
    },
    {
     "name": "stderr",
     "output_type": "stream",
     "text": [
      "INFO:drizzlepac.imgclasses:Matching sources from 'j8xi0xs3q_flc.fits' with sources from reference image 'j8xi0xsaq_flc.fits'\n"
     ]
    },
    {
     "name": "stdout",
     "output_type": "stream",
     "text": [
      "Matching sources from 'j8xi0xs3q_flc.fits' with sources from reference image 'j8xi0xsaq_flc.fits'\n"
     ]
    },
    {
     "name": "stderr",
     "output_type": "stream",
     "text": [
      "INFO:drizzlepac.imgclasses:Computing initial guess for X and Y shifts...\n"
     ]
    },
    {
     "name": "stdout",
     "output_type": "stream",
     "text": [
      "Computing initial guess for X and Y shifts...\n"
     ]
    },
    {
     "name": "stderr",
     "output_type": "stream",
     "text": [
      "INFO:drizzlepac.imgclasses:Found initial X and Y shifts of 0.2918, 0.06694 with significance of 37.83 and 55 matches\n"
     ]
    },
    {
     "name": "stdout",
     "output_type": "stream",
     "text": [
      "Found initial X and Y shifts of 0.2918, 0.06694 with significance of 37.83 and 55 matches\n"
     ]
    },
    {
     "name": "stderr",
     "output_type": "stream",
     "text": [
      "INFO:drizzlepac.imgclasses:Found 44 matches for j8xi0xs3q_flc.fits...\n"
     ]
    },
    {
     "name": "stdout",
     "output_type": "stream",
     "text": [
      "Found 44 matches for j8xi0xs3q_flc.fits...\n"
     ]
    },
    {
     "name": "stderr",
     "output_type": "stream",
     "text": [
      "INFO:drizzlepac.linearfit:Performing \"rscale\" fit\n",
      "INFO:drizzlepac.linearfit:Performing \"rscale\" fit\n",
      "INFO:drizzlepac.linearfit:Performing \"rscale\" fit\n",
      "INFO:drizzlepac.linearfit:Performing \"rscale\" fit\n",
      "INFO:drizzlepac.imgclasses:Computed  rscale  fit for  j8xi0xs3q_flc.fits : \n"
     ]
    },
    {
     "name": "stdout",
     "output_type": "stream",
     "text": [
      "Computed  rscale  fit for  j8xi0xs3q_flc.fits : \n"
     ]
    },
    {
     "name": "stderr",
     "output_type": "stream",
     "text": [
      "INFO:drizzlepac.imgclasses:XSH: 0.0933  YSH: 0.1427    ROT: 0.001210361624    SCALE: 1.000030\n"
     ]
    },
    {
     "name": "stdout",
     "output_type": "stream",
     "text": [
      "XSH: 0.0933  YSH: 0.1427    ROT: 0.001210361624    SCALE: 1.000030\n"
     ]
    },
    {
     "name": "stderr",
     "output_type": "stream",
     "text": [
      "INFO:drizzlepac.imgclasses:FIT XRMS: 0.05       FIT YRMS: 0.076  \n"
     ]
    },
    {
     "name": "stdout",
     "output_type": "stream",
     "text": [
      "FIT XRMS: 0.05       FIT YRMS: 0.076  \n"
     ]
    },
    {
     "name": "stderr",
     "output_type": "stream",
     "text": [
      "INFO:drizzlepac.imgclasses:FIT RMSE: 0.091      FIT MAE: 0.068  \n"
     ]
    },
    {
     "name": "stdout",
     "output_type": "stream",
     "text": [
      "FIT RMSE: 0.091      FIT MAE: 0.068  \n"
     ]
    },
    {
     "name": "stderr",
     "output_type": "stream",
     "text": [
      "INFO:drizzlepac.imgclasses:\n"
     ]
    },
    {
     "name": "stdout",
     "output_type": "stream",
     "text": [
      "\n"
     ]
    },
    {
     "name": "stderr",
     "output_type": "stream",
     "text": [
      "INFO:drizzlepac.imgclasses:RMS_RA: 1.2e-06 (deg)   RMS_DEC: 5e-07 (deg)\n"
     ]
    },
    {
     "name": "stdout",
     "output_type": "stream",
     "text": [
      "RMS_RA: 1.2e-06 (deg)   RMS_DEC: 5e-07 (deg)\n"
     ]
    },
    {
     "name": "stderr",
     "output_type": "stream",
     "text": [
      "INFO:drizzlepac.imgclasses:\n"
     ]
    },
    {
     "name": "stdout",
     "output_type": "stream",
     "text": [
      "\n"
     ]
    },
    {
     "name": "stderr",
     "output_type": "stream",
     "text": [
      "INFO:drizzlepac.imgclasses:Final solution based on  37  objects.\n"
     ]
    },
    {
     "name": "stdout",
     "output_type": "stream",
     "text": [
      "Final solution based on  37  objects.\n"
     ]
    },
    {
     "name": "stderr",
     "output_type": "stream",
     "text": [
      "INFO:drizzlepac.imgclasses:Creating catalog for the fit: j8xi0xs3q_flc_catalog_fit.match\n",
      "INFO:drizzlepac.tweakutils:wrote XY data to:  j8xi0xs3q_flc_catalog_fit.match\n"
     ]
    },
    {
     "name": "stdout",
     "output_type": "stream",
     "text": [
      "wrote XY data to:  j8xi0xs3q_flc_catalog_fit.match\n"
     ]
    },
    {
     "name": "stderr",
     "output_type": "stream",
     "text": [
      "INFO:drizzlepac.tweakutils:Total # points: 37\n"
     ]
    },
    {
     "name": "stdout",
     "output_type": "stream",
     "text": [
      "Total # points: 37\n"
     ]
    },
    {
     "name": "stderr",
     "output_type": "stream",
     "text": [
      "INFO:drizzlepac.tweakutils:# of points after clipping: 37\n"
     ]
    },
    {
     "name": "stdout",
     "output_type": "stream",
     "text": [
      "# of points after clipping: 37\n"
     ]
    },
    {
     "name": "stderr",
     "output_type": "stream",
     "text": [
      "INFO:drizzlepac.tweakutils:Total # points: 37\n"
     ]
    },
    {
     "name": "stdout",
     "output_type": "stream",
     "text": [
      "Total # points: 37\n"
     ]
    },
    {
     "name": "stderr",
     "output_type": "stream",
     "text": [
      "INFO:drizzlepac.tweakutils:# of points after clipping: 37\n"
     ]
    },
    {
     "name": "stdout",
     "output_type": "stream",
     "text": [
      "# of points after clipping: 37\n"
     ]
    },
    {
     "name": "stderr",
     "output_type": "stream",
     "text": [
      "INFO:drizzlepac.updatehdr:....Updating header for 'j8xi0xs3q_flc.fits' ...\n",
      "INFO:drizzlepac.updatehdr:Processing j8xi0xs3q_flc.fits['SCI',1]\n",
      "INFO:drizzlepac.updatehdr:Updating header for j8xi0xs3q_flc.fits[1]\n",
      "INFO:drizzlepac.updatehdr:Processing j8xi0xs3q_flc.fits['SCI',2]\n",
      "INFO:drizzlepac.updatehdr:Updating header for j8xi0xs3q_flc.fits[4]\n",
      "INFO:drizzlepac.tweakreg:\n"
     ]
    },
    {
     "name": "stdout",
     "output_type": "stream",
     "text": [
      "\n"
     ]
    },
    {
     "name": "stderr",
     "output_type": "stream",
     "text": [
      "INFO:drizzlepac.tweakreg:====================\n"
     ]
    },
    {
     "name": "stdout",
     "output_type": "stream",
     "text": [
      "====================\n"
     ]
    },
    {
     "name": "stderr",
     "output_type": "stream",
     "text": [
      "INFO:drizzlepac.tweakreg:Performing fit for: j8xi0xs0q_flc.fits\n"
     ]
    },
    {
     "name": "stdout",
     "output_type": "stream",
     "text": [
      "Performing fit for: j8xi0xs0q_flc.fits\n"
     ]
    },
    {
     "name": "stderr",
     "output_type": "stream",
     "text": [
      "INFO:drizzlepac.tweakreg:\n"
     ]
    },
    {
     "name": "stdout",
     "output_type": "stream",
     "text": [
      "\n"
     ]
    },
    {
     "name": "stderr",
     "output_type": "stream",
     "text": [
      "INFO:drizzlepac.imgclasses:Matching sources from 'j8xi0xs0q_flc.fits' with sources from reference image 'j8xi0xsaq_flc.fits'\n"
     ]
    },
    {
     "name": "stdout",
     "output_type": "stream",
     "text": [
      "Matching sources from 'j8xi0xs0q_flc.fits' with sources from reference image 'j8xi0xsaq_flc.fits'\n"
     ]
    },
    {
     "name": "stderr",
     "output_type": "stream",
     "text": [
      "INFO:drizzlepac.imgclasses:Computing initial guess for X and Y shifts...\n"
     ]
    },
    {
     "name": "stdout",
     "output_type": "stream",
     "text": [
      "Computing initial guess for X and Y shifts...\n"
     ]
    },
    {
     "name": "stderr",
     "output_type": "stream",
     "text": [
      "INFO:drizzlepac.imgclasses:Found initial X and Y shifts of -0.1499, -0.3232 with significance of 36.1 and 59 matches\n"
     ]
    },
    {
     "name": "stdout",
     "output_type": "stream",
     "text": [
      "Found initial X and Y shifts of -0.1499, -0.3232 with significance of 36.1 and 59 matches\n"
     ]
    },
    {
     "name": "stderr",
     "output_type": "stream",
     "text": [
      "INFO:drizzlepac.imgclasses:Found 41 matches for j8xi0xs0q_flc.fits...\n"
     ]
    },
    {
     "name": "stdout",
     "output_type": "stream",
     "text": [
      "Found 41 matches for j8xi0xs0q_flc.fits...\n"
     ]
    },
    {
     "name": "stderr",
     "output_type": "stream",
     "text": [
      "INFO:drizzlepac.linearfit:Performing \"rscale\" fit\n",
      "INFO:drizzlepac.linearfit:Performing \"rscale\" fit\n",
      "INFO:drizzlepac.linearfit:Performing \"rscale\" fit\n",
      "INFO:drizzlepac.linearfit:Performing \"rscale\" fit\n",
      "INFO:drizzlepac.imgclasses:Computed  rscale  fit for  j8xi0xs0q_flc.fits : \n"
     ]
    },
    {
     "name": "stdout",
     "output_type": "stream",
     "text": [
      "Computed  rscale  fit for  j8xi0xs0q_flc.fits : \n"
     ]
    },
    {
     "name": "stderr",
     "output_type": "stream",
     "text": [
      "INFO:drizzlepac.imgclasses:XSH: 0.0978  YSH: 0.1578    ROT: 0.001305751354    SCALE: 1.000016\n"
     ]
    },
    {
     "name": "stdout",
     "output_type": "stream",
     "text": [
      "XSH: 0.0978  YSH: 0.1578    ROT: 0.001305751354    SCALE: 1.000016\n"
     ]
    },
    {
     "name": "stderr",
     "output_type": "stream",
     "text": [
      "INFO:drizzlepac.imgclasses:FIT XRMS: 0.067      FIT YRMS: 0.059  \n"
     ]
    },
    {
     "name": "stdout",
     "output_type": "stream",
     "text": [
      "FIT XRMS: 0.067      FIT YRMS: 0.059  \n"
     ]
    },
    {
     "name": "stderr",
     "output_type": "stream",
     "text": [
      "INFO:drizzlepac.imgclasses:FIT RMSE: 0.089      FIT MAE: 0.07   \n"
     ]
    },
    {
     "name": "stdout",
     "output_type": "stream",
     "text": [
      "FIT RMSE: 0.089      FIT MAE: 0.07   \n"
     ]
    },
    {
     "name": "stderr",
     "output_type": "stream",
     "text": [
      "INFO:drizzlepac.imgclasses:\n"
     ]
    },
    {
     "name": "stdout",
     "output_type": "stream",
     "text": [
      "\n"
     ]
    },
    {
     "name": "stderr",
     "output_type": "stream",
     "text": [
      "INFO:drizzlepac.imgclasses:RMS_RA: 9.6e-07 (deg)   RMS_DEC: 7.8e-07 (deg)\n"
     ]
    },
    {
     "name": "stdout",
     "output_type": "stream",
     "text": [
      "RMS_RA: 9.6e-07 (deg)   RMS_DEC: 7.8e-07 (deg)\n"
     ]
    },
    {
     "name": "stderr",
     "output_type": "stream",
     "text": [
      "INFO:drizzlepac.imgclasses:\n"
     ]
    },
    {
     "name": "stdout",
     "output_type": "stream",
     "text": [
      "\n"
     ]
    },
    {
     "name": "stderr",
     "output_type": "stream",
     "text": [
      "INFO:drizzlepac.imgclasses:Final solution based on  39  objects.\n"
     ]
    },
    {
     "name": "stdout",
     "output_type": "stream",
     "text": [
      "Final solution based on  39  objects.\n"
     ]
    },
    {
     "name": "stderr",
     "output_type": "stream",
     "text": [
      "INFO:drizzlepac.imgclasses:Creating catalog for the fit: j8xi0xs0q_flc_catalog_fit.match\n",
      "INFO:drizzlepac.tweakutils:wrote XY data to:  j8xi0xs0q_flc_catalog_fit.match\n"
     ]
    },
    {
     "name": "stdout",
     "output_type": "stream",
     "text": [
      "wrote XY data to:  j8xi0xs0q_flc_catalog_fit.match\n"
     ]
    },
    {
     "name": "stderr",
     "output_type": "stream",
     "text": [
      "INFO:drizzlepac.tweakutils:Total # points: 39\n"
     ]
    },
    {
     "name": "stdout",
     "output_type": "stream",
     "text": [
      "Total # points: 39\n"
     ]
    },
    {
     "name": "stderr",
     "output_type": "stream",
     "text": [
      "INFO:drizzlepac.tweakutils:# of points after clipping: 39\n"
     ]
    },
    {
     "name": "stdout",
     "output_type": "stream",
     "text": [
      "# of points after clipping: 39\n"
     ]
    },
    {
     "name": "stderr",
     "output_type": "stream",
     "text": [
      "INFO:drizzlepac.tweakutils:Total # points: 39\n"
     ]
    },
    {
     "name": "stdout",
     "output_type": "stream",
     "text": [
      "Total # points: 39\n"
     ]
    },
    {
     "name": "stderr",
     "output_type": "stream",
     "text": [
      "INFO:drizzlepac.tweakutils:# of points after clipping: 39\n"
     ]
    },
    {
     "name": "stdout",
     "output_type": "stream",
     "text": [
      "# of points after clipping: 39\n"
     ]
    },
    {
     "name": "stderr",
     "output_type": "stream",
     "text": [
      "INFO:drizzlepac.updatehdr:....Updating header for 'j8xi0xs0q_flc.fits' ...\n",
      "INFO:drizzlepac.updatehdr:Processing j8xi0xs0q_flc.fits['SCI',1]\n",
      "INFO:drizzlepac.updatehdr:Updating header for j8xi0xs0q_flc.fits[1]\n",
      "INFO:drizzlepac.updatehdr:Processing j8xi0xs0q_flc.fits['SCI',2]\n",
      "INFO:drizzlepac.updatehdr:Updating header for j8xi0xs0q_flc.fits[4]\n",
      "INFO:drizzlepac.tweakutils:Writing out shiftfile : shift814_flc_test3.txt\n"
     ]
    },
    {
     "name": "stdout",
     "output_type": "stream",
     "text": [
      "Writing out shiftfile : shift814_flc_test3.txt\n"
     ]
    },
    {
     "name": "stderr",
     "output_type": "stream",
     "text": [
      "INFO:drizzlepac.util:Trailer file written to:  tweakreg.log\n"
     ]
    },
    {
     "name": "stdout",
     "output_type": "stream",
     "text": [
      "Trailer file written to:  tweakreg.log\n"
     ]
    }
   ],
   "source": [
    "tweakreg.TweakReg('@input_flc.list',\n",
    "                  imagefindcfg={'threshold': 100, 'conv_width': 6.0, 'dqbits': 0},\n",
    "                  shiftfile=True, outshifts='shift814_flc_test3.txt',\n",
    "                  updatehdr=False, interactive=False, ylimit=0.4)"
   ]
  },
  {
   "cell_type": "code",
   "execution_count": 17,
   "metadata": {
    "execution": {
     "iopub.execute_input": "2023-08-14T19:45:32.263088Z",
     "iopub.status.busy": "2023-08-14T19:45:32.262503Z",
     "iopub.status.idle": "2023-08-14T19:45:32.268161Z",
     "shell.execute_reply": "2023-08-14T19:45:32.267559Z"
    }
   },
   "outputs": [],
   "source": [
    "# Give the 'fit residual plots' a unique name for comparison with other tests.\n",
    "residual_pngs = glob.glob(\"residual*png\")\n",
    "for png in residual_pngs: \n",
    "    path = os.path.abspath(os.path.join(os.curdir, png))\n",
    "    new_path = os.path.abspath(os.path.join(os.curdir, 'test3_{}'.format(png)))\n",
    "    os.rename(path, new_path)   "
   ]
  },
  {
   "cell_type": "markdown",
   "metadata": {},
   "source": [
    "In this third test, TweakReg again finds ~40 matches per frame, but with spurious detections eliminated has an easier time locking onto the correct solution.  The fit residuals below all have an RMS ~0.1 pixels and the points are all clustered around dx,dy=0."
   ]
  },
  {
   "cell_type": "code",
   "execution_count": 18,
   "metadata": {
    "execution": {
     "iopub.execute_input": "2023-08-14T19:45:32.271623Z",
     "iopub.status.busy": "2023-08-14T19:45:32.270903Z",
     "iopub.status.idle": "2023-08-14T19:45:32.279138Z",
     "shell.execute_reply": "2023-08-14T19:45:32.278596Z"
    }
   },
   "outputs": [
    {
     "data": {
      "image/png": "[encoded data removed]",
      "text/plain": [
       "<IPython.core.display.Image object>"
      ]
     },
     "execution_count": 18,
     "metadata": {},
     "output_type": "execute_result"
    }
   ],
   "source": [
    "Image(filename='test3_residuals_j8xi0xs0q_flc.png')"
   ]
  },
  {
   "cell_type": "code",
   "execution_count": 19,
   "metadata": {
    "execution": {
     "iopub.execute_input": "2023-08-14T19:45:32.282385Z",
     "iopub.status.busy": "2023-08-14T19:45:32.281763Z",
     "iopub.status.idle": "2023-08-14T19:45:32.289951Z",
     "shell.execute_reply": "2023-08-14T19:45:32.289385Z"
    }
   },
   "outputs": [
    {
     "data": {
      "image/png": "[encoded data removed]",
      "text/plain": [
       "<IPython.core.display.Image object>"
      ]
     },
     "execution_count": 19,
     "metadata": {},
     "output_type": "execute_result"
    }
   ],
   "source": [
    "Image(filename='test3_residuals_j8xi0xs3q_flc.png')"
   ]
  },
  {
   "cell_type": "code",
   "execution_count": 20,
   "metadata": {
    "execution": {
     "iopub.execute_input": "2023-08-14T19:45:32.293572Z",
     "iopub.status.busy": "2023-08-14T19:45:32.292706Z",
     "iopub.status.idle": "2023-08-14T19:45:32.304077Z",
     "shell.execute_reply": "2023-08-14T19:45:32.303355Z"
    }
   },
   "outputs": [
    {
     "data": {
      "image/png": "[encoded data removed]",
      "text/plain": [
       "<IPython.core.display.Image object>"
      ]
     },
     "execution_count": 20,
     "metadata": {},
     "output_type": "execute_result"
    }
   ],
   "source": [
    "Image(filename='test3_residuals_j8xi0xs6q_flc.png')"
   ]
  },
  {
   "cell_type": "code",
   "execution_count": 21,
   "metadata": {
    "execution": {
     "iopub.execute_input": "2023-08-14T19:45:32.307281Z",
     "iopub.status.busy": "2023-08-14T19:45:32.306902Z",
     "iopub.status.idle": "2023-08-14T19:45:32.319287Z",
     "shell.execute_reply": "2023-08-14T19:45:32.318732Z"
    }
   },
   "outputs": [
    {
     "data": {
      "text/html": [
       "<div><i>Table length=4</i>\n",
       "<table id=\"table140580803090064\" class=\"table-striped table-bordered table-condensed\">\n",
       "<thead><tr><th>file</th><th>dx</th><th>dy</th><th>rot</th><th>scale</th><th>xrms</th><th>yrms</th></tr></thead>\n",
       "<thead><tr><th>str18</th><th>float64</th><th>float64</th><th>float64</th><th>float64</th><th>float64</th><th>float64</th></tr></thead>\n",
       "<tr><td>j8xi0xsaq_flc.fits</td><td>0.00</td><td>0.00</td><td>0.000</td><td>1.00000</td><td>0.00</td><td>0.00</td></tr>\n",
       "<tr><td>j8xi0xs6q_flc.fits</td><td>-0.00</td><td>0.10</td><td>0.000</td><td>1.00002</td><td>0.06</td><td>0.07</td></tr>\n",
       "<tr><td>j8xi0xs3q_flc.fits</td><td>0.09</td><td>0.14</td><td>0.001</td><td>1.00003</td><td>0.05</td><td>0.08</td></tr>\n",
       "<tr><td>j8xi0xs0q_flc.fits</td><td>0.10</td><td>0.16</td><td>0.001</td><td>1.00002</td><td>0.07</td><td>0.06</td></tr>\n",
       "</table></div>"
      ],
      "text/plain": [
       "<Table length=4>\n",
       "       file           dx      dy     rot    scale    xrms    yrms \n",
       "      str18        float64 float64 float64 float64 float64 float64\n",
       "------------------ ------- ------- ------- ------- ------- -------\n",
       "j8xi0xsaq_flc.fits    0.00    0.00   0.000 1.00000    0.00    0.00\n",
       "j8xi0xs6q_flc.fits   -0.00    0.10   0.000 1.00002    0.06    0.07\n",
       "j8xi0xs3q_flc.fits    0.09    0.14   0.001 1.00003    0.05    0.08\n",
       "j8xi0xs0q_flc.fits    0.10    0.16   0.001 1.00002    0.07    0.06"
      ]
     },
     "execution_count": 21,
     "metadata": {},
     "output_type": "execute_result"
    }
   ],
   "source": [
    "# Inspect the shift file for Test2\n",
    "shift_table = Table.read('shift814_flc_test3.txt', format='ascii.no_header',\n",
    "                         names=['file', 'dx', 'dy', 'rot', 'scale', 'xrms', 'yrms'])\n",
    "formats = ['.2f', '.2f', '.3f', '.5f', '.2f', '.2f']\n",
    "for i, col in enumerate(shift_table.colnames[1:]):\n",
    "    shift_table[col].format = formats[i]\n",
    "shift_table"
   ]
  },
  {
   "cell_type": "markdown",
   "metadata": {},
   "source": [
    "## 3d. Rerun TweakReg to update the header WCS\n",
    "\n",
    "Now run TweakReg with `updatehdr=True` to update the image headers with this solution."
   ]
  },
  {
   "cell_type": "code",
   "execution_count": 22,
   "metadata": {
    "execution": {
     "iopub.execute_input": "2023-08-14T19:45:32.322794Z",
     "iopub.status.busy": "2023-08-14T19:45:32.322394Z",
     "iopub.status.idle": "2023-08-14T19:45:48.576381Z",
     "shell.execute_reply": "2023-08-14T19:45:48.575505Z"
    }
   },
   "outputs": [
    {
     "name": "stderr",
     "output_type": "stream",
     "text": [
      "INFO:drizzlepac.util:Setting up logfile :  tweakreg.log\n"
     ]
    },
    {
     "name": "stdout",
     "output_type": "stream",
     "text": [
      "Setting up logfile :  tweakreg.log\n"
     ]
    },
    {
     "name": "stderr",
     "output_type": "stream",
     "text": [
      "INFO:drizzlepac.tweakreg:TweakReg Version 3.5.1 started at: 19:45:32.378 (14/08/2023) \n"
     ]
    },
    {
     "name": "stdout",
     "output_type": "stream",
     "text": [
      "TweakReg Version 3.5.1 started at: 19:45:32.378 (14/08/2023) \n"
     ]
    },
    {
     "name": "stderr",
     "output_type": "stream",
     "text": [
      "INFO:drizzlepac.tweakreg:\n"
     ]
    },
    {
     "name": "stdout",
     "output_type": "stream",
     "text": [
      "\n"
     ]
    },
    {
     "name": "stderr",
     "output_type": "stream",
     "text": [
      "INFO:drizzlepac.util:Version Information\n"
     ]
    },
    {
     "name": "stdout",
     "output_type": "stream",
     "text": [
      "Version Information\n"
     ]
    },
    {
     "name": "stderr",
     "output_type": "stream",
     "text": [
      "INFO:drizzlepac.util:--------------------\n"
     ]
    },
    {
     "name": "stdout",
     "output_type": "stream",
     "text": [
      "--------------------\n"
     ]
    },
    {
     "name": "stderr",
     "output_type": "stream",
     "text": [
      "INFO:drizzlepac.util:Python Version 3.11.4 (main, Jun  7 2023, 11:01:02) [GCC 11.3.0]\n"
     ]
    },
    {
     "name": "stdout",
     "output_type": "stream",
     "text": [
      "Python Version 3.11.4 (main, Jun  7 2023, 11:01:02) [GCC 11.3.0]\n"
     ]
    },
    {
     "name": "stderr",
     "output_type": "stream",
     "text": [
      "INFO:drizzlepac.util:numpy Version -> 1.25.2 \n"
     ]
    },
    {
     "name": "stdout",
     "output_type": "stream",
     "text": [
      "numpy Version -> 1.25.2 \n"
     ]
    },
    {
     "name": "stderr",
     "output_type": "stream",
     "text": [
      "INFO:drizzlepac.util:astropy Version -> 5.2.1 \n"
     ]
    },
    {
     "name": "stdout",
     "output_type": "stream",
     "text": [
      "astropy Version -> 5.2.1 \n"
     ]
    },
    {
     "name": "stderr",
     "output_type": "stream",
     "text": [
      "INFO:drizzlepac.util:stwcs Version -> 1.7.2 \n"
     ]
    },
    {
     "name": "stdout",
     "output_type": "stream",
     "text": [
      "stwcs Version -> 1.7.2 \n"
     ]
    },
    {
     "name": "stderr",
     "output_type": "stream",
     "text": [
      "INFO:drizzlepac.util:photutils Version -> 1.8.0 \n"
     ]
    },
    {
     "name": "stdout",
     "output_type": "stream",
     "text": [
      "photutils Version -> 1.8.0 \n"
     ]
    },
    {
     "name": "stderr",
     "output_type": "stream",
     "text": [
      "INFO:drizzlepac.tweakreg:\n",
      "INFO:drizzlepac.tweakreg:USER INPUT PARAMETERS common to all Processing Steps:\n",
      "INFO:drizzlepac.tweakreg:\tclean :\tFalse\n",
      "INFO:drizzlepac.tweakreg:\tenforce_user_order :\tTrue\n",
      "INFO:drizzlepac.tweakreg:\texclusions :\t\n",
      "INFO:drizzlepac.tweakreg:\texpand_refcat :\tFalse\n",
      "INFO:drizzlepac.tweakreg:\tinput :\t@input_flc.list\n",
      "INFO:drizzlepac.tweakreg:\tinteractive :\tFalse\n",
      "INFO:drizzlepac.tweakreg:\trefimage :\t\n",
      "INFO:drizzlepac.tweakreg:\trunfile :\ttweakreg.log\n",
      "INFO:drizzlepac.tweakreg:\tupdatewcs :\tFalse\n",
      "INFO:drizzlepac.tweakreg:\tverbose :\tFalse\n",
      "INFO:drizzlepac.tweakreg:\twritecat :\tTrue\n",
      "INFO:drizzlepac.tweakutils:j8xi0xsaq_flc.fits   \n"
     ]
    },
    {
     "name": "stdout",
     "output_type": "stream",
     "text": [
      "j8xi0xsaq_flc.fits   \n"
     ]
    },
    {
     "name": "stderr",
     "output_type": "stream",
     "text": [
      "INFO:drizzlepac.tweakutils:\n"
     ]
    },
    {
     "name": "stdout",
     "output_type": "stream",
     "text": [
      "\n"
     ]
    },
    {
     "name": "stderr",
     "output_type": "stream",
     "text": [
      "INFO:drizzlepac.tweakreg:\n"
     ]
    },
    {
     "name": "stdout",
     "output_type": "stream",
     "text": [
      "\n"
     ]
    },
    {
     "name": "stderr",
     "output_type": "stream",
     "text": [
      "INFO:drizzlepac.tweakreg:Finding shifts for: \n"
     ]
    },
    {
     "name": "stdout",
     "output_type": "stream",
     "text": [
      "Finding shifts for: \n"
     ]
    },
    {
     "name": "stderr",
     "output_type": "stream",
     "text": [
      "INFO:drizzlepac.tweakreg:    j8xi0xsaq_flc.fits\n"
     ]
    },
    {
     "name": "stdout",
     "output_type": "stream",
     "text": [
      "    j8xi0xsaq_flc.fits\n"
     ]
    },
    {
     "name": "stderr",
     "output_type": "stream",
     "text": [
      "INFO:drizzlepac.tweakreg:    j8xi0xs6q_flc.fits\n"
     ]
    },
    {
     "name": "stdout",
     "output_type": "stream",
     "text": [
      "    j8xi0xs6q_flc.fits\n"
     ]
    },
    {
     "name": "stderr",
     "output_type": "stream",
     "text": [
      "INFO:drizzlepac.tweakreg:    j8xi0xs3q_flc.fits\n"
     ]
    },
    {
     "name": "stdout",
     "output_type": "stream",
     "text": [
      "    j8xi0xs3q_flc.fits\n"
     ]
    },
    {
     "name": "stderr",
     "output_type": "stream",
     "text": [
      "INFO:drizzlepac.tweakreg:    j8xi0xs0q_flc.fits\n"
     ]
    },
    {
     "name": "stdout",
     "output_type": "stream",
     "text": [
      "    j8xi0xs0q_flc.fits\n"
     ]
    },
    {
     "name": "stderr",
     "output_type": "stream",
     "text": [
      "INFO:drizzlepac.tweakreg:\n"
     ]
    },
    {
     "name": "stdout",
     "output_type": "stream",
     "text": [
      "\n"
     ]
    },
    {
     "name": "stderr",
     "output_type": "stream",
     "text": [
      "INFO:drizzlepac.tweakreg:USER INPUT PARAMETERS for finding sources for each input image:\n",
      "INFO:drizzlepac.tweakreg:\tclean :\tFalse\n",
      "INFO:drizzlepac.tweakreg:\tcomputesig :\tTrue\n",
      "INFO:drizzlepac.tweakreg:\tconv_width :\t6.0\n",
      "INFO:drizzlepac.tweakreg:\tdqbits :\t0\n",
      "INFO:drizzlepac.tweakreg:\tenforce_user_order :\tTrue\n",
      "INFO:drizzlepac.tweakreg:\texpand_refcat :\tFalse\n",
      "INFO:drizzlepac.tweakreg:\tfluxmax :\tNone\n",
      "INFO:drizzlepac.tweakreg:\tfluxmin :\tNone\n",
      "INFO:drizzlepac.tweakreg:\tinput :\t@input_flc.list\n",
      "INFO:drizzlepac.tweakreg:\tinteractive :\tFalse\n",
      "INFO:drizzlepac.tweakreg:\tnsigma :\t1.5\n",
      "INFO:drizzlepac.tweakreg:\tpeakmax :\tNone\n",
      "INFO:drizzlepac.tweakreg:\tpeakmin :\tNone\n",
      "INFO:drizzlepac.tweakreg:\tratio :\t1.0\n",
      "INFO:drizzlepac.tweakreg:\trefimage :\t\n",
      "INFO:drizzlepac.tweakreg:\troundhi :\t1.0\n",
      "INFO:drizzlepac.tweakreg:\troundlo :\t-1.0\n",
      "INFO:drizzlepac.tweakreg:\trunfile :\ttweakreg.log\n",
      "INFO:drizzlepac.tweakreg:\tsharphi :\t1.0\n",
      "INFO:drizzlepac.tweakreg:\tsharplo :\t0.2\n",
      "INFO:drizzlepac.tweakreg:\tskysigma :\t0.0\n",
      "INFO:drizzlepac.tweakreg:\ttheta :\t0.0\n",
      "INFO:drizzlepac.tweakreg:\tthreshold :\t100\n",
      "INFO:drizzlepac.tweakreg:\tupdatehdr :\tTrue\n",
      "INFO:drizzlepac.tweakreg:\tupdatewcs :\tFalse\n",
      "INFO:drizzlepac.tweakreg:\tuse_sharp_round :\tFalse\n",
      "INFO:drizzlepac.tweakreg:\tverbose :\tFalse\n",
      "INFO:drizzlepac.tweakreg:\twritecat :\tTrue\n",
      "INFO:drizzlepac.tweakreg:\txyunits :\tpixels\n",
      "INFO:drizzlepac.tweakreg:\n",
      "INFO:drizzlepac.imgclasses:===  Source finding for image 'j8xi0xsaq_flc.fits':\n"
     ]
    },
    {
     "name": "stdout",
     "output_type": "stream",
     "text": [
      "===  Source finding for image 'j8xi0xsaq_flc.fits':\n"
     ]
    },
    {
     "name": "stderr",
     "output_type": "stream",
     "text": [
      "INFO:drizzlepac.catalogs:  #  Source finding for 'j8xi0xsaq_flc.fits', EXT=('SCI', 1) started at: 19:45:32.755 (14/08/2023)\n"
     ]
    },
    {
     "name": "stdout",
     "output_type": "stream",
     "text": [
      "  #  Source finding for 'j8xi0xsaq_flc.fits', EXT=('SCI', 1) started at: 19:45:32.755 (14/08/2023)\n"
     ]
    },
    {
     "name": "stderr",
     "output_type": "stream",
     "text": [
      "INFO:drizzlepac.catalogs:   Finding sources using sky sigma = 10.055177\n",
      "INFO:drizzlepac.catalogs:###Source finding finished at: 19:45:33.753 (14/08/2023)\n",
      "INFO:drizzlepac.catalogs:     Found 1149 objects.\n"
     ]
    },
    {
     "name": "stdout",
     "output_type": "stream",
     "text": [
      "     Found 1149 objects.\n"
     ]
    },
    {
     "name": "stderr",
     "output_type": "stream",
     "text": [
      "INFO:drizzlepac.catalogs:  #  Source finding for 'j8xi0xsaq_flc.fits', EXT=('SCI', 2) started at: 19:45:33.846 (14/08/2023)\n"
     ]
    },
    {
     "name": "stdout",
     "output_type": "stream",
     "text": [
      "  #  Source finding for 'j8xi0xsaq_flc.fits', EXT=('SCI', 2) started at: 19:45:33.846 (14/08/2023)\n"
     ]
    },
    {
     "name": "stderr",
     "output_type": "stream",
     "text": [
      "INFO:drizzlepac.catalogs:   Finding sources using sky sigma = 9.991610\n",
      "INFO:drizzlepac.catalogs:###Source finding finished at: 19:45:34.82 (14/08/2023)\n",
      "INFO:drizzlepac.catalogs:     Found 940 objects.\n"
     ]
    },
    {
     "name": "stdout",
     "output_type": "stream",
     "text": [
      "     Found 940 objects.\n"
     ]
    },
    {
     "name": "stderr",
     "output_type": "stream",
     "text": [
      "INFO:drizzlepac.imgclasses:===  FINAL number of objects in image 'j8xi0xsaq_flc.fits': 2089\n"
     ]
    },
    {
     "name": "stdout",
     "output_type": "stream",
     "text": [
      "===  FINAL number of objects in image 'j8xi0xsaq_flc.fits': 2089\n"
     ]
    },
    {
     "name": "stderr",
     "output_type": "stream",
     "text": [
      "INFO:drizzlepac.imgclasses:\n"
     ]
    },
    {
     "name": "stdout",
     "output_type": "stream",
     "text": [
      "\n"
     ]
    },
    {
     "name": "stderr",
     "output_type": "stream",
     "text": [
      "INFO:drizzlepac.imgclasses:===  Source finding for image 'j8xi0xs6q_flc.fits':\n"
     ]
    },
    {
     "name": "stdout",
     "output_type": "stream",
     "text": [
      "===  Source finding for image 'j8xi0xs6q_flc.fits':\n"
     ]
    },
    {
     "name": "stderr",
     "output_type": "stream",
     "text": [
      "INFO:drizzlepac.catalogs:  #  Source finding for 'j8xi0xs6q_flc.fits', EXT=('SCI', 1) started at: 19:45:35.446 (14/08/2023)\n"
     ]
    },
    {
     "name": "stdout",
     "output_type": "stream",
     "text": [
      "  #  Source finding for 'j8xi0xs6q_flc.fits', EXT=('SCI', 1) started at: 19:45:35.446 (14/08/2023)\n"
     ]
    },
    {
     "name": "stderr",
     "output_type": "stream",
     "text": [
      "INFO:drizzlepac.catalogs:   Finding sources using sky sigma = 10.078989\n",
      "INFO:drizzlepac.catalogs:###Source finding finished at: 19:45:36.420 (14/08/2023)\n",
      "INFO:drizzlepac.catalogs:     Found 757 objects.\n"
     ]
    },
    {
     "name": "stdout",
     "output_type": "stream",
     "text": [
      "     Found 757 objects.\n"
     ]
    },
    {
     "name": "stderr",
     "output_type": "stream",
     "text": [
      "INFO:drizzlepac.catalogs:  #  Source finding for 'j8xi0xs6q_flc.fits', EXT=('SCI', 2) started at: 19:45:36.511 (14/08/2023)\n"
     ]
    },
    {
     "name": "stdout",
     "output_type": "stream",
     "text": [
      "  #  Source finding for 'j8xi0xs6q_flc.fits', EXT=('SCI', 2) started at: 19:45:36.511 (14/08/2023)\n"
     ]
    },
    {
     "name": "stderr",
     "output_type": "stream",
     "text": [
      "INFO:drizzlepac.catalogs:   Finding sources using sky sigma = 9.974127\n",
      "INFO:drizzlepac.catalogs:###Source finding finished at: 19:45:37.486 (14/08/2023)\n",
      "INFO:drizzlepac.catalogs:     Found 713 objects.\n"
     ]
    },
    {
     "name": "stdout",
     "output_type": "stream",
     "text": [
      "     Found 713 objects.\n"
     ]
    },
    {
     "name": "stderr",
     "output_type": "stream",
     "text": [
      "INFO:drizzlepac.imgclasses:===  FINAL number of objects in image 'j8xi0xs6q_flc.fits': 1470\n"
     ]
    },
    {
     "name": "stdout",
     "output_type": "stream",
     "text": [
      "===  FINAL number of objects in image 'j8xi0xs6q_flc.fits': 1470\n"
     ]
    },
    {
     "name": "stderr",
     "output_type": "stream",
     "text": [
      "INFO:drizzlepac.imgclasses:\n"
     ]
    },
    {
     "name": "stdout",
     "output_type": "stream",
     "text": [
      "\n"
     ]
    },
    {
     "name": "stderr",
     "output_type": "stream",
     "text": [
      "INFO:drizzlepac.imgclasses:===  Source finding for image 'j8xi0xs3q_flc.fits':\n"
     ]
    },
    {
     "name": "stdout",
     "output_type": "stream",
     "text": [
      "===  Source finding for image 'j8xi0xs3q_flc.fits':\n"
     ]
    },
    {
     "name": "stderr",
     "output_type": "stream",
     "text": [
      "INFO:drizzlepac.catalogs:  #  Source finding for 'j8xi0xs3q_flc.fits', EXT=('SCI', 1) started at: 19:45:38.089 (14/08/2023)\n"
     ]
    },
    {
     "name": "stdout",
     "output_type": "stream",
     "text": [
      "  #  Source finding for 'j8xi0xs3q_flc.fits', EXT=('SCI', 1) started at: 19:45:38.089 (14/08/2023)\n"
     ]
    },
    {
     "name": "stderr",
     "output_type": "stream",
     "text": [
      "INFO:drizzlepac.catalogs:   Finding sources using sky sigma = 10.041938\n",
      "INFO:drizzlepac.catalogs:###Source finding finished at: 19:45:39.060 (14/08/2023)\n",
      "INFO:drizzlepac.catalogs:     Found 624 objects.\n"
     ]
    },
    {
     "name": "stdout",
     "output_type": "stream",
     "text": [
      "     Found 624 objects.\n"
     ]
    },
    {
     "name": "stderr",
     "output_type": "stream",
     "text": [
      "INFO:drizzlepac.catalogs:  #  Source finding for 'j8xi0xs3q_flc.fits', EXT=('SCI', 2) started at: 19:45:39.152 (14/08/2023)\n"
     ]
    },
    {
     "name": "stdout",
     "output_type": "stream",
     "text": [
      "  #  Source finding for 'j8xi0xs3q_flc.fits', EXT=('SCI', 2) started at: 19:45:39.152 (14/08/2023)\n"
     ]
    },
    {
     "name": "stderr",
     "output_type": "stream",
     "text": [
      "INFO:drizzlepac.catalogs:   Finding sources using sky sigma = 10.016332\n",
      "INFO:drizzlepac.catalogs:###Source finding finished at: 19:45:40.145 (14/08/2023)\n",
      "INFO:drizzlepac.catalogs:     Found 544 objects.\n"
     ]
    },
    {
     "name": "stdout",
     "output_type": "stream",
     "text": [
      "     Found 544 objects.\n"
     ]
    },
    {
     "name": "stderr",
     "output_type": "stream",
     "text": [
      "INFO:drizzlepac.imgclasses:===  FINAL number of objects in image 'j8xi0xs3q_flc.fits': 1168\n"
     ]
    },
    {
     "name": "stdout",
     "output_type": "stream",
     "text": [
      "===  FINAL number of objects in image 'j8xi0xs3q_flc.fits': 1168\n"
     ]
    },
    {
     "name": "stderr",
     "output_type": "stream",
     "text": [
      "INFO:drizzlepac.imgclasses:\n"
     ]
    },
    {
     "name": "stdout",
     "output_type": "stream",
     "text": [
      "\n"
     ]
    },
    {
     "name": "stderr",
     "output_type": "stream",
     "text": [
      "INFO:drizzlepac.imgclasses:===  Source finding for image 'j8xi0xs0q_flc.fits':\n"
     ]
    },
    {
     "name": "stdout",
     "output_type": "stream",
     "text": [
      "===  Source finding for image 'j8xi0xs0q_flc.fits':\n"
     ]
    },
    {
     "name": "stderr",
     "output_type": "stream",
     "text": [
      "INFO:drizzlepac.catalogs:  #  Source finding for 'j8xi0xs0q_flc.fits', EXT=('SCI', 1) started at: 19:45:40.633 (14/08/2023)\n"
     ]
    },
    {
     "name": "stdout",
     "output_type": "stream",
     "text": [
      "  #  Source finding for 'j8xi0xs0q_flc.fits', EXT=('SCI', 1) started at: 19:45:40.633 (14/08/2023)\n"
     ]
    },
    {
     "name": "stderr",
     "output_type": "stream",
     "text": [
      "INFO:drizzlepac.catalogs:   Finding sources using sky sigma = 10.523051\n",
      "INFO:drizzlepac.catalogs:###Source finding finished at: 19:45:41.630 (14/08/2023)\n",
      "INFO:drizzlepac.catalogs:     Found 620 objects.\n"
     ]
    },
    {
     "name": "stdout",
     "output_type": "stream",
     "text": [
      "     Found 620 objects.\n"
     ]
    },
    {
     "name": "stderr",
     "output_type": "stream",
     "text": [
      "INFO:drizzlepac.catalogs:  #  Source finding for 'j8xi0xs0q_flc.fits', EXT=('SCI', 2) started at: 19:45:41.726 (14/08/2023)\n"
     ]
    },
    {
     "name": "stdout",
     "output_type": "stream",
     "text": [
      "  #  Source finding for 'j8xi0xs0q_flc.fits', EXT=('SCI', 2) started at: 19:45:41.726 (14/08/2023)\n"
     ]
    },
    {
     "name": "stderr",
     "output_type": "stream",
     "text": [
      "INFO:drizzlepac.catalogs:   Finding sources using sky sigma = 10.572939\n",
      "INFO:drizzlepac.catalogs:###Source finding finished at: 19:45:42.877 (14/08/2023)\n",
      "INFO:drizzlepac.catalogs:     Found 622 objects.\n"
     ]
    },
    {
     "name": "stdout",
     "output_type": "stream",
     "text": [
      "     Found 622 objects.\n"
     ]
    },
    {
     "name": "stderr",
     "output_type": "stream",
     "text": [
      "INFO:drizzlepac.imgclasses:===  FINAL number of objects in image 'j8xi0xs0q_flc.fits': 1242\n"
     ]
    },
    {
     "name": "stdout",
     "output_type": "stream",
     "text": [
      "===  FINAL number of objects in image 'j8xi0xs0q_flc.fits': 1242\n"
     ]
    },
    {
     "name": "stderr",
     "output_type": "stream",
     "text": [
      "INFO:drizzlepac.imgclasses:\n"
     ]
    },
    {
     "name": "stdout",
     "output_type": "stream",
     "text": [
      "\n"
     ]
    },
    {
     "name": "stderr",
     "output_type": "stream",
     "text": [
      "INFO:drizzlepac.imgclasses:Converting RA/Dec positions of reference sources from \"j8xi0xsaq_flc.fits\" to X,Y positions in reference WCS...\n",
      "INFO:drizzlepac.tweakreg:\n"
     ]
    },
    {
     "name": "stdout",
     "output_type": "stream",
     "text": [
      "\n"
     ]
    },
    {
     "name": "stderr",
     "output_type": "stream",
     "text": [
      "INFO:drizzlepac.tweakreg:===============================================================\n"
     ]
    },
    {
     "name": "stdout",
     "output_type": "stream",
     "text": [
      "===============================================================\n"
     ]
    },
    {
     "name": "stderr",
     "output_type": "stream",
     "text": [
      "INFO:drizzlepac.tweakreg:Performing alignment in the projection plane defined by the WCS\n"
     ]
    },
    {
     "name": "stdout",
     "output_type": "stream",
     "text": [
      "Performing alignment in the projection plane defined by the WCS\n"
     ]
    },
    {
     "name": "stderr",
     "output_type": "stream",
     "text": [
      "INFO:drizzlepac.tweakreg:derived from 'j8xi0xsaq_flc.fits'\n"
     ]
    },
    {
     "name": "stdout",
     "output_type": "stream",
     "text": [
      "derived from 'j8xi0xsaq_flc.fits'\n"
     ]
    },
    {
     "name": "stderr",
     "output_type": "stream",
     "text": [
      "INFO:drizzlepac.tweakreg:===============================================================\n"
     ]
    },
    {
     "name": "stdout",
     "output_type": "stream",
     "text": [
      "===============================================================\n"
     ]
    },
    {
     "name": "stderr",
     "output_type": "stream",
     "text": [
      "INFO:drizzlepac.tweakreg:\n"
     ]
    },
    {
     "name": "stdout",
     "output_type": "stream",
     "text": [
      "\n"
     ]
    },
    {
     "name": "stderr",
     "output_type": "stream",
     "text": [
      "INFO:drizzlepac.tweakreg:USER INPUT PARAMETERS for matching sources:\n",
      "INFO:drizzlepac.tweakreg:\tminobj :\t15\n",
      "INFO:drizzlepac.tweakreg:\tresidplot :\tboth\n",
      "INFO:drizzlepac.tweakreg:\tsearchrad :\t1.0\n",
      "INFO:drizzlepac.tweakreg:\tsearchunits :\tarcseconds\n",
      "INFO:drizzlepac.tweakreg:\tsee2dplot :\tTrue\n",
      "INFO:drizzlepac.tweakreg:\tseparation :\t0.5\n",
      "INFO:drizzlepac.tweakreg:\ttolerance :\t1.0\n",
      "INFO:drizzlepac.tweakreg:\tuse2dhist :\tTrue\n",
      "INFO:drizzlepac.tweakreg:\txoffset :\t0.0\n",
      "INFO:drizzlepac.tweakreg:\tyoffset :\t0.0\n",
      "INFO:drizzlepac.tweakreg:\n",
      "INFO:drizzlepac.tweakreg:USER INPUT PARAMETERS for fitting source lists:\n",
      "INFO:drizzlepac.tweakreg:\tfitgeometry :\trscale\n",
      "INFO:drizzlepac.tweakreg:\tlabelsize :\t8\n",
      "INFO:drizzlepac.tweakreg:\tminobj :\t15\n",
      "INFO:drizzlepac.tweakreg:\tnclip :\t3\n",
      "INFO:drizzlepac.tweakreg:\tresidplot :\tboth\n",
      "INFO:drizzlepac.tweakreg:\tsigma :\t3.0\n",
      "INFO:drizzlepac.tweakreg:\tylimit :\tNone\n",
      "INFO:drizzlepac.tweakreg:\n"
     ]
    },
    {
     "name": "stdout",
     "output_type": "stream",
     "text": [
      "\n"
     ]
    },
    {
     "name": "stderr",
     "output_type": "stream",
     "text": [
      "INFO:drizzlepac.tweakreg:====================\n"
     ]
    },
    {
     "name": "stdout",
     "output_type": "stream",
     "text": [
      "====================\n"
     ]
    },
    {
     "name": "stderr",
     "output_type": "stream",
     "text": [
      "INFO:drizzlepac.tweakreg:Performing fit for: j8xi0xs6q_flc.fits\n"
     ]
    },
    {
     "name": "stdout",
     "output_type": "stream",
     "text": [
      "Performing fit for: j8xi0xs6q_flc.fits\n"
     ]
    },
    {
     "name": "stderr",
     "output_type": "stream",
     "text": [
      "INFO:drizzlepac.tweakreg:\n"
     ]
    },
    {
     "name": "stdout",
     "output_type": "stream",
     "text": [
      "\n"
     ]
    },
    {
     "name": "stderr",
     "output_type": "stream",
     "text": [
      "INFO:drizzlepac.imgclasses:Matching sources from 'j8xi0xs6q_flc.fits' with sources from reference image 'j8xi0xsaq_flc.fits'\n"
     ]
    },
    {
     "name": "stdout",
     "output_type": "stream",
     "text": [
      "Matching sources from 'j8xi0xs6q_flc.fits' with sources from reference image 'j8xi0xsaq_flc.fits'\n"
     ]
    },
    {
     "name": "stderr",
     "output_type": "stream",
     "text": [
      "INFO:drizzlepac.imgclasses:Computing initial guess for X and Y shifts...\n"
     ]
    },
    {
     "name": "stdout",
     "output_type": "stream",
     "text": [
      "Computing initial guess for X and Y shifts...\n"
     ]
    },
    {
     "name": "stderr",
     "output_type": "stream",
     "text": [
      "INFO:drizzlepac.imgclasses:Found initial X and Y shifts of 0.4377, -0.1161 with significance of 43.68 and 57 matches\n"
     ]
    },
    {
     "name": "stdout",
     "output_type": "stream",
     "text": [
      "Found initial X and Y shifts of 0.4377, -0.1161 with significance of 43.68 and 57 matches\n"
     ]
    },
    {
     "name": "stderr",
     "output_type": "stream",
     "text": [
      "INFO:drizzlepac.imgclasses:Found 51 matches for j8xi0xs6q_flc.fits...\n"
     ]
    },
    {
     "name": "stdout",
     "output_type": "stream",
     "text": [
      "Found 51 matches for j8xi0xs6q_flc.fits...\n"
     ]
    },
    {
     "name": "stderr",
     "output_type": "stream",
     "text": [
      "INFO:drizzlepac.linearfit:Performing \"rscale\" fit\n",
      "INFO:drizzlepac.linearfit:Performing \"rscale\" fit\n",
      "INFO:drizzlepac.linearfit:Performing \"rscale\" fit\n",
      "INFO:drizzlepac.linearfit:Performing \"rscale\" fit\n",
      "INFO:drizzlepac.imgclasses:Computed  rscale  fit for  j8xi0xs6q_flc.fits : \n"
     ]
    },
    {
     "name": "stdout",
     "output_type": "stream",
     "text": [
      "Computed  rscale  fit for  j8xi0xs6q_flc.fits : \n"
     ]
    },
    {
     "name": "stderr",
     "output_type": "stream",
     "text": [
      "INFO:drizzlepac.imgclasses:XSH: -0.0007  YSH: 0.1043    ROT: 0.0002371156048    SCALE: 1.000016\n"
     ]
    },
    {
     "name": "stdout",
     "output_type": "stream",
     "text": [
      "XSH: -0.0007  YSH: 0.1043    ROT: 0.0002371156048    SCALE: 1.000016\n"
     ]
    },
    {
     "name": "stderr",
     "output_type": "stream",
     "text": [
      "INFO:drizzlepac.imgclasses:FIT XRMS: 0.059      FIT YRMS: 0.074  \n"
     ]
    },
    {
     "name": "stdout",
     "output_type": "stream",
     "text": [
      "FIT XRMS: 0.059      FIT YRMS: 0.074  \n"
     ]
    },
    {
     "name": "stderr",
     "output_type": "stream",
     "text": [
      "INFO:drizzlepac.imgclasses:FIT RMSE: 0.095      FIT MAE: 0.076  \n"
     ]
    },
    {
     "name": "stdout",
     "output_type": "stream",
     "text": [
      "FIT RMSE: 0.095      FIT MAE: 0.076  \n"
     ]
    },
    {
     "name": "stderr",
     "output_type": "stream",
     "text": [
      "INFO:drizzlepac.imgclasses:\n"
     ]
    },
    {
     "name": "stdout",
     "output_type": "stream",
     "text": [
      "\n"
     ]
    },
    {
     "name": "stderr",
     "output_type": "stream",
     "text": [
      "INFO:drizzlepac.imgclasses:RMS_RA: 1.2e-06 (deg)   RMS_DEC: 6.3e-07 (deg)\n"
     ]
    },
    {
     "name": "stdout",
     "output_type": "stream",
     "text": [
      "RMS_RA: 1.2e-06 (deg)   RMS_DEC: 6.3e-07 (deg)\n"
     ]
    },
    {
     "name": "stderr",
     "output_type": "stream",
     "text": [
      "INFO:drizzlepac.imgclasses:\n"
     ]
    },
    {
     "name": "stdout",
     "output_type": "stream",
     "text": [
      "\n"
     ]
    },
    {
     "name": "stderr",
     "output_type": "stream",
     "text": [
      "INFO:drizzlepac.imgclasses:Final solution based on  44  objects.\n"
     ]
    },
    {
     "name": "stdout",
     "output_type": "stream",
     "text": [
      "Final solution based on  44  objects.\n"
     ]
    },
    {
     "name": "stderr",
     "output_type": "stream",
     "text": [
      "INFO:drizzlepac.imgclasses:Creating catalog for the fit: j8xi0xs6q_flc_catalog_fit.match\n",
      "INFO:drizzlepac.tweakutils:wrote XY data to:  j8xi0xs6q_flc_catalog_fit.match\n"
     ]
    },
    {
     "name": "stdout",
     "output_type": "stream",
     "text": [
      "wrote XY data to:  j8xi0xs6q_flc_catalog_fit.match\n"
     ]
    },
    {
     "name": "stderr",
     "output_type": "stream",
     "text": [
      "INFO:drizzlepac.tweakutils:Total # points: 44\n"
     ]
    },
    {
     "name": "stdout",
     "output_type": "stream",
     "text": [
      "Total # points: 44\n"
     ]
    },
    {
     "name": "stderr",
     "output_type": "stream",
     "text": [
      "INFO:drizzlepac.tweakutils:# of points after clipping: 44\n"
     ]
    },
    {
     "name": "stdout",
     "output_type": "stream",
     "text": [
      "# of points after clipping: 44\n"
     ]
    },
    {
     "name": "stderr",
     "output_type": "stream",
     "text": [
      "INFO:drizzlepac.tweakutils:Total # points: 44\n"
     ]
    },
    {
     "name": "stdout",
     "output_type": "stream",
     "text": [
      "Total # points: 44\n"
     ]
    },
    {
     "name": "stderr",
     "output_type": "stream",
     "text": [
      "INFO:drizzlepac.tweakutils:# of points after clipping: 44\n"
     ]
    },
    {
     "name": "stdout",
     "output_type": "stream",
     "text": [
      "# of points after clipping: 44\n"
     ]
    },
    {
     "name": "stderr",
     "output_type": "stream",
     "text": [
      "INFO:drizzlepac.updatehdr:\n"
     ]
    },
    {
     "name": "stdout",
     "output_type": "stream",
     "text": [
      "\n"
     ]
    },
    {
     "name": "stderr",
     "output_type": "stream",
     "text": [
      "INFO:drizzlepac.updatehdr:....Updating header for 'j8xi0xs6q_flc.fits' ...\n"
     ]
    },
    {
     "name": "stdout",
     "output_type": "stream",
     "text": [
      "....Updating header for 'j8xi0xs6q_flc.fits' ...\n"
     ]
    },
    {
     "name": "stderr",
     "output_type": "stream",
     "text": [
      "INFO:drizzlepac.updatehdr:\n"
     ]
    },
    {
     "name": "stdout",
     "output_type": "stream",
     "text": [
      "\n"
     ]
    },
    {
     "name": "stderr",
     "output_type": "stream",
     "text": [
      "INFO:drizzlepac.updatehdr:\n"
     ]
    },
    {
     "name": "stdout",
     "output_type": "stream",
     "text": [
      "\n"
     ]
    },
    {
     "name": "stderr",
     "output_type": "stream",
     "text": [
      "INFO:drizzlepac.updatehdr:Processing j8xi0xs6q_flc.fits['SCI',1]\n"
     ]
    },
    {
     "name": "stdout",
     "output_type": "stream",
     "text": [
      "Processing j8xi0xs6q_flc.fits['SCI',1]\n"
     ]
    },
    {
     "name": "stderr",
     "output_type": "stream",
     "text": [
      "INFO:drizzlepac.updatehdr:\n"
     ]
    },
    {
     "name": "stdout",
     "output_type": "stream",
     "text": [
      "\n"
     ]
    },
    {
     "name": "stderr",
     "output_type": "stream",
     "text": [
      "INFO:drizzlepac.updatehdr:Updating header for j8xi0xs6q_flc.fits[1]\n"
     ]
    },
    {
     "name": "stdout",
     "output_type": "stream",
     "text": [
      "Updating header for j8xi0xs6q_flc.fits[1]\n"
     ]
    },
    {
     "name": "stderr",
     "output_type": "stream",
     "text": [
      "INFO:drizzlepac.updatehdr:    with WCS of\n",
      "INFO:stwcs.wcsutil.hstwcs:WCS Keywords\n"
     ]
    },
    {
     "name": "stdout",
     "output_type": "stream",
     "text": [
      "WCS Keywords\n"
     ]
    },
    {
     "name": "stderr",
     "output_type": "stream",
     "text": [
      "INFO:stwcs.wcsutil.hstwcs:\n"
     ]
    },
    {
     "name": "stdout",
     "output_type": "stream",
     "text": [
      "\n"
     ]
    },
    {
     "name": "stderr",
     "output_type": "stream",
     "text": [
      "INFO:stwcs.wcsutil.hstwcs:CD_11  CD_12: 2.8080124020260445e-06 1.3843951623114113e-05\n"
     ]
    },
    {
     "name": "stdout",
     "output_type": "stream",
     "text": [
      "CD_11  CD_12: 2.8080124020260445e-06 1.3843951623114113e-05\n"
     ]
    },
    {
     "name": "stderr",
     "output_type": "stream",
     "text": [
      "INFO:stwcs.wcsutil.hstwcs:CD_21  CD_22: 1.355680009682568e-05 -1.8859714774256836e-06\n"
     ]
    },
    {
     "name": "stdout",
     "output_type": "stream",
     "text": [
      "CD_21  CD_22: 1.355680009682568e-05 -1.8859714774256836e-06\n"
     ]
    },
    {
     "name": "stderr",
     "output_type": "stream",
     "text": [
      "INFO:stwcs.wcsutil.hstwcs:CRVAL    : 150.18741686893645 2.6787647809321555\n"
     ]
    },
    {
     "name": "stdout",
     "output_type": "stream",
     "text": [
      "CRVAL    : 150.18741686893645 2.6787647809321555\n"
     ]
    },
    {
     "name": "stderr",
     "output_type": "stream",
     "text": [
      "INFO:stwcs.wcsutil.hstwcs:CRPIX    : 2048.0 1024.0\n"
     ]
    },
    {
     "name": "stdout",
     "output_type": "stream",
     "text": [
      "CRPIX    : 2048.0 1024.0\n"
     ]
    },
    {
     "name": "stderr",
     "output_type": "stream",
     "text": [
      "INFO:stwcs.wcsutil.hstwcs:NAXIS    : 4096 2048\n"
     ]
    },
    {
     "name": "stdout",
     "output_type": "stream",
     "text": [
      "NAXIS    : 4096 2048\n"
     ]
    },
    {
     "name": "stderr",
     "output_type": "stream",
     "text": [
      "INFO:stwcs.wcsutil.hstwcs:Plate Scale : 0.049841208478234804\n"
     ]
    },
    {
     "name": "stdout",
     "output_type": "stream",
     "text": [
      "Plate Scale : 0.049841208478234804\n"
     ]
    },
    {
     "name": "stderr",
     "output_type": "stream",
     "text": [
      "INFO:stwcs.wcsutil.hstwcs:ORIENTAT : 97.75768928436942\n"
     ]
    },
    {
     "name": "stdout",
     "output_type": "stream",
     "text": [
      "ORIENTAT : 97.75768928436942\n"
     ]
    },
    {
     "name": "stderr",
     "output_type": "stream",
     "text": [
      "INFO:drizzlepac.updatehdr:WCSNAME  :  TWEAK\n"
     ]
    },
    {
     "name": "stdout",
     "output_type": "stream",
     "text": [
      "WCSNAME  :  TWEAK\n"
     ]
    },
    {
     "name": "stderr",
     "output_type": "stream",
     "text": [
      "INFO:drizzlepac.updatehdr:\n"
     ]
    },
    {
     "name": "stdout",
     "output_type": "stream",
     "text": [
      "\n"
     ]
    },
    {
     "name": "stderr",
     "output_type": "stream",
     "text": [
      "INFO:drizzlepac.updatehdr:Processing j8xi0xs6q_flc.fits['SCI',2]\n"
     ]
    },
    {
     "name": "stdout",
     "output_type": "stream",
     "text": [
      "Processing j8xi0xs6q_flc.fits['SCI',2]\n"
     ]
    },
    {
     "name": "stderr",
     "output_type": "stream",
     "text": [
      "INFO:drizzlepac.updatehdr:\n"
     ]
    },
    {
     "name": "stdout",
     "output_type": "stream",
     "text": [
      "\n"
     ]
    },
    {
     "name": "stderr",
     "output_type": "stream",
     "text": [
      "INFO:drizzlepac.updatehdr:Updating header for j8xi0xs6q_flc.fits[4]\n"
     ]
    },
    {
     "name": "stdout",
     "output_type": "stream",
     "text": [
      "Updating header for j8xi0xs6q_flc.fits[4]\n"
     ]
    },
    {
     "name": "stderr",
     "output_type": "stream",
     "text": [
      "INFO:drizzlepac.updatehdr:    with WCS of\n",
      "INFO:stwcs.wcsutil.hstwcs:WCS Keywords\n"
     ]
    },
    {
     "name": "stdout",
     "output_type": "stream",
     "text": [
      "WCS Keywords\n"
     ]
    },
    {
     "name": "stderr",
     "output_type": "stream",
     "text": [
      "INFO:stwcs.wcsutil.hstwcs:\n"
     ]
    },
    {
     "name": "stdout",
     "output_type": "stream",
     "text": [
      "\n"
     ]
    },
    {
     "name": "stderr",
     "output_type": "stream",
     "text": [
      "INFO:stwcs.wcsutil.hstwcs:CD_11  CD_12: 2.9544973700619497e-06 1.3395587220909087e-05\n"
     ]
    },
    {
     "name": "stdout",
     "output_type": "stream",
     "text": [
      "CD_11  CD_12: 2.9544973700619497e-06 1.3395587220909087e-05\n"
     ]
    },
    {
     "name": "stderr",
     "output_type": "stream",
     "text": [
      "INFO:stwcs.wcsutil.hstwcs:CD_21  CD_22: 1.3359981273965333e-05 -1.7212045160430053e-06\n"
     ]
    },
    {
     "name": "stdout",
     "output_type": "stream",
     "text": [
      "CD_21  CD_22: 1.3359981273965333e-05 -1.7212045160430053e-06\n"
     ]
    },
    {
     "name": "stderr",
     "output_type": "stream",
     "text": [
      "INFO:stwcs.wcsutil.hstwcs:CRVAL    : 150.21606800075705 2.674926333917868\n"
     ]
    },
    {
     "name": "stdout",
     "output_type": "stream",
     "text": [
      "CRVAL    : 150.21606800075705 2.674926333917868\n"
     ]
    },
    {
     "name": "stderr",
     "output_type": "stream",
     "text": [
      "INFO:stwcs.wcsutil.hstwcs:CRPIX    : 2048.0 1024.0\n"
     ]
    },
    {
     "name": "stdout",
     "output_type": "stream",
     "text": [
      "CRPIX    : 2048.0 1024.0\n"
     ]
    },
    {
     "name": "stderr",
     "output_type": "stream",
     "text": [
      "INFO:stwcs.wcsutil.hstwcs:NAXIS    : 4096 2048\n"
     ]
    },
    {
     "name": "stdout",
     "output_type": "stream",
     "text": [
      "NAXIS    : 4096 2048\n"
     ]
    },
    {
     "name": "stderr",
     "output_type": "stream",
     "text": [
      "INFO:stwcs.wcsutil.hstwcs:Plate Scale : 0.04925876005314109\n"
     ]
    },
    {
     "name": "stdout",
     "output_type": "stream",
     "text": [
      "Plate Scale : 0.04925876005314109\n"
     ]
    },
    {
     "name": "stderr",
     "output_type": "stream",
     "text": [
      "INFO:stwcs.wcsutil.hstwcs:ORIENTAT : 97.32184017067897\n"
     ]
    },
    {
     "name": "stdout",
     "output_type": "stream",
     "text": [
      "ORIENTAT : 97.32184017067897\n"
     ]
    },
    {
     "name": "stderr",
     "output_type": "stream",
     "text": [
      "INFO:drizzlepac.updatehdr:WCSNAME  :  TWEAK\n"
     ]
    },
    {
     "name": "stdout",
     "output_type": "stream",
     "text": [
      "WCSNAME  :  TWEAK\n"
     ]
    },
    {
     "name": "stderr",
     "output_type": "stream",
     "text": [
      "INFO:drizzlepac.imgclasses:Updating WCSCORR table with new WCS solution \"TWEAK\"\n",
      "INFO:drizzlepac.tweakreg:\n"
     ]
    },
    {
     "name": "stdout",
     "output_type": "stream",
     "text": [
      "\n"
     ]
    },
    {
     "name": "stderr",
     "output_type": "stream",
     "text": [
      "INFO:drizzlepac.tweakreg:====================\n"
     ]
    },
    {
     "name": "stdout",
     "output_type": "stream",
     "text": [
      "====================\n"
     ]
    },
    {
     "name": "stderr",
     "output_type": "stream",
     "text": [
      "INFO:drizzlepac.tweakreg:Performing fit for: j8xi0xs3q_flc.fits\n"
     ]
    },
    {
     "name": "stdout",
     "output_type": "stream",
     "text": [
      "Performing fit for: j8xi0xs3q_flc.fits\n"
     ]
    },
    {
     "name": "stderr",
     "output_type": "stream",
     "text": [
      "INFO:drizzlepac.tweakreg:\n"
     ]
    },
    {
     "name": "stdout",
     "output_type": "stream",
     "text": [
      "\n"
     ]
    },
    {
     "name": "stderr",
     "output_type": "stream",
     "text": [
      "INFO:drizzlepac.imgclasses:Matching sources from 'j8xi0xs3q_flc.fits' with sources from reference image 'j8xi0xsaq_flc.fits'\n"
     ]
    },
    {
     "name": "stdout",
     "output_type": "stream",
     "text": [
      "Matching sources from 'j8xi0xs3q_flc.fits' with sources from reference image 'j8xi0xsaq_flc.fits'\n"
     ]
    },
    {
     "name": "stderr",
     "output_type": "stream",
     "text": [
      "INFO:drizzlepac.imgclasses:Computing initial guess for X and Y shifts...\n"
     ]
    },
    {
     "name": "stdout",
     "output_type": "stream",
     "text": [
      "Computing initial guess for X and Y shifts...\n"
     ]
    },
    {
     "name": "stderr",
     "output_type": "stream",
     "text": [
      "INFO:drizzlepac.imgclasses:Found initial X and Y shifts of 0.2918, 0.06694 with significance of 37.83 and 55 matches\n"
     ]
    },
    {
     "name": "stdout",
     "output_type": "stream",
     "text": [
      "Found initial X and Y shifts of 0.2918, 0.06694 with significance of 37.83 and 55 matches\n"
     ]
    },
    {
     "name": "stderr",
     "output_type": "stream",
     "text": [
      "INFO:drizzlepac.imgclasses:Found 44 matches for j8xi0xs3q_flc.fits...\n"
     ]
    },
    {
     "name": "stdout",
     "output_type": "stream",
     "text": [
      "Found 44 matches for j8xi0xs3q_flc.fits...\n"
     ]
    },
    {
     "name": "stderr",
     "output_type": "stream",
     "text": [
      "INFO:drizzlepac.linearfit:Performing \"rscale\" fit\n",
      "INFO:drizzlepac.linearfit:Performing \"rscale\" fit\n",
      "INFO:drizzlepac.linearfit:Performing \"rscale\" fit\n",
      "INFO:drizzlepac.linearfit:Performing \"rscale\" fit\n",
      "INFO:drizzlepac.imgclasses:Computed  rscale  fit for  j8xi0xs3q_flc.fits : \n"
     ]
    },
    {
     "name": "stdout",
     "output_type": "stream",
     "text": [
      "Computed  rscale  fit for  j8xi0xs3q_flc.fits : \n"
     ]
    },
    {
     "name": "stderr",
     "output_type": "stream",
     "text": [
      "INFO:drizzlepac.imgclasses:XSH: 0.0933  YSH: 0.1427    ROT: 0.001210361624    SCALE: 1.000030\n"
     ]
    },
    {
     "name": "stdout",
     "output_type": "stream",
     "text": [
      "XSH: 0.0933  YSH: 0.1427    ROT: 0.001210361624    SCALE: 1.000030\n"
     ]
    },
    {
     "name": "stderr",
     "output_type": "stream",
     "text": [
      "INFO:drizzlepac.imgclasses:FIT XRMS: 0.05       FIT YRMS: 0.076  \n"
     ]
    },
    {
     "name": "stdout",
     "output_type": "stream",
     "text": [
      "FIT XRMS: 0.05       FIT YRMS: 0.076  \n"
     ]
    },
    {
     "name": "stderr",
     "output_type": "stream",
     "text": [
      "INFO:drizzlepac.imgclasses:FIT RMSE: 0.091      FIT MAE: 0.068  \n"
     ]
    },
    {
     "name": "stdout",
     "output_type": "stream",
     "text": [
      "FIT RMSE: 0.091      FIT MAE: 0.068  \n"
     ]
    },
    {
     "name": "stderr",
     "output_type": "stream",
     "text": [
      "INFO:drizzlepac.imgclasses:\n"
     ]
    },
    {
     "name": "stdout",
     "output_type": "stream",
     "text": [
      "\n"
     ]
    },
    {
     "name": "stderr",
     "output_type": "stream",
     "text": [
      "INFO:drizzlepac.imgclasses:RMS_RA: 1.2e-06 (deg)   RMS_DEC: 5e-07 (deg)\n"
     ]
    },
    {
     "name": "stdout",
     "output_type": "stream",
     "text": [
      "RMS_RA: 1.2e-06 (deg)   RMS_DEC: 5e-07 (deg)\n"
     ]
    },
    {
     "name": "stderr",
     "output_type": "stream",
     "text": [
      "INFO:drizzlepac.imgclasses:\n"
     ]
    },
    {
     "name": "stdout",
     "output_type": "stream",
     "text": [
      "\n"
     ]
    },
    {
     "name": "stderr",
     "output_type": "stream",
     "text": [
      "INFO:drizzlepac.imgclasses:Final solution based on  37  objects.\n"
     ]
    },
    {
     "name": "stdout",
     "output_type": "stream",
     "text": [
      "Final solution based on  37  objects.\n"
     ]
    },
    {
     "name": "stderr",
     "output_type": "stream",
     "text": [
      "INFO:drizzlepac.imgclasses:Creating catalog for the fit: j8xi0xs3q_flc_catalog_fit.match\n",
      "INFO:drizzlepac.tweakutils:wrote XY data to:  j8xi0xs3q_flc_catalog_fit.match\n"
     ]
    },
    {
     "name": "stdout",
     "output_type": "stream",
     "text": [
      "wrote XY data to:  j8xi0xs3q_flc_catalog_fit.match\n"
     ]
    },
    {
     "name": "stderr",
     "output_type": "stream",
     "text": [
      "INFO:drizzlepac.tweakutils:Total # points: 37\n"
     ]
    },
    {
     "name": "stdout",
     "output_type": "stream",
     "text": [
      "Total # points: 37\n"
     ]
    },
    {
     "name": "stderr",
     "output_type": "stream",
     "text": [
      "INFO:drizzlepac.tweakutils:# of points after clipping: 37\n"
     ]
    },
    {
     "name": "stdout",
     "output_type": "stream",
     "text": [
      "# of points after clipping: 37\n"
     ]
    },
    {
     "name": "stderr",
     "output_type": "stream",
     "text": [
      "INFO:drizzlepac.tweakutils:Total # points: 37\n"
     ]
    },
    {
     "name": "stdout",
     "output_type": "stream",
     "text": [
      "Total # points: 37\n"
     ]
    },
    {
     "name": "stderr",
     "output_type": "stream",
     "text": [
      "INFO:drizzlepac.tweakutils:# of points after clipping: 37\n"
     ]
    },
    {
     "name": "stdout",
     "output_type": "stream",
     "text": [
      "# of points after clipping: 37\n"
     ]
    },
    {
     "name": "stderr",
     "output_type": "stream",
     "text": [
      "INFO:drizzlepac.updatehdr:\n"
     ]
    },
    {
     "name": "stdout",
     "output_type": "stream",
     "text": [
      "\n"
     ]
    },
    {
     "name": "stderr",
     "output_type": "stream",
     "text": [
      "INFO:drizzlepac.updatehdr:....Updating header for 'j8xi0xs3q_flc.fits' ...\n"
     ]
    },
    {
     "name": "stdout",
     "output_type": "stream",
     "text": [
      "....Updating header for 'j8xi0xs3q_flc.fits' ...\n"
     ]
    },
    {
     "name": "stderr",
     "output_type": "stream",
     "text": [
      "INFO:drizzlepac.updatehdr:\n"
     ]
    },
    {
     "name": "stdout",
     "output_type": "stream",
     "text": [
      "\n"
     ]
    },
    {
     "name": "stderr",
     "output_type": "stream",
     "text": [
      "INFO:drizzlepac.updatehdr:\n"
     ]
    },
    {
     "name": "stdout",
     "output_type": "stream",
     "text": [
      "\n"
     ]
    },
    {
     "name": "stderr",
     "output_type": "stream",
     "text": [
      "INFO:drizzlepac.updatehdr:Processing j8xi0xs3q_flc.fits['SCI',1]\n"
     ]
    },
    {
     "name": "stdout",
     "output_type": "stream",
     "text": [
      "Processing j8xi0xs3q_flc.fits['SCI',1]\n"
     ]
    },
    {
     "name": "stderr",
     "output_type": "stream",
     "text": [
      "INFO:drizzlepac.updatehdr:\n"
     ]
    },
    {
     "name": "stdout",
     "output_type": "stream",
     "text": [
      "\n"
     ]
    },
    {
     "name": "stderr",
     "output_type": "stream",
     "text": [
      "INFO:drizzlepac.updatehdr:Updating header for j8xi0xs3q_flc.fits[1]\n"
     ]
    },
    {
     "name": "stdout",
     "output_type": "stream",
     "text": [
      "Updating header for j8xi0xs3q_flc.fits[1]\n"
     ]
    },
    {
     "name": "stderr",
     "output_type": "stream",
     "text": [
      "INFO:drizzlepac.updatehdr:    with WCS of\n",
      "INFO:stwcs.wcsutil.hstwcs:WCS Keywords\n"
     ]
    },
    {
     "name": "stdout",
     "output_type": "stream",
     "text": [
      "WCS Keywords\n"
     ]
    },
    {
     "name": "stderr",
     "output_type": "stream",
     "text": [
      "INFO:stwcs.wcsutil.hstwcs:\n"
     ]
    },
    {
     "name": "stdout",
     "output_type": "stream",
     "text": [
      "\n"
     ]
    },
    {
     "name": "stderr",
     "output_type": "stream",
     "text": [
      "INFO:stwcs.wcsutil.hstwcs:CD_11  CD_12: 2.8080798324594052e-06 1.3844238677491533e-05\n"
     ]
    },
    {
     "name": "stdout",
     "output_type": "stream",
     "text": [
      "CD_11  CD_12: 2.8080798324594052e-06 1.3844238677491533e-05\n"
     ]
    },
    {
     "name": "stderr",
     "output_type": "stream",
     "text": [
      "INFO:stwcs.wcsutil.hstwcs:CD_21  CD_22: 1.3557051226571646e-05 -1.8860299819367444e-06\n"
     ]
    },
    {
     "name": "stdout",
     "output_type": "stream",
     "text": [
      "CD_21  CD_22: 1.3557051226571646e-05 -1.8860299819367444e-06\n"
     ]
    },
    {
     "name": "stderr",
     "output_type": "stream",
     "text": [
      "INFO:stwcs.wcsutil.hstwcs:CRVAL    : 150.18823958071715 2.678552610704514\n"
     ]
    },
    {
     "name": "stdout",
     "output_type": "stream",
     "text": [
      "CRVAL    : 150.18823958071715 2.678552610704514\n"
     ]
    },
    {
     "name": "stderr",
     "output_type": "stream",
     "text": [
      "INFO:stwcs.wcsutil.hstwcs:CRPIX    : 2048.0 1024.0\n"
     ]
    },
    {
     "name": "stdout",
     "output_type": "stream",
     "text": [
      "CRPIX    : 2048.0 1024.0\n"
     ]
    },
    {
     "name": "stderr",
     "output_type": "stream",
     "text": [
      "INFO:stwcs.wcsutil.hstwcs:NAXIS    : 4096 2048\n"
     ]
    },
    {
     "name": "stdout",
     "output_type": "stream",
     "text": [
      "NAXIS    : 4096 2048\n"
     ]
    },
    {
     "name": "stderr",
     "output_type": "stream",
     "text": [
      "INFO:stwcs.wcsutil.hstwcs:Plate Scale : 0.04984285556486401\n"
     ]
    },
    {
     "name": "stdout",
     "output_type": "stream",
     "text": [
      "Plate Scale : 0.04984285556486401\n"
     ]
    },
    {
     "name": "stderr",
     "output_type": "stream",
     "text": [
      "INFO:stwcs.wcsutil.hstwcs:ORIENTAT : 97.75776810577521\n"
     ]
    },
    {
     "name": "stdout",
     "output_type": "stream",
     "text": [
      "ORIENTAT : 97.75776810577521\n"
     ]
    },
    {
     "name": "stderr",
     "output_type": "stream",
     "text": [
      "INFO:drizzlepac.updatehdr:WCSNAME  :  TWEAK\n"
     ]
    },
    {
     "name": "stdout",
     "output_type": "stream",
     "text": [
      "WCSNAME  :  TWEAK\n"
     ]
    },
    {
     "name": "stderr",
     "output_type": "stream",
     "text": [
      "INFO:drizzlepac.updatehdr:\n"
     ]
    },
    {
     "name": "stdout",
     "output_type": "stream",
     "text": [
      "\n"
     ]
    },
    {
     "name": "stderr",
     "output_type": "stream",
     "text": [
      "INFO:drizzlepac.updatehdr:Processing j8xi0xs3q_flc.fits['SCI',2]\n"
     ]
    },
    {
     "name": "stdout",
     "output_type": "stream",
     "text": [
      "Processing j8xi0xs3q_flc.fits['SCI',2]\n"
     ]
    },
    {
     "name": "stderr",
     "output_type": "stream",
     "text": [
      "INFO:drizzlepac.updatehdr:\n"
     ]
    },
    {
     "name": "stdout",
     "output_type": "stream",
     "text": [
      "\n"
     ]
    },
    {
     "name": "stderr",
     "output_type": "stream",
     "text": [
      "INFO:drizzlepac.updatehdr:Updating header for j8xi0xs3q_flc.fits[4]\n"
     ]
    },
    {
     "name": "stdout",
     "output_type": "stream",
     "text": [
      "Updating header for j8xi0xs3q_flc.fits[4]\n"
     ]
    },
    {
     "name": "stderr",
     "output_type": "stream",
     "text": [
      "INFO:drizzlepac.updatehdr:    with WCS of\n",
      "INFO:stwcs.wcsutil.hstwcs:WCS Keywords\n"
     ]
    },
    {
     "name": "stdout",
     "output_type": "stream",
     "text": [
      "WCS Keywords\n"
     ]
    },
    {
     "name": "stderr",
     "output_type": "stream",
     "text": [
      "INFO:stwcs.wcsutil.hstwcs:\n"
     ]
    },
    {
     "name": "stdout",
     "output_type": "stream",
     "text": [
      "\n"
     ]
    },
    {
     "name": "stderr",
     "output_type": "stream",
     "text": [
      "INFO:stwcs.wcsutil.hstwcs:CD_11  CD_12: 2.9545676859013888e-06 1.3395865083140503e-05\n"
     ]
    },
    {
     "name": "stdout",
     "output_type": "stream",
     "text": [
      "CD_11  CD_12: 2.9545676859013888e-06 1.3395865083140503e-05\n"
     ]
    },
    {
     "name": "stderr",
     "output_type": "stream",
     "text": [
      "INFO:stwcs.wcsutil.hstwcs:CD_21  CD_22: 1.3360228417772082e-05 -1.7212591763273497e-06\n"
     ]
    },
    {
     "name": "stdout",
     "output_type": "stream",
     "text": [
      "CD_21  CD_22: 1.3360228417772082e-05 -1.7212591763273497e-06\n"
     ]
    },
    {
     "name": "stderr",
     "output_type": "stream",
     "text": [
      "INFO:stwcs.wcsutil.hstwcs:CRVAL    : 150.21689130167675 2.6747140438228687\n"
     ]
    },
    {
     "name": "stdout",
     "output_type": "stream",
     "text": [
      "CRVAL    : 150.21689130167675 2.6747140438228687\n"
     ]
    },
    {
     "name": "stderr",
     "output_type": "stream",
     "text": [
      "INFO:stwcs.wcsutil.hstwcs:CRPIX    : 2048.0 1024.0\n"
     ]
    },
    {
     "name": "stdout",
     "output_type": "stream",
     "text": [
      "CRPIX    : 2048.0 1024.0\n"
     ]
    },
    {
     "name": "stderr",
     "output_type": "stream",
     "text": [
      "INFO:stwcs.wcsutil.hstwcs:NAXIS    : 4096 2048\n"
     ]
    },
    {
     "name": "stdout",
     "output_type": "stream",
     "text": [
      "NAXIS    : 4096 2048\n"
     ]
    },
    {
     "name": "stderr",
     "output_type": "stream",
     "text": [
      "INFO:stwcs.wcsutil.hstwcs:Plate Scale : 0.04926038769385816\n"
     ]
    },
    {
     "name": "stdout",
     "output_type": "stream",
     "text": [
      "Plate Scale : 0.04926038769385816\n"
     ]
    },
    {
     "name": "stderr",
     "output_type": "stream",
     "text": [
      "INFO:stwcs.wcsutil.hstwcs:ORIENTAT : 97.32191993795642\n"
     ]
    },
    {
     "name": "stdout",
     "output_type": "stream",
     "text": [
      "ORIENTAT : 97.32191993795642\n"
     ]
    },
    {
     "name": "stderr",
     "output_type": "stream",
     "text": [
      "INFO:drizzlepac.updatehdr:WCSNAME  :  TWEAK\n"
     ]
    },
    {
     "name": "stdout",
     "output_type": "stream",
     "text": [
      "WCSNAME  :  TWEAK\n"
     ]
    },
    {
     "name": "stderr",
     "output_type": "stream",
     "text": [
      "INFO:drizzlepac.imgclasses:Updating WCSCORR table with new WCS solution \"TWEAK\"\n",
      "INFO:drizzlepac.tweakreg:\n"
     ]
    },
    {
     "name": "stdout",
     "output_type": "stream",
     "text": [
      "\n"
     ]
    },
    {
     "name": "stderr",
     "output_type": "stream",
     "text": [
      "INFO:drizzlepac.tweakreg:====================\n"
     ]
    },
    {
     "name": "stdout",
     "output_type": "stream",
     "text": [
      "====================\n"
     ]
    },
    {
     "name": "stderr",
     "output_type": "stream",
     "text": [
      "INFO:drizzlepac.tweakreg:Performing fit for: j8xi0xs0q_flc.fits\n"
     ]
    },
    {
     "name": "stdout",
     "output_type": "stream",
     "text": [
      "Performing fit for: j8xi0xs0q_flc.fits\n"
     ]
    },
    {
     "name": "stderr",
     "output_type": "stream",
     "text": [
      "INFO:drizzlepac.tweakreg:\n"
     ]
    },
    {
     "name": "stdout",
     "output_type": "stream",
     "text": [
      "\n"
     ]
    },
    {
     "name": "stderr",
     "output_type": "stream",
     "text": [
      "INFO:drizzlepac.imgclasses:Matching sources from 'j8xi0xs0q_flc.fits' with sources from reference image 'j8xi0xsaq_flc.fits'\n"
     ]
    },
    {
     "name": "stdout",
     "output_type": "stream",
     "text": [
      "Matching sources from 'j8xi0xs0q_flc.fits' with sources from reference image 'j8xi0xsaq_flc.fits'\n"
     ]
    },
    {
     "name": "stderr",
     "output_type": "stream",
     "text": [
      "INFO:drizzlepac.imgclasses:Computing initial guess for X and Y shifts...\n"
     ]
    },
    {
     "name": "stdout",
     "output_type": "stream",
     "text": [
      "Computing initial guess for X and Y shifts...\n"
     ]
    },
    {
     "name": "stderr",
     "output_type": "stream",
     "text": [
      "INFO:drizzlepac.imgclasses:Found initial X and Y shifts of -0.1499, -0.3232 with significance of 36.1 and 59 matches\n"
     ]
    },
    {
     "name": "stdout",
     "output_type": "stream",
     "text": [
      "Found initial X and Y shifts of -0.1499, -0.3232 with significance of 36.1 and 59 matches\n"
     ]
    },
    {
     "name": "stderr",
     "output_type": "stream",
     "text": [
      "INFO:drizzlepac.imgclasses:Found 41 matches for j8xi0xs0q_flc.fits...\n"
     ]
    },
    {
     "name": "stdout",
     "output_type": "stream",
     "text": [
      "Found 41 matches for j8xi0xs0q_flc.fits...\n"
     ]
    },
    {
     "name": "stderr",
     "output_type": "stream",
     "text": [
      "INFO:drizzlepac.linearfit:Performing \"rscale\" fit\n",
      "INFO:drizzlepac.linearfit:Performing \"rscale\" fit\n",
      "INFO:drizzlepac.linearfit:Performing \"rscale\" fit\n",
      "INFO:drizzlepac.linearfit:Performing \"rscale\" fit\n",
      "INFO:drizzlepac.imgclasses:Computed  rscale  fit for  j8xi0xs0q_flc.fits : \n"
     ]
    },
    {
     "name": "stdout",
     "output_type": "stream",
     "text": [
      "Computed  rscale  fit for  j8xi0xs0q_flc.fits : \n"
     ]
    },
    {
     "name": "stderr",
     "output_type": "stream",
     "text": [
      "INFO:drizzlepac.imgclasses:XSH: 0.0978  YSH: 0.1578    ROT: 0.001305751354    SCALE: 1.000016\n"
     ]
    },
    {
     "name": "stdout",
     "output_type": "stream",
     "text": [
      "XSH: 0.0978  YSH: 0.1578    ROT: 0.001305751354    SCALE: 1.000016\n"
     ]
    },
    {
     "name": "stderr",
     "output_type": "stream",
     "text": [
      "INFO:drizzlepac.imgclasses:FIT XRMS: 0.067      FIT YRMS: 0.059  \n"
     ]
    },
    {
     "name": "stdout",
     "output_type": "stream",
     "text": [
      "FIT XRMS: 0.067      FIT YRMS: 0.059  \n"
     ]
    },
    {
     "name": "stderr",
     "output_type": "stream",
     "text": [
      "INFO:drizzlepac.imgclasses:FIT RMSE: 0.089      FIT MAE: 0.07   \n"
     ]
    },
    {
     "name": "stdout",
     "output_type": "stream",
     "text": [
      "FIT RMSE: 0.089      FIT MAE: 0.07   \n"
     ]
    },
    {
     "name": "stderr",
     "output_type": "stream",
     "text": [
      "INFO:drizzlepac.imgclasses:\n"
     ]
    },
    {
     "name": "stdout",
     "output_type": "stream",
     "text": [
      "\n"
     ]
    },
    {
     "name": "stderr",
     "output_type": "stream",
     "text": [
      "INFO:drizzlepac.imgclasses:RMS_RA: 9.6e-07 (deg)   RMS_DEC: 7.8e-07 (deg)\n"
     ]
    },
    {
     "name": "stdout",
     "output_type": "stream",
     "text": [
      "RMS_RA: 9.6e-07 (deg)   RMS_DEC: 7.8e-07 (deg)\n"
     ]
    },
    {
     "name": "stderr",
     "output_type": "stream",
     "text": [
      "INFO:drizzlepac.imgclasses:\n"
     ]
    },
    {
     "name": "stdout",
     "output_type": "stream",
     "text": [
      "\n"
     ]
    },
    {
     "name": "stderr",
     "output_type": "stream",
     "text": [
      "INFO:drizzlepac.imgclasses:Final solution based on  39  objects.\n"
     ]
    },
    {
     "name": "stdout",
     "output_type": "stream",
     "text": [
      "Final solution based on  39  objects.\n"
     ]
    },
    {
     "name": "stderr",
     "output_type": "stream",
     "text": [
      "INFO:drizzlepac.imgclasses:Creating catalog for the fit: j8xi0xs0q_flc_catalog_fit.match\n",
      "INFO:drizzlepac.tweakutils:wrote XY data to:  j8xi0xs0q_flc_catalog_fit.match\n"
     ]
    },
    {
     "name": "stdout",
     "output_type": "stream",
     "text": [
      "wrote XY data to:  j8xi0xs0q_flc_catalog_fit.match\n"
     ]
    },
    {
     "name": "stderr",
     "output_type": "stream",
     "text": [
      "INFO:drizzlepac.tweakutils:Total # points: 39\n"
     ]
    },
    {
     "name": "stdout",
     "output_type": "stream",
     "text": [
      "Total # points: 39\n"
     ]
    },
    {
     "name": "stderr",
     "output_type": "stream",
     "text": [
      "INFO:drizzlepac.tweakutils:# of points after clipping: 39\n"
     ]
    },
    {
     "name": "stdout",
     "output_type": "stream",
     "text": [
      "# of points after clipping: 39\n"
     ]
    },
    {
     "name": "stderr",
     "output_type": "stream",
     "text": [
      "INFO:drizzlepac.tweakutils:Total # points: 39\n"
     ]
    },
    {
     "name": "stdout",
     "output_type": "stream",
     "text": [
      "Total # points: 39\n"
     ]
    },
    {
     "name": "stderr",
     "output_type": "stream",
     "text": [
      "INFO:drizzlepac.tweakutils:# of points after clipping: 39\n"
     ]
    },
    {
     "name": "stdout",
     "output_type": "stream",
     "text": [
      "# of points after clipping: 39\n"
     ]
    },
    {
     "name": "stderr",
     "output_type": "stream",
     "text": [
      "INFO:drizzlepac.updatehdr:\n"
     ]
    },
    {
     "name": "stdout",
     "output_type": "stream",
     "text": [
      "\n"
     ]
    },
    {
     "name": "stderr",
     "output_type": "stream",
     "text": [
      "INFO:drizzlepac.updatehdr:....Updating header for 'j8xi0xs0q_flc.fits' ...\n"
     ]
    },
    {
     "name": "stdout",
     "output_type": "stream",
     "text": [
      "....Updating header for 'j8xi0xs0q_flc.fits' ...\n"
     ]
    },
    {
     "name": "stderr",
     "output_type": "stream",
     "text": [
      "INFO:drizzlepac.updatehdr:\n"
     ]
    },
    {
     "name": "stdout",
     "output_type": "stream",
     "text": [
      "\n"
     ]
    },
    {
     "name": "stderr",
     "output_type": "stream",
     "text": [
      "INFO:drizzlepac.updatehdr:\n"
     ]
    },
    {
     "name": "stdout",
     "output_type": "stream",
     "text": [
      "\n"
     ]
    },
    {
     "name": "stderr",
     "output_type": "stream",
     "text": [
      "INFO:drizzlepac.updatehdr:Processing j8xi0xs0q_flc.fits['SCI',1]\n"
     ]
    },
    {
     "name": "stdout",
     "output_type": "stream",
     "text": [
      "Processing j8xi0xs0q_flc.fits['SCI',1]\n"
     ]
    },
    {
     "name": "stderr",
     "output_type": "stream",
     "text": [
      "INFO:drizzlepac.updatehdr:\n"
     ]
    },
    {
     "name": "stdout",
     "output_type": "stream",
     "text": [
      "\n"
     ]
    },
    {
     "name": "stderr",
     "output_type": "stream",
     "text": [
      "INFO:drizzlepac.updatehdr:Updating header for j8xi0xs0q_flc.fits[1]\n"
     ]
    },
    {
     "name": "stdout",
     "output_type": "stream",
     "text": [
      "Updating header for j8xi0xs0q_flc.fits[1]\n"
     ]
    },
    {
     "name": "stderr",
     "output_type": "stream",
     "text": [
      "INFO:drizzlepac.updatehdr:    with WCS of\n",
      "INFO:stwcs.wcsutil.hstwcs:WCS Keywords\n"
     ]
    },
    {
     "name": "stdout",
     "output_type": "stream",
     "text": [
      "WCS Keywords\n"
     ]
    },
    {
     "name": "stderr",
     "output_type": "stream",
     "text": [
      "INFO:stwcs.wcsutil.hstwcs:\n"
     ]
    },
    {
     "name": "stdout",
     "output_type": "stream",
     "text": [
      "\n"
     ]
    },
    {
     "name": "stderr",
     "output_type": "stream",
     "text": [
      "INFO:stwcs.wcsutil.hstwcs:CD_11  CD_12: 2.8081429417928826e-06 1.3844573768526206e-05\n"
     ]
    },
    {
     "name": "stdout",
     "output_type": "stream",
     "text": [
      "CD_11  CD_12: 2.8081429417928826e-06 1.3844573768526206e-05\n"
     ]
    },
    {
     "name": "stderr",
     "output_type": "stream",
     "text": [
      "INFO:stwcs.wcsutil.hstwcs:CD_21  CD_22: 1.3557373211216611e-05 -1.8860729824857248e-06\n"
     ]
    },
    {
     "name": "stdout",
     "output_type": "stream",
     "text": [
      "CD_21  CD_22: 1.3557373211216611e-05 -1.8860729824857248e-06\n"
     ]
    },
    {
     "name": "stderr",
     "output_type": "stream",
     "text": [
      "INFO:stwcs.wcsutil.hstwcs:CRVAL    : 150.189096634702 2.6785083038088517\n"
     ]
    },
    {
     "name": "stdout",
     "output_type": "stream",
     "text": [
      "CRVAL    : 150.189096634702 2.6785083038088517\n"
     ]
    },
    {
     "name": "stderr",
     "output_type": "stream",
     "text": [
      "INFO:stwcs.wcsutil.hstwcs:CRPIX    : 2048.0 1024.0\n"
     ]
    },
    {
     "name": "stdout",
     "output_type": "stream",
     "text": [
      "CRPIX    : 2048.0 1024.0\n"
     ]
    },
    {
     "name": "stderr",
     "output_type": "stream",
     "text": [
      "INFO:stwcs.wcsutil.hstwcs:NAXIS    : 4096 2048\n"
     ]
    },
    {
     "name": "stdout",
     "output_type": "stream",
     "text": [
      "NAXIS    : 4096 2048\n"
     ]
    },
    {
     "name": "stderr",
     "output_type": "stream",
     "text": [
      "INFO:stwcs.wcsutil.hstwcs:Plate Scale : 0.04984330499937501\n"
     ]
    },
    {
     "name": "stdout",
     "output_type": "stream",
     "text": [
      "Plate Scale : 0.04984330499937501\n"
     ]
    },
    {
     "name": "stderr",
     "output_type": "stream",
     "text": [
      "INFO:stwcs.wcsutil.hstwcs:ORIENTAT : 97.75775734015073\n"
     ]
    },
    {
     "name": "stdout",
     "output_type": "stream",
     "text": [
      "ORIENTAT : 97.75775734015073\n"
     ]
    },
    {
     "name": "stderr",
     "output_type": "stream",
     "text": [
      "INFO:drizzlepac.updatehdr:WCSNAME  :  TWEAK\n"
     ]
    },
    {
     "name": "stdout",
     "output_type": "stream",
     "text": [
      "WCSNAME  :  TWEAK\n"
     ]
    },
    {
     "name": "stderr",
     "output_type": "stream",
     "text": [
      "INFO:drizzlepac.updatehdr:\n"
     ]
    },
    {
     "name": "stdout",
     "output_type": "stream",
     "text": [
      "\n"
     ]
    },
    {
     "name": "stderr",
     "output_type": "stream",
     "text": [
      "INFO:drizzlepac.updatehdr:Processing j8xi0xs0q_flc.fits['SCI',2]\n"
     ]
    },
    {
     "name": "stdout",
     "output_type": "stream",
     "text": [
      "Processing j8xi0xs0q_flc.fits['SCI',2]\n"
     ]
    },
    {
     "name": "stderr",
     "output_type": "stream",
     "text": [
      "INFO:drizzlepac.updatehdr:\n"
     ]
    },
    {
     "name": "stdout",
     "output_type": "stream",
     "text": [
      "\n"
     ]
    },
    {
     "name": "stderr",
     "output_type": "stream",
     "text": [
      "INFO:drizzlepac.updatehdr:Updating header for j8xi0xs0q_flc.fits[4]\n"
     ]
    },
    {
     "name": "stdout",
     "output_type": "stream",
     "text": [
      "Updating header for j8xi0xs0q_flc.fits[4]\n"
     ]
    },
    {
     "name": "stderr",
     "output_type": "stream",
     "text": [
      "INFO:drizzlepac.updatehdr:    with WCS of\n",
      "INFO:stwcs.wcsutil.hstwcs:WCS Keywords\n"
     ]
    },
    {
     "name": "stdout",
     "output_type": "stream",
     "text": [
      "WCS Keywords\n"
     ]
    },
    {
     "name": "stderr",
     "output_type": "stream",
     "text": [
      "INFO:stwcs.wcsutil.hstwcs:\n"
     ]
    },
    {
     "name": "stdout",
     "output_type": "stream",
     "text": [
      "\n"
     ]
    },
    {
     "name": "stderr",
     "output_type": "stream",
     "text": [
      "INFO:stwcs.wcsutil.hstwcs:CD_11  CD_12: 2.954634403429044e-06 1.339618928861542e-05\n"
     ]
    },
    {
     "name": "stdout",
     "output_type": "stream",
     "text": [
      "CD_11  CD_12: 2.954634403429044e-06 1.339618928861542e-05\n"
     ]
    },
    {
     "name": "stderr",
     "output_type": "stream",
     "text": [
      "INFO:stwcs.wcsutil.hstwcs:CD_21  CD_22: 1.3360545747437395e-05 -1.7212983083467805e-06\n"
     ]
    },
    {
     "name": "stdout",
     "output_type": "stream",
     "text": [
      "CD_21  CD_22: 1.3360545747437395e-05 -1.7212983083467805e-06\n"
     ]
    },
    {
     "name": "stderr",
     "output_type": "stream",
     "text": [
      "INFO:stwcs.wcsutil.hstwcs:CRVAL    : 150.2177490481021 2.674669649492529\n"
     ]
    },
    {
     "name": "stdout",
     "output_type": "stream",
     "text": [
      "CRVAL    : 150.2177490481021 2.674669649492529\n"
     ]
    },
    {
     "name": "stderr",
     "output_type": "stream",
     "text": [
      "INFO:stwcs.wcsutil.hstwcs:CRPIX    : 2048.0 1024.0\n"
     ]
    },
    {
     "name": "stdout",
     "output_type": "stream",
     "text": [
      "CRPIX    : 2048.0 1024.0\n"
     ]
    },
    {
     "name": "stderr",
     "output_type": "stream",
     "text": [
      "INFO:stwcs.wcsutil.hstwcs:NAXIS    : 4096 2048\n"
     ]
    },
    {
     "name": "stdout",
     "output_type": "stream",
     "text": [
      "NAXIS    : 4096 2048\n"
     ]
    },
    {
     "name": "stderr",
     "output_type": "stream",
     "text": [
      "INFO:stwcs.wcsutil.hstwcs:Plate Scale : 0.049260831831605234\n"
     ]
    },
    {
     "name": "stdout",
     "output_type": "stream",
     "text": [
      "Plate Scale : 0.049260831831605234\n"
     ]
    },
    {
     "name": "stderr",
     "output_type": "stream",
     "text": [
      "INFO:stwcs.wcsutil.hstwcs:ORIENTAT : 97.32190931079418\n"
     ]
    },
    {
     "name": "stdout",
     "output_type": "stream",
     "text": [
      "ORIENTAT : 97.32190931079418\n"
     ]
    },
    {
     "name": "stderr",
     "output_type": "stream",
     "text": [
      "INFO:drizzlepac.updatehdr:WCSNAME  :  TWEAK\n"
     ]
    },
    {
     "name": "stdout",
     "output_type": "stream",
     "text": [
      "WCSNAME  :  TWEAK\n"
     ]
    },
    {
     "name": "stderr",
     "output_type": "stream",
     "text": [
      "INFO:drizzlepac.imgclasses:Updating WCSCORR table with new WCS solution \"TWEAK\"\n",
      "INFO:drizzlepac.imgclasses:\n"
     ]
    },
    {
     "name": "stdout",
     "output_type": "stream",
     "text": [
      "\n"
     ]
    },
    {
     "name": "stderr",
     "output_type": "stream",
     "text": [
      "INFO:drizzlepac.imgclasses:Processing j8xi0xsaq_flc.fits['SCI',1]\n"
     ]
    },
    {
     "name": "stdout",
     "output_type": "stream",
     "text": [
      "Processing j8xi0xsaq_flc.fits['SCI',1]\n"
     ]
    },
    {
     "name": "stderr",
     "output_type": "stream",
     "text": [
      "INFO:drizzlepac.imgclasses:\n"
     ]
    },
    {
     "name": "stdout",
     "output_type": "stream",
     "text": [
      "\n"
     ]
    },
    {
     "name": "stderr",
     "output_type": "stream",
     "text": [
      "INFO:drizzlepac.updatehdr:Updating header for j8xi0xsaq_flc.fits[('SCI', 1)]\n"
     ]
    },
    {
     "name": "stdout",
     "output_type": "stream",
     "text": [
      "Updating header for j8xi0xsaq_flc.fits[('SCI', 1)]\n"
     ]
    },
    {
     "name": "stderr",
     "output_type": "stream",
     "text": [
      "INFO:drizzlepac.updatehdr:    with WCS of\n",
      "INFO:stwcs.wcsutil.hstwcs:WCS Keywords\n"
     ]
    },
    {
     "name": "stdout",
     "output_type": "stream",
     "text": [
      "WCS Keywords\n"
     ]
    },
    {
     "name": "stderr",
     "output_type": "stream",
     "text": [
      "INFO:stwcs.wcsutil.hstwcs:\n"
     ]
    },
    {
     "name": "stdout",
     "output_type": "stream",
     "text": [
      "\n"
     ]
    },
    {
     "name": "stderr",
     "output_type": "stream",
     "text": [
      "INFO:stwcs.wcsutil.hstwcs:CD_11  CD_12: 2.8079967919903e-06 1.3843808144676e-05\n"
     ]
    },
    {
     "name": "stdout",
     "output_type": "stream",
     "text": [
      "CD_11  CD_12: 2.8079967919903e-06 1.3843808144676e-05\n"
     ]
    },
    {
     "name": "stderr",
     "output_type": "stream",
     "text": [
      "INFO:stwcs.wcsutil.hstwcs:CD_21  CD_22: 1.3556667817249e-05 -1.885962398673e-06\n"
     ]
    },
    {
     "name": "stdout",
     "output_type": "stream",
     "text": [
      "CD_21  CD_22: 1.3556667817249e-05 -1.885962398673e-06\n"
     ]
    },
    {
     "name": "stderr",
     "output_type": "stream",
     "text": [
      "INFO:stwcs.wcsutil.hstwcs:CRVAL    : 150.18656016383 2.6788087056098\n"
     ]
    },
    {
     "name": "stdout",
     "output_type": "stream",
     "text": [
      "CRVAL    : 150.18656016383 2.6788087056098\n"
     ]
    },
    {
     "name": "stderr",
     "output_type": "stream",
     "text": [
      "INFO:stwcs.wcsutil.hstwcs:CRPIX    : 2048.0 1024.0\n"
     ]
    },
    {
     "name": "stdout",
     "output_type": "stream",
     "text": [
      "CRPIX    : 2048.0 1024.0\n"
     ]
    },
    {
     "name": "stderr",
     "output_type": "stream",
     "text": [
      "INFO:stwcs.wcsutil.hstwcs:NAXIS    : 4096 2048\n"
     ]
    },
    {
     "name": "stdout",
     "output_type": "stream",
     "text": [
      "NAXIS    : 4096 2048\n"
     ]
    },
    {
     "name": "stderr",
     "output_type": "stream",
     "text": [
      "INFO:stwcs.wcsutil.hstwcs:Plate Scale : 0.04983992801210863\n"
     ]
    },
    {
     "name": "stdout",
     "output_type": "stream",
     "text": [
      "Plate Scale : 0.04983992801210863\n"
     ]
    },
    {
     "name": "stderr",
     "output_type": "stream",
     "text": [
      "INFO:stwcs.wcsutil.hstwcs:ORIENTAT : 97.7577318168269\n"
     ]
    },
    {
     "name": "stdout",
     "output_type": "stream",
     "text": [
      "ORIENTAT : 97.7577318168269\n"
     ]
    },
    {
     "name": "stderr",
     "output_type": "stream",
     "text": [
      "INFO:drizzlepac.updatehdr:WCSNAME  :  TWEAK\n"
     ]
    },
    {
     "name": "stdout",
     "output_type": "stream",
     "text": [
      "WCSNAME  :  TWEAK\n"
     ]
    },
    {
     "name": "stderr",
     "output_type": "stream",
     "text": [
      "INFO:drizzlepac.imgclasses:\n"
     ]
    },
    {
     "name": "stdout",
     "output_type": "stream",
     "text": [
      "\n"
     ]
    },
    {
     "name": "stderr",
     "output_type": "stream",
     "text": [
      "INFO:drizzlepac.imgclasses:Processing j8xi0xsaq_flc.fits['SCI',2]\n"
     ]
    },
    {
     "name": "stdout",
     "output_type": "stream",
     "text": [
      "Processing j8xi0xsaq_flc.fits['SCI',2]\n"
     ]
    },
    {
     "name": "stderr",
     "output_type": "stream",
     "text": [
      "INFO:drizzlepac.imgclasses:\n"
     ]
    },
    {
     "name": "stdout",
     "output_type": "stream",
     "text": [
      "\n"
     ]
    },
    {
     "name": "stderr",
     "output_type": "stream",
     "text": [
      "INFO:drizzlepac.updatehdr:Updating header for j8xi0xsaq_flc.fits[('SCI', 2)]\n"
     ]
    },
    {
     "name": "stdout",
     "output_type": "stream",
     "text": [
      "Updating header for j8xi0xsaq_flc.fits[('SCI', 2)]\n"
     ]
    },
    {
     "name": "stderr",
     "output_type": "stream",
     "text": [
      "INFO:drizzlepac.updatehdr:    with WCS of\n",
      "INFO:stwcs.wcsutil.hstwcs:WCS Keywords\n"
     ]
    },
    {
     "name": "stdout",
     "output_type": "stream",
     "text": [
      "WCS Keywords\n"
     ]
    },
    {
     "name": "stderr",
     "output_type": "stream",
     "text": [
      "INFO:stwcs.wcsutil.hstwcs:\n"
     ]
    },
    {
     "name": "stdout",
     "output_type": "stream",
     "text": [
      "\n"
     ]
    },
    {
     "name": "stderr",
     "output_type": "stream",
     "text": [
      "INFO:stwcs.wcsutil.hstwcs:CD_11  CD_12: 2.9544800665701e-06 1.33954484758e-05\n"
     ]
    },
    {
     "name": "stdout",
     "output_type": "stream",
     "text": [
      "CD_11  CD_12: 2.9544800665701e-06 1.33954484758e-05\n"
     ]
    },
    {
     "name": "stderr",
     "output_type": "stream",
     "text": [
      "INFO:stwcs.wcsutil.hstwcs:CD_21  CD_22: 1.3359850787753e-05 -1.7211967597822e-06\n"
     ]
    },
    {
     "name": "stdout",
     "output_type": "stream",
     "text": [
      "CD_21  CD_22: 1.3359850787753e-05 -1.7211967597822e-06\n"
     ]
    },
    {
     "name": "stderr",
     "output_type": "stream",
     "text": [
      "INFO:stwcs.wcsutil.hstwcs:CRVAL    : 150.21521099973 2.6749702767348\n"
     ]
    },
    {
     "name": "stdout",
     "output_type": "stream",
     "text": [
      "CRVAL    : 150.21521099973 2.6749702767348\n"
     ]
    },
    {
     "name": "stderr",
     "output_type": "stream",
     "text": [
      "INFO:stwcs.wcsutil.hstwcs:CRPIX    : 2048.0 1024.0\n"
     ]
    },
    {
     "name": "stdout",
     "output_type": "stream",
     "text": [
      "CRPIX    : 2048.0 1024.0\n"
     ]
    },
    {
     "name": "stderr",
     "output_type": "stream",
     "text": [
      "INFO:stwcs.wcsutil.hstwcs:NAXIS    : 4096 2048\n"
     ]
    },
    {
     "name": "stdout",
     "output_type": "stream",
     "text": [
      "NAXIS    : 4096 2048\n"
     ]
    },
    {
     "name": "stderr",
     "output_type": "stream",
     "text": [
      "INFO:stwcs.wcsutil.hstwcs:Plate Scale : 0.049257494549873396\n"
     ]
    },
    {
     "name": "stdout",
     "output_type": "stream",
     "text": [
      "Plate Scale : 0.049257494549873396\n"
     ]
    },
    {
     "name": "stderr",
     "output_type": "stream",
     "text": [
      "INFO:stwcs.wcsutil.hstwcs:ORIENTAT : 97.32188254795771\n"
     ]
    },
    {
     "name": "stdout",
     "output_type": "stream",
     "text": [
      "ORIENTAT : 97.32188254795771\n"
     ]
    },
    {
     "name": "stderr",
     "output_type": "stream",
     "text": [
      "INFO:drizzlepac.updatehdr:WCSNAME  :  TWEAK\n"
     ]
    },
    {
     "name": "stdout",
     "output_type": "stream",
     "text": [
      "WCSNAME  :  TWEAK\n"
     ]
    },
    {
     "name": "stderr",
     "output_type": "stream",
     "text": [
      "INFO:drizzlepac.imgclasses:Updating WCSCORR table with new WCS solution \"TWEAK\"\n",
      "INFO:drizzlepac.util:Trailer file written to:  tweakreg.log\n"
     ]
    },
    {
     "name": "stdout",
     "output_type": "stream",
     "text": [
      "Trailer file written to:  tweakreg.log\n"
     ]
    }
   ],
   "source": [
    "tweakreg.TweakReg('@input_flc.list',\n",
    "                  imagefindcfg={'threshold': 100, 'conv_width': 6.0, 'dqbits': 0},\n",
    "                  shiftfile=False, updatehdr=True, interactive=False)"
   ]
  },
  {
   "cell_type": "markdown",
   "metadata": {},
   "source": [
    "# 4. Drizzle the aligned frames\n",
    "\n",
    "Combine the aligned FLC files with AstroDrizzle. The ACS team now corrects for stable hot pixels (DQ flag=16) via the dark reference files, so these pixels can be considered 'good'. Full well saturated pixels (DQ flag=256) and warm pixels (DQ flag=64) may also be treated as good. More details on the recommended drizzle parameters for ACS may be found in [ISR 2017-02](http://www.stsci.edu/hst/acs/documents/isrs/isr1702.pdf)."
   ]
  },
  {
   "cell_type": "code",
   "execution_count": 23,
   "metadata": {
    "execution": {
     "iopub.execute_input": "2023-08-14T19:45:48.580267Z",
     "iopub.status.busy": "2023-08-14T19:45:48.579643Z",
     "iopub.status.idle": "2023-08-14T19:48:10.634700Z",
     "shell.execute_reply": "2023-08-14T19:48:10.634005Z"
    }
   },
   "outputs": [
    {
     "name": "stderr",
     "output_type": "stream",
     "text": [
      "INFO:drizzlepac.util:Setting up logfile :  f814w_driz.log\n"
     ]
    },
    {
     "name": "stdout",
     "output_type": "stream",
     "text": [
      "Setting up logfile :  f814w_driz.log\n"
     ]
    },
    {
     "name": "stderr",
     "output_type": "stream",
     "text": [
      "INFO:drizzlepac.astrodrizzle:AstroDrizzle log file: f814w_driz.log\n"
     ]
    },
    {
     "name": "stdout",
     "output_type": "stream",
     "text": [
      "AstroDrizzle log file: f814w_driz.log\n"
     ]
    },
    {
     "name": "stderr",
     "output_type": "stream",
     "text": [
      "INFO:drizzlepac.astrodrizzle:AstroDrizzle Version 3.5.1 started at: 19:45:48.606 (14/08/2023)\n"
     ]
    },
    {
     "name": "stdout",
     "output_type": "stream",
     "text": [
      "AstroDrizzle Version 3.5.1 started at: 19:45:48.606 (14/08/2023)\n"
     ]
    },
    {
     "name": "stderr",
     "output_type": "stream",
     "text": [
      "INFO:drizzlepac.astrodrizzle:\n"
     ]
    },
    {
     "name": "stdout",
     "output_type": "stream",
     "text": [
      "\n"
     ]
    },
    {
     "name": "stderr",
     "output_type": "stream",
     "text": [
      "INFO:drizzlepac.astrodrizzle:Version Information\n",
      "INFO:drizzlepac.astrodrizzle:--------------------\n",
      "INFO:drizzlepac.astrodrizzle:Python Version 3.11.4 (main, Jun  7 2023, 11:01:02) [GCC 11.3.0]\n",
      "INFO:drizzlepac.astrodrizzle:numpy Version -> 1.25.2 \n",
      "INFO:drizzlepac.astrodrizzle:astropy Version -> 5.2.1 \n",
      "INFO:drizzlepac.astrodrizzle:stwcs Version -> 1.7.2 \n",
      "INFO:drizzlepac.astrodrizzle:photutils Version -> 1.8.0 \n",
      "INFO:drizzlepac.util:==== Processing Step  Initialization  started at  19:45:48.61 (14/08/2023)\n"
     ]
    },
    {
     "name": "stdout",
     "output_type": "stream",
     "text": [
      "==== Processing Step  Initialization  started at  19:45:48.61 (14/08/2023)\n"
     ]
    },
    {
     "name": "stderr",
     "output_type": "stream",
     "text": [
      "INFO:drizzlepac.util:\n"
     ]
    },
    {
     "name": "stdout",
     "output_type": "stream",
     "text": [
      "\n"
     ]
    },
    {
     "name": "stderr",
     "output_type": "stream",
     "text": [
      "INFO:drizzlepac.processInput:Executing serially\n",
      "INFO:drizzlepac.processInput:Setting up output name: f814w_drc.fits\n",
      "INFO:drizzlepac.processInput:-Creating imageObject List as input for processing steps.\n",
      "INFO:drizzlepac.imageObject:Reading in MDRIZSKY of 5.086336389325649\n",
      "INFO:drizzlepac.imageObject:Reading in MDRIZSKY of 5.086336389325649\n",
      "INFO:drizzlepac.imageObject:Reading in MDRIZSKY of 0.3231692580153933\n",
      "INFO:drizzlepac.imageObject:Reading in MDRIZSKY of 0.3231692580153933\n",
      "INFO:drizzlepac.imageObject:Reading in MDRIZSKY of 0.5969384266216954\n",
      "INFO:drizzlepac.imageObject:Reading in MDRIZSKY of 0.5969384266216954\n",
      "INFO:drizzlepac.imageObject:Reading in MDRIZSKY of 0.0\n",
      "INFO:drizzlepac.imageObject:Reading in MDRIZSKY of 0.0\n",
      "INFO:drizzlepac.imageObject:Reading in MDRIZSKY of 55.5302848815918\n",
      "INFO:drizzlepac.imageObject:Reading in MDRIZSKY of 55.5302848815918\n",
      "INFO:drizzlepac.imageObject:Reading in MDRIZSKY of 50.70519256591797\n",
      "INFO:drizzlepac.imageObject:Reading in MDRIZSKY of 50.70519256591797\n",
      "INFO:drizzlepac.imageObject:Reading in MDRIZSKY of 50.87693786621094\n",
      "INFO:drizzlepac.imageObject:Reading in MDRIZSKY of 50.87693786621094\n",
      "INFO:drizzlepac.imageObject:Reading in MDRIZSKY of 50.27854156494141\n",
      "INFO:drizzlepac.imageObject:Reading in MDRIZSKY of 50.27854156494141\n",
      "INFO:drizzlepac.imageObject:No context image will be created for hst_10092_0x_acs_wfc_f814w_j8xi0xs0_flc.fits\n",
      "INFO:drizzlepac.imageObject:No context image will be created for hst_10092_0x_acs_wfc_f814w_j8xi0xs3_flc.fits\n",
      "INFO:drizzlepac.imageObject:No context image will be created for hst_10092_0x_acs_wfc_f814w_j8xi0xs6_flc.fits\n",
      "INFO:drizzlepac.imageObject:No context image will be created for hst_10092_0x_acs_wfc_f814w_j8xi0xsa_flc.fits\n",
      "INFO:drizzlepac.imageObject:No context image will be created for j8xi0xs0q_flc.fits\n",
      "INFO:drizzlepac.imageObject:No context image will be created for j8xi0xs3q_flc.fits\n",
      "INFO:drizzlepac.imageObject:No context image will be created for j8xi0xs6q_flc.fits\n",
      "INFO:drizzlepac.imageObject:No context image will be created for j8xi0xsaq_flc.fits\n",
      "INFO:drizzlepac.resetbits:Reset bit values of 4096 to a value of 0 in hst_10092_0x_acs_wfc_f814w_j8xi0xs0_flc.fits[DQ,1]\n",
      "INFO:drizzlepac.resetbits:Reset bit values of 4096 to a value of 0 in hst_10092_0x_acs_wfc_f814w_j8xi0xs0_flc.fits[DQ,2]\n",
      "INFO:drizzlepac.resetbits:Reset bit values of 4096 to a value of 0 in hst_10092_0x_acs_wfc_f814w_j8xi0xs3_flc.fits[DQ,1]\n",
      "INFO:drizzlepac.resetbits:Reset bit values of 4096 to a value of 0 in hst_10092_0x_acs_wfc_f814w_j8xi0xs3_flc.fits[DQ,2]\n",
      "INFO:drizzlepac.resetbits:Reset bit values of 4096 to a value of 0 in hst_10092_0x_acs_wfc_f814w_j8xi0xs6_flc.fits[DQ,1]\n",
      "INFO:drizzlepac.resetbits:Reset bit values of 4096 to a value of 0 in hst_10092_0x_acs_wfc_f814w_j8xi0xs6_flc.fits[DQ,2]\n",
      "INFO:drizzlepac.resetbits:Reset bit values of 4096 to a value of 0 in hst_10092_0x_acs_wfc_f814w_j8xi0xsa_flc.fits[DQ,1]\n",
      "INFO:drizzlepac.resetbits:Reset bit values of 4096 to a value of 0 in hst_10092_0x_acs_wfc_f814w_j8xi0xsa_flc.fits[DQ,2]\n",
      "INFO:drizzlepac.resetbits:Reset bit values of 4096 to a value of 0 in j8xi0xs0q_flc.fits[DQ,1]\n",
      "INFO:drizzlepac.resetbits:Reset bit values of 4096 to a value of 0 in j8xi0xs0q_flc.fits[DQ,2]\n",
      "INFO:drizzlepac.resetbits:Reset bit values of 4096 to a value of 0 in j8xi0xs3q_flc.fits[DQ,1]\n",
      "INFO:drizzlepac.resetbits:Reset bit values of 4096 to a value of 0 in j8xi0xs3q_flc.fits[DQ,2]\n",
      "INFO:drizzlepac.resetbits:Reset bit values of 4096 to a value of 0 in j8xi0xs6q_flc.fits[DQ,1]\n",
      "INFO:drizzlepac.resetbits:Reset bit values of 4096 to a value of 0 in j8xi0xs6q_flc.fits[DQ,2]\n",
      "INFO:drizzlepac.resetbits:Reset bit values of 4096 to a value of 0 in j8xi0xsaq_flc.fits[DQ,1]\n",
      "INFO:drizzlepac.resetbits:Reset bit values of 4096 to a value of 0 in j8xi0xsaq_flc.fits[DQ,2]\n",
      "INFO:drizzlepac.processInput:-Creating output WCS.\n",
      "INFO:drizzlepac.imageObject:No context image will be created for f814w_drc.fits\n",
      "INFO:astropy.wcs.wcs:WCS Keywords\n"
     ]
    },
    {
     "name": "stdout",
     "output_type": "stream",
     "text": [
      "WCS Keywords\n"
     ]
    },
    {
     "name": "stderr",
     "output_type": "stream",
     "text": [
      "INFO:astropy.wcs.wcs:\n"
     ]
    },
    {
     "name": "stdout",
     "output_type": "stream",
     "text": [
      "\n"
     ]
    },
    {
     "name": "stderr",
     "output_type": "stream",
     "text": [
      "INFO:astropy.wcs.wcs:Number of WCS axes: 2\n"
     ]
    },
    {
     "name": "stdout",
     "output_type": "stream",
     "text": [
      "Number of WCS axes: 2\n"
     ]
    },
    {
     "name": "stderr",
     "output_type": "stream",
     "text": [
      "INFO:astropy.wcs.wcs:CTYPE : 'RA---TAN'  'DEC--TAN'  \n"
     ]
    },
    {
     "name": "stdout",
     "output_type": "stream",
     "text": [
      "CTYPE : 'RA---TAN'  'DEC--TAN'  \n"
     ]
    },
    {
     "name": "stderr",
     "output_type": "stream",
     "text": [
      "INFO:astropy.wcs.wcs:CRVAL : 150.20205736356377  2.6769790254265815  \n"
     ]
    },
    {
     "name": "stdout",
     "output_type": "stream",
     "text": [
      "CRVAL : 150.20205736356377  2.6769790254265815  \n"
     ]
    },
    {
     "name": "stderr",
     "output_type": "stream",
     "text": [
      "INFO:astropy.wcs.wcs:CRPIX : 2111.5  2211.0  \n"
     ]
    },
    {
     "name": "stdout",
     "output_type": "stream",
     "text": [
      "CRPIX : 2111.5  2211.0  \n"
     ]
    },
    {
     "name": "stderr",
     "output_type": "stream",
     "text": [
      "INFO:astropy.wcs.wcs:CD1_1 CD1_2  : 2.4116107294376303e-06  1.367791534765304e-05  \n"
     ]
    },
    {
     "name": "stdout",
     "output_type": "stream",
     "text": [
      "CD1_1 CD1_2  : 2.4116107294376303e-06  1.367791534765304e-05  \n"
     ]
    },
    {
     "name": "stderr",
     "output_type": "stream",
     "text": [
      "INFO:astropy.wcs.wcs:CD2_1 CD2_2  : 1.367791534765304e-05  -2.4116107294376303e-06  \n"
     ]
    },
    {
     "name": "stdout",
     "output_type": "stream",
     "text": [
      "CD2_1 CD2_2  : 1.367791534765304e-05  -2.4116107294376303e-06  \n"
     ]
    },
    {
     "name": "stderr",
     "output_type": "stream",
     "text": [
      "INFO:astropy.wcs.wcs:NAXIS : 4223  4422\n"
     ]
    },
    {
     "name": "stdout",
     "output_type": "stream",
     "text": [
      "NAXIS : 4223  4422\n"
     ]
    },
    {
     "name": "stderr",
     "output_type": "stream",
     "text": [
      "INFO:drizzlepac.processInput:********************************************************************************\n"
     ]
    },
    {
     "name": "stdout",
     "output_type": "stream",
     "text": [
      "********************************************************************************\n"
     ]
    },
    {
     "name": "stderr",
     "output_type": "stream",
     "text": [
      "INFO:drizzlepac.processInput:*\n"
     ]
    },
    {
     "name": "stdout",
     "output_type": "stream",
     "text": [
      "*\n"
     ]
    },
    {
     "name": "stderr",
     "output_type": "stream",
     "text": [
      "INFO:drizzlepac.processInput:*  Estimated memory usage:  up to 555 Mb.\n"
     ]
    },
    {
     "name": "stdout",
     "output_type": "stream",
     "text": [
      "*  Estimated memory usage:  up to 555 Mb.\n"
     ]
    },
    {
     "name": "stderr",
     "output_type": "stream",
     "text": [
      "INFO:drizzlepac.processInput:*  Output image size:       4223 X 4422 pixels. \n"
     ]
    },
    {
     "name": "stdout",
     "output_type": "stream",
     "text": [
      "*  Output image size:       4223 X 4422 pixels. \n"
     ]
    },
    {
     "name": "stderr",
     "output_type": "stream",
     "text": [
      "INFO:drizzlepac.processInput:*  Output image file:       ~ 213 Mb. \n"
     ]
    },
    {
     "name": "stdout",
     "output_type": "stream",
     "text": [
      "*  Output image file:       ~ 213 Mb. \n"
     ]
    },
    {
     "name": "stderr",
     "output_type": "stream",
     "text": [
      "INFO:drizzlepac.processInput:*  Cores available:         2\n"
     ]
    },
    {
     "name": "stdout",
     "output_type": "stream",
     "text": [
      "*  Cores available:         2\n"
     ]
    },
    {
     "name": "stderr",
     "output_type": "stream",
     "text": [
      "INFO:drizzlepac.processInput:*\n"
     ]
    },
    {
     "name": "stdout",
     "output_type": "stream",
     "text": [
      "*\n"
     ]
    },
    {
     "name": "stderr",
     "output_type": "stream",
     "text": [
      "INFO:drizzlepac.processInput:********************************************************************************\n"
     ]
    },
    {
     "name": "stdout",
     "output_type": "stream",
     "text": [
      "********************************************************************************\n"
     ]
    },
    {
     "name": "stderr",
     "output_type": "stream",
     "text": [
      "INFO:drizzlepac.util:==== Processing Step Initialization finished at 19:45:54.00 (14/08/2023)\n"
     ]
    },
    {
     "name": "stdout",
     "output_type": "stream",
     "text": [
      "==== Processing Step Initialization finished at 19:45:54.00 (14/08/2023)\n"
     ]
    },
    {
     "name": "stderr",
     "output_type": "stream",
     "text": [
      "INFO:drizzlepac.astrodrizzle:USER INPUT PARAMETERS common to all Processing Steps:\n",
      "INFO:drizzlepac.astrodrizzle:\tbuild :\tFalse\n",
      "INFO:drizzlepac.astrodrizzle:\tcoeffs :\tTrue\n",
      "INFO:drizzlepac.astrodrizzle:\tcontext :\tFalse\n",
      "INFO:drizzlepac.astrodrizzle:\tcrbit :\t4096\n",
      "INFO:drizzlepac.astrodrizzle:\tgroup :\t\n",
      "INFO:drizzlepac.astrodrizzle:\tin_memory :\tFalse\n",
      "INFO:drizzlepac.astrodrizzle:\tinput :\t*flc.fits\n",
      "INFO:drizzlepac.astrodrizzle:\tmdriztab :\tFalse\n",
      "INFO:drizzlepac.astrodrizzle:\tnum_cores :\tNone\n",
      "INFO:drizzlepac.astrodrizzle:\toutput :\tf814w\n",
      "INFO:drizzlepac.astrodrizzle:\tproc_unit :\tnative\n",
      "INFO:drizzlepac.astrodrizzle:\tresetbits :\t4096\n",
      "INFO:drizzlepac.astrodrizzle:\trules_file :\t\n",
      "INFO:drizzlepac.astrodrizzle:\trunfile :\tf814w_driz.log\n",
      "INFO:drizzlepac.astrodrizzle:\tstepsize :\t10\n",
      "INFO:drizzlepac.astrodrizzle:\tupdatewcs :\tFalse\n",
      "INFO:drizzlepac.astrodrizzle:\twcskey :\t\n",
      "INFO:drizzlepac.util:==== Processing Step  Static Mask  started at  19:45:54.018 (14/08/2023)\n"
     ]
    },
    {
     "name": "stdout",
     "output_type": "stream",
     "text": [
      "==== Processing Step  Static Mask  started at  19:45:54.018 (14/08/2023)\n"
     ]
    },
    {
     "name": "stderr",
     "output_type": "stream",
     "text": [
      "INFO:drizzlepac.util:\n"
     ]
    },
    {
     "name": "stdout",
     "output_type": "stream",
     "text": [
      "\n"
     ]
    },
    {
     "name": "stderr",
     "output_type": "stream",
     "text": [
      "INFO:drizzlepac.staticMask:USER INPUT PARAMETERS for Static Mask Step:\n",
      "INFO:drizzlepac.staticMask:\tstatic :\tTrue\n",
      "INFO:drizzlepac.staticMask:\tstatic_sig :\t4.0\n",
      "INFO:drizzlepac.staticMask:Computing static mask:\n",
      "\n",
      "INFO:drizzlepac.staticMask:  mode = 54.979943;   rms = 10.974079;   static_sig = 4.00\n",
      "INFO:drizzlepac.staticMask:  mode = 54.496145;   rms = 9.851141;   static_sig = 4.00\n",
      "INFO:drizzlepac.staticMask:Computing static mask:\n",
      "\n",
      "INFO:drizzlepac.staticMask:  mode = 50.439763;   rms = 10.696259;   static_sig = 4.00\n",
      "INFO:drizzlepac.staticMask:  mode = 49.727100;   rms = 9.592484;   static_sig = 4.00\n",
      "INFO:drizzlepac.staticMask:Computing static mask:\n",
      "\n",
      "INFO:drizzlepac.staticMask:  mode = 50.944256;   rms = 10.822448;   static_sig = 4.00\n",
      "INFO:drizzlepac.staticMask:  mode = 50.298722;   rms = 9.625347;   static_sig = 4.00\n",
      "INFO:drizzlepac.staticMask:Computing static mask:\n",
      "\n",
      "INFO:drizzlepac.staticMask:  mode = 50.497218;   rms = 11.489359;   static_sig = 4.00\n",
      "INFO:drizzlepac.staticMask:  mode = 49.966594;   rms = 9.762190;   static_sig = 4.00\n",
      "INFO:drizzlepac.staticMask:Computing static mask:\n",
      "\n",
      "INFO:drizzlepac.staticMask:  mode = 54.979943;   rms = 10.974079;   static_sig = 4.00\n",
      "INFO:drizzlepac.staticMask:  mode = 54.496145;   rms = 9.851141;   static_sig = 4.00\n",
      "INFO:drizzlepac.staticMask:Computing static mask:\n",
      "\n",
      "INFO:drizzlepac.staticMask:  mode = 50.439763;   rms = 10.696259;   static_sig = 4.00\n",
      "INFO:drizzlepac.staticMask:  mode = 49.727100;   rms = 9.592484;   static_sig = 4.00\n",
      "INFO:drizzlepac.staticMask:Computing static mask:\n",
      "\n",
      "INFO:drizzlepac.staticMask:  mode = 50.944256;   rms = 10.822448;   static_sig = 4.00\n",
      "INFO:drizzlepac.staticMask:  mode = 50.298722;   rms = 9.625347;   static_sig = 4.00\n",
      "INFO:drizzlepac.staticMask:Computing static mask:\n",
      "\n",
      "INFO:drizzlepac.staticMask:  mode = 50.497218;   rms = 11.489359;   static_sig = 4.00\n",
      "INFO:drizzlepac.staticMask:  mode = 49.966594;   rms = 9.762190;   static_sig = 4.00\n",
      "INFO:drizzlepac.staticMask:Saving static mask to disk: ./_2048x4096_1_staticMask.fits\n",
      "INFO:drizzlepac.staticMask:Saving static mask to disk: ./_2048x4096_2_staticMask.fits\n",
      "INFO:drizzlepac.util:==== Processing Step Static Mask finished at 19:45:58.889 (14/08/2023)\n"
     ]
    },
    {
     "name": "stdout",
     "output_type": "stream",
     "text": [
      "==== Processing Step Static Mask finished at 19:45:58.889 (14/08/2023)\n"
     ]
    },
    {
     "name": "stderr",
     "output_type": "stream",
     "text": [
      "INFO:drizzlepac.util:==== Processing Step  Subtract Sky  started at  19:45:58.892 (14/08/2023)\n"
     ]
    },
    {
     "name": "stdout",
     "output_type": "stream",
     "text": [
      "==== Processing Step  Subtract Sky  started at  19:45:58.892 (14/08/2023)\n"
     ]
    },
    {
     "name": "stderr",
     "output_type": "stream",
     "text": [
      "INFO:drizzlepac.util:\n"
     ]
    },
    {
     "name": "stdout",
     "output_type": "stream",
     "text": [
      "\n"
     ]
    },
    {
     "name": "stderr",
     "output_type": "stream",
     "text": [
      "INFO:drizzlepac.sky:USER INPUT PARAMETERS for Sky Subtraction Step:\n",
      "INFO:drizzlepac.sky:\tsky_bits :\t0\n",
      "INFO:drizzlepac.sky:\tskyclip :\t5\n",
      "INFO:drizzlepac.sky:\tskyfile :\t\n",
      "INFO:drizzlepac.sky:\tskylower :\tNone\n",
      "INFO:drizzlepac.sky:\tskylsigma :\t4.0\n",
      "INFO:drizzlepac.sky:\tskymask_cat :\t\n",
      "INFO:drizzlepac.sky:\tskymethod :\tlocalmin\n",
      "INFO:drizzlepac.sky:\tskystat :\tmedian\n",
      "INFO:drizzlepac.sky:\tskysub :\tTrue\n",
      "INFO:drizzlepac.sky:\tskyupper :\tNone\n",
      "INFO:drizzlepac.sky:\tskyuser :\t\n",
      "INFO:drizzlepac.sky:\tskyusigma :\t4.0\n",
      "INFO:drizzlepac.sky:\tskywidth :\t0.1\n",
      "INFO:drizzlepac.sky:\tuse_static :\tTrue\n",
      "INFO:stsci.skypac.utils:***** skymatch started on 2023-08-14 19:45:59.945229\n"
     ]
    },
    {
     "name": "stdout",
     "output_type": "stream",
     "text": [
      "***** skymatch started on 2023-08-14 19:45:59.945229\n"
     ]
    },
    {
     "name": "stderr",
     "output_type": "stream",
     "text": [
      "INFO:stsci.skypac.utils:      Version 1.0.9\n"
     ]
    },
    {
     "name": "stdout",
     "output_type": "stream",
     "text": [
      "      Version 1.0.9\n"
     ]
    },
    {
     "name": "stderr",
     "output_type": "stream",
     "text": [
      "INFO:stsci.skypac.utils:\n"
     ]
    },
    {
     "name": "stdout",
     "output_type": "stream",
     "text": [
      "\n"
     ]
    },
    {
     "name": "stderr",
     "output_type": "stream",
     "text": [
      "INFO:stsci.skypac.utils:'skymatch' task will apply computed sky differences to input image file(s).\n"
     ]
    },
    {
     "name": "stdout",
     "output_type": "stream",
     "text": [
      "'skymatch' task will apply computed sky differences to input image file(s).\n"
     ]
    },
    {
     "name": "stderr",
     "output_type": "stream",
     "text": [
      "INFO:stsci.skypac.utils:\n"
     ]
    },
    {
     "name": "stdout",
     "output_type": "stream",
     "text": [
      "\n"
     ]
    },
    {
     "name": "stderr",
     "output_type": "stream",
     "text": [
      "INFO:stsci.skypac.utils:NOTE: Computed sky values WILL NOT be subtracted from image data ('subtractsky'=False).\n"
     ]
    },
    {
     "name": "stdout",
     "output_type": "stream",
     "text": [
      "NOTE: Computed sky values WILL NOT be subtracted from image data ('subtractsky'=False).\n"
     ]
    },
    {
     "name": "stderr",
     "output_type": "stream",
     "text": [
      "INFO:stsci.skypac.utils:'MDRIZSKY' header keyword will represent sky value *computed* from data.\n"
     ]
    },
    {
     "name": "stdout",
     "output_type": "stream",
     "text": [
      "'MDRIZSKY' header keyword will represent sky value *computed* from data.\n"
     ]
    },
    {
     "name": "stderr",
     "output_type": "stream",
     "text": [
      "INFO:stsci.skypac.utils:\n"
     ]
    },
    {
     "name": "stdout",
     "output_type": "stream",
     "text": [
      "\n"
     ]
    },
    {
     "name": "stderr",
     "output_type": "stream",
     "text": [
      "INFO:stsci.skypac.utils:-----  User specified keywords:  -----\n"
     ]
    },
    {
     "name": "stdout",
     "output_type": "stream",
     "text": [
      "-----  User specified keywords:  -----\n"
     ]
    },
    {
     "name": "stderr",
     "output_type": "stream",
     "text": [
      "INFO:stsci.skypac.utils:       Sky Value Keyword:  'MDRIZSKY'\n"
     ]
    },
    {
     "name": "stdout",
     "output_type": "stream",
     "text": [
      "       Sky Value Keyword:  'MDRIZSKY'\n"
     ]
    },
    {
     "name": "stderr",
     "output_type": "stream",
     "text": [
      "INFO:stsci.skypac.utils:       Data Units Keyword: 'BUNIT'\n"
     ]
    },
    {
     "name": "stdout",
     "output_type": "stream",
     "text": [
      "       Data Units Keyword: 'BUNIT'\n"
     ]
    },
    {
     "name": "stderr",
     "output_type": "stream",
     "text": [
      "INFO:stsci.skypac.utils:\n"
     ]
    },
    {
     "name": "stdout",
     "output_type": "stream",
     "text": [
      "\n"
     ]
    },
    {
     "name": "stderr",
     "output_type": "stream",
     "text": [
      "INFO:stsci.skypac.utils:\n"
     ]
    },
    {
     "name": "stdout",
     "output_type": "stream",
     "text": [
      "\n"
     ]
    },
    {
     "name": "stderr",
     "output_type": "stream",
     "text": [
      "INFO:stsci.skypac.utils:-----  Input file list:  -----\n"
     ]
    },
    {
     "name": "stdout",
     "output_type": "stream",
     "text": [
      "-----  Input file list:  -----\n"
     ]
    },
    {
     "name": "stderr",
     "output_type": "stream",
     "text": [
      "INFO:stsci.skypac.utils:\n"
     ]
    },
    {
     "name": "stdout",
     "output_type": "stream",
     "text": [
      "\n"
     ]
    },
    {
     "name": "stderr",
     "output_type": "stream",
     "text": [
      "INFO:stsci.skypac.utils:   **  Input image: 'hst_10092_0x_acs_wfc_f814w_j8xi0xs0_flc.fits'\n"
     ]
    },
    {
     "name": "stdout",
     "output_type": "stream",
     "text": [
      "   **  Input image: 'hst_10092_0x_acs_wfc_f814w_j8xi0xs0_flc.fits'\n"
     ]
    },
    {
     "name": "stderr",
     "output_type": "stream",
     "text": [
      "INFO:stsci.skypac.utils:       EXT: 'SCI',1;\tMASK: hst_10092_0x_acs_wfc_f814w_j8xi0xs0_skymatch_mask_sci1.fits[0]\n"
     ]
    },
    {
     "name": "stdout",
     "output_type": "stream",
     "text": [
      "       EXT: 'SCI',1;\tMASK: hst_10092_0x_acs_wfc_f814w_j8xi0xs0_skymatch_mask_sci1.fits[0]\n"
     ]
    },
    {
     "name": "stderr",
     "output_type": "stream",
     "text": [
      "INFO:stsci.skypac.utils:       EXT: 'SCI',2;\tMASK: hst_10092_0x_acs_wfc_f814w_j8xi0xs0_skymatch_mask_sci2.fits[0]\n"
     ]
    },
    {
     "name": "stdout",
     "output_type": "stream",
     "text": [
      "       EXT: 'SCI',2;\tMASK: hst_10092_0x_acs_wfc_f814w_j8xi0xs0_skymatch_mask_sci2.fits[0]\n"
     ]
    },
    {
     "name": "stderr",
     "output_type": "stream",
     "text": [
      "INFO:stsci.skypac.utils:\n"
     ]
    },
    {
     "name": "stdout",
     "output_type": "stream",
     "text": [
      "\n"
     ]
    },
    {
     "name": "stderr",
     "output_type": "stream",
     "text": [
      "INFO:stsci.skypac.utils:   **  Input image: 'hst_10092_0x_acs_wfc_f814w_j8xi0xs3_flc.fits'\n"
     ]
    },
    {
     "name": "stdout",
     "output_type": "stream",
     "text": [
      "   **  Input image: 'hst_10092_0x_acs_wfc_f814w_j8xi0xs3_flc.fits'\n"
     ]
    },
    {
     "name": "stderr",
     "output_type": "stream",
     "text": [
      "INFO:stsci.skypac.utils:       EXT: 'SCI',1;\tMASK: hst_10092_0x_acs_wfc_f814w_j8xi0xs3_skymatch_mask_sci1.fits[0]\n"
     ]
    },
    {
     "name": "stdout",
     "output_type": "stream",
     "text": [
      "       EXT: 'SCI',1;\tMASK: hst_10092_0x_acs_wfc_f814w_j8xi0xs3_skymatch_mask_sci1.fits[0]\n"
     ]
    },
    {
     "name": "stderr",
     "output_type": "stream",
     "text": [
      "INFO:stsci.skypac.utils:       EXT: 'SCI',2;\tMASK: hst_10092_0x_acs_wfc_f814w_j8xi0xs3_skymatch_mask_sci2.fits[0]\n"
     ]
    },
    {
     "name": "stdout",
     "output_type": "stream",
     "text": [
      "       EXT: 'SCI',2;\tMASK: hst_10092_0x_acs_wfc_f814w_j8xi0xs3_skymatch_mask_sci2.fits[0]\n"
     ]
    },
    {
     "name": "stderr",
     "output_type": "stream",
     "text": [
      "INFO:stsci.skypac.utils:\n"
     ]
    },
    {
     "name": "stdout",
     "output_type": "stream",
     "text": [
      "\n"
     ]
    },
    {
     "name": "stderr",
     "output_type": "stream",
     "text": [
      "INFO:stsci.skypac.utils:   **  Input image: 'hst_10092_0x_acs_wfc_f814w_j8xi0xs6_flc.fits'\n"
     ]
    },
    {
     "name": "stdout",
     "output_type": "stream",
     "text": [
      "   **  Input image: 'hst_10092_0x_acs_wfc_f814w_j8xi0xs6_flc.fits'\n"
     ]
    },
    {
     "name": "stderr",
     "output_type": "stream",
     "text": [
      "INFO:stsci.skypac.utils:       EXT: 'SCI',1;\tMASK: hst_10092_0x_acs_wfc_f814w_j8xi0xs6_skymatch_mask_sci1.fits[0]\n"
     ]
    },
    {
     "name": "stdout",
     "output_type": "stream",
     "text": [
      "       EXT: 'SCI',1;\tMASK: hst_10092_0x_acs_wfc_f814w_j8xi0xs6_skymatch_mask_sci1.fits[0]\n"
     ]
    },
    {
     "name": "stderr",
     "output_type": "stream",
     "text": [
      "INFO:stsci.skypac.utils:       EXT: 'SCI',2;\tMASK: hst_10092_0x_acs_wfc_f814w_j8xi0xs6_skymatch_mask_sci2.fits[0]\n"
     ]
    },
    {
     "name": "stdout",
     "output_type": "stream",
     "text": [
      "       EXT: 'SCI',2;\tMASK: hst_10092_0x_acs_wfc_f814w_j8xi0xs6_skymatch_mask_sci2.fits[0]\n"
     ]
    },
    {
     "name": "stderr",
     "output_type": "stream",
     "text": [
      "INFO:stsci.skypac.utils:\n"
     ]
    },
    {
     "name": "stdout",
     "output_type": "stream",
     "text": [
      "\n"
     ]
    },
    {
     "name": "stderr",
     "output_type": "stream",
     "text": [
      "INFO:stsci.skypac.utils:   **  Input image: 'hst_10092_0x_acs_wfc_f814w_j8xi0xsa_flc.fits'\n"
     ]
    },
    {
     "name": "stdout",
     "output_type": "stream",
     "text": [
      "   **  Input image: 'hst_10092_0x_acs_wfc_f814w_j8xi0xsa_flc.fits'\n"
     ]
    },
    {
     "name": "stderr",
     "output_type": "stream",
     "text": [
      "INFO:stsci.skypac.utils:       EXT: 'SCI',1;\tMASK: hst_10092_0x_acs_wfc_f814w_j8xi0xsa_skymatch_mask_sci1.fits[0]\n"
     ]
    },
    {
     "name": "stdout",
     "output_type": "stream",
     "text": [
      "       EXT: 'SCI',1;\tMASK: hst_10092_0x_acs_wfc_f814w_j8xi0xsa_skymatch_mask_sci1.fits[0]\n"
     ]
    },
    {
     "name": "stderr",
     "output_type": "stream",
     "text": [
      "INFO:stsci.skypac.utils:       EXT: 'SCI',2;\tMASK: hst_10092_0x_acs_wfc_f814w_j8xi0xsa_skymatch_mask_sci2.fits[0]\n"
     ]
    },
    {
     "name": "stdout",
     "output_type": "stream",
     "text": [
      "       EXT: 'SCI',2;\tMASK: hst_10092_0x_acs_wfc_f814w_j8xi0xsa_skymatch_mask_sci2.fits[0]\n"
     ]
    },
    {
     "name": "stderr",
     "output_type": "stream",
     "text": [
      "INFO:stsci.skypac.utils:\n"
     ]
    },
    {
     "name": "stdout",
     "output_type": "stream",
     "text": [
      "\n"
     ]
    },
    {
     "name": "stderr",
     "output_type": "stream",
     "text": [
      "INFO:stsci.skypac.utils:   **  Input image: 'j8xi0xs0q_flc.fits'\n"
     ]
    },
    {
     "name": "stdout",
     "output_type": "stream",
     "text": [
      "   **  Input image: 'j8xi0xs0q_flc.fits'\n"
     ]
    },
    {
     "name": "stderr",
     "output_type": "stream",
     "text": [
      "INFO:stsci.skypac.utils:       EXT: 'SCI',1;\tMASK: j8xi0xs0q_skymatch_mask_sci1.fits[0]\n"
     ]
    },
    {
     "name": "stdout",
     "output_type": "stream",
     "text": [
      "       EXT: 'SCI',1;\tMASK: j8xi0xs0q_skymatch_mask_sci1.fits[0]\n"
     ]
    },
    {
     "name": "stderr",
     "output_type": "stream",
     "text": [
      "INFO:stsci.skypac.utils:       EXT: 'SCI',2;\tMASK: j8xi0xs0q_skymatch_mask_sci2.fits[0]\n"
     ]
    },
    {
     "name": "stdout",
     "output_type": "stream",
     "text": [
      "       EXT: 'SCI',2;\tMASK: j8xi0xs0q_skymatch_mask_sci2.fits[0]\n"
     ]
    },
    {
     "name": "stderr",
     "output_type": "stream",
     "text": [
      "INFO:stsci.skypac.utils:\n"
     ]
    },
    {
     "name": "stdout",
     "output_type": "stream",
     "text": [
      "\n"
     ]
    },
    {
     "name": "stderr",
     "output_type": "stream",
     "text": [
      "INFO:stsci.skypac.utils:   **  Input image: 'j8xi0xs3q_flc.fits'\n"
     ]
    },
    {
     "name": "stdout",
     "output_type": "stream",
     "text": [
      "   **  Input image: 'j8xi0xs3q_flc.fits'\n"
     ]
    },
    {
     "name": "stderr",
     "output_type": "stream",
     "text": [
      "INFO:stsci.skypac.utils:       EXT: 'SCI',1;\tMASK: j8xi0xs3q_skymatch_mask_sci1.fits[0]\n"
     ]
    },
    {
     "name": "stdout",
     "output_type": "stream",
     "text": [
      "       EXT: 'SCI',1;\tMASK: j8xi0xs3q_skymatch_mask_sci1.fits[0]\n"
     ]
    },
    {
     "name": "stderr",
     "output_type": "stream",
     "text": [
      "INFO:stsci.skypac.utils:       EXT: 'SCI',2;\tMASK: j8xi0xs3q_skymatch_mask_sci2.fits[0]\n"
     ]
    },
    {
     "name": "stdout",
     "output_type": "stream",
     "text": [
      "       EXT: 'SCI',2;\tMASK: j8xi0xs3q_skymatch_mask_sci2.fits[0]\n"
     ]
    },
    {
     "name": "stderr",
     "output_type": "stream",
     "text": [
      "INFO:stsci.skypac.utils:\n"
     ]
    },
    {
     "name": "stdout",
     "output_type": "stream",
     "text": [
      "\n"
     ]
    },
    {
     "name": "stderr",
     "output_type": "stream",
     "text": [
      "INFO:stsci.skypac.utils:   **  Input image: 'j8xi0xs6q_flc.fits'\n"
     ]
    },
    {
     "name": "stdout",
     "output_type": "stream",
     "text": [
      "   **  Input image: 'j8xi0xs6q_flc.fits'\n"
     ]
    },
    {
     "name": "stderr",
     "output_type": "stream",
     "text": [
      "INFO:stsci.skypac.utils:       EXT: 'SCI',1;\tMASK: j8xi0xs6q_skymatch_mask_sci1.fits[0]\n"
     ]
    },
    {
     "name": "stdout",
     "output_type": "stream",
     "text": [
      "       EXT: 'SCI',1;\tMASK: j8xi0xs6q_skymatch_mask_sci1.fits[0]\n"
     ]
    },
    {
     "name": "stderr",
     "output_type": "stream",
     "text": [
      "INFO:stsci.skypac.utils:       EXT: 'SCI',2;\tMASK: j8xi0xs6q_skymatch_mask_sci2.fits[0]\n"
     ]
    },
    {
     "name": "stdout",
     "output_type": "stream",
     "text": [
      "       EXT: 'SCI',2;\tMASK: j8xi0xs6q_skymatch_mask_sci2.fits[0]\n"
     ]
    },
    {
     "name": "stderr",
     "output_type": "stream",
     "text": [
      "INFO:stsci.skypac.utils:\n"
     ]
    },
    {
     "name": "stdout",
     "output_type": "stream",
     "text": [
      "\n"
     ]
    },
    {
     "name": "stderr",
     "output_type": "stream",
     "text": [
      "INFO:stsci.skypac.utils:   **  Input image: 'j8xi0xsaq_flc.fits'\n"
     ]
    },
    {
     "name": "stdout",
     "output_type": "stream",
     "text": [
      "   **  Input image: 'j8xi0xsaq_flc.fits'\n"
     ]
    },
    {
     "name": "stderr",
     "output_type": "stream",
     "text": [
      "INFO:stsci.skypac.utils:       EXT: 'SCI',1;\tMASK: j8xi0xsaq_skymatch_mask_sci1.fits[0]\n"
     ]
    },
    {
     "name": "stdout",
     "output_type": "stream",
     "text": [
      "       EXT: 'SCI',1;\tMASK: j8xi0xsaq_skymatch_mask_sci1.fits[0]\n"
     ]
    },
    {
     "name": "stderr",
     "output_type": "stream",
     "text": [
      "INFO:stsci.skypac.utils:       EXT: 'SCI',2;\tMASK: j8xi0xsaq_skymatch_mask_sci2.fits[0]\n"
     ]
    },
    {
     "name": "stdout",
     "output_type": "stream",
     "text": [
      "       EXT: 'SCI',2;\tMASK: j8xi0xsaq_skymatch_mask_sci2.fits[0]\n"
     ]
    },
    {
     "name": "stderr",
     "output_type": "stream",
     "text": [
      "INFO:stsci.skypac.utils:\n"
     ]
    },
    {
     "name": "stdout",
     "output_type": "stream",
     "text": [
      "\n"
     ]
    },
    {
     "name": "stderr",
     "output_type": "stream",
     "text": [
      "INFO:stsci.skypac.utils:-----  Sky statistics parameters:  -----\n"
     ]
    },
    {
     "name": "stdout",
     "output_type": "stream",
     "text": [
      "-----  Sky statistics parameters:  -----\n"
     ]
    },
    {
     "name": "stderr",
     "output_type": "stream",
     "text": [
      "INFO:stsci.skypac.utils:       statistics function: 'median'\n"
     ]
    },
    {
     "name": "stdout",
     "output_type": "stream",
     "text": [
      "       statistics function: 'median'\n"
     ]
    },
    {
     "name": "stderr",
     "output_type": "stream",
     "text": [
      "INFO:stsci.skypac.utils:       lower = None\n"
     ]
    },
    {
     "name": "stdout",
     "output_type": "stream",
     "text": [
      "       lower = None\n"
     ]
    },
    {
     "name": "stderr",
     "output_type": "stream",
     "text": [
      "INFO:stsci.skypac.utils:       upper = None\n"
     ]
    },
    {
     "name": "stdout",
     "output_type": "stream",
     "text": [
      "       upper = None\n"
     ]
    },
    {
     "name": "stderr",
     "output_type": "stream",
     "text": [
      "INFO:stsci.skypac.utils:       nclip = 5\n"
     ]
    },
    {
     "name": "stdout",
     "output_type": "stream",
     "text": [
      "       nclip = 5\n"
     ]
    },
    {
     "name": "stderr",
     "output_type": "stream",
     "text": [
      "INFO:stsci.skypac.utils:       lsigma = 4.0\n"
     ]
    },
    {
     "name": "stdout",
     "output_type": "stream",
     "text": [
      "       lsigma = 4.0\n"
     ]
    },
    {
     "name": "stderr",
     "output_type": "stream",
     "text": [
      "INFO:stsci.skypac.utils:       usigma = 4.0\n"
     ]
    },
    {
     "name": "stdout",
     "output_type": "stream",
     "text": [
      "       usigma = 4.0\n"
     ]
    },
    {
     "name": "stderr",
     "output_type": "stream",
     "text": [
      "INFO:stsci.skypac.utils:       binwidth = 0.1\n"
     ]
    },
    {
     "name": "stdout",
     "output_type": "stream",
     "text": [
      "       binwidth = 0.1\n"
     ]
    },
    {
     "name": "stderr",
     "output_type": "stream",
     "text": [
      "INFO:stsci.skypac.utils:\n"
     ]
    },
    {
     "name": "stdout",
     "output_type": "stream",
     "text": [
      "\n"
     ]
    },
    {
     "name": "stderr",
     "output_type": "stream",
     "text": [
      "INFO:stsci.skypac.utils:-----  Data->Brightness conversion parameters for input files:  -----\n"
     ]
    },
    {
     "name": "stdout",
     "output_type": "stream",
     "text": [
      "-----  Data->Brightness conversion parameters for input files:  -----\n"
     ]
    },
    {
     "name": "stderr",
     "output_type": "stream",
     "text": [
      "INFO:stsci.skypac.utils:\n"
     ]
    },
    {
     "name": "stdout",
     "output_type": "stream",
     "text": [
      "\n"
     ]
    },
    {
     "name": "stderr",
     "output_type": "stream",
     "text": [
      "INFO:stsci.skypac.utils:   *   Image: hst_10092_0x_acs_wfc_f814w_j8xi0xs0_flc.fits\n"
     ]
    },
    {
     "name": "stdout",
     "output_type": "stream",
     "text": [
      "   *   Image: hst_10092_0x_acs_wfc_f814w_j8xi0xs0_flc.fits\n"
     ]
    },
    {
     "name": "stderr",
     "output_type": "stream",
     "text": [
      "INFO:stsci.skypac.utils:       EXT = 'SCI',1\n"
     ]
    },
    {
     "name": "stdout",
     "output_type": "stream",
     "text": [
      "       EXT = 'SCI',1\n"
     ]
    },
    {
     "name": "stderr",
     "output_type": "stream",
     "text": [
      "INFO:stsci.skypac.utils:             Data units type: COUNTS\n"
     ]
    },
    {
     "name": "stdout",
     "output_type": "stream",
     "text": [
      "             Data units type: COUNTS\n"
     ]
    },
    {
     "name": "stderr",
     "output_type": "stream",
     "text": [
      "INFO:stsci.skypac.utils:             EXPTIME: 507.0 [s]\n"
     ]
    },
    {
     "name": "stdout",
     "output_type": "stream",
     "text": [
      "             EXPTIME: 507.0 [s]\n"
     ]
    },
    {
     "name": "stderr",
     "output_type": "stream",
     "text": [
      "INFO:stsci.skypac.utils:             Conversion factor (data->brightness):  0.7889546351084812\n"
     ]
    },
    {
     "name": "stdout",
     "output_type": "stream",
     "text": [
      "             Conversion factor (data->brightness):  0.7889546351084812\n"
     ]
    },
    {
     "name": "stderr",
     "output_type": "stream",
     "text": [
      "INFO:stsci.skypac.utils:       EXT = 'SCI',2\n"
     ]
    },
    {
     "name": "stdout",
     "output_type": "stream",
     "text": [
      "       EXT = 'SCI',2\n"
     ]
    },
    {
     "name": "stderr",
     "output_type": "stream",
     "text": [
      "INFO:stsci.skypac.utils:             Data units type: COUNTS\n"
     ]
    },
    {
     "name": "stdout",
     "output_type": "stream",
     "text": [
      "             Data units type: COUNTS\n"
     ]
    },
    {
     "name": "stderr",
     "output_type": "stream",
     "text": [
      "INFO:stsci.skypac.utils:             EXPTIME: 507.0 [s]\n"
     ]
    },
    {
     "name": "stdout",
     "output_type": "stream",
     "text": [
      "             EXPTIME: 507.0 [s]\n"
     ]
    },
    {
     "name": "stderr",
     "output_type": "stream",
     "text": [
      "INFO:stsci.skypac.utils:             Conversion factor (data->brightness):  0.7889546351084812\n"
     ]
    },
    {
     "name": "stdout",
     "output_type": "stream",
     "text": [
      "             Conversion factor (data->brightness):  0.7889546351084812\n"
     ]
    },
    {
     "name": "stderr",
     "output_type": "stream",
     "text": [
      "INFO:stsci.skypac.utils:\n"
     ]
    },
    {
     "name": "stdout",
     "output_type": "stream",
     "text": [
      "\n"
     ]
    },
    {
     "name": "stderr",
     "output_type": "stream",
     "text": [
      "INFO:stsci.skypac.utils:   *   Image: hst_10092_0x_acs_wfc_f814w_j8xi0xs3_flc.fits\n"
     ]
    },
    {
     "name": "stdout",
     "output_type": "stream",
     "text": [
      "   *   Image: hst_10092_0x_acs_wfc_f814w_j8xi0xs3_flc.fits\n"
     ]
    },
    {
     "name": "stderr",
     "output_type": "stream",
     "text": [
      "INFO:stsci.skypac.utils:       EXT = 'SCI',1\n"
     ]
    },
    {
     "name": "stdout",
     "output_type": "stream",
     "text": [
      "       EXT = 'SCI',1\n"
     ]
    },
    {
     "name": "stderr",
     "output_type": "stream",
     "text": [
      "INFO:stsci.skypac.utils:             Data units type: COUNTS\n"
     ]
    },
    {
     "name": "stdout",
     "output_type": "stream",
     "text": [
      "             Data units type: COUNTS\n"
     ]
    },
    {
     "name": "stderr",
     "output_type": "stream",
     "text": [
      "INFO:stsci.skypac.utils:             EXPTIME: 507.0 [s]\n"
     ]
    },
    {
     "name": "stdout",
     "output_type": "stream",
     "text": [
      "             EXPTIME: 507.0 [s]\n"
     ]
    },
    {
     "name": "stderr",
     "output_type": "stream",
     "text": [
      "INFO:stsci.skypac.utils:             Conversion factor (data->brightness):  0.7889546351084812\n"
     ]
    },
    {
     "name": "stdout",
     "output_type": "stream",
     "text": [
      "             Conversion factor (data->brightness):  0.7889546351084812\n"
     ]
    },
    {
     "name": "stderr",
     "output_type": "stream",
     "text": [
      "INFO:stsci.skypac.utils:       EXT = 'SCI',2\n"
     ]
    },
    {
     "name": "stdout",
     "output_type": "stream",
     "text": [
      "       EXT = 'SCI',2\n"
     ]
    },
    {
     "name": "stderr",
     "output_type": "stream",
     "text": [
      "INFO:stsci.skypac.utils:             Data units type: COUNTS\n"
     ]
    },
    {
     "name": "stdout",
     "output_type": "stream",
     "text": [
      "             Data units type: COUNTS\n"
     ]
    },
    {
     "name": "stderr",
     "output_type": "stream",
     "text": [
      "INFO:stsci.skypac.utils:             EXPTIME: 507.0 [s]\n"
     ]
    },
    {
     "name": "stdout",
     "output_type": "stream",
     "text": [
      "             EXPTIME: 507.0 [s]\n"
     ]
    },
    {
     "name": "stderr",
     "output_type": "stream",
     "text": [
      "INFO:stsci.skypac.utils:             Conversion factor (data->brightness):  0.7889546351084812\n"
     ]
    },
    {
     "name": "stdout",
     "output_type": "stream",
     "text": [
      "             Conversion factor (data->brightness):  0.7889546351084812\n"
     ]
    },
    {
     "name": "stderr",
     "output_type": "stream",
     "text": [
      "INFO:stsci.skypac.utils:\n"
     ]
    },
    {
     "name": "stdout",
     "output_type": "stream",
     "text": [
      "\n"
     ]
    },
    {
     "name": "stderr",
     "output_type": "stream",
     "text": [
      "INFO:stsci.skypac.utils:   *   Image: hst_10092_0x_acs_wfc_f814w_j8xi0xs6_flc.fits\n"
     ]
    },
    {
     "name": "stdout",
     "output_type": "stream",
     "text": [
      "   *   Image: hst_10092_0x_acs_wfc_f814w_j8xi0xs6_flc.fits\n"
     ]
    },
    {
     "name": "stderr",
     "output_type": "stream",
     "text": [
      "INFO:stsci.skypac.utils:       EXT = 'SCI',1\n"
     ]
    },
    {
     "name": "stdout",
     "output_type": "stream",
     "text": [
      "       EXT = 'SCI',1\n"
     ]
    },
    {
     "name": "stderr",
     "output_type": "stream",
     "text": [
      "INFO:stsci.skypac.utils:             Data units type: COUNTS\n"
     ]
    },
    {
     "name": "stdout",
     "output_type": "stream",
     "text": [
      "             Data units type: COUNTS\n"
     ]
    },
    {
     "name": "stderr",
     "output_type": "stream",
     "text": [
      "INFO:stsci.skypac.utils:             EXPTIME: 507.0 [s]\n"
     ]
    },
    {
     "name": "stdout",
     "output_type": "stream",
     "text": [
      "             EXPTIME: 507.0 [s]\n"
     ]
    },
    {
     "name": "stderr",
     "output_type": "stream",
     "text": [
      "INFO:stsci.skypac.utils:             Conversion factor (data->brightness):  0.7889546351084812\n"
     ]
    },
    {
     "name": "stdout",
     "output_type": "stream",
     "text": [
      "             Conversion factor (data->brightness):  0.7889546351084812\n"
     ]
    },
    {
     "name": "stderr",
     "output_type": "stream",
     "text": [
      "INFO:stsci.skypac.utils:       EXT = 'SCI',2\n"
     ]
    },
    {
     "name": "stdout",
     "output_type": "stream",
     "text": [
      "       EXT = 'SCI',2\n"
     ]
    },
    {
     "name": "stderr",
     "output_type": "stream",
     "text": [
      "INFO:stsci.skypac.utils:             Data units type: COUNTS\n"
     ]
    },
    {
     "name": "stdout",
     "output_type": "stream",
     "text": [
      "             Data units type: COUNTS\n"
     ]
    },
    {
     "name": "stderr",
     "output_type": "stream",
     "text": [
      "INFO:stsci.skypac.utils:             EXPTIME: 507.0 [s]\n"
     ]
    },
    {
     "name": "stdout",
     "output_type": "stream",
     "text": [
      "             EXPTIME: 507.0 [s]\n"
     ]
    },
    {
     "name": "stderr",
     "output_type": "stream",
     "text": [
      "INFO:stsci.skypac.utils:             Conversion factor (data->brightness):  0.7889546351084812\n"
     ]
    },
    {
     "name": "stdout",
     "output_type": "stream",
     "text": [
      "             Conversion factor (data->brightness):  0.7889546351084812\n"
     ]
    },
    {
     "name": "stderr",
     "output_type": "stream",
     "text": [
      "INFO:stsci.skypac.utils:\n"
     ]
    },
    {
     "name": "stdout",
     "output_type": "stream",
     "text": [
      "\n"
     ]
    },
    {
     "name": "stderr",
     "output_type": "stream",
     "text": [
      "INFO:stsci.skypac.utils:   *   Image: hst_10092_0x_acs_wfc_f814w_j8xi0xsa_flc.fits\n"
     ]
    },
    {
     "name": "stdout",
     "output_type": "stream",
     "text": [
      "   *   Image: hst_10092_0x_acs_wfc_f814w_j8xi0xsa_flc.fits\n"
     ]
    },
    {
     "name": "stderr",
     "output_type": "stream",
     "text": [
      "INFO:stsci.skypac.utils:       EXT = 'SCI',1\n"
     ]
    },
    {
     "name": "stdout",
     "output_type": "stream",
     "text": [
      "       EXT = 'SCI',1\n"
     ]
    },
    {
     "name": "stderr",
     "output_type": "stream",
     "text": [
      "INFO:stsci.skypac.utils:             Data units type: COUNTS\n"
     ]
    },
    {
     "name": "stdout",
     "output_type": "stream",
     "text": [
      "             Data units type: COUNTS\n"
     ]
    },
    {
     "name": "stderr",
     "output_type": "stream",
     "text": [
      "INFO:stsci.skypac.utils:             EXPTIME: 507.0 [s]\n"
     ]
    },
    {
     "name": "stdout",
     "output_type": "stream",
     "text": [
      "             EXPTIME: 507.0 [s]\n"
     ]
    },
    {
     "name": "stderr",
     "output_type": "stream",
     "text": [
      "INFO:stsci.skypac.utils:             Conversion factor (data->brightness):  0.7889546351084812\n"
     ]
    },
    {
     "name": "stdout",
     "output_type": "stream",
     "text": [
      "             Conversion factor (data->brightness):  0.7889546351084812\n"
     ]
    },
    {
     "name": "stderr",
     "output_type": "stream",
     "text": [
      "INFO:stsci.skypac.utils:       EXT = 'SCI',2\n"
     ]
    },
    {
     "name": "stdout",
     "output_type": "stream",
     "text": [
      "       EXT = 'SCI',2\n"
     ]
    },
    {
     "name": "stderr",
     "output_type": "stream",
     "text": [
      "INFO:stsci.skypac.utils:             Data units type: COUNTS\n"
     ]
    },
    {
     "name": "stdout",
     "output_type": "stream",
     "text": [
      "             Data units type: COUNTS\n"
     ]
    },
    {
     "name": "stderr",
     "output_type": "stream",
     "text": [
      "INFO:stsci.skypac.utils:             EXPTIME: 507.0 [s]\n"
     ]
    },
    {
     "name": "stdout",
     "output_type": "stream",
     "text": [
      "             EXPTIME: 507.0 [s]\n"
     ]
    },
    {
     "name": "stderr",
     "output_type": "stream",
     "text": [
      "INFO:stsci.skypac.utils:             Conversion factor (data->brightness):  0.7889546351084812\n"
     ]
    },
    {
     "name": "stdout",
     "output_type": "stream",
     "text": [
      "             Conversion factor (data->brightness):  0.7889546351084812\n"
     ]
    },
    {
     "name": "stderr",
     "output_type": "stream",
     "text": [
      "INFO:stsci.skypac.utils:\n"
     ]
    },
    {
     "name": "stdout",
     "output_type": "stream",
     "text": [
      "\n"
     ]
    },
    {
     "name": "stderr",
     "output_type": "stream",
     "text": [
      "INFO:stsci.skypac.utils:   *   Image: j8xi0xs0q_flc.fits\n"
     ]
    },
    {
     "name": "stdout",
     "output_type": "stream",
     "text": [
      "   *   Image: j8xi0xs0q_flc.fits\n"
     ]
    },
    {
     "name": "stderr",
     "output_type": "stream",
     "text": [
      "INFO:stsci.skypac.utils:       EXT = 'SCI',1\n"
     ]
    },
    {
     "name": "stdout",
     "output_type": "stream",
     "text": [
      "       EXT = 'SCI',1\n"
     ]
    },
    {
     "name": "stderr",
     "output_type": "stream",
     "text": [
      "INFO:stsci.skypac.utils:             Data units type: COUNTS\n"
     ]
    },
    {
     "name": "stdout",
     "output_type": "stream",
     "text": [
      "             Data units type: COUNTS\n"
     ]
    },
    {
     "name": "stderr",
     "output_type": "stream",
     "text": [
      "INFO:stsci.skypac.utils:             EXPTIME: 507.0 [s]\n"
     ]
    },
    {
     "name": "stdout",
     "output_type": "stream",
     "text": [
      "             EXPTIME: 507.0 [s]\n"
     ]
    },
    {
     "name": "stderr",
     "output_type": "stream",
     "text": [
      "INFO:stsci.skypac.utils:             Conversion factor (data->brightness):  0.7889546351084812\n"
     ]
    },
    {
     "name": "stdout",
     "output_type": "stream",
     "text": [
      "             Conversion factor (data->brightness):  0.7889546351084812\n"
     ]
    },
    {
     "name": "stderr",
     "output_type": "stream",
     "text": [
      "INFO:stsci.skypac.utils:       EXT = 'SCI',2\n"
     ]
    },
    {
     "name": "stdout",
     "output_type": "stream",
     "text": [
      "       EXT = 'SCI',2\n"
     ]
    },
    {
     "name": "stderr",
     "output_type": "stream",
     "text": [
      "INFO:stsci.skypac.utils:             Data units type: COUNTS\n"
     ]
    },
    {
     "name": "stdout",
     "output_type": "stream",
     "text": [
      "             Data units type: COUNTS\n"
     ]
    },
    {
     "name": "stderr",
     "output_type": "stream",
     "text": [
      "INFO:stsci.skypac.utils:             EXPTIME: 507.0 [s]\n"
     ]
    },
    {
     "name": "stdout",
     "output_type": "stream",
     "text": [
      "             EXPTIME: 507.0 [s]\n"
     ]
    },
    {
     "name": "stderr",
     "output_type": "stream",
     "text": [
      "INFO:stsci.skypac.utils:             Conversion factor (data->brightness):  0.7889546351084812\n"
     ]
    },
    {
     "name": "stdout",
     "output_type": "stream",
     "text": [
      "             Conversion factor (data->brightness):  0.7889546351084812\n"
     ]
    },
    {
     "name": "stderr",
     "output_type": "stream",
     "text": [
      "INFO:stsci.skypac.utils:\n"
     ]
    },
    {
     "name": "stdout",
     "output_type": "stream",
     "text": [
      "\n"
     ]
    },
    {
     "name": "stderr",
     "output_type": "stream",
     "text": [
      "INFO:stsci.skypac.utils:   *   Image: j8xi0xs3q_flc.fits\n"
     ]
    },
    {
     "name": "stdout",
     "output_type": "stream",
     "text": [
      "   *   Image: j8xi0xs3q_flc.fits\n"
     ]
    },
    {
     "name": "stderr",
     "output_type": "stream",
     "text": [
      "INFO:stsci.skypac.utils:       EXT = 'SCI',1\n"
     ]
    },
    {
     "name": "stdout",
     "output_type": "stream",
     "text": [
      "       EXT = 'SCI',1\n"
     ]
    },
    {
     "name": "stderr",
     "output_type": "stream",
     "text": [
      "INFO:stsci.skypac.utils:             Data units type: COUNTS\n"
     ]
    },
    {
     "name": "stdout",
     "output_type": "stream",
     "text": [
      "             Data units type: COUNTS\n"
     ]
    },
    {
     "name": "stderr",
     "output_type": "stream",
     "text": [
      "INFO:stsci.skypac.utils:             EXPTIME: 507.0 [s]\n"
     ]
    },
    {
     "name": "stdout",
     "output_type": "stream",
     "text": [
      "             EXPTIME: 507.0 [s]\n"
     ]
    },
    {
     "name": "stderr",
     "output_type": "stream",
     "text": [
      "INFO:stsci.skypac.utils:             Conversion factor (data->brightness):  0.7889546351084812\n"
     ]
    },
    {
     "name": "stdout",
     "output_type": "stream",
     "text": [
      "             Conversion factor (data->brightness):  0.7889546351084812\n"
     ]
    },
    {
     "name": "stderr",
     "output_type": "stream",
     "text": [
      "INFO:stsci.skypac.utils:       EXT = 'SCI',2\n"
     ]
    },
    {
     "name": "stdout",
     "output_type": "stream",
     "text": [
      "       EXT = 'SCI',2\n"
     ]
    },
    {
     "name": "stderr",
     "output_type": "stream",
     "text": [
      "INFO:stsci.skypac.utils:             Data units type: COUNTS\n"
     ]
    },
    {
     "name": "stdout",
     "output_type": "stream",
     "text": [
      "             Data units type: COUNTS\n"
     ]
    },
    {
     "name": "stderr",
     "output_type": "stream",
     "text": [
      "INFO:stsci.skypac.utils:             EXPTIME: 507.0 [s]\n"
     ]
    },
    {
     "name": "stdout",
     "output_type": "stream",
     "text": [
      "             EXPTIME: 507.0 [s]\n"
     ]
    },
    {
     "name": "stderr",
     "output_type": "stream",
     "text": [
      "INFO:stsci.skypac.utils:             Conversion factor (data->brightness):  0.7889546351084812\n"
     ]
    },
    {
     "name": "stdout",
     "output_type": "stream",
     "text": [
      "             Conversion factor (data->brightness):  0.7889546351084812\n"
     ]
    },
    {
     "name": "stderr",
     "output_type": "stream",
     "text": [
      "INFO:stsci.skypac.utils:\n"
     ]
    },
    {
     "name": "stdout",
     "output_type": "stream",
     "text": [
      "\n"
     ]
    },
    {
     "name": "stderr",
     "output_type": "stream",
     "text": [
      "INFO:stsci.skypac.utils:   *   Image: j8xi0xs6q_flc.fits\n"
     ]
    },
    {
     "name": "stdout",
     "output_type": "stream",
     "text": [
      "   *   Image: j8xi0xs6q_flc.fits\n"
     ]
    },
    {
     "name": "stderr",
     "output_type": "stream",
     "text": [
      "INFO:stsci.skypac.utils:       EXT = 'SCI',1\n"
     ]
    },
    {
     "name": "stdout",
     "output_type": "stream",
     "text": [
      "       EXT = 'SCI',1\n"
     ]
    },
    {
     "name": "stderr",
     "output_type": "stream",
     "text": [
      "INFO:stsci.skypac.utils:             Data units type: COUNTS\n"
     ]
    },
    {
     "name": "stdout",
     "output_type": "stream",
     "text": [
      "             Data units type: COUNTS\n"
     ]
    },
    {
     "name": "stderr",
     "output_type": "stream",
     "text": [
      "INFO:stsci.skypac.utils:             EXPTIME: 507.0 [s]\n"
     ]
    },
    {
     "name": "stdout",
     "output_type": "stream",
     "text": [
      "             EXPTIME: 507.0 [s]\n"
     ]
    },
    {
     "name": "stderr",
     "output_type": "stream",
     "text": [
      "INFO:stsci.skypac.utils:             Conversion factor (data->brightness):  0.7889546351084812\n"
     ]
    },
    {
     "name": "stdout",
     "output_type": "stream",
     "text": [
      "             Conversion factor (data->brightness):  0.7889546351084812\n"
     ]
    },
    {
     "name": "stderr",
     "output_type": "stream",
     "text": [
      "INFO:stsci.skypac.utils:       EXT = 'SCI',2\n"
     ]
    },
    {
     "name": "stdout",
     "output_type": "stream",
     "text": [
      "       EXT = 'SCI',2\n"
     ]
    },
    {
     "name": "stderr",
     "output_type": "stream",
     "text": [
      "INFO:stsci.skypac.utils:             Data units type: COUNTS\n"
     ]
    },
    {
     "name": "stdout",
     "output_type": "stream",
     "text": [
      "             Data units type: COUNTS\n"
     ]
    },
    {
     "name": "stderr",
     "output_type": "stream",
     "text": [
      "INFO:stsci.skypac.utils:             EXPTIME: 507.0 [s]\n"
     ]
    },
    {
     "name": "stdout",
     "output_type": "stream",
     "text": [
      "             EXPTIME: 507.0 [s]\n"
     ]
    },
    {
     "name": "stderr",
     "output_type": "stream",
     "text": [
      "INFO:stsci.skypac.utils:             Conversion factor (data->brightness):  0.7889546351084812\n"
     ]
    },
    {
     "name": "stdout",
     "output_type": "stream",
     "text": [
      "             Conversion factor (data->brightness):  0.7889546351084812\n"
     ]
    },
    {
     "name": "stderr",
     "output_type": "stream",
     "text": [
      "INFO:stsci.skypac.utils:\n"
     ]
    },
    {
     "name": "stdout",
     "output_type": "stream",
     "text": [
      "\n"
     ]
    },
    {
     "name": "stderr",
     "output_type": "stream",
     "text": [
      "INFO:stsci.skypac.utils:   *   Image: j8xi0xsaq_flc.fits\n"
     ]
    },
    {
     "name": "stdout",
     "output_type": "stream",
     "text": [
      "   *   Image: j8xi0xsaq_flc.fits\n"
     ]
    },
    {
     "name": "stderr",
     "output_type": "stream",
     "text": [
      "INFO:stsci.skypac.utils:       EXT = 'SCI',1\n"
     ]
    },
    {
     "name": "stdout",
     "output_type": "stream",
     "text": [
      "       EXT = 'SCI',1\n"
     ]
    },
    {
     "name": "stderr",
     "output_type": "stream",
     "text": [
      "INFO:stsci.skypac.utils:             Data units type: COUNTS\n"
     ]
    },
    {
     "name": "stdout",
     "output_type": "stream",
     "text": [
      "             Data units type: COUNTS\n"
     ]
    },
    {
     "name": "stderr",
     "output_type": "stream",
     "text": [
      "INFO:stsci.skypac.utils:             EXPTIME: 507.0 [s]\n"
     ]
    },
    {
     "name": "stdout",
     "output_type": "stream",
     "text": [
      "             EXPTIME: 507.0 [s]\n"
     ]
    },
    {
     "name": "stderr",
     "output_type": "stream",
     "text": [
      "INFO:stsci.skypac.utils:             Conversion factor (data->brightness):  0.7889546351084812\n"
     ]
    },
    {
     "name": "stdout",
     "output_type": "stream",
     "text": [
      "             Conversion factor (data->brightness):  0.7889546351084812\n"
     ]
    },
    {
     "name": "stderr",
     "output_type": "stream",
     "text": [
      "INFO:stsci.skypac.utils:       EXT = 'SCI',2\n"
     ]
    },
    {
     "name": "stdout",
     "output_type": "stream",
     "text": [
      "       EXT = 'SCI',2\n"
     ]
    },
    {
     "name": "stderr",
     "output_type": "stream",
     "text": [
      "INFO:stsci.skypac.utils:             Data units type: COUNTS\n"
     ]
    },
    {
     "name": "stdout",
     "output_type": "stream",
     "text": [
      "             Data units type: COUNTS\n"
     ]
    },
    {
     "name": "stderr",
     "output_type": "stream",
     "text": [
      "INFO:stsci.skypac.utils:             EXPTIME: 507.0 [s]\n"
     ]
    },
    {
     "name": "stdout",
     "output_type": "stream",
     "text": [
      "             EXPTIME: 507.0 [s]\n"
     ]
    },
    {
     "name": "stderr",
     "output_type": "stream",
     "text": [
      "INFO:stsci.skypac.utils:             Conversion factor (data->brightness):  0.7889546351084812\n"
     ]
    },
    {
     "name": "stdout",
     "output_type": "stream",
     "text": [
      "             Conversion factor (data->brightness):  0.7889546351084812\n"
     ]
    },
    {
     "name": "stderr",
     "output_type": "stream",
     "text": [
      "INFO:stsci.skypac.utils:\n"
     ]
    },
    {
     "name": "stdout",
     "output_type": "stream",
     "text": [
      "\n"
     ]
    },
    {
     "name": "stderr",
     "output_type": "stream",
     "text": [
      "INFO:stsci.skypac.utils:\n"
     ]
    },
    {
     "name": "stdout",
     "output_type": "stream",
     "text": [
      "\n"
     ]
    },
    {
     "name": "stderr",
     "output_type": "stream",
     "text": [
      "INFO:stsci.skypac.utils:-----  Computing sky values requested image extensions (detector chips):  -----\n"
     ]
    },
    {
     "name": "stdout",
     "output_type": "stream",
     "text": [
      "-----  Computing sky values requested image extensions (detector chips):  -----\n"
     ]
    },
    {
     "name": "stderr",
     "output_type": "stream",
     "text": [
      "INFO:stsci.skypac.utils:\n"
     ]
    },
    {
     "name": "stdout",
     "output_type": "stream",
     "text": [
      "\n"
     ]
    },
    {
     "name": "stderr",
     "output_type": "stream",
     "text": [
      "INFO:stsci.skypac.utils:   *   Image:   'hst_10092_0x_acs_wfc_f814w_j8xi0xs0_flc.fits['SCI',1,2]'  --  SKY = 43.810875646226265 (brightness units)\n"
     ]
    },
    {
     "name": "stdout",
     "output_type": "stream",
     "text": [
      "   *   Image:   'hst_10092_0x_acs_wfc_f814w_j8xi0xs0_flc.fits['SCI',1,2]'  --  SKY = 43.810875646226265 (brightness units)\n"
     ]
    },
    {
     "name": "stderr",
     "output_type": "stream",
     "text": [
      "INFO:stsci.skypac.utils:       Sky change (data units):\n"
     ]
    },
    {
     "name": "stdout",
     "output_type": "stream",
     "text": [
      "       Sky change (data units):\n"
     ]
    },
    {
     "name": "stderr",
     "output_type": "stream",
     "text": [
      "INFO:stsci.skypac.utils:      - EXT = 'SCI',1   delta(MDRIZSKY) = 55.5303   NEW MDRIZSKY = 55.5303\n"
     ]
    },
    {
     "name": "stdout",
     "output_type": "stream",
     "text": [
      "      - EXT = 'SCI',1   delta(MDRIZSKY) = 55.5303   NEW MDRIZSKY = 55.5303\n"
     ]
    },
    {
     "name": "stderr",
     "output_type": "stream",
     "text": [
      "INFO:stsci.skypac.utils:      - EXT = 'SCI',2   delta(MDRIZSKY) = 55.5303   NEW MDRIZSKY = 55.5303\n"
     ]
    },
    {
     "name": "stdout",
     "output_type": "stream",
     "text": [
      "      - EXT = 'SCI',2   delta(MDRIZSKY) = 55.5303   NEW MDRIZSKY = 55.5303\n"
     ]
    },
    {
     "name": "stderr",
     "output_type": "stream",
     "text": [
      "INFO:stsci.skypac.utils:   *   Image:   'hst_10092_0x_acs_wfc_f814w_j8xi0xs3_flc.fits['SCI',1,2]'  --  SKY = 40.004096698949084 (brightness units)\n"
     ]
    },
    {
     "name": "stdout",
     "output_type": "stream",
     "text": [
      "   *   Image:   'hst_10092_0x_acs_wfc_f814w_j8xi0xs3_flc.fits['SCI',1,2]'  --  SKY = 40.004096698949084 (brightness units)\n"
     ]
    },
    {
     "name": "stderr",
     "output_type": "stream",
     "text": [
      "INFO:stsci.skypac.utils:       Sky change (data units):\n"
     ]
    },
    {
     "name": "stdout",
     "output_type": "stream",
     "text": [
      "       Sky change (data units):\n"
     ]
    },
    {
     "name": "stderr",
     "output_type": "stream",
     "text": [
      "INFO:stsci.skypac.utils:      - EXT = 'SCI',1   delta(MDRIZSKY) = 50.7052   NEW MDRIZSKY = 50.7052\n"
     ]
    },
    {
     "name": "stdout",
     "output_type": "stream",
     "text": [
      "      - EXT = 'SCI',1   delta(MDRIZSKY) = 50.7052   NEW MDRIZSKY = 50.7052\n"
     ]
    },
    {
     "name": "stderr",
     "output_type": "stream",
     "text": [
      "INFO:stsci.skypac.utils:      - EXT = 'SCI',2   delta(MDRIZSKY) = 50.7052   NEW MDRIZSKY = 50.7052\n"
     ]
    },
    {
     "name": "stdout",
     "output_type": "stream",
     "text": [
      "      - EXT = 'SCI',2   delta(MDRIZSKY) = 50.7052   NEW MDRIZSKY = 50.7052\n"
     ]
    },
    {
     "name": "stderr",
     "output_type": "stream",
     "text": [
      "INFO:stsci.skypac.utils:   *   Image:   'hst_10092_0x_acs_wfc_f814w_j8xi0xs6_flc.fits['SCI',1,2]'  --  SKY = 40.13959594967332 (brightness units)\n"
     ]
    },
    {
     "name": "stdout",
     "output_type": "stream",
     "text": [
      "   *   Image:   'hst_10092_0x_acs_wfc_f814w_j8xi0xs6_flc.fits['SCI',1,2]'  --  SKY = 40.13959594967332 (brightness units)\n"
     ]
    },
    {
     "name": "stderr",
     "output_type": "stream",
     "text": [
      "INFO:stsci.skypac.utils:       Sky change (data units):\n"
     ]
    },
    {
     "name": "stdout",
     "output_type": "stream",
     "text": [
      "       Sky change (data units):\n"
     ]
    },
    {
     "name": "stderr",
     "output_type": "stream",
     "text": [
      "INFO:stsci.skypac.utils:      - EXT = 'SCI',1   delta(MDRIZSKY) = 50.8769   NEW MDRIZSKY = 50.8769\n"
     ]
    },
    {
     "name": "stdout",
     "output_type": "stream",
     "text": [
      "      - EXT = 'SCI',1   delta(MDRIZSKY) = 50.8769   NEW MDRIZSKY = 50.8769\n"
     ]
    },
    {
     "name": "stderr",
     "output_type": "stream",
     "text": [
      "INFO:stsci.skypac.utils:      - EXT = 'SCI',2   delta(MDRIZSKY) = 50.8769   NEW MDRIZSKY = 50.8769\n"
     ]
    },
    {
     "name": "stdout",
     "output_type": "stream",
     "text": [
      "      - EXT = 'SCI',2   delta(MDRIZSKY) = 50.8769   NEW MDRIZSKY = 50.8769\n"
     ]
    },
    {
     "name": "stderr",
     "output_type": "stream",
     "text": [
      "INFO:stsci.skypac.utils:   *   Image:   'hst_10092_0x_acs_wfc_f814w_j8xi0xsa_flc.fits['SCI',1,2]'  --  SKY = 39.66748841415495 (brightness units)\n"
     ]
    },
    {
     "name": "stdout",
     "output_type": "stream",
     "text": [
      "   *   Image:   'hst_10092_0x_acs_wfc_f814w_j8xi0xsa_flc.fits['SCI',1,2]'  --  SKY = 39.66748841415495 (brightness units)\n"
     ]
    },
    {
     "name": "stderr",
     "output_type": "stream",
     "text": [
      "INFO:stsci.skypac.utils:       Sky change (data units):\n"
     ]
    },
    {
     "name": "stdout",
     "output_type": "stream",
     "text": [
      "       Sky change (data units):\n"
     ]
    },
    {
     "name": "stderr",
     "output_type": "stream",
     "text": [
      "INFO:stsci.skypac.utils:      - EXT = 'SCI',1   delta(MDRIZSKY) = 50.2785   NEW MDRIZSKY = 50.2785\n"
     ]
    },
    {
     "name": "stdout",
     "output_type": "stream",
     "text": [
      "      - EXT = 'SCI',1   delta(MDRIZSKY) = 50.2785   NEW MDRIZSKY = 50.2785\n"
     ]
    },
    {
     "name": "stderr",
     "output_type": "stream",
     "text": [
      "INFO:stsci.skypac.utils:      - EXT = 'SCI',2   delta(MDRIZSKY) = 50.2785   NEW MDRIZSKY = 50.2785\n"
     ]
    },
    {
     "name": "stdout",
     "output_type": "stream",
     "text": [
      "      - EXT = 'SCI',2   delta(MDRIZSKY) = 50.2785   NEW MDRIZSKY = 50.2785\n"
     ]
    },
    {
     "name": "stderr",
     "output_type": "stream",
     "text": [
      "INFO:stsci.skypac.utils:   *   Image:   'j8xi0xs0q_flc.fits['SCI',1,2]'  --  SKY = 43.810875646226265 (brightness units)\n"
     ]
    },
    {
     "name": "stdout",
     "output_type": "stream",
     "text": [
      "   *   Image:   'j8xi0xs0q_flc.fits['SCI',1,2]'  --  SKY = 43.810875646226265 (brightness units)\n"
     ]
    },
    {
     "name": "stderr",
     "output_type": "stream",
     "text": [
      "INFO:stsci.skypac.utils:       Sky change (data units):\n"
     ]
    },
    {
     "name": "stdout",
     "output_type": "stream",
     "text": [
      "       Sky change (data units):\n"
     ]
    },
    {
     "name": "stderr",
     "output_type": "stream",
     "text": [
      "INFO:stsci.skypac.utils:      - EXT = 'SCI',1   delta(MDRIZSKY) = 55.5303   NEW MDRIZSKY = 55.5303\n"
     ]
    },
    {
     "name": "stdout",
     "output_type": "stream",
     "text": [
      "      - EXT = 'SCI',1   delta(MDRIZSKY) = 55.5303   NEW MDRIZSKY = 55.5303\n"
     ]
    },
    {
     "name": "stderr",
     "output_type": "stream",
     "text": [
      "INFO:stsci.skypac.utils:      - EXT = 'SCI',2   delta(MDRIZSKY) = 55.5303   NEW MDRIZSKY = 55.5303\n"
     ]
    },
    {
     "name": "stdout",
     "output_type": "stream",
     "text": [
      "      - EXT = 'SCI',2   delta(MDRIZSKY) = 55.5303   NEW MDRIZSKY = 55.5303\n"
     ]
    },
    {
     "name": "stderr",
     "output_type": "stream",
     "text": [
      "INFO:stsci.skypac.utils:   *   Image:   'j8xi0xs3q_flc.fits['SCI',1,2]'  --  SKY = 40.004096698949084 (brightness units)\n"
     ]
    },
    {
     "name": "stdout",
     "output_type": "stream",
     "text": [
      "   *   Image:   'j8xi0xs3q_flc.fits['SCI',1,2]'  --  SKY = 40.004096698949084 (brightness units)\n"
     ]
    },
    {
     "name": "stderr",
     "output_type": "stream",
     "text": [
      "INFO:stsci.skypac.utils:       Sky change (data units):\n"
     ]
    },
    {
     "name": "stdout",
     "output_type": "stream",
     "text": [
      "       Sky change (data units):\n"
     ]
    },
    {
     "name": "stderr",
     "output_type": "stream",
     "text": [
      "INFO:stsci.skypac.utils:      - EXT = 'SCI',1   delta(MDRIZSKY) = 50.7052   NEW MDRIZSKY = 50.7052\n"
     ]
    },
    {
     "name": "stdout",
     "output_type": "stream",
     "text": [
      "      - EXT = 'SCI',1   delta(MDRIZSKY) = 50.7052   NEW MDRIZSKY = 50.7052\n"
     ]
    },
    {
     "name": "stderr",
     "output_type": "stream",
     "text": [
      "INFO:stsci.skypac.utils:      - EXT = 'SCI',2   delta(MDRIZSKY) = 50.7052   NEW MDRIZSKY = 50.7052\n"
     ]
    },
    {
     "name": "stdout",
     "output_type": "stream",
     "text": [
      "      - EXT = 'SCI',2   delta(MDRIZSKY) = 50.7052   NEW MDRIZSKY = 50.7052\n"
     ]
    },
    {
     "name": "stderr",
     "output_type": "stream",
     "text": [
      "INFO:stsci.skypac.utils:   *   Image:   'j8xi0xs6q_flc.fits['SCI',1,2]'  --  SKY = 40.13959594967332 (brightness units)\n"
     ]
    },
    {
     "name": "stdout",
     "output_type": "stream",
     "text": [
      "   *   Image:   'j8xi0xs6q_flc.fits['SCI',1,2]'  --  SKY = 40.13959594967332 (brightness units)\n"
     ]
    },
    {
     "name": "stderr",
     "output_type": "stream",
     "text": [
      "INFO:stsci.skypac.utils:       Sky change (data units):\n"
     ]
    },
    {
     "name": "stdout",
     "output_type": "stream",
     "text": [
      "       Sky change (data units):\n"
     ]
    },
    {
     "name": "stderr",
     "output_type": "stream",
     "text": [
      "INFO:stsci.skypac.utils:      - EXT = 'SCI',1   delta(MDRIZSKY) = 50.8769   NEW MDRIZSKY = 50.8769\n"
     ]
    },
    {
     "name": "stdout",
     "output_type": "stream",
     "text": [
      "      - EXT = 'SCI',1   delta(MDRIZSKY) = 50.8769   NEW MDRIZSKY = 50.8769\n"
     ]
    },
    {
     "name": "stderr",
     "output_type": "stream",
     "text": [
      "INFO:stsci.skypac.utils:      - EXT = 'SCI',2   delta(MDRIZSKY) = 50.8769   NEW MDRIZSKY = 50.8769\n"
     ]
    },
    {
     "name": "stdout",
     "output_type": "stream",
     "text": [
      "      - EXT = 'SCI',2   delta(MDRIZSKY) = 50.8769   NEW MDRIZSKY = 50.8769\n"
     ]
    },
    {
     "name": "stderr",
     "output_type": "stream",
     "text": [
      "INFO:stsci.skypac.utils:   *   Image:   'j8xi0xsaq_flc.fits['SCI',1,2]'  --  SKY = 39.66748841415495 (brightness units)\n"
     ]
    },
    {
     "name": "stdout",
     "output_type": "stream",
     "text": [
      "   *   Image:   'j8xi0xsaq_flc.fits['SCI',1,2]'  --  SKY = 39.66748841415495 (brightness units)\n"
     ]
    },
    {
     "name": "stderr",
     "output_type": "stream",
     "text": [
      "INFO:stsci.skypac.utils:       Sky change (data units):\n"
     ]
    },
    {
     "name": "stdout",
     "output_type": "stream",
     "text": [
      "       Sky change (data units):\n"
     ]
    },
    {
     "name": "stderr",
     "output_type": "stream",
     "text": [
      "INFO:stsci.skypac.utils:      - EXT = 'SCI',1   delta(MDRIZSKY) = 50.2785   NEW MDRIZSKY = 50.2785\n"
     ]
    },
    {
     "name": "stdout",
     "output_type": "stream",
     "text": [
      "      - EXT = 'SCI',1   delta(MDRIZSKY) = 50.2785   NEW MDRIZSKY = 50.2785\n"
     ]
    },
    {
     "name": "stderr",
     "output_type": "stream",
     "text": [
      "INFO:stsci.skypac.utils:      - EXT = 'SCI',2   delta(MDRIZSKY) = 50.2785   NEW MDRIZSKY = 50.2785\n"
     ]
    },
    {
     "name": "stdout",
     "output_type": "stream",
     "text": [
      "      - EXT = 'SCI',2   delta(MDRIZSKY) = 50.2785   NEW MDRIZSKY = 50.2785\n"
     ]
    },
    {
     "name": "stderr",
     "output_type": "stream",
     "text": [
      "INFO:stsci.skypac.utils:***** skymatch ended on 2023-08-14 19:46:07.834579\n"
     ]
    },
    {
     "name": "stdout",
     "output_type": "stream",
     "text": [
      "***** skymatch ended on 2023-08-14 19:46:07.834579\n"
     ]
    },
    {
     "name": "stderr",
     "output_type": "stream",
     "text": [
      "INFO:stsci.skypac.utils:TOTAL RUN TIME: 0:00:07.889350\n"
     ]
    },
    {
     "name": "stdout",
     "output_type": "stream",
     "text": [
      "TOTAL RUN TIME: 0:00:07.889350\n"
     ]
    },
    {
     "name": "stderr",
     "output_type": "stream",
     "text": [
      "INFO:drizzlepac.util:==== Processing Step Subtract Sky finished at 19:46:08.47 (14/08/2023)\n"
     ]
    },
    {
     "name": "stdout",
     "output_type": "stream",
     "text": [
      "==== Processing Step Subtract Sky finished at 19:46:08.47 (14/08/2023)\n"
     ]
    },
    {
     "name": "stderr",
     "output_type": "stream",
     "text": [
      "INFO:drizzlepac.util:==== Processing Step  Separate Drizzle  started at  19:46:08.477 (14/08/2023)\n"
     ]
    },
    {
     "name": "stdout",
     "output_type": "stream",
     "text": [
      "==== Processing Step  Separate Drizzle  started at  19:46:08.477 (14/08/2023)\n"
     ]
    },
    {
     "name": "stderr",
     "output_type": "stream",
     "text": [
      "INFO:drizzlepac.util:\n"
     ]
    },
    {
     "name": "stdout",
     "output_type": "stream",
     "text": [
      "\n"
     ]
    },
    {
     "name": "stderr",
     "output_type": "stream",
     "text": [
      "INFO:drizzlepac.adrizzle:Interpreted paramDict with single=True as:\n",
      "{'build': False, 'stepsize': 10, 'coeffs': True, 'wcskey': '', 'kernel': 'turbo', 'wt_scl': 'exptime', 'pixfrac': 1.0, 'fillval': None, 'bits': 336, 'compress': False, 'units': 'cps'}\n",
      "INFO:drizzlepac.adrizzle:USER INPUT PARAMETERS for Separate Drizzle Step:\n",
      "INFO:drizzlepac.adrizzle:\tbits :\t336\n",
      "INFO:drizzlepac.adrizzle:\tbuild :\tFalse\n",
      "INFO:drizzlepac.adrizzle:\tclean :\tTrue\n",
      "INFO:drizzlepac.adrizzle:\tcoeffs :\tTrue\n",
      "INFO:drizzlepac.adrizzle:\tcompress :\tFalse\n",
      "INFO:drizzlepac.adrizzle:\tcrbit :\tNone\n",
      "INFO:drizzlepac.adrizzle:\tfillval :\tNone\n",
      "INFO:drizzlepac.adrizzle:\tkernel :\tturbo\n",
      "INFO:drizzlepac.adrizzle:\tnum_cores :\tNone\n",
      "INFO:drizzlepac.adrizzle:\tpixfrac :\t1.0\n",
      "INFO:drizzlepac.adrizzle:\tproc_unit :\telectrons\n",
      "INFO:drizzlepac.adrizzle:\trules_file :\tNone\n",
      "INFO:drizzlepac.adrizzle:\tstepsize :\t10\n",
      "INFO:drizzlepac.adrizzle:\tunits :\tcps\n",
      "INFO:drizzlepac.adrizzle:\twcskey :\t\n",
      "INFO:drizzlepac.adrizzle:\twht_type :\tNone\n",
      "INFO:drizzlepac.adrizzle:\twt_scl :\texptime\n",
      "INFO:drizzlepac.adrizzle:  **Using sub-sampling value of 10 for kernel turbo\n",
      "INFO:drizzlepac.adrizzle:Running Drizzle to create output frame with WCS of: \n",
      "INFO:astropy.wcs.wcs:WCS Keywords\n"
     ]
    },
    {
     "name": "stdout",
     "output_type": "stream",
     "text": [
      "WCS Keywords\n"
     ]
    },
    {
     "name": "stderr",
     "output_type": "stream",
     "text": [
      "INFO:astropy.wcs.wcs:\n"
     ]
    },
    {
     "name": "stdout",
     "output_type": "stream",
     "text": [
      "\n"
     ]
    },
    {
     "name": "stderr",
     "output_type": "stream",
     "text": [
      "INFO:astropy.wcs.wcs:Number of WCS axes: 2\n"
     ]
    },
    {
     "name": "stdout",
     "output_type": "stream",
     "text": [
      "Number of WCS axes: 2\n"
     ]
    },
    {
     "name": "stderr",
     "output_type": "stream",
     "text": [
      "INFO:astropy.wcs.wcs:CTYPE : 'RA---TAN'  'DEC--TAN'  \n"
     ]
    },
    {
     "name": "stdout",
     "output_type": "stream",
     "text": [
      "CTYPE : 'RA---TAN'  'DEC--TAN'  \n"
     ]
    },
    {
     "name": "stderr",
     "output_type": "stream",
     "text": [
      "INFO:astropy.wcs.wcs:CRVAL : 150.20205736356377  2.6769790254265815  \n"
     ]
    },
    {
     "name": "stdout",
     "output_type": "stream",
     "text": [
      "CRVAL : 150.20205736356377  2.6769790254265815  \n"
     ]
    },
    {
     "name": "stderr",
     "output_type": "stream",
     "text": [
      "INFO:astropy.wcs.wcs:CRPIX : 2111.5  2211.0  \n"
     ]
    },
    {
     "name": "stdout",
     "output_type": "stream",
     "text": [
      "CRPIX : 2111.5  2211.0  \n"
     ]
    },
    {
     "name": "stderr",
     "output_type": "stream",
     "text": [
      "INFO:astropy.wcs.wcs:CD1_1 CD1_2  : 2.4116107294376303e-06  1.367791534765304e-05  \n"
     ]
    },
    {
     "name": "stdout",
     "output_type": "stream",
     "text": [
      "CD1_1 CD1_2  : 2.4116107294376303e-06  1.367791534765304e-05  \n"
     ]
    },
    {
     "name": "stderr",
     "output_type": "stream",
     "text": [
      "INFO:astropy.wcs.wcs:CD2_1 CD2_2  : 1.367791534765304e-05  -2.4116107294376303e-06  \n"
     ]
    },
    {
     "name": "stdout",
     "output_type": "stream",
     "text": [
      "CD2_1 CD2_2  : 1.367791534765304e-05  -2.4116107294376303e-06  \n"
     ]
    },
    {
     "name": "stderr",
     "output_type": "stream",
     "text": [
      "INFO:astropy.wcs.wcs:NAXIS : 4223  4422\n"
     ]
    },
    {
     "name": "stdout",
     "output_type": "stream",
     "text": [
      "NAXIS : 4223  4422\n"
     ]
    },
    {
     "name": "stderr",
     "output_type": "stream",
     "text": [
      "INFO:drizzlepac.adrizzle:Executing 2 parallel workers\n",
      "INFO:drizzlepac.adrizzle:-Drizzle input: hst_10092_0x_acs_wfc_f814w_j8xi0xs0_flc.fits[sci,1]\n",
      "INFO:drizzlepac.adrizzle:-Drizzle input: hst_10092_0x_acs_wfc_f814w_j8xi0xs3_flc.fits[sci,1]\n",
      "INFO:drizzlepac.adrizzle:Applying sky value of 50.705193 to hst_10092_0x_acs_wfc_f814w_j8xi0xs3_flc.fits[sci,1]\n",
      "INFO:drizzlepac.adrizzle:Applying sky value of 55.530285 to hst_10092_0x_acs_wfc_f814w_j8xi0xs0_flc.fits[sci,1]\n",
      "INFO:drizzlepac.adrizzle:Using WCSLIB-based coordinate transformation...\n",
      "INFO:drizzlepac.adrizzle:Using WCSLIB-based coordinate transformation...\n",
      "INFO:drizzlepac.adrizzle:stepsize = 10\n",
      "INFO:drizzlepac.adrizzle:stepsize = 10\n",
      "INFO:drizzlepac.cdriz:-Drizzling using kernel = turbo\n",
      "\n",
      "INFO:drizzlepac.cdriz:-Drizzling using kernel = turbo\n",
      "\n",
      "INFO:drizzlepac.adrizzle:-Drizzle input: hst_10092_0x_acs_wfc_f814w_j8xi0xs3_flc.fits[sci,2]\n",
      "INFO:drizzlepac.adrizzle:-Drizzle input: hst_10092_0x_acs_wfc_f814w_j8xi0xs0_flc.fits[sci,2]\n",
      "INFO:drizzlepac.adrizzle:Applying sky value of 50.705193 to hst_10092_0x_acs_wfc_f814w_j8xi0xs3_flc.fits[sci,2]\n",
      "INFO:drizzlepac.adrizzle:Applying sky value of 55.530285 to hst_10092_0x_acs_wfc_f814w_j8xi0xs0_flc.fits[sci,2]\n",
      "INFO:drizzlepac.adrizzle:Using WCSLIB-based coordinate transformation...\n",
      "INFO:drizzlepac.adrizzle:stepsize = 10\n",
      "INFO:drizzlepac.adrizzle:Using WCSLIB-based coordinate transformation...\n",
      "INFO:drizzlepac.adrizzle:stepsize = 10\n",
      "INFO:drizzlepac.cdriz:-Drizzling using kernel = turbo\n",
      "\n",
      "INFO:drizzlepac.cdriz:-Drizzling using kernel = turbo\n",
      "\n",
      "INFO:drizzlepac.outputimage:-Generating simple FITS output: hst_10092_0x_acs_wfc_f814w_j8xi0xs3_single_sci.fits\n"
     ]
    },
    {
     "name": "stdout",
     "output_type": "stream",
     "text": [
      "-Generating simple FITS output: hst_10092_0x_acs_wfc_f814w_j8xi0xs3_single_sci.fits\n"
     ]
    },
    {
     "name": "stderr",
     "output_type": "stream",
     "text": [
      "INFO:drizzlepac.outputimage:-Generating simple FITS output: hst_10092_0x_acs_wfc_f814w_j8xi0xs0_single_sci.fits\n",
      "WARNING:py.warnings:/opt/hostedtoolcache/Python/3.11.4/x64/lib/python3.11/site-packages/astropy/io/fits/card.py:1064: VerifyWarning: Card is too long, comment will be truncated.\n",
      "  warnings.warn(\n",
      "\n"
     ]
    },
    {
     "name": "stdout",
     "output_type": "stream",
     "text": [
      "-Generating simple FITS output: hst_10092_0x_acs_wfc_f814w_j8xi0xs0_single_sci.fits\n"
     ]
    },
    {
     "name": "stderr",
     "output_type": "stream",
     "text": [
      "WARNING:py.warnings:/opt/hostedtoolcache/Python/3.11.4/x64/lib/python3.11/site-packages/astropy/io/fits/card.py:1064: VerifyWarning: Card is too long, comment will be truncated.\n",
      "  warnings.warn(\n",
      "\n",
      "INFO:drizzlepac.outputimage:Writing out image to disk: hst_10092_0x_acs_wfc_f814w_j8xi0xs3_single_sci.fits\n"
     ]
    },
    {
     "name": "stdout",
     "output_type": "stream",
     "text": [
      "Writing out image to disk: hst_10092_0x_acs_wfc_f814w_j8xi0xs3_single_sci.fits\n"
     ]
    },
    {
     "name": "stderr",
     "output_type": "stream",
     "text": [
      "INFO:drizzlepac.outputimage:Writing out image to disk: hst_10092_0x_acs_wfc_f814w_j8xi0xs0_single_sci.fits\n"
     ]
    },
    {
     "name": "stdout",
     "output_type": "stream",
     "text": [
      "Writing out image to disk: hst_10092_0x_acs_wfc_f814w_j8xi0xs0_single_sci.fits\n"
     ]
    },
    {
     "name": "stderr",
     "output_type": "stream",
     "text": [
      "INFO:drizzlepac.outputimage:Writing out image to disk: hst_10092_0x_acs_wfc_f814w_j8xi0xs3_single_wht.fits\n",
      "INFO:drizzlepac.outputimage:Writing out image to disk: hst_10092_0x_acs_wfc_f814w_j8xi0xs0_single_wht.fits\n"
     ]
    },
    {
     "name": "stdout",
     "output_type": "stream",
     "text": [
      "Writing out image to disk: hst_10092_0x_acs_wfc_f814w_j8xi0xs3_single_wht.fits\n",
      "Writing out image to disk: hst_10092_0x_acs_wfc_f814w_j8xi0xs0_single_wht.fits\n"
     ]
    },
    {
     "name": "stderr",
     "output_type": "stream",
     "text": [
      "INFO:drizzlepac.adrizzle:-Drizzle input: hst_10092_0x_acs_wfc_f814w_j8xi0xs6_flc.fits[sci,1]\n",
      "INFO:drizzlepac.adrizzle:-Drizzle input: hst_10092_0x_acs_wfc_f814w_j8xi0xsa_flc.fits[sci,1]\n",
      "INFO:drizzlepac.adrizzle:Applying sky value of 50.278542 to hst_10092_0x_acs_wfc_f814w_j8xi0xsa_flc.fits[sci,1]\n",
      "INFO:drizzlepac.adrizzle:Applying sky value of 50.876938 to hst_10092_0x_acs_wfc_f814w_j8xi0xs6_flc.fits[sci,1]\n",
      "INFO:drizzlepac.adrizzle:Using WCSLIB-based coordinate transformation...\n",
      "INFO:drizzlepac.adrizzle:stepsize = 10\n",
      "INFO:drizzlepac.adrizzle:Using WCSLIB-based coordinate transformation...\n",
      "INFO:drizzlepac.adrizzle:stepsize = 10\n",
      "INFO:drizzlepac.cdriz:-Drizzling using kernel = turbo\n",
      "\n",
      "INFO:drizzlepac.cdriz:-Drizzling using kernel = turbo\n",
      "\n",
      "INFO:drizzlepac.adrizzle:-Drizzle input: hst_10092_0x_acs_wfc_f814w_j8xi0xsa_flc.fits[sci,2]\n",
      "INFO:drizzlepac.adrizzle:-Drizzle input: hst_10092_0x_acs_wfc_f814w_j8xi0xs6_flc.fits[sci,2]\n",
      "INFO:drizzlepac.adrizzle:Applying sky value of 50.278542 to hst_10092_0x_acs_wfc_f814w_j8xi0xsa_flc.fits[sci,2]\n",
      "INFO:drizzlepac.adrizzle:Applying sky value of 50.876938 to hst_10092_0x_acs_wfc_f814w_j8xi0xs6_flc.fits[sci,2]\n",
      "INFO:drizzlepac.adrizzle:Using WCSLIB-based coordinate transformation...\n",
      "INFO:drizzlepac.adrizzle:stepsize = 10\n",
      "INFO:drizzlepac.cdriz:-Drizzling using kernel = turbo\n",
      "\n",
      "INFO:drizzlepac.adrizzle:Using WCSLIB-based coordinate transformation...\n",
      "INFO:drizzlepac.adrizzle:stepsize = 10\n",
      "INFO:drizzlepac.cdriz:-Drizzling using kernel = turbo\n",
      "\n",
      "INFO:drizzlepac.outputimage:-Generating simple FITS output: hst_10092_0x_acs_wfc_f814w_j8xi0xsa_single_sci.fits\n"
     ]
    },
    {
     "name": "stdout",
     "output_type": "stream",
     "text": [
      "-Generating simple FITS output: hst_10092_0x_acs_wfc_f814w_j8xi0xsa_single_sci.fits\n"
     ]
    },
    {
     "name": "stderr",
     "output_type": "stream",
     "text": [
      "WARNING:py.warnings:/opt/hostedtoolcache/Python/3.11.4/x64/lib/python3.11/site-packages/astropy/io/fits/card.py:1064: VerifyWarning: Card is too long, comment will be truncated.\n",
      "  warnings.warn(\n",
      "\n",
      "INFO:drizzlepac.outputimage:-Generating simple FITS output: hst_10092_0x_acs_wfc_f814w_j8xi0xs6_single_sci.fits\n"
     ]
    },
    {
     "name": "stdout",
     "output_type": "stream",
     "text": [
      "-Generating simple FITS output: hst_10092_0x_acs_wfc_f814w_j8xi0xs6_single_sci.fits\n"
     ]
    },
    {
     "name": "stderr",
     "output_type": "stream",
     "text": [
      "WARNING:py.warnings:/opt/hostedtoolcache/Python/3.11.4/x64/lib/python3.11/site-packages/astropy/io/fits/card.py:1064: VerifyWarning: Card is too long, comment will be truncated.\n",
      "  warnings.warn(\n",
      "\n",
      "INFO:drizzlepac.outputimage:Writing out image to disk: hst_10092_0x_acs_wfc_f814w_j8xi0xsa_single_sci.fits\n"
     ]
    },
    {
     "name": "stdout",
     "output_type": "stream",
     "text": [
      "Writing out image to disk: hst_10092_0x_acs_wfc_f814w_j8xi0xsa_single_sci.fits\n"
     ]
    },
    {
     "name": "stderr",
     "output_type": "stream",
     "text": [
      "INFO:drizzlepac.outputimage:Writing out image to disk: hst_10092_0x_acs_wfc_f814w_j8xi0xs6_single_sci.fits\n"
     ]
    },
    {
     "name": "stdout",
     "output_type": "stream",
     "text": [
      "Writing out image to disk: hst_10092_0x_acs_wfc_f814w_j8xi0xs6_single_sci.fits\n"
     ]
    },
    {
     "name": "stderr",
     "output_type": "stream",
     "text": [
      "INFO:drizzlepac.outputimage:Writing out image to disk: hst_10092_0x_acs_wfc_f814w_j8xi0xsa_single_wht.fits\n"
     ]
    },
    {
     "name": "stdout",
     "output_type": "stream",
     "text": [
      "Writing out image to disk: hst_10092_0x_acs_wfc_f814w_j8xi0xsa_single_wht.fits\n"
     ]
    },
    {
     "name": "stderr",
     "output_type": "stream",
     "text": [
      "INFO:drizzlepac.outputimage:Writing out image to disk: hst_10092_0x_acs_wfc_f814w_j8xi0xs6_single_wht.fits\n"
     ]
    },
    {
     "name": "stdout",
     "output_type": "stream",
     "text": [
      "Writing out image to disk: hst_10092_0x_acs_wfc_f814w_j8xi0xs6_single_wht.fits\n"
     ]
    },
    {
     "name": "stderr",
     "output_type": "stream",
     "text": [
      "INFO:drizzlepac.adrizzle:-Drizzle input: j8xi0xs0q_flc.fits[sci,1]\n",
      "INFO:drizzlepac.adrizzle:-Drizzle input: j8xi0xs3q_flc.fits[sci,1]\n",
      "INFO:drizzlepac.adrizzle:Applying sky value of 50.705193 to j8xi0xs3q_flc.fits[sci,1]\n",
      "INFO:drizzlepac.adrizzle:Applying sky value of 55.530285 to j8xi0xs0q_flc.fits[sci,1]\n",
      "INFO:drizzlepac.adrizzle:Using WCSLIB-based coordinate transformation...\n",
      "INFO:drizzlepac.adrizzle:stepsize = 10\n",
      "INFO:drizzlepac.adrizzle:Using WCSLIB-based coordinate transformation...\n",
      "INFO:drizzlepac.adrizzle:stepsize = 10\n",
      "INFO:drizzlepac.cdriz:-Drizzling using kernel = turbo\n",
      "\n",
      "INFO:drizzlepac.cdriz:-Drizzling using kernel = turbo\n",
      "\n",
      "INFO:drizzlepac.adrizzle:-Drizzle input: j8xi0xs0q_flc.fits[sci,2]\n",
      "INFO:drizzlepac.adrizzle:-Drizzle input: j8xi0xs3q_flc.fits[sci,2]\n",
      "INFO:drizzlepac.adrizzle:Applying sky value of 55.530285 to j8xi0xs0q_flc.fits[sci,2]\n",
      "INFO:drizzlepac.adrizzle:Applying sky value of 50.705193 to j8xi0xs3q_flc.fits[sci,2]\n",
      "INFO:drizzlepac.adrizzle:Using WCSLIB-based coordinate transformation...\n",
      "INFO:drizzlepac.adrizzle:stepsize = 10\n",
      "INFO:drizzlepac.adrizzle:Using WCSLIB-based coordinate transformation...\n",
      "INFO:drizzlepac.adrizzle:stepsize = 10\n",
      "INFO:drizzlepac.cdriz:-Drizzling using kernel = turbo\n",
      "\n",
      "INFO:drizzlepac.cdriz:-Drizzling using kernel = turbo\n",
      "\n",
      "INFO:drizzlepac.outputimage:-Generating simple FITS output: j8xi0xs0q_single_sci.fits\n"
     ]
    },
    {
     "name": "stdout",
     "output_type": "stream",
     "text": [
      "-Generating simple FITS output: j8xi0xs0q_single_sci.fits\n"
     ]
    },
    {
     "name": "stderr",
     "output_type": "stream",
     "text": [
      "WARNING:py.warnings:/opt/hostedtoolcache/Python/3.11.4/x64/lib/python3.11/site-packages/astropy/io/fits/card.py:1064: VerifyWarning: Card is too long, comment will be truncated.\n",
      "  warnings.warn(\n",
      "\n",
      "INFO:drizzlepac.outputimage:-Generating simple FITS output: j8xi0xs3q_single_sci.fits\n"
     ]
    },
    {
     "name": "stdout",
     "output_type": "stream",
     "text": [
      "-Generating simple FITS output: j8xi0xs3q_single_sci.fits\n"
     ]
    },
    {
     "name": "stderr",
     "output_type": "stream",
     "text": [
      "WARNING:py.warnings:/opt/hostedtoolcache/Python/3.11.4/x64/lib/python3.11/site-packages/astropy/io/fits/card.py:1064: VerifyWarning: Card is too long, comment will be truncated.\n",
      "  warnings.warn(\n",
      "\n",
      "INFO:drizzlepac.outputimage:Writing out image to disk: j8xi0xs0q_single_sci.fits\n"
     ]
    },
    {
     "name": "stdout",
     "output_type": "stream",
     "text": [
      "Writing out image to disk: j8xi0xs0q_single_sci.fits\n"
     ]
    },
    {
     "name": "stderr",
     "output_type": "stream",
     "text": [
      "INFO:drizzlepac.outputimage:Writing out image to disk: j8xi0xs0q_single_wht.fits\n",
      "INFO:drizzlepac.outputimage:Writing out image to disk: j8xi0xs3q_single_sci.fits\n"
     ]
    },
    {
     "name": "stdout",
     "output_type": "stream",
     "text": [
      "Writing out image to disk: j8xi0xs3q_single_sci.fits\n",
      "Writing out image to disk: j8xi0xs0q_single_wht.fits\n"
     ]
    },
    {
     "name": "stderr",
     "output_type": "stream",
     "text": [
      "INFO:drizzlepac.outputimage:Writing out image to disk: j8xi0xs3q_single_wht.fits\n"
     ]
    },
    {
     "name": "stdout",
     "output_type": "stream",
     "text": [
      "Writing out image to disk: j8xi0xs3q_single_wht.fits\n"
     ]
    },
    {
     "name": "stderr",
     "output_type": "stream",
     "text": [
      "INFO:drizzlepac.adrizzle:-Drizzle input: j8xi0xs6q_flc.fits[sci,1]\n",
      "INFO:drizzlepac.adrizzle:-Drizzle input: j8xi0xsaq_flc.fits[sci,1]\n",
      "INFO:drizzlepac.adrizzle:Applying sky value of 50.876938 to j8xi0xs6q_flc.fits[sci,1]\n",
      "INFO:drizzlepac.adrizzle:Applying sky value of 50.278542 to j8xi0xsaq_flc.fits[sci,1]\n",
      "INFO:drizzlepac.adrizzle:Using WCSLIB-based coordinate transformation...\n",
      "INFO:drizzlepac.adrizzle:stepsize = 10\n",
      "INFO:drizzlepac.adrizzle:Using WCSLIB-based coordinate transformation...\n",
      "INFO:drizzlepac.adrizzle:stepsize = 10\n",
      "INFO:drizzlepac.cdriz:-Drizzling using kernel = turbo\n",
      "\n",
      "INFO:drizzlepac.cdriz:-Drizzling using kernel = turbo\n",
      "\n",
      "INFO:drizzlepac.adrizzle:-Drizzle input: j8xi0xsaq_flc.fits[sci,2]\n",
      "INFO:drizzlepac.adrizzle:-Drizzle input: j8xi0xs6q_flc.fits[sci,2]\n",
      "INFO:drizzlepac.adrizzle:Applying sky value of 50.278542 to j8xi0xsaq_flc.fits[sci,2]\n",
      "INFO:drizzlepac.adrizzle:Applying sky value of 50.876938 to j8xi0xs6q_flc.fits[sci,2]\n",
      "INFO:drizzlepac.adrizzle:Using WCSLIB-based coordinate transformation...\n",
      "INFO:drizzlepac.adrizzle:stepsize = 10\n",
      "INFO:drizzlepac.adrizzle:Using WCSLIB-based coordinate transformation...\n",
      "INFO:drizzlepac.adrizzle:stepsize = 10\n",
      "INFO:drizzlepac.cdriz:-Drizzling using kernel = turbo\n",
      "\n",
      "INFO:drizzlepac.cdriz:-Drizzling using kernel = turbo\n",
      "\n",
      "INFO:drizzlepac.outputimage:-Generating simple FITS output: j8xi0xsaq_single_sci.fits\n"
     ]
    },
    {
     "name": "stdout",
     "output_type": "stream",
     "text": [
      "-Generating simple FITS output: j8xi0xsaq_single_sci.fits\n"
     ]
    },
    {
     "name": "stderr",
     "output_type": "stream",
     "text": [
      "INFO:drizzlepac.outputimage:-Generating simple FITS output: j8xi0xs6q_single_sci.fits\n"
     ]
    },
    {
     "name": "stdout",
     "output_type": "stream",
     "text": [
      "-Generating simple FITS output: j8xi0xs6q_single_sci.fits\n"
     ]
    },
    {
     "name": "stderr",
     "output_type": "stream",
     "text": [
      "WARNING:py.warnings:/opt/hostedtoolcache/Python/3.11.4/x64/lib/python3.11/site-packages/astropy/io/fits/card.py:1064: VerifyWarning: Card is too long, comment will be truncated.\n",
      "  warnings.warn(\n",
      "\n",
      "WARNING:py.warnings:/opt/hostedtoolcache/Python/3.11.4/x64/lib/python3.11/site-packages/astropy/io/fits/card.py:1064: VerifyWarning: Card is too long, comment will be truncated.\n",
      "  warnings.warn(\n",
      "\n",
      "INFO:drizzlepac.outputimage:Writing out image to disk: j8xi0xsaq_single_sci.fits\n"
     ]
    },
    {
     "name": "stdout",
     "output_type": "stream",
     "text": [
      "Writing out image to disk: j8xi0xsaq_single_sci.fits\n"
     ]
    },
    {
     "name": "stderr",
     "output_type": "stream",
     "text": [
      "INFO:drizzlepac.outputimage:Writing out image to disk: j8xi0xs6q_single_sci.fits\n"
     ]
    },
    {
     "name": "stdout",
     "output_type": "stream",
     "text": [
      "Writing out image to disk: j8xi0xs6q_single_sci.fits\n"
     ]
    },
    {
     "name": "stderr",
     "output_type": "stream",
     "text": [
      "INFO:drizzlepac.outputimage:Writing out image to disk: j8xi0xsaq_single_wht.fits\n"
     ]
    },
    {
     "name": "stdout",
     "output_type": "stream",
     "text": [
      "Writing out image to disk: j8xi0xsaq_single_wht.fits\n"
     ]
    },
    {
     "name": "stderr",
     "output_type": "stream",
     "text": [
      "INFO:drizzlepac.outputimage:Writing out image to disk: j8xi0xs6q_single_wht.fits\n"
     ]
    },
    {
     "name": "stdout",
     "output_type": "stream",
     "text": [
      "Writing out image to disk: j8xi0xs6q_single_wht.fits\n"
     ]
    },
    {
     "name": "stderr",
     "output_type": "stream",
     "text": [
      "INFO:drizzlepac.util:==== Processing Step Separate Drizzle finished at 19:46:20.818 (14/08/2023)\n"
     ]
    },
    {
     "name": "stdout",
     "output_type": "stream",
     "text": [
      "==== Processing Step Separate Drizzle finished at 19:46:20.818 (14/08/2023)\n"
     ]
    },
    {
     "name": "stderr",
     "output_type": "stream",
     "text": [
      "INFO:drizzlepac.util:==== Processing Step  Create Median  started at  19:46:20.821 (14/08/2023)\n"
     ]
    },
    {
     "name": "stdout",
     "output_type": "stream",
     "text": [
      "==== Processing Step  Create Median  started at  19:46:20.821 (14/08/2023)\n"
     ]
    },
    {
     "name": "stderr",
     "output_type": "stream",
     "text": [
      "INFO:drizzlepac.util:\n"
     ]
    },
    {
     "name": "stdout",
     "output_type": "stream",
     "text": [
      "\n"
     ]
    },
    {
     "name": "stderr",
     "output_type": "stream",
     "text": [
      "INFO:drizzlepac.createMedian:USER INPUT PARAMETERS for Create Median Step:\n",
      "INFO:drizzlepac.createMedian:\tcombine_bufsize :\tNone\n",
      "INFO:drizzlepac.createMedian:\tcombine_grow :\t1\n",
      "INFO:drizzlepac.createMedian:\tcombine_hthresh :\tNone\n",
      "INFO:drizzlepac.createMedian:\tcombine_lthresh :\tNone\n",
      "INFO:drizzlepac.createMedian:\tcombine_maskpt :\t0.3\n",
      "INFO:drizzlepac.createMedian:\tcombine_nhigh :\t0\n",
      "INFO:drizzlepac.createMedian:\tcombine_nlow :\t0\n",
      "INFO:drizzlepac.createMedian:\tcombine_nsigma :\t4 3\n",
      "INFO:drizzlepac.createMedian:\tcombine_type :\tmedian\n",
      "INFO:drizzlepac.createMedian:\tcompress :\tFalse\n",
      "INFO:drizzlepac.createMedian:\tmedian :\tTrue\n",
      "INFO:drizzlepac.createMedian:\tmedian_newmasks :\tTrue\n",
      "INFO:drizzlepac.createMedian:\tproc_unit :\tnative\n",
      "INFO:drizzlepac.createMedian:reference sky value for image 'hst_10092_0x_acs_wfc_f814w_j8xi0xs0_flc.fits' is 55.5302848815918\n"
     ]
    },
    {
     "name": "stdout",
     "output_type": "stream",
     "text": [
      "reference sky value for image 'hst_10092_0x_acs_wfc_f814w_j8xi0xs0_flc.fits' is 55.5302848815918\n"
     ]
    },
    {
     "name": "stderr",
     "output_type": "stream",
     "text": [
      "INFO:drizzlepac.createMedian:reference sky value for image 'hst_10092_0x_acs_wfc_f814w_j8xi0xs3_flc.fits' is 50.70519256591797\n"
     ]
    },
    {
     "name": "stdout",
     "output_type": "stream",
     "text": [
      "reference sky value for image 'hst_10092_0x_acs_wfc_f814w_j8xi0xs3_flc.fits' is 50.70519256591797\n"
     ]
    },
    {
     "name": "stderr",
     "output_type": "stream",
     "text": [
      "INFO:drizzlepac.createMedian:reference sky value for image 'hst_10092_0x_acs_wfc_f814w_j8xi0xs6_flc.fits' is 50.87693786621094\n"
     ]
    },
    {
     "name": "stdout",
     "output_type": "stream",
     "text": [
      "reference sky value for image 'hst_10092_0x_acs_wfc_f814w_j8xi0xs6_flc.fits' is 50.87693786621094\n"
     ]
    },
    {
     "name": "stderr",
     "output_type": "stream",
     "text": [
      "INFO:drizzlepac.createMedian:reference sky value for image 'hst_10092_0x_acs_wfc_f814w_j8xi0xsa_flc.fits' is 50.278541564941406\n"
     ]
    },
    {
     "name": "stdout",
     "output_type": "stream",
     "text": [
      "reference sky value for image 'hst_10092_0x_acs_wfc_f814w_j8xi0xsa_flc.fits' is 50.278541564941406\n"
     ]
    },
    {
     "name": "stderr",
     "output_type": "stream",
     "text": [
      "INFO:drizzlepac.createMedian:reference sky value for image 'j8xi0xs0q_flc.fits' is 55.5302848815918\n"
     ]
    },
    {
     "name": "stdout",
     "output_type": "stream",
     "text": [
      "reference sky value for image 'j8xi0xs0q_flc.fits' is 55.5302848815918\n"
     ]
    },
    {
     "name": "stderr",
     "output_type": "stream",
     "text": [
      "INFO:drizzlepac.createMedian:reference sky value for image 'j8xi0xs3q_flc.fits' is 50.70519256591797\n"
     ]
    },
    {
     "name": "stdout",
     "output_type": "stream",
     "text": [
      "reference sky value for image 'j8xi0xs3q_flc.fits' is 50.70519256591797\n"
     ]
    },
    {
     "name": "stderr",
     "output_type": "stream",
     "text": [
      "INFO:drizzlepac.createMedian:reference sky value for image 'j8xi0xs6q_flc.fits' is 50.87693786621094\n"
     ]
    },
    {
     "name": "stdout",
     "output_type": "stream",
     "text": [
      "reference sky value for image 'j8xi0xs6q_flc.fits' is 50.87693786621094\n"
     ]
    },
    {
     "name": "stderr",
     "output_type": "stream",
     "text": [
      "INFO:drizzlepac.createMedian:reference sky value for image 'j8xi0xsaq_flc.fits' is 50.278541564941406\n"
     ]
    },
    {
     "name": "stdout",
     "output_type": "stream",
     "text": [
      "reference sky value for image 'j8xi0xsaq_flc.fits' is 50.278541564941406\n"
     ]
    },
    {
     "name": "stderr",
     "output_type": "stream",
     "text": [
      "WARNING:py.warnings:/opt/hostedtoolcache/Python/3.11.4/x64/lib/python3.11/site-packages/stsci/image/combine.py:22: RuntimeWarning: invalid value encountered in cast\n",
      "  _combine(arrays, out, nlow, nhigh, badmasks, funcstr)\n",
      "\n",
      "INFO:drizzlepac.createMedian:Saving output median image to: 'f814w_med.fits'\n"
     ]
    },
    {
     "name": "stdout",
     "output_type": "stream",
     "text": [
      "Saving output median image to: 'f814w_med.fits'\n"
     ]
    },
    {
     "name": "stderr",
     "output_type": "stream",
     "text": [
      "INFO:drizzlepac.util:==== Processing Step Create Median finished at 19:46:29.554 (14/08/2023)\n"
     ]
    },
    {
     "name": "stdout",
     "output_type": "stream",
     "text": [
      "==== Processing Step Create Median finished at 19:46:29.554 (14/08/2023)\n"
     ]
    },
    {
     "name": "stderr",
     "output_type": "stream",
     "text": [
      "INFO:drizzlepac.util:==== Processing Step  Blot  started at  19:46:29.557 (14/08/2023)\n"
     ]
    },
    {
     "name": "stdout",
     "output_type": "stream",
     "text": [
      "==== Processing Step  Blot  started at  19:46:29.557 (14/08/2023)\n"
     ]
    },
    {
     "name": "stderr",
     "output_type": "stream",
     "text": [
      "INFO:drizzlepac.util:\n"
     ]
    },
    {
     "name": "stdout",
     "output_type": "stream",
     "text": [
      "\n"
     ]
    },
    {
     "name": "stderr",
     "output_type": "stream",
     "text": [
      "INFO:drizzlepac.ablot:USER INPUT PARAMETERS for Blot Step:\n",
      "INFO:drizzlepac.ablot:\tblot_addsky :\tTrue\n",
      "INFO:drizzlepac.ablot:\tblot_interp :\tpoly5\n",
      "INFO:drizzlepac.ablot:\tblot_sinscl :\t1.0\n",
      "INFO:drizzlepac.ablot:\tblot_skyval :\t0.0\n",
      "INFO:drizzlepac.ablot:\tcoeffs :\tTrue\n",
      "INFO:drizzlepac.ablot:    Blot: creating blotted image:  hst_10092_0x_acs_wfc_f814w_j8xi0xs0_flc.fits[sci,1]\n"
     ]
    },
    {
     "name": "stdout",
     "output_type": "stream",
     "text": [
      "    Blot: creating blotted image:  hst_10092_0x_acs_wfc_f814w_j8xi0xs0_flc.fits[sci,1]\n"
     ]
    },
    {
     "name": "stderr",
     "output_type": "stream",
     "text": [
      "INFO:drizzlepac.ablot:Using default C-based coordinate transformation...\n"
     ]
    },
    {
     "name": "stdout",
     "output_type": "stream",
     "text": [
      "Using default C-based coordinate transformation...\n"
     ]
    },
    {
     "name": "stderr",
     "output_type": "stream",
     "text": [
      "INFO:drizzlepac.ablot:Applying sky value of 55.530285 to blotted image hst_10092_0x_acs_wfc_f814w_j8xi0xs0_flc.fits[sci,1]\n",
      "INFO:drizzlepac.outputimage:-Generating simple FITS output: hst_10092_0x_acs_wfc_f814w_j8xi0xs0_sci1_blt.fits\n"
     ]
    },
    {
     "name": "stdout",
     "output_type": "stream",
     "text": [
      "-Generating simple FITS output: hst_10092_0x_acs_wfc_f814w_j8xi0xs0_sci1_blt.fits\n"
     ]
    },
    {
     "name": "stderr",
     "output_type": "stream",
     "text": [
      "INFO:drizzlepac.outputimage:Writing out image to disk: hst_10092_0x_acs_wfc_f814w_j8xi0xs0_sci1_blt.fits\n"
     ]
    },
    {
     "name": "stdout",
     "output_type": "stream",
     "text": [
      "Writing out image to disk: hst_10092_0x_acs_wfc_f814w_j8xi0xs0_sci1_blt.fits\n"
     ]
    },
    {
     "name": "stderr",
     "output_type": "stream",
     "text": [
      "WARNING:py.warnings:/opt/hostedtoolcache/Python/3.11.4/x64/lib/python3.11/site-packages/astropy/io/fits/card.py:1064: VerifyWarning: Card is too long, comment will be truncated.\n",
      "  warnings.warn(\n",
      "\n",
      "INFO:drizzlepac.ablot:    Blot: creating blotted image:  hst_10092_0x_acs_wfc_f814w_j8xi0xs0_flc.fits[sci,2]\n"
     ]
    },
    {
     "name": "stdout",
     "output_type": "stream",
     "text": [
      "    Blot: creating blotted image:  hst_10092_0x_acs_wfc_f814w_j8xi0xs0_flc.fits[sci,2]\n"
     ]
    },
    {
     "name": "stderr",
     "output_type": "stream",
     "text": [
      "INFO:drizzlepac.ablot:Using default C-based coordinate transformation...\n"
     ]
    },
    {
     "name": "stdout",
     "output_type": "stream",
     "text": [
      "Using default C-based coordinate transformation...\n"
     ]
    },
    {
     "name": "stderr",
     "output_type": "stream",
     "text": [
      "INFO:drizzlepac.ablot:Applying sky value of 55.530285 to blotted image hst_10092_0x_acs_wfc_f814w_j8xi0xs0_flc.fits[sci,2]\n",
      "INFO:drizzlepac.outputimage:-Generating simple FITS output: hst_10092_0x_acs_wfc_f814w_j8xi0xs0_sci2_blt.fits\n"
     ]
    },
    {
     "name": "stdout",
     "output_type": "stream",
     "text": [
      "-Generating simple FITS output: hst_10092_0x_acs_wfc_f814w_j8xi0xs0_sci2_blt.fits\n"
     ]
    },
    {
     "name": "stderr",
     "output_type": "stream",
     "text": [
      "INFO:drizzlepac.outputimage:Writing out image to disk: hst_10092_0x_acs_wfc_f814w_j8xi0xs0_sci2_blt.fits\n"
     ]
    },
    {
     "name": "stdout",
     "output_type": "stream",
     "text": [
      "Writing out image to disk: hst_10092_0x_acs_wfc_f814w_j8xi0xs0_sci2_blt.fits\n"
     ]
    },
    {
     "name": "stderr",
     "output_type": "stream",
     "text": [
      "WARNING:py.warnings:/opt/hostedtoolcache/Python/3.11.4/x64/lib/python3.11/site-packages/astropy/io/fits/card.py:1064: VerifyWarning: Card is too long, comment will be truncated.\n",
      "  warnings.warn(\n",
      "\n",
      "INFO:drizzlepac.ablot:    Blot: creating blotted image:  hst_10092_0x_acs_wfc_f814w_j8xi0xs3_flc.fits[sci,1]\n"
     ]
    },
    {
     "name": "stdout",
     "output_type": "stream",
     "text": [
      "    Blot: creating blotted image:  hst_10092_0x_acs_wfc_f814w_j8xi0xs3_flc.fits[sci,1]\n"
     ]
    },
    {
     "name": "stderr",
     "output_type": "stream",
     "text": [
      "INFO:drizzlepac.ablot:Using default C-based coordinate transformation...\n"
     ]
    },
    {
     "name": "stdout",
     "output_type": "stream",
     "text": [
      "Using default C-based coordinate transformation...\n"
     ]
    },
    {
     "name": "stderr",
     "output_type": "stream",
     "text": [
      "INFO:drizzlepac.ablot:Applying sky value of 50.705193 to blotted image hst_10092_0x_acs_wfc_f814w_j8xi0xs3_flc.fits[sci,1]\n",
      "INFO:drizzlepac.outputimage:-Generating simple FITS output: hst_10092_0x_acs_wfc_f814w_j8xi0xs3_sci1_blt.fits\n"
     ]
    },
    {
     "name": "stdout",
     "output_type": "stream",
     "text": [
      "-Generating simple FITS output: hst_10092_0x_acs_wfc_f814w_j8xi0xs3_sci1_blt.fits\n"
     ]
    },
    {
     "name": "stderr",
     "output_type": "stream",
     "text": [
      "INFO:drizzlepac.outputimage:Writing out image to disk: hst_10092_0x_acs_wfc_f814w_j8xi0xs3_sci1_blt.fits\n"
     ]
    },
    {
     "name": "stdout",
     "output_type": "stream",
     "text": [
      "Writing out image to disk: hst_10092_0x_acs_wfc_f814w_j8xi0xs3_sci1_blt.fits\n"
     ]
    },
    {
     "name": "stderr",
     "output_type": "stream",
     "text": [
      "WARNING:py.warnings:/opt/hostedtoolcache/Python/3.11.4/x64/lib/python3.11/site-packages/astropy/io/fits/card.py:1064: VerifyWarning: Card is too long, comment will be truncated.\n",
      "  warnings.warn(\n",
      "\n",
      "INFO:drizzlepac.ablot:    Blot: creating blotted image:  hst_10092_0x_acs_wfc_f814w_j8xi0xs3_flc.fits[sci,2]\n"
     ]
    },
    {
     "name": "stdout",
     "output_type": "stream",
     "text": [
      "    Blot: creating blotted image:  hst_10092_0x_acs_wfc_f814w_j8xi0xs3_flc.fits[sci,2]\n"
     ]
    },
    {
     "name": "stderr",
     "output_type": "stream",
     "text": [
      "INFO:drizzlepac.ablot:Using default C-based coordinate transformation...\n"
     ]
    },
    {
     "name": "stdout",
     "output_type": "stream",
     "text": [
      "Using default C-based coordinate transformation...\n"
     ]
    },
    {
     "name": "stderr",
     "output_type": "stream",
     "text": [
      "INFO:drizzlepac.ablot:Applying sky value of 50.705193 to blotted image hst_10092_0x_acs_wfc_f814w_j8xi0xs3_flc.fits[sci,2]\n",
      "INFO:drizzlepac.outputimage:-Generating simple FITS output: hst_10092_0x_acs_wfc_f814w_j8xi0xs3_sci2_blt.fits\n"
     ]
    },
    {
     "name": "stdout",
     "output_type": "stream",
     "text": [
      "-Generating simple FITS output: hst_10092_0x_acs_wfc_f814w_j8xi0xs3_sci2_blt.fits\n"
     ]
    },
    {
     "name": "stderr",
     "output_type": "stream",
     "text": [
      "INFO:drizzlepac.outputimage:Writing out image to disk: hst_10092_0x_acs_wfc_f814w_j8xi0xs3_sci2_blt.fits\n"
     ]
    },
    {
     "name": "stdout",
     "output_type": "stream",
     "text": [
      "Writing out image to disk: hst_10092_0x_acs_wfc_f814w_j8xi0xs3_sci2_blt.fits\n"
     ]
    },
    {
     "name": "stderr",
     "output_type": "stream",
     "text": [
      "WARNING:py.warnings:/opt/hostedtoolcache/Python/3.11.4/x64/lib/python3.11/site-packages/astropy/io/fits/card.py:1064: VerifyWarning: Card is too long, comment will be truncated.\n",
      "  warnings.warn(\n",
      "\n",
      "INFO:drizzlepac.ablot:    Blot: creating blotted image:  hst_10092_0x_acs_wfc_f814w_j8xi0xs6_flc.fits[sci,1]\n"
     ]
    },
    {
     "name": "stdout",
     "output_type": "stream",
     "text": [
      "    Blot: creating blotted image:  hst_10092_0x_acs_wfc_f814w_j8xi0xs6_flc.fits[sci,1]\n"
     ]
    },
    {
     "name": "stderr",
     "output_type": "stream",
     "text": [
      "INFO:drizzlepac.ablot:Using default C-based coordinate transformation...\n"
     ]
    },
    {
     "name": "stdout",
     "output_type": "stream",
     "text": [
      "Using default C-based coordinate transformation...\n"
     ]
    },
    {
     "name": "stderr",
     "output_type": "stream",
     "text": [
      "INFO:drizzlepac.ablot:Applying sky value of 50.876938 to blotted image hst_10092_0x_acs_wfc_f814w_j8xi0xs6_flc.fits[sci,1]\n",
      "INFO:drizzlepac.outputimage:-Generating simple FITS output: hst_10092_0x_acs_wfc_f814w_j8xi0xs6_sci1_blt.fits\n"
     ]
    },
    {
     "name": "stdout",
     "output_type": "stream",
     "text": [
      "-Generating simple FITS output: hst_10092_0x_acs_wfc_f814w_j8xi0xs6_sci1_blt.fits\n"
     ]
    },
    {
     "name": "stderr",
     "output_type": "stream",
     "text": [
      "INFO:drizzlepac.outputimage:Writing out image to disk: hst_10092_0x_acs_wfc_f814w_j8xi0xs6_sci1_blt.fits\n"
     ]
    },
    {
     "name": "stdout",
     "output_type": "stream",
     "text": [
      "Writing out image to disk: hst_10092_0x_acs_wfc_f814w_j8xi0xs6_sci1_blt.fits\n"
     ]
    },
    {
     "name": "stderr",
     "output_type": "stream",
     "text": [
      "WARNING:py.warnings:/opt/hostedtoolcache/Python/3.11.4/x64/lib/python3.11/site-packages/astropy/io/fits/card.py:1064: VerifyWarning: Card is too long, comment will be truncated.\n",
      "  warnings.warn(\n",
      "\n",
      "INFO:drizzlepac.ablot:    Blot: creating blotted image:  hst_10092_0x_acs_wfc_f814w_j8xi0xs6_flc.fits[sci,2]\n"
     ]
    },
    {
     "name": "stdout",
     "output_type": "stream",
     "text": [
      "    Blot: creating blotted image:  hst_10092_0x_acs_wfc_f814w_j8xi0xs6_flc.fits[sci,2]\n"
     ]
    },
    {
     "name": "stderr",
     "output_type": "stream",
     "text": [
      "INFO:drizzlepac.ablot:Using default C-based coordinate transformation...\n"
     ]
    },
    {
     "name": "stdout",
     "output_type": "stream",
     "text": [
      "Using default C-based coordinate transformation...\n"
     ]
    },
    {
     "name": "stderr",
     "output_type": "stream",
     "text": [
      "INFO:drizzlepac.ablot:Applying sky value of 50.876938 to blotted image hst_10092_0x_acs_wfc_f814w_j8xi0xs6_flc.fits[sci,2]\n",
      "INFO:drizzlepac.outputimage:-Generating simple FITS output: hst_10092_0x_acs_wfc_f814w_j8xi0xs6_sci2_blt.fits\n"
     ]
    },
    {
     "name": "stdout",
     "output_type": "stream",
     "text": [
      "-Generating simple FITS output: hst_10092_0x_acs_wfc_f814w_j8xi0xs6_sci2_blt.fits\n"
     ]
    },
    {
     "name": "stderr",
     "output_type": "stream",
     "text": [
      "INFO:drizzlepac.outputimage:Writing out image to disk: hst_10092_0x_acs_wfc_f814w_j8xi0xs6_sci2_blt.fits\n"
     ]
    },
    {
     "name": "stdout",
     "output_type": "stream",
     "text": [
      "Writing out image to disk: hst_10092_0x_acs_wfc_f814w_j8xi0xs6_sci2_blt.fits\n"
     ]
    },
    {
     "name": "stderr",
     "output_type": "stream",
     "text": [
      "WARNING:py.warnings:/opt/hostedtoolcache/Python/3.11.4/x64/lib/python3.11/site-packages/astropy/io/fits/card.py:1064: VerifyWarning: Card is too long, comment will be truncated.\n",
      "  warnings.warn(\n",
      "\n",
      "INFO:drizzlepac.ablot:    Blot: creating blotted image:  hst_10092_0x_acs_wfc_f814w_j8xi0xsa_flc.fits[sci,1]\n"
     ]
    },
    {
     "name": "stdout",
     "output_type": "stream",
     "text": [
      "    Blot: creating blotted image:  hst_10092_0x_acs_wfc_f814w_j8xi0xsa_flc.fits[sci,1]\n"
     ]
    },
    {
     "name": "stderr",
     "output_type": "stream",
     "text": [
      "INFO:drizzlepac.ablot:Using default C-based coordinate transformation...\n"
     ]
    },
    {
     "name": "stdout",
     "output_type": "stream",
     "text": [
      "Using default C-based coordinate transformation...\n"
     ]
    },
    {
     "name": "stderr",
     "output_type": "stream",
     "text": [
      "INFO:drizzlepac.ablot:Applying sky value of 50.278542 to blotted image hst_10092_0x_acs_wfc_f814w_j8xi0xsa_flc.fits[sci,1]\n",
      "INFO:drizzlepac.outputimage:-Generating simple FITS output: hst_10092_0x_acs_wfc_f814w_j8xi0xsa_sci1_blt.fits\n"
     ]
    },
    {
     "name": "stdout",
     "output_type": "stream",
     "text": [
      "-Generating simple FITS output: hst_10092_0x_acs_wfc_f814w_j8xi0xsa_sci1_blt.fits\n"
     ]
    },
    {
     "name": "stderr",
     "output_type": "stream",
     "text": [
      "INFO:drizzlepac.outputimage:Writing out image to disk: hst_10092_0x_acs_wfc_f814w_j8xi0xsa_sci1_blt.fits\n"
     ]
    },
    {
     "name": "stdout",
     "output_type": "stream",
     "text": [
      "Writing out image to disk: hst_10092_0x_acs_wfc_f814w_j8xi0xsa_sci1_blt.fits\n"
     ]
    },
    {
     "name": "stderr",
     "output_type": "stream",
     "text": [
      "WARNING:py.warnings:/opt/hostedtoolcache/Python/3.11.4/x64/lib/python3.11/site-packages/astropy/io/fits/card.py:1064: VerifyWarning: Card is too long, comment will be truncated.\n",
      "  warnings.warn(\n",
      "\n",
      "INFO:drizzlepac.ablot:    Blot: creating blotted image:  hst_10092_0x_acs_wfc_f814w_j8xi0xsa_flc.fits[sci,2]\n"
     ]
    },
    {
     "name": "stdout",
     "output_type": "stream",
     "text": [
      "    Blot: creating blotted image:  hst_10092_0x_acs_wfc_f814w_j8xi0xsa_flc.fits[sci,2]\n"
     ]
    },
    {
     "name": "stderr",
     "output_type": "stream",
     "text": [
      "INFO:drizzlepac.ablot:Using default C-based coordinate transformation...\n"
     ]
    },
    {
     "name": "stdout",
     "output_type": "stream",
     "text": [
      "Using default C-based coordinate transformation...\n"
     ]
    },
    {
     "name": "stderr",
     "output_type": "stream",
     "text": [
      "INFO:drizzlepac.ablot:Applying sky value of 50.278542 to blotted image hst_10092_0x_acs_wfc_f814w_j8xi0xsa_flc.fits[sci,2]\n",
      "INFO:drizzlepac.outputimage:-Generating simple FITS output: hst_10092_0x_acs_wfc_f814w_j8xi0xsa_sci2_blt.fits\n"
     ]
    },
    {
     "name": "stdout",
     "output_type": "stream",
     "text": [
      "-Generating simple FITS output: hst_10092_0x_acs_wfc_f814w_j8xi0xsa_sci2_blt.fits\n"
     ]
    },
    {
     "name": "stderr",
     "output_type": "stream",
     "text": [
      "INFO:drizzlepac.outputimage:Writing out image to disk: hst_10092_0x_acs_wfc_f814w_j8xi0xsa_sci2_blt.fits\n"
     ]
    },
    {
     "name": "stdout",
     "output_type": "stream",
     "text": [
      "Writing out image to disk: hst_10092_0x_acs_wfc_f814w_j8xi0xsa_sci2_blt.fits\n"
     ]
    },
    {
     "name": "stderr",
     "output_type": "stream",
     "text": [
      "WARNING:py.warnings:/opt/hostedtoolcache/Python/3.11.4/x64/lib/python3.11/site-packages/astropy/io/fits/card.py:1064: VerifyWarning: Card is too long, comment will be truncated.\n",
      "  warnings.warn(\n",
      "\n",
      "INFO:drizzlepac.ablot:    Blot: creating blotted image:  j8xi0xs0q_flc.fits[sci,1]\n"
     ]
    },
    {
     "name": "stdout",
     "output_type": "stream",
     "text": [
      "    Blot: creating blotted image:  j8xi0xs0q_flc.fits[sci,1]\n"
     ]
    },
    {
     "name": "stderr",
     "output_type": "stream",
     "text": [
      "INFO:drizzlepac.ablot:Using default C-based coordinate transformation...\n"
     ]
    },
    {
     "name": "stdout",
     "output_type": "stream",
     "text": [
      "Using default C-based coordinate transformation...\n"
     ]
    },
    {
     "name": "stderr",
     "output_type": "stream",
     "text": [
      "INFO:drizzlepac.ablot:Applying sky value of 55.530285 to blotted image j8xi0xs0q_flc.fits[sci,1]\n",
      "INFO:drizzlepac.outputimage:-Generating simple FITS output: j8xi0xs0q_sci1_blt.fits\n"
     ]
    },
    {
     "name": "stdout",
     "output_type": "stream",
     "text": [
      "-Generating simple FITS output: j8xi0xs0q_sci1_blt.fits\n"
     ]
    },
    {
     "name": "stderr",
     "output_type": "stream",
     "text": [
      "INFO:drizzlepac.outputimage:Writing out image to disk: j8xi0xs0q_sci1_blt.fits\n"
     ]
    },
    {
     "name": "stdout",
     "output_type": "stream",
     "text": [
      "Writing out image to disk: j8xi0xs0q_sci1_blt.fits\n"
     ]
    },
    {
     "name": "stderr",
     "output_type": "stream",
     "text": [
      "INFO:drizzlepac.ablot:    Blot: creating blotted image:  j8xi0xs0q_flc.fits[sci,2]\n"
     ]
    },
    {
     "name": "stdout",
     "output_type": "stream",
     "text": [
      "    Blot: creating blotted image:  j8xi0xs0q_flc.fits[sci,2]\n"
     ]
    },
    {
     "name": "stderr",
     "output_type": "stream",
     "text": [
      "INFO:drizzlepac.ablot:Using default C-based coordinate transformation...\n"
     ]
    },
    {
     "name": "stdout",
     "output_type": "stream",
     "text": [
      "Using default C-based coordinate transformation...\n"
     ]
    },
    {
     "name": "stderr",
     "output_type": "stream",
     "text": [
      "INFO:drizzlepac.ablot:Applying sky value of 55.530285 to blotted image j8xi0xs0q_flc.fits[sci,2]\n",
      "INFO:drizzlepac.outputimage:-Generating simple FITS output: j8xi0xs0q_sci2_blt.fits\n"
     ]
    },
    {
     "name": "stdout",
     "output_type": "stream",
     "text": [
      "-Generating simple FITS output: j8xi0xs0q_sci2_blt.fits\n"
     ]
    },
    {
     "name": "stderr",
     "output_type": "stream",
     "text": [
      "INFO:drizzlepac.outputimage:Writing out image to disk: j8xi0xs0q_sci2_blt.fits\n"
     ]
    },
    {
     "name": "stdout",
     "output_type": "stream",
     "text": [
      "Writing out image to disk: j8xi0xs0q_sci2_blt.fits\n"
     ]
    },
    {
     "name": "stderr",
     "output_type": "stream",
     "text": [
      "INFO:drizzlepac.ablot:    Blot: creating blotted image:  j8xi0xs3q_flc.fits[sci,1]\n"
     ]
    },
    {
     "name": "stdout",
     "output_type": "stream",
     "text": [
      "    Blot: creating blotted image:  j8xi0xs3q_flc.fits[sci,1]\n"
     ]
    },
    {
     "name": "stderr",
     "output_type": "stream",
     "text": [
      "INFO:drizzlepac.ablot:Using default C-based coordinate transformation...\n"
     ]
    },
    {
     "name": "stdout",
     "output_type": "stream",
     "text": [
      "Using default C-based coordinate transformation...\n"
     ]
    },
    {
     "name": "stderr",
     "output_type": "stream",
     "text": [
      "INFO:drizzlepac.ablot:Applying sky value of 50.705193 to blotted image j8xi0xs3q_flc.fits[sci,1]\n",
      "INFO:drizzlepac.outputimage:-Generating simple FITS output: j8xi0xs3q_sci1_blt.fits\n"
     ]
    },
    {
     "name": "stdout",
     "output_type": "stream",
     "text": [
      "-Generating simple FITS output: j8xi0xs3q_sci1_blt.fits\n"
     ]
    },
    {
     "name": "stderr",
     "output_type": "stream",
     "text": [
      "INFO:drizzlepac.outputimage:Writing out image to disk: j8xi0xs3q_sci1_blt.fits\n"
     ]
    },
    {
     "name": "stdout",
     "output_type": "stream",
     "text": [
      "Writing out image to disk: j8xi0xs3q_sci1_blt.fits\n"
     ]
    },
    {
     "name": "stderr",
     "output_type": "stream",
     "text": [
      "INFO:drizzlepac.ablot:    Blot: creating blotted image:  j8xi0xs3q_flc.fits[sci,2]\n"
     ]
    },
    {
     "name": "stdout",
     "output_type": "stream",
     "text": [
      "    Blot: creating blotted image:  j8xi0xs3q_flc.fits[sci,2]\n"
     ]
    },
    {
     "name": "stderr",
     "output_type": "stream",
     "text": [
      "INFO:drizzlepac.ablot:Using default C-based coordinate transformation...\n"
     ]
    },
    {
     "name": "stdout",
     "output_type": "stream",
     "text": [
      "Using default C-based coordinate transformation...\n"
     ]
    },
    {
     "name": "stderr",
     "output_type": "stream",
     "text": [
      "INFO:drizzlepac.ablot:Applying sky value of 50.705193 to blotted image j8xi0xs3q_flc.fits[sci,2]\n",
      "INFO:drizzlepac.outputimage:-Generating simple FITS output: j8xi0xs3q_sci2_blt.fits\n"
     ]
    },
    {
     "name": "stdout",
     "output_type": "stream",
     "text": [
      "-Generating simple FITS output: j8xi0xs3q_sci2_blt.fits\n"
     ]
    },
    {
     "name": "stderr",
     "output_type": "stream",
     "text": [
      "INFO:drizzlepac.outputimage:Writing out image to disk: j8xi0xs3q_sci2_blt.fits\n"
     ]
    },
    {
     "name": "stdout",
     "output_type": "stream",
     "text": [
      "Writing out image to disk: j8xi0xs3q_sci2_blt.fits\n"
     ]
    },
    {
     "name": "stderr",
     "output_type": "stream",
     "text": [
      "INFO:drizzlepac.ablot:    Blot: creating blotted image:  j8xi0xs6q_flc.fits[sci,1]\n"
     ]
    },
    {
     "name": "stdout",
     "output_type": "stream",
     "text": [
      "    Blot: creating blotted image:  j8xi0xs6q_flc.fits[sci,1]\n"
     ]
    },
    {
     "name": "stderr",
     "output_type": "stream",
     "text": [
      "INFO:drizzlepac.ablot:Using default C-based coordinate transformation...\n"
     ]
    },
    {
     "name": "stdout",
     "output_type": "stream",
     "text": [
      "Using default C-based coordinate transformation...\n"
     ]
    },
    {
     "name": "stderr",
     "output_type": "stream",
     "text": [
      "INFO:drizzlepac.ablot:Applying sky value of 50.876938 to blotted image j8xi0xs6q_flc.fits[sci,1]\n",
      "INFO:drizzlepac.outputimage:-Generating simple FITS output: j8xi0xs6q_sci1_blt.fits\n"
     ]
    },
    {
     "name": "stdout",
     "output_type": "stream",
     "text": [
      "-Generating simple FITS output: j8xi0xs6q_sci1_blt.fits\n"
     ]
    },
    {
     "name": "stderr",
     "output_type": "stream",
     "text": [
      "INFO:drizzlepac.outputimage:Writing out image to disk: j8xi0xs6q_sci1_blt.fits\n"
     ]
    },
    {
     "name": "stdout",
     "output_type": "stream",
     "text": [
      "Writing out image to disk: j8xi0xs6q_sci1_blt.fits\n"
     ]
    },
    {
     "name": "stderr",
     "output_type": "stream",
     "text": [
      "INFO:drizzlepac.ablot:    Blot: creating blotted image:  j8xi0xs6q_flc.fits[sci,2]\n"
     ]
    },
    {
     "name": "stdout",
     "output_type": "stream",
     "text": [
      "    Blot: creating blotted image:  j8xi0xs6q_flc.fits[sci,2]\n"
     ]
    },
    {
     "name": "stderr",
     "output_type": "stream",
     "text": [
      "INFO:drizzlepac.ablot:Using default C-based coordinate transformation...\n"
     ]
    },
    {
     "name": "stdout",
     "output_type": "stream",
     "text": [
      "Using default C-based coordinate transformation...\n"
     ]
    },
    {
     "name": "stderr",
     "output_type": "stream",
     "text": [
      "INFO:drizzlepac.ablot:Applying sky value of 50.876938 to blotted image j8xi0xs6q_flc.fits[sci,2]\n",
      "INFO:drizzlepac.outputimage:-Generating simple FITS output: j8xi0xs6q_sci2_blt.fits\n"
     ]
    },
    {
     "name": "stdout",
     "output_type": "stream",
     "text": [
      "-Generating simple FITS output: j8xi0xs6q_sci2_blt.fits\n"
     ]
    },
    {
     "name": "stderr",
     "output_type": "stream",
     "text": [
      "INFO:drizzlepac.outputimage:Writing out image to disk: j8xi0xs6q_sci2_blt.fits\n"
     ]
    },
    {
     "name": "stdout",
     "output_type": "stream",
     "text": [
      "Writing out image to disk: j8xi0xs6q_sci2_blt.fits\n"
     ]
    },
    {
     "name": "stderr",
     "output_type": "stream",
     "text": [
      "INFO:drizzlepac.ablot:    Blot: creating blotted image:  j8xi0xsaq_flc.fits[sci,1]\n"
     ]
    },
    {
     "name": "stdout",
     "output_type": "stream",
     "text": [
      "    Blot: creating blotted image:  j8xi0xsaq_flc.fits[sci,1]\n"
     ]
    },
    {
     "name": "stderr",
     "output_type": "stream",
     "text": [
      "INFO:drizzlepac.ablot:Using default C-based coordinate transformation...\n"
     ]
    },
    {
     "name": "stdout",
     "output_type": "stream",
     "text": [
      "Using default C-based coordinate transformation...\n"
     ]
    },
    {
     "name": "stderr",
     "output_type": "stream",
     "text": [
      "INFO:drizzlepac.ablot:Applying sky value of 50.278542 to blotted image j8xi0xsaq_flc.fits[sci,1]\n",
      "INFO:drizzlepac.outputimage:-Generating simple FITS output: j8xi0xsaq_sci1_blt.fits\n"
     ]
    },
    {
     "name": "stdout",
     "output_type": "stream",
     "text": [
      "-Generating simple FITS output: j8xi0xsaq_sci1_blt.fits\n"
     ]
    },
    {
     "name": "stderr",
     "output_type": "stream",
     "text": [
      "INFO:drizzlepac.outputimage:Writing out image to disk: j8xi0xsaq_sci1_blt.fits\n"
     ]
    },
    {
     "name": "stdout",
     "output_type": "stream",
     "text": [
      "Writing out image to disk: j8xi0xsaq_sci1_blt.fits\n"
     ]
    },
    {
     "name": "stderr",
     "output_type": "stream",
     "text": [
      "INFO:drizzlepac.ablot:    Blot: creating blotted image:  j8xi0xsaq_flc.fits[sci,2]\n"
     ]
    },
    {
     "name": "stdout",
     "output_type": "stream",
     "text": [
      "    Blot: creating blotted image:  j8xi0xsaq_flc.fits[sci,2]\n"
     ]
    },
    {
     "name": "stderr",
     "output_type": "stream",
     "text": [
      "INFO:drizzlepac.ablot:Using default C-based coordinate transformation...\n"
     ]
    },
    {
     "name": "stdout",
     "output_type": "stream",
     "text": [
      "Using default C-based coordinate transformation...\n"
     ]
    },
    {
     "name": "stderr",
     "output_type": "stream",
     "text": [
      "INFO:drizzlepac.ablot:Applying sky value of 50.278542 to blotted image j8xi0xsaq_flc.fits[sci,2]\n",
      "INFO:drizzlepac.outputimage:-Generating simple FITS output: j8xi0xsaq_sci2_blt.fits\n"
     ]
    },
    {
     "name": "stdout",
     "output_type": "stream",
     "text": [
      "-Generating simple FITS output: j8xi0xsaq_sci2_blt.fits\n"
     ]
    },
    {
     "name": "stderr",
     "output_type": "stream",
     "text": [
      "INFO:drizzlepac.outputimage:Writing out image to disk: j8xi0xsaq_sci2_blt.fits\n"
     ]
    },
    {
     "name": "stdout",
     "output_type": "stream",
     "text": [
      "Writing out image to disk: j8xi0xsaq_sci2_blt.fits\n"
     ]
    },
    {
     "name": "stderr",
     "output_type": "stream",
     "text": [
      "INFO:drizzlepac.util:==== Processing Step Blot finished at 19:47:02.781 (14/08/2023)\n"
     ]
    },
    {
     "name": "stdout",
     "output_type": "stream",
     "text": [
      "==== Processing Step Blot finished at 19:47:02.781 (14/08/2023)\n"
     ]
    },
    {
     "name": "stderr",
     "output_type": "stream",
     "text": [
      "INFO:drizzlepac.util:==== Processing Step  Driz_CR  started at  19:47:02.783 (14/08/2023)\n"
     ]
    },
    {
     "name": "stdout",
     "output_type": "stream",
     "text": [
      "==== Processing Step  Driz_CR  started at  19:47:02.783 (14/08/2023)\n"
     ]
    },
    {
     "name": "stderr",
     "output_type": "stream",
     "text": [
      "INFO:drizzlepac.util:\n"
     ]
    },
    {
     "name": "stdout",
     "output_type": "stream",
     "text": [
      "\n"
     ]
    },
    {
     "name": "stderr",
     "output_type": "stream",
     "text": [
      "INFO:drizzlepac.drizCR:USER INPUT PARAMETERS for Driz_CR Step:\n",
      "INFO:drizzlepac.drizCR:\tcrbit :\t4096\n",
      "INFO:drizzlepac.drizCR:\tdriz_cr :\tTrue\n",
      "INFO:drizzlepac.drizCR:\tdriz_cr_corr :\tFalse\n",
      "INFO:drizzlepac.drizCR:\tdriz_cr_ctegrow :\t0\n",
      "INFO:drizzlepac.drizCR:\tdriz_cr_grow :\t1\n",
      "INFO:drizzlepac.drizCR:\tdriz_cr_scale :\t1.2 0.7\n",
      "INFO:drizzlepac.drizCR:\tdriz_cr_snr :\t3.5 3.0\n",
      "INFO:drizzlepac.drizCR:\tinmemory :\tFalse\n",
      "INFO:drizzlepac.drizCR:Executing 2 parallel workers\n",
      "INFO:drizzlepac.drizCR:Creating output: hst_10092_0x_acs_wfc_f814w_j8xi0xs3_sci1_crmask.fits\n"
     ]
    },
    {
     "name": "stdout",
     "output_type": "stream",
     "text": [
      "Creating output: hst_10092_0x_acs_wfc_f814w_j8xi0xs3_sci1_crmask.fits\n"
     ]
    },
    {
     "name": "stderr",
     "output_type": "stream",
     "text": [
      "INFO:drizzlepac.drizCR:Creating output: hst_10092_0x_acs_wfc_f814w_j8xi0xs0_sci1_crmask.fits\n"
     ]
    },
    {
     "name": "stdout",
     "output_type": "stream",
     "text": [
      "Creating output: hst_10092_0x_acs_wfc_f814w_j8xi0xs0_sci1_crmask.fits\n"
     ]
    },
    {
     "name": "stderr",
     "output_type": "stream",
     "text": [
      "INFO:drizzlepac.drizCR:Creating output: hst_10092_0x_acs_wfc_f814w_j8xi0xs3_sci2_crmask.fits\n"
     ]
    },
    {
     "name": "stdout",
     "output_type": "stream",
     "text": [
      "Creating output: hst_10092_0x_acs_wfc_f814w_j8xi0xs3_sci2_crmask.fits\n"
     ]
    },
    {
     "name": "stderr",
     "output_type": "stream",
     "text": [
      "INFO:drizzlepac.drizCR:Creating output: hst_10092_0x_acs_wfc_f814w_j8xi0xs0_sci2_crmask.fits\n"
     ]
    },
    {
     "name": "stdout",
     "output_type": "stream",
     "text": [
      "Creating output: hst_10092_0x_acs_wfc_f814w_j8xi0xs0_sci2_crmask.fits\n"
     ]
    },
    {
     "name": "stderr",
     "output_type": "stream",
     "text": [
      "INFO:drizzlepac.drizCR:Creating output: hst_10092_0x_acs_wfc_f814w_j8xi0xs6_sci1_crmask.fits\n",
      "INFO:drizzlepac.drizCR:Creating output: hst_10092_0x_acs_wfc_f814w_j8xi0xsa_sci1_crmask.fits\n"
     ]
    },
    {
     "name": "stdout",
     "output_type": "stream",
     "text": [
      "Creating output: hst_10092_0x_acs_wfc_f814w_j8xi0xsa_sci1_crmask.fits\n",
      "Creating output: hst_10092_0x_acs_wfc_f814w_j8xi0xs6_sci1_crmask.fits\n"
     ]
    },
    {
     "name": "stderr",
     "output_type": "stream",
     "text": [
      "INFO:drizzlepac.drizCR:Creating output: hst_10092_0x_acs_wfc_f814w_j8xi0xs6_sci2_crmask.fits\n"
     ]
    },
    {
     "name": "stdout",
     "output_type": "stream",
     "text": [
      "Creating output: hst_10092_0x_acs_wfc_f814w_j8xi0xs6_sci2_crmask.fits\n"
     ]
    },
    {
     "name": "stderr",
     "output_type": "stream",
     "text": [
      "INFO:drizzlepac.drizCR:Creating output: hst_10092_0x_acs_wfc_f814w_j8xi0xsa_sci2_crmask.fits\n"
     ]
    },
    {
     "name": "stdout",
     "output_type": "stream",
     "text": [
      "Creating output: hst_10092_0x_acs_wfc_f814w_j8xi0xsa_sci2_crmask.fits\n"
     ]
    },
    {
     "name": "stderr",
     "output_type": "stream",
     "text": [
      "INFO:drizzlepac.drizCR:Creating output: j8xi0xs0q_sci1_crmask.fits\n",
      "INFO:drizzlepac.drizCR:Creating output: j8xi0xs3q_sci1_crmask.fits\n"
     ]
    },
    {
     "name": "stdout",
     "output_type": "stream",
     "text": [
      "Creating output: j8xi0xs0q_sci1_crmask.fits\n",
      "Creating output: j8xi0xs3q_sci1_crmask.fits\n"
     ]
    },
    {
     "name": "stderr",
     "output_type": "stream",
     "text": [
      "INFO:drizzlepac.drizCR:Creating output: j8xi0xs0q_sci2_crmask.fits\n"
     ]
    },
    {
     "name": "stdout",
     "output_type": "stream",
     "text": [
      "Creating output: j8xi0xs0q_sci2_crmask.fits\n"
     ]
    },
    {
     "name": "stderr",
     "output_type": "stream",
     "text": [
      "INFO:drizzlepac.drizCR:Creating output: j8xi0xs3q_sci2_crmask.fits\n"
     ]
    },
    {
     "name": "stdout",
     "output_type": "stream",
     "text": [
      "Creating output: j8xi0xs3q_sci2_crmask.fits\n"
     ]
    },
    {
     "name": "stderr",
     "output_type": "stream",
     "text": [
      "INFO:drizzlepac.drizCR:Creating output: j8xi0xsaq_sci1_crmask.fits\n"
     ]
    },
    {
     "name": "stdout",
     "output_type": "stream",
     "text": [
      "Creating output: j8xi0xsaq_sci1_crmask.fits\n"
     ]
    },
    {
     "name": "stderr",
     "output_type": "stream",
     "text": [
      "INFO:drizzlepac.drizCR:Creating output: j8xi0xs6q_sci1_crmask.fits\n"
     ]
    },
    {
     "name": "stdout",
     "output_type": "stream",
     "text": [
      "Creating output: j8xi0xs6q_sci1_crmask.fits\n"
     ]
    },
    {
     "name": "stderr",
     "output_type": "stream",
     "text": [
      "INFO:drizzlepac.drizCR:Creating output: j8xi0xsaq_sci2_crmask.fits\n"
     ]
    },
    {
     "name": "stdout",
     "output_type": "stream",
     "text": [
      "Creating output: j8xi0xsaq_sci2_crmask.fits\n"
     ]
    },
    {
     "name": "stderr",
     "output_type": "stream",
     "text": [
      "INFO:drizzlepac.drizCR:Creating output: j8xi0xs6q_sci2_crmask.fits\n"
     ]
    },
    {
     "name": "stdout",
     "output_type": "stream",
     "text": [
      "Creating output: j8xi0xs6q_sci2_crmask.fits\n"
     ]
    },
    {
     "name": "stderr",
     "output_type": "stream",
     "text": [
      "INFO:drizzlepac.util:==== Processing Step Driz_CR finished at 19:47:19.9 (14/08/2023)\n"
     ]
    },
    {
     "name": "stdout",
     "output_type": "stream",
     "text": [
      "==== Processing Step Driz_CR finished at 19:47:19.9 (14/08/2023)\n"
     ]
    },
    {
     "name": "stderr",
     "output_type": "stream",
     "text": [
      "INFO:drizzlepac.util:==== Processing Step  Final Drizzle  started at  19:47:19.9 (14/08/2023)\n"
     ]
    },
    {
     "name": "stdout",
     "output_type": "stream",
     "text": [
      "==== Processing Step  Final Drizzle  started at  19:47:19.9 (14/08/2023)\n"
     ]
    },
    {
     "name": "stderr",
     "output_type": "stream",
     "text": [
      "INFO:drizzlepac.util:\n"
     ]
    },
    {
     "name": "stdout",
     "output_type": "stream",
     "text": [
      "\n"
     ]
    },
    {
     "name": "stderr",
     "output_type": "stream",
     "text": [
      "INFO:drizzlepac.adrizzle:Interpreted paramDict with single=False as:\n",
      "{'build': False, 'stepsize': 10, 'coeffs': True, 'wcskey': '', 'wht_type': 'EXP', 'kernel': 'square', 'wt_scl': 'exptime', 'pixfrac': 1.0, 'fillval': None, 'maskval': None, 'bits': 336, 'units': 'cps'}\n",
      "INFO:drizzlepac.adrizzle:USER INPUT PARAMETERS for Final Drizzle Step:\n",
      "INFO:drizzlepac.adrizzle:\tbits :\t336\n",
      "INFO:drizzlepac.adrizzle:\tbuild :\tFalse\n",
      "INFO:drizzlepac.adrizzle:\tclean :\tTrue\n",
      "INFO:drizzlepac.adrizzle:\tcoeffs :\tTrue\n",
      "INFO:drizzlepac.adrizzle:\tcrbit :\t4096\n",
      "INFO:drizzlepac.adrizzle:\tfillval :\tNone\n",
      "INFO:drizzlepac.adrizzle:\tkernel :\tsquare\n",
      "INFO:drizzlepac.adrizzle:\tlogfile :\tf814w_driz.log\n",
      "INFO:drizzlepac.adrizzle:\tmaskval :\tNone\n",
      "INFO:drizzlepac.adrizzle:\tpixfrac :\t1.0\n",
      "INFO:drizzlepac.adrizzle:\tproc_unit :\tnative\n",
      "INFO:drizzlepac.adrizzle:\trules_file :\tNone\n",
      "INFO:drizzlepac.adrizzle:\tstepsize :\t10\n",
      "INFO:drizzlepac.adrizzle:\tunits :\tcps\n",
      "INFO:drizzlepac.adrizzle:\twcskey :\t\n",
      "INFO:drizzlepac.adrizzle:\twht_type :\tEXP\n",
      "INFO:drizzlepac.adrizzle:\twt_scl :\texptime\n",
      "INFO:drizzlepac.adrizzle:  **Using sub-sampling value of 10 for kernel square\n",
      "INFO:drizzlepac.adrizzle:Running Drizzle to create output frame with WCS of: \n",
      "INFO:astropy.wcs.wcs:WCS Keywords\n"
     ]
    },
    {
     "name": "stdout",
     "output_type": "stream",
     "text": [
      "WCS Keywords\n"
     ]
    },
    {
     "name": "stderr",
     "output_type": "stream",
     "text": [
      "INFO:astropy.wcs.wcs:\n"
     ]
    },
    {
     "name": "stdout",
     "output_type": "stream",
     "text": [
      "\n"
     ]
    },
    {
     "name": "stderr",
     "output_type": "stream",
     "text": [
      "INFO:astropy.wcs.wcs:Number of WCS axes: 2\n"
     ]
    },
    {
     "name": "stdout",
     "output_type": "stream",
     "text": [
      "Number of WCS axes: 2\n"
     ]
    },
    {
     "name": "stderr",
     "output_type": "stream",
     "text": [
      "INFO:astropy.wcs.wcs:CTYPE : 'RA---TAN'  'DEC--TAN'  \n"
     ]
    },
    {
     "name": "stdout",
     "output_type": "stream",
     "text": [
      "CTYPE : 'RA---TAN'  'DEC--TAN'  \n"
     ]
    },
    {
     "name": "stderr",
     "output_type": "stream",
     "text": [
      "INFO:astropy.wcs.wcs:CRVAL : 150.20205736356377  2.6769790254265815  \n"
     ]
    },
    {
     "name": "stdout",
     "output_type": "stream",
     "text": [
      "CRVAL : 150.20205736356377  2.6769790254265815  \n"
     ]
    },
    {
     "name": "stderr",
     "output_type": "stream",
     "text": [
      "INFO:astropy.wcs.wcs:CRPIX : 2111.5  2211.0  \n"
     ]
    },
    {
     "name": "stdout",
     "output_type": "stream",
     "text": [
      "CRPIX : 2111.5  2211.0  \n"
     ]
    },
    {
     "name": "stderr",
     "output_type": "stream",
     "text": [
      "INFO:astropy.wcs.wcs:CD1_1 CD1_2  : 2.4116107294376303e-06  1.367791534765304e-05  \n"
     ]
    },
    {
     "name": "stdout",
     "output_type": "stream",
     "text": [
      "CD1_1 CD1_2  : 2.4116107294376303e-06  1.367791534765304e-05  \n"
     ]
    },
    {
     "name": "stderr",
     "output_type": "stream",
     "text": [
      "INFO:astropy.wcs.wcs:CD2_1 CD2_2  : 1.367791534765304e-05  -2.4116107294376303e-06  \n"
     ]
    },
    {
     "name": "stdout",
     "output_type": "stream",
     "text": [
      "CD2_1 CD2_2  : 1.367791534765304e-05  -2.4116107294376303e-06  \n"
     ]
    },
    {
     "name": "stderr",
     "output_type": "stream",
     "text": [
      "INFO:astropy.wcs.wcs:NAXIS : 4223  4422\n"
     ]
    },
    {
     "name": "stdout",
     "output_type": "stream",
     "text": [
      "NAXIS : 4223  4422\n"
     ]
    },
    {
     "name": "stderr",
     "output_type": "stream",
     "text": [
      "INFO:drizzlepac.adrizzle:-Drizzle input: hst_10092_0x_acs_wfc_f814w_j8xi0xs0_flc.fits[sci,1]\n",
      "INFO:drizzlepac.adrizzle:Applying sky value of 55.530285 to hst_10092_0x_acs_wfc_f814w_j8xi0xs0_flc.fits[sci,1]\n",
      "INFO:drizzlepac.imageObject:Applying EXPTIME weighting to DQ mask for chip 1\n",
      "INFO:drizzlepac.adrizzle:Using WCSLIB-based coordinate transformation...\n",
      "INFO:drizzlepac.adrizzle:stepsize = 10\n",
      "INFO:drizzlepac.cdriz:-Drizzling using kernel = square\n",
      "\n",
      "INFO:drizzlepac.adrizzle:-Drizzle input: hst_10092_0x_acs_wfc_f814w_j8xi0xs0_flc.fits[sci,2]\n",
      "INFO:drizzlepac.adrizzle:Applying sky value of 55.530285 to hst_10092_0x_acs_wfc_f814w_j8xi0xs0_flc.fits[sci,2]\n",
      "INFO:drizzlepac.imageObject:Applying EXPTIME weighting to DQ mask for chip 2\n",
      "INFO:drizzlepac.adrizzle:Using WCSLIB-based coordinate transformation...\n",
      "INFO:drizzlepac.adrizzle:stepsize = 10\n",
      "INFO:drizzlepac.cdriz:-Drizzling using kernel = square\n",
      "\n",
      "INFO:drizzlepac.adrizzle:-Drizzle input: hst_10092_0x_acs_wfc_f814w_j8xi0xs3_flc.fits[sci,1]\n",
      "INFO:drizzlepac.adrizzle:Applying sky value of 50.705193 to hst_10092_0x_acs_wfc_f814w_j8xi0xs3_flc.fits[sci,1]\n",
      "INFO:drizzlepac.imageObject:Applying EXPTIME weighting to DQ mask for chip 1\n",
      "INFO:drizzlepac.adrizzle:Using WCSLIB-based coordinate transformation...\n",
      "INFO:drizzlepac.adrizzle:stepsize = 10\n",
      "INFO:drizzlepac.cdriz:-Drizzling using kernel = square\n",
      "\n",
      "INFO:drizzlepac.adrizzle:-Drizzle input: hst_10092_0x_acs_wfc_f814w_j8xi0xs3_flc.fits[sci,2]\n",
      "INFO:drizzlepac.adrizzle:Applying sky value of 50.705193 to hst_10092_0x_acs_wfc_f814w_j8xi0xs3_flc.fits[sci,2]\n",
      "INFO:drizzlepac.imageObject:Applying EXPTIME weighting to DQ mask for chip 2\n",
      "INFO:drizzlepac.adrizzle:Using WCSLIB-based coordinate transformation...\n",
      "INFO:drizzlepac.adrizzle:stepsize = 10\n",
      "INFO:drizzlepac.cdriz:-Drizzling using kernel = square\n",
      "\n",
      "INFO:drizzlepac.adrizzle:-Drizzle input: hst_10092_0x_acs_wfc_f814w_j8xi0xs6_flc.fits[sci,1]\n",
      "INFO:drizzlepac.adrizzle:Applying sky value of 50.876938 to hst_10092_0x_acs_wfc_f814w_j8xi0xs6_flc.fits[sci,1]\n",
      "INFO:drizzlepac.imageObject:Applying EXPTIME weighting to DQ mask for chip 1\n",
      "INFO:drizzlepac.adrizzle:Using WCSLIB-based coordinate transformation...\n",
      "INFO:drizzlepac.adrizzle:stepsize = 10\n",
      "INFO:drizzlepac.cdriz:-Drizzling using kernel = square\n",
      "\n",
      "INFO:drizzlepac.adrizzle:-Drizzle input: hst_10092_0x_acs_wfc_f814w_j8xi0xs6_flc.fits[sci,2]\n",
      "INFO:drizzlepac.adrizzle:Applying sky value of 50.876938 to hst_10092_0x_acs_wfc_f814w_j8xi0xs6_flc.fits[sci,2]\n",
      "INFO:drizzlepac.imageObject:Applying EXPTIME weighting to DQ mask for chip 2\n",
      "INFO:drizzlepac.adrizzle:Using WCSLIB-based coordinate transformation...\n",
      "INFO:drizzlepac.adrizzle:stepsize = 10\n",
      "INFO:drizzlepac.cdriz:-Drizzling using kernel = square\n",
      "\n",
      "INFO:drizzlepac.adrizzle:-Drizzle input: hst_10092_0x_acs_wfc_f814w_j8xi0xsa_flc.fits[sci,1]\n",
      "INFO:drizzlepac.adrizzle:Applying sky value of 50.278542 to hst_10092_0x_acs_wfc_f814w_j8xi0xsa_flc.fits[sci,1]\n",
      "INFO:drizzlepac.imageObject:Applying EXPTIME weighting to DQ mask for chip 1\n",
      "INFO:drizzlepac.adrizzle:Using WCSLIB-based coordinate transformation...\n",
      "INFO:drizzlepac.adrizzle:stepsize = 10\n",
      "INFO:drizzlepac.cdriz:-Drizzling using kernel = square\n",
      "\n",
      "INFO:drizzlepac.adrizzle:-Drizzle input: hst_10092_0x_acs_wfc_f814w_j8xi0xsa_flc.fits[sci,2]\n",
      "INFO:drizzlepac.adrizzle:Applying sky value of 50.278542 to hst_10092_0x_acs_wfc_f814w_j8xi0xsa_flc.fits[sci,2]\n",
      "INFO:drizzlepac.imageObject:Applying EXPTIME weighting to DQ mask for chip 2\n",
      "INFO:drizzlepac.adrizzle:Using WCSLIB-based coordinate transformation...\n",
      "INFO:drizzlepac.adrizzle:stepsize = 10\n",
      "INFO:drizzlepac.cdriz:-Drizzling using kernel = square\n",
      "\n",
      "INFO:drizzlepac.adrizzle:-Drizzle input: j8xi0xs0q_flc.fits[sci,1]\n",
      "INFO:drizzlepac.adrizzle:Applying sky value of 55.530285 to j8xi0xs0q_flc.fits[sci,1]\n",
      "INFO:drizzlepac.imageObject:Applying EXPTIME weighting to DQ mask for chip 1\n",
      "INFO:drizzlepac.adrizzle:Using WCSLIB-based coordinate transformation...\n",
      "INFO:drizzlepac.adrizzle:stepsize = 10\n",
      "INFO:drizzlepac.cdriz:-Drizzling using kernel = square\n",
      "\n",
      "INFO:drizzlepac.adrizzle:-Drizzle input: j8xi0xs0q_flc.fits[sci,2]\n",
      "INFO:drizzlepac.adrizzle:Applying sky value of 55.530285 to j8xi0xs0q_flc.fits[sci,2]\n",
      "INFO:drizzlepac.imageObject:Applying EXPTIME weighting to DQ mask for chip 2\n",
      "INFO:drizzlepac.adrizzle:Using WCSLIB-based coordinate transformation...\n",
      "INFO:drizzlepac.adrizzle:stepsize = 10\n",
      "INFO:drizzlepac.cdriz:-Drizzling using kernel = square\n",
      "\n",
      "INFO:drizzlepac.adrizzle:-Drizzle input: j8xi0xs3q_flc.fits[sci,1]\n",
      "INFO:drizzlepac.adrizzle:Applying sky value of 50.705193 to j8xi0xs3q_flc.fits[sci,1]\n",
      "INFO:drizzlepac.imageObject:Applying EXPTIME weighting to DQ mask for chip 1\n",
      "INFO:drizzlepac.adrizzle:Using WCSLIB-based coordinate transformation...\n",
      "INFO:drizzlepac.adrizzle:stepsize = 10\n",
      "INFO:drizzlepac.cdriz:-Drizzling using kernel = square\n",
      "\n",
      "INFO:drizzlepac.adrizzle:-Drizzle input: j8xi0xs3q_flc.fits[sci,2]\n",
      "INFO:drizzlepac.adrizzle:Applying sky value of 50.705193 to j8xi0xs3q_flc.fits[sci,2]\n",
      "INFO:drizzlepac.imageObject:Applying EXPTIME weighting to DQ mask for chip 2\n",
      "INFO:drizzlepac.adrizzle:Using WCSLIB-based coordinate transformation...\n",
      "INFO:drizzlepac.adrizzle:stepsize = 10\n",
      "INFO:drizzlepac.cdriz:-Drizzling using kernel = square\n",
      "\n",
      "INFO:drizzlepac.adrizzle:-Drizzle input: j8xi0xs6q_flc.fits[sci,1]\n",
      "INFO:drizzlepac.adrizzle:Applying sky value of 50.876938 to j8xi0xs6q_flc.fits[sci,1]\n",
      "INFO:drizzlepac.imageObject:Applying EXPTIME weighting to DQ mask for chip 1\n",
      "INFO:drizzlepac.adrizzle:Using WCSLIB-based coordinate transformation...\n",
      "INFO:drizzlepac.adrizzle:stepsize = 10\n",
      "INFO:drizzlepac.cdriz:-Drizzling using kernel = square\n",
      "\n",
      "INFO:drizzlepac.adrizzle:-Drizzle input: j8xi0xs6q_flc.fits[sci,2]\n",
      "INFO:drizzlepac.adrizzle:Applying sky value of 50.876938 to j8xi0xs6q_flc.fits[sci,2]\n",
      "INFO:drizzlepac.imageObject:Applying EXPTIME weighting to DQ mask for chip 2\n",
      "INFO:drizzlepac.adrizzle:Using WCSLIB-based coordinate transformation...\n",
      "INFO:drizzlepac.adrizzle:stepsize = 10\n",
      "INFO:drizzlepac.cdriz:-Drizzling using kernel = square\n",
      "\n",
      "INFO:drizzlepac.adrizzle:-Drizzle input: j8xi0xsaq_flc.fits[sci,1]\n",
      "INFO:drizzlepac.adrizzle:Applying sky value of 50.278542 to j8xi0xsaq_flc.fits[sci,1]\n",
      "INFO:drizzlepac.imageObject:Applying EXPTIME weighting to DQ mask for chip 1\n",
      "INFO:drizzlepac.adrizzle:Using WCSLIB-based coordinate transformation...\n",
      "INFO:drizzlepac.adrizzle:stepsize = 10\n",
      "INFO:drizzlepac.cdriz:-Drizzling using kernel = square\n",
      "\n",
      "INFO:drizzlepac.adrizzle:-Drizzle input: j8xi0xsaq_flc.fits[sci,2]\n",
      "INFO:drizzlepac.adrizzle:Applying sky value of 50.278542 to j8xi0xsaq_flc.fits[sci,2]\n",
      "INFO:drizzlepac.imageObject:Applying EXPTIME weighting to DQ mask for chip 2\n",
      "INFO:drizzlepac.adrizzle:Using WCSLIB-based coordinate transformation...\n",
      "INFO:drizzlepac.adrizzle:stepsize = 10\n",
      "INFO:drizzlepac.cdriz:-Drizzling using kernel = square\n",
      "\n",
      "INFO:drizzlepac.outputimage:-Generating simple FITS output: f814w_drc_sci.fits\n"
     ]
    },
    {
     "name": "stdout",
     "output_type": "stream",
     "text": [
      "-Generating simple FITS output: f814w_drc_sci.fits\n"
     ]
    },
    {
     "name": "stderr",
     "output_type": "stream",
     "text": [
      "WARNING:py.warnings:/opt/hostedtoolcache/Python/3.11.4/x64/lib/python3.11/site-packages/astropy/io/fits/card.py:1064: VerifyWarning: Card is too long, comment will be truncated.\n",
      "  warnings.warn(\n",
      "\n",
      "INFO:drizzlepac.outputimage:Writing out image to disk: f814w_drc_sci.fits\n"
     ]
    },
    {
     "name": "stdout",
     "output_type": "stream",
     "text": [
      "Writing out image to disk: f814w_drc_sci.fits\n"
     ]
    },
    {
     "name": "stderr",
     "output_type": "stream",
     "text": [
      "INFO:drizzlepac.outputimage:Writing out image to disk: f814w_drc_wht.fits\n"
     ]
    },
    {
     "name": "stdout",
     "output_type": "stream",
     "text": [
      "Writing out image to disk: f814w_drc_wht.fits\n"
     ]
    },
    {
     "name": "stderr",
     "output_type": "stream",
     "text": [
      "INFO:drizzlepac.util:==== Processing Step Final Drizzle finished at 19:48:10.284 (14/08/2023)\n"
     ]
    },
    {
     "name": "stdout",
     "output_type": "stream",
     "text": [
      "==== Processing Step Final Drizzle finished at 19:48:10.284 (14/08/2023)\n"
     ]
    },
    {
     "name": "stderr",
     "output_type": "stream",
     "text": [
      "INFO:drizzlepac.astrodrizzle:\n"
     ]
    },
    {
     "name": "stdout",
     "output_type": "stream",
     "text": [
      "\n"
     ]
    },
    {
     "name": "stderr",
     "output_type": "stream",
     "text": [
      "INFO:drizzlepac.astrodrizzle:AstroDrizzle Version 3.5.1 is finished processing at 19:48:10.290 (14/08/2023).\n"
     ]
    },
    {
     "name": "stdout",
     "output_type": "stream",
     "text": [
      "AstroDrizzle Version 3.5.1 is finished processing at 19:48:10.290 (14/08/2023).\n"
     ]
    },
    {
     "name": "stderr",
     "output_type": "stream",
     "text": [
      "INFO:drizzlepac.astrodrizzle:\n"
     ]
    },
    {
     "name": "stdout",
     "output_type": "stream",
     "text": [
      "\n"
     ]
    },
    {
     "name": "stderr",
     "output_type": "stream",
     "text": [
      "INFO:drizzlepac.astrodrizzle:\n"
     ]
    },
    {
     "name": "stdout",
     "output_type": "stream",
     "text": [
      "\n"
     ]
    },
    {
     "name": "stderr",
     "output_type": "stream",
     "text": [
      "INFO:drizzlepac.util:\n"
     ]
    },
    {
     "name": "stdout",
     "output_type": "stream",
     "text": [
      "\n"
     ]
    },
    {
     "name": "stderr",
     "output_type": "stream",
     "text": [
      "INFO:drizzlepac.util:   --------------------          --------------------\n"
     ]
    },
    {
     "name": "stdout",
     "output_type": "stream",
     "text": [
      "   --------------------          --------------------\n"
     ]
    },
    {
     "name": "stderr",
     "output_type": "stream",
     "text": [
      "INFO:drizzlepac.util:                   Step          Elapsed time\n"
     ]
    },
    {
     "name": "stdout",
     "output_type": "stream",
     "text": [
      "                   Step          Elapsed time\n"
     ]
    },
    {
     "name": "stderr",
     "output_type": "stream",
     "text": [
      "INFO:drizzlepac.util:   --------------------          --------------------\n"
     ]
    },
    {
     "name": "stdout",
     "output_type": "stream",
     "text": [
      "   --------------------          --------------------\n"
     ]
    },
    {
     "name": "stderr",
     "output_type": "stream",
     "text": [
      "INFO:drizzlepac.util:\n"
     ]
    },
    {
     "name": "stdout",
     "output_type": "stream",
     "text": [
      "\n"
     ]
    },
    {
     "name": "stderr",
     "output_type": "stream",
     "text": [
      "INFO:drizzlepac.util:         Initialization          5.3949 sec.\n"
     ]
    },
    {
     "name": "stdout",
     "output_type": "stream",
     "text": [
      "         Initialization          5.3949 sec.\n"
     ]
    },
    {
     "name": "stderr",
     "output_type": "stream",
     "text": [
      "INFO:drizzlepac.util:            Static Mask          4.8706 sec.\n"
     ]
    },
    {
     "name": "stdout",
     "output_type": "stream",
     "text": [
      "            Static Mask          4.8706 sec.\n"
     ]
    },
    {
     "name": "stderr",
     "output_type": "stream",
     "text": [
      "INFO:drizzlepac.util:           Subtract Sky          9.5820 sec.\n"
     ]
    },
    {
     "name": "stdout",
     "output_type": "stream",
     "text": [
      "           Subtract Sky          9.5820 sec.\n"
     ]
    },
    {
     "name": "stderr",
     "output_type": "stream",
     "text": [
      "INFO:drizzlepac.util:       Separate Drizzle          12.3407 sec.\n"
     ]
    },
    {
     "name": "stdout",
     "output_type": "stream",
     "text": [
      "       Separate Drizzle          12.3407 sec.\n"
     ]
    },
    {
     "name": "stderr",
     "output_type": "stream",
     "text": [
      "INFO:drizzlepac.util:          Create Median          8.7332 sec.\n"
     ]
    },
    {
     "name": "stdout",
     "output_type": "stream",
     "text": [
      "          Create Median          8.7332 sec.\n"
     ]
    },
    {
     "name": "stderr",
     "output_type": "stream",
     "text": [
      "INFO:drizzlepac.util:                   Blot          33.2239 sec.\n"
     ]
    },
    {
     "name": "stdout",
     "output_type": "stream",
     "text": [
      "                   Blot          33.2239 sec.\n"
     ]
    },
    {
     "name": "stderr",
     "output_type": "stream",
     "text": [
      "INFO:drizzlepac.util:                Driz_CR          17.1562 sec.\n"
     ]
    },
    {
     "name": "stdout",
     "output_type": "stream",
     "text": [
      "                Driz_CR          17.1562 sec.\n"
     ]
    },
    {
     "name": "stderr",
     "output_type": "stream",
     "text": [
      "INFO:drizzlepac.util:          Final Drizzle          50.3282 sec.\n"
     ]
    },
    {
     "name": "stdout",
     "output_type": "stream",
     "text": [
      "          Final Drizzle          50.3282 sec.\n"
     ]
    },
    {
     "name": "stderr",
     "output_type": "stream",
     "text": [
      "INFO:drizzlepac.util:   ====================          ====================\n"
     ]
    },
    {
     "name": "stdout",
     "output_type": "stream",
     "text": [
      "   ====================          ====================\n"
     ]
    },
    {
     "name": "stderr",
     "output_type": "stream",
     "text": [
      "INFO:drizzlepac.util:                  Total          141.6297 sec.\n"
     ]
    },
    {
     "name": "stdout",
     "output_type": "stream",
     "text": [
      "                  Total          141.6297 sec.\n"
     ]
    },
    {
     "name": "stderr",
     "output_type": "stream",
     "text": [
      "INFO:drizzlepac.util:\n"
     ]
    },
    {
     "name": "stdout",
     "output_type": "stream",
     "text": [
      "\n"
     ]
    },
    {
     "name": "stderr",
     "output_type": "stream",
     "text": [
      "INFO:drizzlepac.imageObject:Removing intermediate files for hst_10092_0x_acs_wfc_f814w_j8xi0xs0_flc.fits\n",
      "INFO:drizzlepac.imageObject:Removing intermediate files for hst_10092_0x_acs_wfc_f814w_j8xi0xs3_flc.fits\n",
      "INFO:drizzlepac.imageObject:Removing intermediate files for hst_10092_0x_acs_wfc_f814w_j8xi0xs6_flc.fits\n",
      "INFO:drizzlepac.imageObject:Removing intermediate files for hst_10092_0x_acs_wfc_f814w_j8xi0xsa_flc.fits\n",
      "INFO:drizzlepac.imageObject:Removing intermediate files for j8xi0xs0q_flc.fits\n",
      "INFO:drizzlepac.imageObject:Removing intermediate files for j8xi0xs3q_flc.fits\n",
      "INFO:drizzlepac.imageObject:Removing intermediate files for j8xi0xs6q_flc.fits\n",
      "INFO:drizzlepac.imageObject:Removing intermediate files for j8xi0xsaq_flc.fits\n",
      "INFO:drizzlepac.util:Trailer file written to:  f814w_driz.log\n"
     ]
    },
    {
     "name": "stdout",
     "output_type": "stream",
     "text": [
      "Trailer file written to:  f814w_driz.log\n"
     ]
    }
   ],
   "source": [
    "astrodrizzle.AstroDrizzle('*flc.fits',\n",
    "                          output='f814w',\n",
    "                          preserve=False,\n",
    "                          clean=True,\n",
    "                          build=False,\n",
    "                          context=False,\n",
    "                          driz_sep_bits='256,64,16',\n",
    "                          combine_type='median',\n",
    "                          final_bits='256,64,16',\n",
    "                          runfile='f814w_driz.log')"
   ]
  },
  {
   "cell_type": "markdown",
   "metadata": {},
   "source": [
    "# 5. Display the original FLC image and the combined DRC data"
   ]
  },
  {
   "cell_type": "code",
   "execution_count": 24,
   "metadata": {
    "execution": {
     "iopub.execute_input": "2023-08-14T19:48:10.637853Z",
     "iopub.status.busy": "2023-08-14T19:48:10.637482Z",
     "iopub.status.idle": "2023-08-14T19:48:10.748039Z",
     "shell.execute_reply": "2023-08-14T19:48:10.747126Z"
    }
   },
   "outputs": [
    {
     "data": {
      "text/plain": [
       "<matplotlib.image.AxesImage at 0x7fdb7ccf1b10>"
      ]
     },
     "execution_count": 24,
     "metadata": {},
     "output_type": "execute_result"
    }
   ],
   "source": [
    "sci2 = fits.getdata('j8xi0xsaq_flc.fits', ('sci', 2))\n",
    "sci1 = fits.getdata('j8xi0xsaq_flc.fits', ('sci', 1))\n",
    "\n",
    "fig = plt.figure(figsize=(50, 50))\n",
    "ax1 = fig.add_subplot(2, 2, 1)\n",
    "ax2 = fig.add_subplot(1, 2, 1)\n",
    "\n",
    "ax1.imshow(sci2, vmin=50, vmax=100, cmap='Greys_r', origin='lower')\n",
    "ax2.imshow(sci1, vmin=50, vmax=100, cmap='Greys_r', origin='lower')"
   ]
  },
  {
   "cell_type": "code",
   "execution_count": 25,
   "metadata": {
    "execution": {
     "iopub.execute_input": "2023-08-14T19:48:10.752879Z",
     "iopub.status.busy": "2023-08-14T19:48:10.752636Z",
     "iopub.status.idle": "2023-08-14T19:48:10.946884Z",
     "shell.execute_reply": "2023-08-14T19:48:10.945953Z"
    }
   },
   "outputs": [
    {
     "data": {
      "text/plain": [
       "<matplotlib.image.AxesImage at 0x7fdb7a66d210>"
      ]
     },
     "execution_count": 25,
     "metadata": {},
     "output_type": "execute_result"
    }
   ],
   "source": [
    "sci = fits.getdata('f814w_drc_sci.fits')\n",
    "fig = plt.figure(figsize=(20, 20))\n",
    "plt.imshow(sci, vmin=-0.01, vmax=0.1, cmap='Greys_r', origin='lower')"
   ]
  },
  {
   "cell_type": "markdown",
   "metadata": {
    "nbpresent": {
     "id": "6413c886-77af-4d74-9609-dbcc47d6a0b1"
    }
   },
   "source": [
    "# Summary\n",
    "\n",
    "TweakReg may be used to align HST images based on the position of objects in the frame. Point sources are typically used for this purpose, but compact sources such as background galaxies may also be used by increasing the value of the parameter `conv_width` in `imagefindpars`. The data quality arrays of the input calibrated frames may also be used to further improve the fits by telling TweakReg to ignore pixels with specific flags inthe DQ array via the parameter `dqbits` in `imagefindpars`. "
   ]
  },
  {
   "cell_type": "markdown",
   "metadata": {},
   "source": [
    "# About this Notebook\n",
    "\n",
    "    Author: J. Mack, STScI WFC3 Team\n",
    "    Updated: January 8, 2019"
   ]
  }
 ],
 "metadata": {
  "kernelspec": {
   "display_name": "Python 3",
   "language": "python",
   "name": "python3"
  },
  "language_info": {
   "codemirror_mode": {
    "name": "ipython",
    "version": 3
   },
   "file_extension": ".py",
   "mimetype": "text/x-python",
   "name": "python",
   "nbconvert_exporter": "python",
   "pygments_lexer": "ipython3",
   "version": "3.11.4"
  }
 },
 "nbformat": 4,
 "nbformat_minor": 2
}
